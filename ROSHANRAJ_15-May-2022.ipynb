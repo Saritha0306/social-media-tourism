{
 "cells": [
  {
   "cell_type": "markdown",
   "metadata": {},
   "source": [
    "### Problem Statement\n",
    "An aviation company that provides domestic as well as international trips to the customers now wants to apply atargeted approach instead of reaching out to each of the customers. This time they want to do it digitally instead of tele calling. Hence they have collaborated with a social networking platform, so they can learn the digital and social behaviour of the customers and provide the digital advertisement on the userpage of the targeted customerswho have a high propensity to take up the product."
   ]
  },
  {
   "cell_type": "code",
   "execution_count": 1,
   "metadata": {
    "id": "N9zlplasXKb3"
   },
   "outputs": [],
   "source": [
    "import numpy as np\n",
    "import pandas as pd\n",
    "\n",
    "import matplotlib.pyplot as plt\n",
    "\n",
    "import seaborn as sns # for making plots with seaborn\n",
    "color = sns.color_palette()\n",
    "\n",
    "import sklearn.metrics as metrics\n",
    "\n",
    "import warnings\n",
    "warnings.filterwarnings(\"ignore\")"
   ]
  },
  {
   "cell_type": "markdown",
   "metadata": {},
   "source": [
    "# Project Notes - 1"
   ]
  },
  {
   "cell_type": "markdown",
   "metadata": {
    "id": "mymc8KkiyN1-"
   },
   "source": [
    "### **Read the Dataset**"
   ]
  },
  {
   "cell_type": "code",
   "execution_count": 2,
   "metadata": {
    "id": "vD0X64GkYi-4"
   },
   "outputs": [],
   "source": [
    "dataset_url = 'Social Media Data for DSBA.csv'\n",
    "\n",
    "social_media_data = pd.read_csv(dataset_url)"
   ]
  },
  {
   "cell_type": "code",
   "execution_count": 3,
   "metadata": {
    "colab": {
     "base_uri": "https://localhost:8080/",
     "height": 270
    },
    "id": "cg7MJI5_sWYZ",
    "outputId": "f41669b8-1e4a-4507-88a2-07ef1fbf4950"
   },
   "outputs": [
    {
     "data": {
      "text/html": [
       "<div>\n",
       "<style scoped>\n",
       "    .dataframe tbody tr th:only-of-type {\n",
       "        vertical-align: middle;\n",
       "    }\n",
       "\n",
       "    .dataframe tbody tr th {\n",
       "        vertical-align: top;\n",
       "    }\n",
       "\n",
       "    .dataframe thead th {\n",
       "        text-align: right;\n",
       "    }\n",
       "</style>\n",
       "<table border=\"1\" class=\"dataframe\">\n",
       "  <thead>\n",
       "    <tr style=\"text-align: right;\">\n",
       "      <th></th>\n",
       "      <th>UserID</th>\n",
       "      <th>Taken_product</th>\n",
       "      <th>Yearly_avg_view_on_travel_page</th>\n",
       "      <th>preferred_device</th>\n",
       "      <th>total_likes_on_outstation_checkin_given</th>\n",
       "      <th>yearly_avg_Outstation_checkins</th>\n",
       "      <th>member_in_family</th>\n",
       "      <th>preferred_location_type</th>\n",
       "      <th>Yearly_avg_comment_on_travel_page</th>\n",
       "      <th>total_likes_on_outofstation_checkin_received</th>\n",
       "      <th>week_since_last_outstation_checkin</th>\n",
       "      <th>following_company_page</th>\n",
       "      <th>montly_avg_comment_on_company_page</th>\n",
       "      <th>working_flag</th>\n",
       "      <th>travelling_network_rating</th>\n",
       "      <th>Adult_flag</th>\n",
       "      <th>Daily_Avg_mins_spend_on_traveling_page</th>\n",
       "    </tr>\n",
       "  </thead>\n",
       "  <tbody>\n",
       "    <tr>\n",
       "      <th>0</th>\n",
       "      <td>1000001</td>\n",
       "      <td>Yes</td>\n",
       "      <td>307.0</td>\n",
       "      <td>iOS and Android</td>\n",
       "      <td>38570.0</td>\n",
       "      <td>1</td>\n",
       "      <td>2</td>\n",
       "      <td>Financial</td>\n",
       "      <td>94.0</td>\n",
       "      <td>5993</td>\n",
       "      <td>8</td>\n",
       "      <td>Yes</td>\n",
       "      <td>11</td>\n",
       "      <td>No</td>\n",
       "      <td>1</td>\n",
       "      <td>0.0</td>\n",
       "      <td>8.0</td>\n",
       "    </tr>\n",
       "    <tr>\n",
       "      <th>1</th>\n",
       "      <td>1000002</td>\n",
       "      <td>No</td>\n",
       "      <td>367.0</td>\n",
       "      <td>iOS</td>\n",
       "      <td>9765.0</td>\n",
       "      <td>1</td>\n",
       "      <td>1</td>\n",
       "      <td>Financial</td>\n",
       "      <td>61.0</td>\n",
       "      <td>5130</td>\n",
       "      <td>1</td>\n",
       "      <td>No</td>\n",
       "      <td>23</td>\n",
       "      <td>Yes</td>\n",
       "      <td>4</td>\n",
       "      <td>1.0</td>\n",
       "      <td>10.0</td>\n",
       "    </tr>\n",
       "    <tr>\n",
       "      <th>2</th>\n",
       "      <td>1000003</td>\n",
       "      <td>Yes</td>\n",
       "      <td>277.0</td>\n",
       "      <td>iOS and Android</td>\n",
       "      <td>48055.0</td>\n",
       "      <td>1</td>\n",
       "      <td>2</td>\n",
       "      <td>Other</td>\n",
       "      <td>92.0</td>\n",
       "      <td>2090</td>\n",
       "      <td>6</td>\n",
       "      <td>Yes</td>\n",
       "      <td>15</td>\n",
       "      <td>No</td>\n",
       "      <td>2</td>\n",
       "      <td>0.0</td>\n",
       "      <td>7.0</td>\n",
       "    </tr>\n",
       "    <tr>\n",
       "      <th>3</th>\n",
       "      <td>1000004</td>\n",
       "      <td>No</td>\n",
       "      <td>247.0</td>\n",
       "      <td>iOS</td>\n",
       "      <td>48720.0</td>\n",
       "      <td>1</td>\n",
       "      <td>4</td>\n",
       "      <td>Financial</td>\n",
       "      <td>56.0</td>\n",
       "      <td>2909</td>\n",
       "      <td>1</td>\n",
       "      <td>Yes</td>\n",
       "      <td>11</td>\n",
       "      <td>No</td>\n",
       "      <td>3</td>\n",
       "      <td>0.0</td>\n",
       "      <td>8.0</td>\n",
       "    </tr>\n",
       "    <tr>\n",
       "      <th>4</th>\n",
       "      <td>1000005</td>\n",
       "      <td>No</td>\n",
       "      <td>202.0</td>\n",
       "      <td>iOS and Android</td>\n",
       "      <td>20685.0</td>\n",
       "      <td>1</td>\n",
       "      <td>1</td>\n",
       "      <td>Medical</td>\n",
       "      <td>40.0</td>\n",
       "      <td>3468</td>\n",
       "      <td>9</td>\n",
       "      <td>No</td>\n",
       "      <td>12</td>\n",
       "      <td>No</td>\n",
       "      <td>4</td>\n",
       "      <td>1.0</td>\n",
       "      <td>6.0</td>\n",
       "    </tr>\n",
       "  </tbody>\n",
       "</table>\n",
       "</div>"
      ],
      "text/plain": [
       "    UserID Taken_product  Yearly_avg_view_on_travel_page preferred_device  \\\n",
       "0  1000001           Yes                           307.0  iOS and Android   \n",
       "1  1000002            No                           367.0              iOS   \n",
       "2  1000003           Yes                           277.0  iOS and Android   \n",
       "3  1000004            No                           247.0              iOS   \n",
       "4  1000005            No                           202.0  iOS and Android   \n",
       "\n",
       "   total_likes_on_outstation_checkin_given yearly_avg_Outstation_checkins  \\\n",
       "0                                  38570.0                              1   \n",
       "1                                   9765.0                              1   \n",
       "2                                  48055.0                              1   \n",
       "3                                  48720.0                              1   \n",
       "4                                  20685.0                              1   \n",
       "\n",
       "  member_in_family preferred_location_type  Yearly_avg_comment_on_travel_page  \\\n",
       "0                2               Financial                               94.0   \n",
       "1                1               Financial                               61.0   \n",
       "2                2                   Other                               92.0   \n",
       "3                4               Financial                               56.0   \n",
       "4                1                 Medical                               40.0   \n",
       "\n",
       "   total_likes_on_outofstation_checkin_received  \\\n",
       "0                                          5993   \n",
       "1                                          5130   \n",
       "2                                          2090   \n",
       "3                                          2909   \n",
       "4                                          3468   \n",
       "\n",
       "   week_since_last_outstation_checkin following_company_page  \\\n",
       "0                                   8                    Yes   \n",
       "1                                   1                     No   \n",
       "2                                   6                    Yes   \n",
       "3                                   1                    Yes   \n",
       "4                                   9                     No   \n",
       "\n",
       "   montly_avg_comment_on_company_page working_flag  travelling_network_rating  \\\n",
       "0                                  11           No                          1   \n",
       "1                                  23          Yes                          4   \n",
       "2                                  15           No                          2   \n",
       "3                                  11           No                          3   \n",
       "4                                  12           No                          4   \n",
       "\n",
       "   Adult_flag  Daily_Avg_mins_spend_on_traveling_page  \n",
       "0         0.0                                     8.0  \n",
       "1         1.0                                    10.0  \n",
       "2         0.0                                     7.0  \n",
       "3         0.0                                     8.0  \n",
       "4         1.0                                     6.0  "
      ]
     },
     "execution_count": 3,
     "metadata": {},
     "output_type": "execute_result"
    }
   ],
   "source": [
    "social_media_data.head()"
   ]
  },
  {
   "cell_type": "code",
   "execution_count": 4,
   "metadata": {
    "colab": {
     "base_uri": "https://localhost:8080/",
     "height": 270
    },
    "id": "GmFmv9XAZBPS",
    "outputId": "f3e4046c-c14b-48b8-dc05-b6a2318f82dc"
   },
   "outputs": [
    {
     "data": {
      "text/html": [
       "<div>\n",
       "<style scoped>\n",
       "    .dataframe tbody tr th:only-of-type {\n",
       "        vertical-align: middle;\n",
       "    }\n",
       "\n",
       "    .dataframe tbody tr th {\n",
       "        vertical-align: top;\n",
       "    }\n",
       "\n",
       "    .dataframe thead th {\n",
       "        text-align: right;\n",
       "    }\n",
       "</style>\n",
       "<table border=\"1\" class=\"dataframe\">\n",
       "  <thead>\n",
       "    <tr style=\"text-align: right;\">\n",
       "      <th></th>\n",
       "      <th>UserID</th>\n",
       "      <th>Taken_product</th>\n",
       "      <th>Yearly_avg_view_on_travel_page</th>\n",
       "      <th>preferred_device</th>\n",
       "      <th>total_likes_on_outstation_checkin_given</th>\n",
       "      <th>yearly_avg_Outstation_checkins</th>\n",
       "      <th>member_in_family</th>\n",
       "      <th>preferred_location_type</th>\n",
       "      <th>Yearly_avg_comment_on_travel_page</th>\n",
       "      <th>total_likes_on_outofstation_checkin_received</th>\n",
       "      <th>week_since_last_outstation_checkin</th>\n",
       "      <th>following_company_page</th>\n",
       "      <th>montly_avg_comment_on_company_page</th>\n",
       "      <th>working_flag</th>\n",
       "      <th>travelling_network_rating</th>\n",
       "      <th>Adult_flag</th>\n",
       "      <th>Daily_Avg_mins_spend_on_traveling_page</th>\n",
       "    </tr>\n",
       "  </thead>\n",
       "  <tbody>\n",
       "    <tr>\n",
       "      <th>11755</th>\n",
       "      <td>1011756</td>\n",
       "      <td>No</td>\n",
       "      <td>279.0</td>\n",
       "      <td>Laptop</td>\n",
       "      <td>30987.0</td>\n",
       "      <td>23</td>\n",
       "      <td>2</td>\n",
       "      <td>Historical site</td>\n",
       "      <td>58.0</td>\n",
       "      <td>2616</td>\n",
       "      <td>4</td>\n",
       "      <td>No</td>\n",
       "      <td>36</td>\n",
       "      <td>No</td>\n",
       "      <td>3</td>\n",
       "      <td>1.0</td>\n",
       "      <td>23.0</td>\n",
       "    </tr>\n",
       "    <tr>\n",
       "      <th>11756</th>\n",
       "      <td>1011757</td>\n",
       "      <td>No</td>\n",
       "      <td>305.0</td>\n",
       "      <td>Tab</td>\n",
       "      <td>21510.0</td>\n",
       "      <td>6</td>\n",
       "      <td>1</td>\n",
       "      <td>Historical site</td>\n",
       "      <td>55.0</td>\n",
       "      <td>10041</td>\n",
       "      <td>4</td>\n",
       "      <td>No</td>\n",
       "      <td>30</td>\n",
       "      <td>No</td>\n",
       "      <td>1</td>\n",
       "      <td>1.0</td>\n",
       "      <td>11.0</td>\n",
       "    </tr>\n",
       "    <tr>\n",
       "      <th>11757</th>\n",
       "      <td>1011758</td>\n",
       "      <td>No</td>\n",
       "      <td>214.0</td>\n",
       "      <td>Tab</td>\n",
       "      <td>5478.0</td>\n",
       "      <td>4</td>\n",
       "      <td>3</td>\n",
       "      <td>Beach</td>\n",
       "      <td>103.0</td>\n",
       "      <td>6203</td>\n",
       "      <td>3</td>\n",
       "      <td>Yes</td>\n",
       "      <td>40</td>\n",
       "      <td>Yes</td>\n",
       "      <td>2</td>\n",
       "      <td>1.0</td>\n",
       "      <td>12.0</td>\n",
       "    </tr>\n",
       "    <tr>\n",
       "      <th>11758</th>\n",
       "      <td>1011759</td>\n",
       "      <td>No</td>\n",
       "      <td>382.0</td>\n",
       "      <td>Laptop</td>\n",
       "      <td>35851.0</td>\n",
       "      <td>2</td>\n",
       "      <td>3</td>\n",
       "      <td>Historical site</td>\n",
       "      <td>83.0</td>\n",
       "      <td>5444</td>\n",
       "      <td>3</td>\n",
       "      <td>No</td>\n",
       "      <td>32</td>\n",
       "      <td>No</td>\n",
       "      <td>4</td>\n",
       "      <td>0.0</td>\n",
       "      <td>20.0</td>\n",
       "    </tr>\n",
       "    <tr>\n",
       "      <th>11759</th>\n",
       "      <td>1011760</td>\n",
       "      <td>No</td>\n",
       "      <td>270.0</td>\n",
       "      <td>Tab</td>\n",
       "      <td>22025.0</td>\n",
       "      <td>8</td>\n",
       "      <td>3</td>\n",
       "      <td>Historical site</td>\n",
       "      <td>104.0</td>\n",
       "      <td>4470</td>\n",
       "      <td>2</td>\n",
       "      <td>No</td>\n",
       "      <td>29</td>\n",
       "      <td>No</td>\n",
       "      <td>1</td>\n",
       "      <td>0.0</td>\n",
       "      <td>14.0</td>\n",
       "    </tr>\n",
       "  </tbody>\n",
       "</table>\n",
       "</div>"
      ],
      "text/plain": [
       "        UserID Taken_product  Yearly_avg_view_on_travel_page preferred_device  \\\n",
       "11755  1011756            No                           279.0           Laptop   \n",
       "11756  1011757            No                           305.0              Tab   \n",
       "11757  1011758            No                           214.0              Tab   \n",
       "11758  1011759            No                           382.0           Laptop   \n",
       "11759  1011760            No                           270.0              Tab   \n",
       "\n",
       "       total_likes_on_outstation_checkin_given yearly_avg_Outstation_checkins  \\\n",
       "11755                                  30987.0                             23   \n",
       "11756                                  21510.0                              6   \n",
       "11757                                   5478.0                              4   \n",
       "11758                                  35851.0                              2   \n",
       "11759                                  22025.0                              8   \n",
       "\n",
       "      member_in_family preferred_location_type  \\\n",
       "11755                2         Historical site   \n",
       "11756                1         Historical site   \n",
       "11757                3                   Beach   \n",
       "11758                3         Historical site   \n",
       "11759                3         Historical site   \n",
       "\n",
       "       Yearly_avg_comment_on_travel_page  \\\n",
       "11755                               58.0   \n",
       "11756                               55.0   \n",
       "11757                              103.0   \n",
       "11758                               83.0   \n",
       "11759                              104.0   \n",
       "\n",
       "       total_likes_on_outofstation_checkin_received  \\\n",
       "11755                                          2616   \n",
       "11756                                         10041   \n",
       "11757                                          6203   \n",
       "11758                                          5444   \n",
       "11759                                          4470   \n",
       "\n",
       "       week_since_last_outstation_checkin following_company_page  \\\n",
       "11755                                   4                     No   \n",
       "11756                                   4                     No   \n",
       "11757                                   3                    Yes   \n",
       "11758                                   3                     No   \n",
       "11759                                   2                     No   \n",
       "\n",
       "       montly_avg_comment_on_company_page working_flag  \\\n",
       "11755                                  36           No   \n",
       "11756                                  30           No   \n",
       "11757                                  40          Yes   \n",
       "11758                                  32           No   \n",
       "11759                                  29           No   \n",
       "\n",
       "       travelling_network_rating  Adult_flag  \\\n",
       "11755                          3         1.0   \n",
       "11756                          1         1.0   \n",
       "11757                          2         1.0   \n",
       "11758                          4         0.0   \n",
       "11759                          1         0.0   \n",
       "\n",
       "       Daily_Avg_mins_spend_on_traveling_page  \n",
       "11755                                    23.0  \n",
       "11756                                    11.0  \n",
       "11757                                    12.0  \n",
       "11758                                    20.0  \n",
       "11759                                    14.0  "
      ]
     },
     "execution_count": 4,
     "metadata": {},
     "output_type": "execute_result"
    }
   ],
   "source": [
    "social_media_data.tail()"
   ]
  },
  {
   "cell_type": "markdown",
   "metadata": {},
   "source": [
    "### Rename the column names as per the data dictionary for ease of understanding"
   ]
  },
  {
   "cell_type": "code",
   "execution_count": 5,
   "metadata": {},
   "outputs": [],
   "source": [
    "social_media_data.rename(columns = {'Taken_product':'Buy_ticket'}, inplace = True)"
   ]
  },
  {
   "cell_type": "markdown",
   "metadata": {},
   "source": [
    "## **2. Data Report**"
   ]
  },
  {
   "cell_type": "markdown",
   "metadata": {
    "id": "ZAAaCSJdxi0y"
   },
   "source": [
    "### **Check the number of rows (observations) and the number of columns (variables)**"
   ]
  },
  {
   "cell_type": "code",
   "execution_count": 6,
   "metadata": {
    "colab": {
     "base_uri": "https://localhost:8080/"
    },
    "id": "dZQ3cnSzZtqm",
    "outputId": "579afe64-4a25-4af4-aabc-68f0595f320e"
   },
   "outputs": [
    {
     "name": "stdout",
     "output_type": "stream",
     "text": [
      "The number of rows (observations) is 11760 \n",
      "The number of columns (variables) is 17\n"
     ]
    }
   ],
   "source": [
    "print('The number of rows (observations) is',social_media_data.shape[0],'\\n''The number of columns (variables) is',social_media_data.shape[1])"
   ]
  },
  {
   "cell_type": "markdown",
   "metadata": {},
   "source": [
    "### **Check the Data Type of the Variables**"
   ]
  },
  {
   "cell_type": "code",
   "execution_count": 7,
   "metadata": {},
   "outputs": [
    {
     "name": "stdout",
     "output_type": "stream",
     "text": [
      "<class 'pandas.core.frame.DataFrame'>\n",
      "RangeIndex: 11760 entries, 0 to 11759\n",
      "Data columns (total 17 columns):\n",
      " #   Column                                        Non-Null Count  Dtype  \n",
      "---  ------                                        --------------  -----  \n",
      " 0   UserID                                        11760 non-null  int64  \n",
      " 1   Buy_ticket                                    11760 non-null  object \n",
      " 2   Yearly_avg_view_on_travel_page                11179 non-null  float64\n",
      " 3   preferred_device                              11707 non-null  object \n",
      " 4   total_likes_on_outstation_checkin_given       11379 non-null  float64\n",
      " 5   yearly_avg_Outstation_checkins                11685 non-null  object \n",
      " 6   member_in_family                              11760 non-null  object \n",
      " 7   preferred_location_type                       11729 non-null  object \n",
      " 8   Yearly_avg_comment_on_travel_page             11554 non-null  float64\n",
      " 9   total_likes_on_outofstation_checkin_received  11760 non-null  int64  \n",
      " 10  week_since_last_outstation_checkin            11760 non-null  int64  \n",
      " 11  following_company_page                        11657 non-null  object \n",
      " 12  montly_avg_comment_on_company_page            11760 non-null  int64  \n",
      " 13  working_flag                                  11760 non-null  object \n",
      " 14  travelling_network_rating                     11760 non-null  int64  \n",
      " 15  Adult_flag                                    11759 non-null  float64\n",
      " 16  Daily_Avg_mins_spend_on_traveling_page        11759 non-null  float64\n",
      "dtypes: float64(5), int64(5), object(7)\n",
      "memory usage: 1.5+ MB\n"
     ]
    }
   ],
   "source": [
    "social_media_data.info()"
   ]
  },
  {
   "cell_type": "markdown",
   "metadata": {},
   "source": [
    "### **Check the basic measures of descriptive statistics for the continuous variables**"
   ]
  },
  {
   "cell_type": "code",
   "execution_count": 8,
   "metadata": {},
   "outputs": [
    {
     "data": {
      "text/html": [
       "<div>\n",
       "<style scoped>\n",
       "    .dataframe tbody tr th:only-of-type {\n",
       "        vertical-align: middle;\n",
       "    }\n",
       "\n",
       "    .dataframe tbody tr th {\n",
       "        vertical-align: top;\n",
       "    }\n",
       "\n",
       "    .dataframe thead th {\n",
       "        text-align: right;\n",
       "    }\n",
       "</style>\n",
       "<table border=\"1\" class=\"dataframe\">\n",
       "  <thead>\n",
       "    <tr style=\"text-align: right;\">\n",
       "      <th></th>\n",
       "      <th>count</th>\n",
       "      <th>mean</th>\n",
       "      <th>std</th>\n",
       "      <th>min</th>\n",
       "      <th>25%</th>\n",
       "      <th>50%</th>\n",
       "      <th>75%</th>\n",
       "      <th>max</th>\n",
       "    </tr>\n",
       "  </thead>\n",
       "  <tbody>\n",
       "    <tr>\n",
       "      <th>UserID</th>\n",
       "      <td>11760.0</td>\n",
       "      <td>1.005880e+06</td>\n",
       "      <td>3394.963917</td>\n",
       "      <td>1000001.0</td>\n",
       "      <td>1002940.75</td>\n",
       "      <td>1005880.5</td>\n",
       "      <td>1008820.25</td>\n",
       "      <td>1011760.0</td>\n",
       "    </tr>\n",
       "    <tr>\n",
       "      <th>Yearly_avg_view_on_travel_page</th>\n",
       "      <td>11179.0</td>\n",
       "      <td>2.808308e+02</td>\n",
       "      <td>68.182958</td>\n",
       "      <td>35.0</td>\n",
       "      <td>232.00</td>\n",
       "      <td>271.0</td>\n",
       "      <td>324.00</td>\n",
       "      <td>464.0</td>\n",
       "    </tr>\n",
       "    <tr>\n",
       "      <th>total_likes_on_outstation_checkin_given</th>\n",
       "      <td>11379.0</td>\n",
       "      <td>2.817048e+04</td>\n",
       "      <td>14385.032134</td>\n",
       "      <td>3570.0</td>\n",
       "      <td>16380.00</td>\n",
       "      <td>28076.0</td>\n",
       "      <td>40525.00</td>\n",
       "      <td>252430.0</td>\n",
       "    </tr>\n",
       "    <tr>\n",
       "      <th>Yearly_avg_comment_on_travel_page</th>\n",
       "      <td>11554.0</td>\n",
       "      <td>7.479003e+01</td>\n",
       "      <td>24.026650</td>\n",
       "      <td>3.0</td>\n",
       "      <td>57.00</td>\n",
       "      <td>75.0</td>\n",
       "      <td>92.00</td>\n",
       "      <td>815.0</td>\n",
       "    </tr>\n",
       "    <tr>\n",
       "      <th>total_likes_on_outofstation_checkin_received</th>\n",
       "      <td>11760.0</td>\n",
       "      <td>6.531699e+03</td>\n",
       "      <td>4706.613785</td>\n",
       "      <td>1009.0</td>\n",
       "      <td>2940.75</td>\n",
       "      <td>4948.0</td>\n",
       "      <td>8393.25</td>\n",
       "      <td>20065.0</td>\n",
       "    </tr>\n",
       "    <tr>\n",
       "      <th>week_since_last_outstation_checkin</th>\n",
       "      <td>11760.0</td>\n",
       "      <td>3.203571e+00</td>\n",
       "      <td>2.616365</td>\n",
       "      <td>0.0</td>\n",
       "      <td>1.00</td>\n",
       "      <td>3.0</td>\n",
       "      <td>5.00</td>\n",
       "      <td>11.0</td>\n",
       "    </tr>\n",
       "    <tr>\n",
       "      <th>montly_avg_comment_on_company_page</th>\n",
       "      <td>11760.0</td>\n",
       "      <td>2.866088e+01</td>\n",
       "      <td>48.660793</td>\n",
       "      <td>4.0</td>\n",
       "      <td>17.00</td>\n",
       "      <td>22.0</td>\n",
       "      <td>27.00</td>\n",
       "      <td>500.0</td>\n",
       "    </tr>\n",
       "    <tr>\n",
       "      <th>travelling_network_rating</th>\n",
       "      <td>11760.0</td>\n",
       "      <td>2.712755e+00</td>\n",
       "      <td>1.082909</td>\n",
       "      <td>1.0</td>\n",
       "      <td>2.00</td>\n",
       "      <td>3.0</td>\n",
       "      <td>4.00</td>\n",
       "      <td>10.0</td>\n",
       "    </tr>\n",
       "    <tr>\n",
       "      <th>Adult_flag</th>\n",
       "      <td>11759.0</td>\n",
       "      <td>7.939451e-01</td>\n",
       "      <td>0.851828</td>\n",
       "      <td>0.0</td>\n",
       "      <td>0.00</td>\n",
       "      <td>1.0</td>\n",
       "      <td>1.00</td>\n",
       "      <td>3.0</td>\n",
       "    </tr>\n",
       "    <tr>\n",
       "      <th>Daily_Avg_mins_spend_on_traveling_page</th>\n",
       "      <td>11759.0</td>\n",
       "      <td>1.381776e+01</td>\n",
       "      <td>9.070974</td>\n",
       "      <td>0.0</td>\n",
       "      <td>8.00</td>\n",
       "      <td>12.0</td>\n",
       "      <td>18.00</td>\n",
       "      <td>270.0</td>\n",
       "    </tr>\n",
       "  </tbody>\n",
       "</table>\n",
       "</div>"
      ],
      "text/plain": [
       "                                                count          mean  \\\n",
       "UserID                                        11760.0  1.005880e+06   \n",
       "Yearly_avg_view_on_travel_page                11179.0  2.808308e+02   \n",
       "total_likes_on_outstation_checkin_given       11379.0  2.817048e+04   \n",
       "Yearly_avg_comment_on_travel_page             11554.0  7.479003e+01   \n",
       "total_likes_on_outofstation_checkin_received  11760.0  6.531699e+03   \n",
       "week_since_last_outstation_checkin            11760.0  3.203571e+00   \n",
       "montly_avg_comment_on_company_page            11760.0  2.866088e+01   \n",
       "travelling_network_rating                     11760.0  2.712755e+00   \n",
       "Adult_flag                                    11759.0  7.939451e-01   \n",
       "Daily_Avg_mins_spend_on_traveling_page        11759.0  1.381776e+01   \n",
       "\n",
       "                                                       std        min  \\\n",
       "UserID                                         3394.963917  1000001.0   \n",
       "Yearly_avg_view_on_travel_page                   68.182958       35.0   \n",
       "total_likes_on_outstation_checkin_given       14385.032134     3570.0   \n",
       "Yearly_avg_comment_on_travel_page                24.026650        3.0   \n",
       "total_likes_on_outofstation_checkin_received   4706.613785     1009.0   \n",
       "week_since_last_outstation_checkin                2.616365        0.0   \n",
       "montly_avg_comment_on_company_page               48.660793        4.0   \n",
       "travelling_network_rating                         1.082909        1.0   \n",
       "Adult_flag                                        0.851828        0.0   \n",
       "Daily_Avg_mins_spend_on_traveling_page            9.070974        0.0   \n",
       "\n",
       "                                                     25%        50%  \\\n",
       "UserID                                        1002940.75  1005880.5   \n",
       "Yearly_avg_view_on_travel_page                    232.00      271.0   \n",
       "total_likes_on_outstation_checkin_given         16380.00    28076.0   \n",
       "Yearly_avg_comment_on_travel_page                  57.00       75.0   \n",
       "total_likes_on_outofstation_checkin_received     2940.75     4948.0   \n",
       "week_since_last_outstation_checkin                  1.00        3.0   \n",
       "montly_avg_comment_on_company_page                 17.00       22.0   \n",
       "travelling_network_rating                           2.00        3.0   \n",
       "Adult_flag                                          0.00        1.0   \n",
       "Daily_Avg_mins_spend_on_traveling_page              8.00       12.0   \n",
       "\n",
       "                                                     75%        max  \n",
       "UserID                                        1008820.25  1011760.0  \n",
       "Yearly_avg_view_on_travel_page                    324.00      464.0  \n",
       "total_likes_on_outstation_checkin_given         40525.00   252430.0  \n",
       "Yearly_avg_comment_on_travel_page                  92.00      815.0  \n",
       "total_likes_on_outofstation_checkin_received     8393.25    20065.0  \n",
       "week_since_last_outstation_checkin                  5.00       11.0  \n",
       "montly_avg_comment_on_company_page                 27.00      500.0  \n",
       "travelling_network_rating                           4.00       10.0  \n",
       "Adult_flag                                          1.00        3.0  \n",
       "Daily_Avg_mins_spend_on_traveling_page             18.00      270.0  "
      ]
     },
     "execution_count": 8,
     "metadata": {},
     "output_type": "execute_result"
    }
   ],
   "source": [
    "social_media_data.describe().T"
   ]
  },
  {
   "cell_type": "markdown",
   "metadata": {},
   "source": [
    "## **3. Exploratory Data Analysis**"
   ]
  },
  {
   "cell_type": "markdown",
   "metadata": {},
   "source": [
    "### **Check for different types of data in the columns**\n",
    "\n",
    "**Removal of unwanted variables (If needed)**"
   ]
  },
  {
   "cell_type": "code",
   "execution_count": 9,
   "metadata": {},
   "outputs": [
    {
     "data": {
      "text/plain": [
       "No     9864\n",
       "Yes    1896\n",
       "Name: Buy_ticket, dtype: int64"
      ]
     },
     "execution_count": 9,
     "metadata": {},
     "output_type": "execute_result"
    }
   ],
   "source": [
    "social_media_data['Buy_ticket'].value_counts()"
   ]
  },
  {
   "cell_type": "code",
   "execution_count": 10,
   "metadata": {},
   "outputs": [
    {
     "data": {
      "text/plain": [
       "Tab                4172\n",
       "iOS and Android    4134\n",
       "Laptop             1108\n",
       "iOS                1095\n",
       "Mobile              600\n",
       "Android             315\n",
       "Android OS          145\n",
       "ANDROID             134\n",
       "Other                 2\n",
       "Others                2\n",
       "Name: preferred_device, dtype: int64"
      ]
     },
     "execution_count": 10,
     "metadata": {},
     "output_type": "execute_result"
    }
   ],
   "source": [
    "social_media_data['preferred_device'].value_counts()"
   ]
  },
  {
   "cell_type": "markdown",
   "metadata": {},
   "source": [
    "Here, all the records except for `Laptop` will be grouped together under `Mobile`."
   ]
  },
  {
   "cell_type": "code",
   "execution_count": 11,
   "metadata": {},
   "outputs": [],
   "source": [
    "social_media_data['preferred_device'].mask(social_media_data['preferred_device'] != \"Laptop\", \"Mobile\", inplace=True)"
   ]
  },
  {
   "cell_type": "code",
   "execution_count": 12,
   "metadata": {},
   "outputs": [
    {
     "data": {
      "text/plain": [
       "Mobile    10652\n",
       "Laptop     1108\n",
       "Name: preferred_device, dtype: int64"
      ]
     },
     "execution_count": 12,
     "metadata": {},
     "output_type": "execute_result"
    }
   ],
   "source": [
    "social_media_data['preferred_device'].value_counts()"
   ]
  },
  {
   "cell_type": "code",
   "execution_count": 13,
   "metadata": {},
   "outputs": [
    {
     "data": {
      "text/plain": [
       "Beach              2424\n",
       "Financial          2409\n",
       "Historical site    1856\n",
       "Medical            1845\n",
       "Other               643\n",
       "Big Cities          636\n",
       "Social media        633\n",
       "Trekking            528\n",
       "Entertainment       516\n",
       "Hill Stations       108\n",
       "Tour  Travel         60\n",
       "Tour and Travel      47\n",
       "Game                 12\n",
       "OTT                   7\n",
       "Movie                 5\n",
       "Name: preferred_location_type, dtype: int64"
      ]
     },
     "execution_count": 13,
     "metadata": {},
     "output_type": "execute_result"
    }
   ],
   "source": [
    "social_media_data['preferred_location_type'].value_counts()"
   ]
  },
  {
   "cell_type": "code",
   "execution_count": 14,
   "metadata": {},
   "outputs": [],
   "source": [
    "# Grouping Variables like `Game`, `OTT`, `Social media` and `Movile` under `Entertainment` makes sense here.\n",
    "\n",
    "social_media_data['preferred_location_type'].mask(social_media_data['preferred_location_type'] == \"Game\", \"Entertainment\", inplace=True)\n",
    "\n",
    "social_media_data['preferred_location_type'].mask(social_media_data['preferred_location_type'] == \"Movie\", \"Entertainment\", inplace=True)\n",
    "\n",
    "social_media_data['preferred_location_type'].mask(social_media_data['preferred_location_type'] == \"OTT\", \"Entertainment\", inplace=True)\n",
    "\n",
    "social_media_data['preferred_location_type'].mask(social_media_data['preferred_location_type'] == \"Social media\", \"Entertainment\", inplace=True)"
   ]
  },
  {
   "cell_type": "code",
   "execution_count": 15,
   "metadata": {},
   "outputs": [],
   "source": [
    "# Grouping variables like `Tour  Travel` and `Tour and Travel` under `Others` makes sense here. \n",
    "# As tour and travel does not generally point towards anything particular.\n",
    "\n",
    "social_media_data['preferred_location_type'].mask(social_media_data['preferred_location_type'] == \"Tour  Travel\", \"Other\", inplace=True)\n",
    "\n",
    "social_media_data['preferred_location_type'].mask(social_media_data['preferred_location_type'] == \"Tour and Travel\", \"Other\", inplace=True)"
   ]
  },
  {
   "cell_type": "code",
   "execution_count": 16,
   "metadata": {},
   "outputs": [],
   "source": [
    "# Variables like `Trekking` and `Hill Stations` are not similar to some extent.\n",
    "# As, `Hill Stations` make up only 108 records, I will be putting it under `Trekking` to avoid any hassle.\n",
    "\n",
    "social_media_data['preferred_location_type'].mask(social_media_data['preferred_location_type'] == \"Hill Stations\", \"Trekking\", inplace=True)"
   ]
  },
  {
   "cell_type": "code",
   "execution_count": 17,
   "metadata": {},
   "outputs": [],
   "source": [
    "# lastly, `Big Cities` can be anywhere and can be also easily belong to category like `Medical`, `Financial` or even `Entertainment`\n",
    "# to avoid this, I will group it under `Other`\n",
    "\n",
    "social_media_data['preferred_location_type'].mask(social_media_data['preferred_location_type'] == \"Big Cities\", \"Other\", inplace=True)"
   ]
  },
  {
   "cell_type": "code",
   "execution_count": 18,
   "metadata": {},
   "outputs": [
    {
     "data": {
      "text/plain": [
       "Beach              2424\n",
       "Financial          2409\n",
       "Historical site    1856\n",
       "Medical            1845\n",
       "Other              1386\n",
       "Entertainment      1173\n",
       "Trekking            636\n",
       "Name: preferred_location_type, dtype: int64"
      ]
     },
     "execution_count": 18,
     "metadata": {},
     "output_type": "execute_result"
    }
   ],
   "source": [
    "social_media_data['preferred_location_type'].value_counts()"
   ]
  },
  {
   "cell_type": "code",
   "execution_count": 19,
   "metadata": {},
   "outputs": [
    {
     "data": {
      "text/plain": [
       "0.0    5047\n",
       "1.0    4768\n",
       "2.0    1264\n",
       "3.0     680\n",
       "Name: Adult_flag, dtype: int64"
      ]
     },
     "execution_count": 19,
     "metadata": {},
     "output_type": "execute_result"
    }
   ],
   "source": [
    "social_media_data['Adult_flag'].value_counts()"
   ]
  },
  {
   "cell_type": "markdown",
   "metadata": {},
   "source": [
    "The name of the variable `Adult_flag` leads to some misconception, as it clearly depicts the number of adults,\n",
    "I will be renaming the column name to `number_of_adults`."
   ]
  },
  {
   "cell_type": "code",
   "execution_count": 20,
   "metadata": {},
   "outputs": [],
   "source": [
    "social_media_data.rename(columns = {'Adult_flag':'number_of_adults'}, inplace = True)"
   ]
  },
  {
   "cell_type": "code",
   "execution_count": 21,
   "metadata": {},
   "outputs": [
    {
     "data": {
      "text/plain": [
       "0.0    5047\n",
       "1.0    4768\n",
       "2.0    1264\n",
       "3.0     680\n",
       "Name: number_of_adults, dtype: int64"
      ]
     },
     "execution_count": 21,
     "metadata": {},
     "output_type": "execute_result"
    }
   ],
   "source": [
    "social_media_data['number_of_adults'].value_counts()"
   ]
  },
  {
   "cell_type": "code",
   "execution_count": 22,
   "metadata": {},
   "outputs": [
    {
     "data": {
      "text/plain": [
       "No      8355\n",
       "Yes     3284\n",
       "1         12\n",
       "0          5\n",
       "Yeso       1\n",
       "Name: following_company_page, dtype: int64"
      ]
     },
     "execution_count": 22,
     "metadata": {},
     "output_type": "execute_result"
    }
   ],
   "source": [
    "social_media_data['following_company_page'].value_counts()"
   ]
  },
  {
   "cell_type": "markdown",
   "metadata": {},
   "source": [
    "`following_company_page` has different values for Boolean, No, Yes, 1 and 0.\n",
    "\n",
    "For the dataset, I will assume 1 as `Yes` and 0 as `No`"
   ]
  },
  {
   "cell_type": "code",
   "execution_count": 23,
   "metadata": {},
   "outputs": [],
   "source": [
    "social_media_data['following_company_page'].mask(social_media_data['following_company_page'] == \"1\", \"Yes\", inplace=True)"
   ]
  },
  {
   "cell_type": "code",
   "execution_count": 24,
   "metadata": {},
   "outputs": [],
   "source": [
    "social_media_data['following_company_page'].mask(social_media_data['following_company_page'] == \"0\", \"No\", inplace=True)"
   ]
  },
  {
   "cell_type": "code",
   "execution_count": 25,
   "metadata": {},
   "outputs": [
    {
     "data": {
      "text/plain": [
       "No      8360\n",
       "Yes     3296\n",
       "Yeso       1\n",
       "Name: following_company_page, dtype: int64"
      ]
     },
     "execution_count": 25,
     "metadata": {},
     "output_type": "execute_result"
    }
   ],
   "source": [
    "social_media_data['following_company_page'].value_counts()"
   ]
  },
  {
   "cell_type": "code",
   "execution_count": 26,
   "metadata": {},
   "outputs": [
    {
     "data": {
      "text/plain": [
       "No     9951\n",
       "Yes    1808\n",
       "0         1\n",
       "Name: working_flag, dtype: int64"
      ]
     },
     "execution_count": 26,
     "metadata": {},
     "output_type": "execute_result"
    }
   ],
   "source": [
    "social_media_data['working_flag'].value_counts()"
   ]
  },
  {
   "cell_type": "code",
   "execution_count": 27,
   "metadata": {},
   "outputs": [],
   "source": [
    "# member_in_family contains few rows where '3' is represented as 'Three'.\n",
    "# Replacing them.\n",
    "\n",
    "social_media_data['member_in_family'].mask(social_media_data['member_in_family'] == \"Three\", \"3\", inplace=True)"
   ]
  },
  {
   "cell_type": "code",
   "execution_count": null,
   "metadata": {},
   "outputs": [],
   "source": []
  },
  {
   "cell_type": "markdown",
   "metadata": {},
   "source": [
    "### **Check the Data Type of the Variables**"
   ]
  },
  {
   "cell_type": "code",
   "execution_count": 28,
   "metadata": {},
   "outputs": [
    {
     "name": "stdout",
     "output_type": "stream",
     "text": [
      "<class 'pandas.core.frame.DataFrame'>\n",
      "RangeIndex: 11760 entries, 0 to 11759\n",
      "Data columns (total 17 columns):\n",
      " #   Column                                        Non-Null Count  Dtype  \n",
      "---  ------                                        --------------  -----  \n",
      " 0   UserID                                        11760 non-null  int64  \n",
      " 1   Buy_ticket                                    11760 non-null  object \n",
      " 2   Yearly_avg_view_on_travel_page                11179 non-null  float64\n",
      " 3   preferred_device                              11760 non-null  object \n",
      " 4   total_likes_on_outstation_checkin_given       11379 non-null  float64\n",
      " 5   yearly_avg_Outstation_checkins                11685 non-null  object \n",
      " 6   member_in_family                              11760 non-null  object \n",
      " 7   preferred_location_type                       11729 non-null  object \n",
      " 8   Yearly_avg_comment_on_travel_page             11554 non-null  float64\n",
      " 9   total_likes_on_outofstation_checkin_received  11760 non-null  int64  \n",
      " 10  week_since_last_outstation_checkin            11760 non-null  int64  \n",
      " 11  following_company_page                        11657 non-null  object \n",
      " 12  montly_avg_comment_on_company_page            11760 non-null  int64  \n",
      " 13  working_flag                                  11760 non-null  object \n",
      " 14  travelling_network_rating                     11760 non-null  int64  \n",
      " 15  number_of_adults                              11759 non-null  float64\n",
      " 16  Daily_Avg_mins_spend_on_traveling_page        11759 non-null  float64\n",
      "dtypes: float64(5), int64(5), object(7)\n",
      "memory usage: 1.5+ MB\n"
     ]
    }
   ],
   "source": [
    "social_media_data.info()"
   ]
  },
  {
   "cell_type": "markdown",
   "metadata": {},
   "source": [
    "### **Check the basic measures of descriptive statistics for the continuous variables**"
   ]
  },
  {
   "cell_type": "code",
   "execution_count": 29,
   "metadata": {},
   "outputs": [
    {
     "data": {
      "text/html": [
       "<div>\n",
       "<style scoped>\n",
       "    .dataframe tbody tr th:only-of-type {\n",
       "        vertical-align: middle;\n",
       "    }\n",
       "\n",
       "    .dataframe tbody tr th {\n",
       "        vertical-align: top;\n",
       "    }\n",
       "\n",
       "    .dataframe thead th {\n",
       "        text-align: right;\n",
       "    }\n",
       "</style>\n",
       "<table border=\"1\" class=\"dataframe\">\n",
       "  <thead>\n",
       "    <tr style=\"text-align: right;\">\n",
       "      <th></th>\n",
       "      <th>count</th>\n",
       "      <th>mean</th>\n",
       "      <th>std</th>\n",
       "      <th>min</th>\n",
       "      <th>25%</th>\n",
       "      <th>50%</th>\n",
       "      <th>75%</th>\n",
       "      <th>max</th>\n",
       "    </tr>\n",
       "  </thead>\n",
       "  <tbody>\n",
       "    <tr>\n",
       "      <th>UserID</th>\n",
       "      <td>11760.0</td>\n",
       "      <td>1.005880e+06</td>\n",
       "      <td>3394.963917</td>\n",
       "      <td>1000001.0</td>\n",
       "      <td>1002940.75</td>\n",
       "      <td>1005880.5</td>\n",
       "      <td>1008820.25</td>\n",
       "      <td>1011760.0</td>\n",
       "    </tr>\n",
       "    <tr>\n",
       "      <th>Yearly_avg_view_on_travel_page</th>\n",
       "      <td>11179.0</td>\n",
       "      <td>2.808308e+02</td>\n",
       "      <td>68.182958</td>\n",
       "      <td>35.0</td>\n",
       "      <td>232.00</td>\n",
       "      <td>271.0</td>\n",
       "      <td>324.00</td>\n",
       "      <td>464.0</td>\n",
       "    </tr>\n",
       "    <tr>\n",
       "      <th>total_likes_on_outstation_checkin_given</th>\n",
       "      <td>11379.0</td>\n",
       "      <td>2.817048e+04</td>\n",
       "      <td>14385.032134</td>\n",
       "      <td>3570.0</td>\n",
       "      <td>16380.00</td>\n",
       "      <td>28076.0</td>\n",
       "      <td>40525.00</td>\n",
       "      <td>252430.0</td>\n",
       "    </tr>\n",
       "    <tr>\n",
       "      <th>Yearly_avg_comment_on_travel_page</th>\n",
       "      <td>11554.0</td>\n",
       "      <td>7.479003e+01</td>\n",
       "      <td>24.026650</td>\n",
       "      <td>3.0</td>\n",
       "      <td>57.00</td>\n",
       "      <td>75.0</td>\n",
       "      <td>92.00</td>\n",
       "      <td>815.0</td>\n",
       "    </tr>\n",
       "    <tr>\n",
       "      <th>total_likes_on_outofstation_checkin_received</th>\n",
       "      <td>11760.0</td>\n",
       "      <td>6.531699e+03</td>\n",
       "      <td>4706.613785</td>\n",
       "      <td>1009.0</td>\n",
       "      <td>2940.75</td>\n",
       "      <td>4948.0</td>\n",
       "      <td>8393.25</td>\n",
       "      <td>20065.0</td>\n",
       "    </tr>\n",
       "    <tr>\n",
       "      <th>week_since_last_outstation_checkin</th>\n",
       "      <td>11760.0</td>\n",
       "      <td>3.203571e+00</td>\n",
       "      <td>2.616365</td>\n",
       "      <td>0.0</td>\n",
       "      <td>1.00</td>\n",
       "      <td>3.0</td>\n",
       "      <td>5.00</td>\n",
       "      <td>11.0</td>\n",
       "    </tr>\n",
       "    <tr>\n",
       "      <th>montly_avg_comment_on_company_page</th>\n",
       "      <td>11760.0</td>\n",
       "      <td>2.866088e+01</td>\n",
       "      <td>48.660793</td>\n",
       "      <td>4.0</td>\n",
       "      <td>17.00</td>\n",
       "      <td>22.0</td>\n",
       "      <td>27.00</td>\n",
       "      <td>500.0</td>\n",
       "    </tr>\n",
       "    <tr>\n",
       "      <th>travelling_network_rating</th>\n",
       "      <td>11760.0</td>\n",
       "      <td>2.712755e+00</td>\n",
       "      <td>1.082909</td>\n",
       "      <td>1.0</td>\n",
       "      <td>2.00</td>\n",
       "      <td>3.0</td>\n",
       "      <td>4.00</td>\n",
       "      <td>10.0</td>\n",
       "    </tr>\n",
       "    <tr>\n",
       "      <th>number_of_adults</th>\n",
       "      <td>11759.0</td>\n",
       "      <td>7.939451e-01</td>\n",
       "      <td>0.851828</td>\n",
       "      <td>0.0</td>\n",
       "      <td>0.00</td>\n",
       "      <td>1.0</td>\n",
       "      <td>1.00</td>\n",
       "      <td>3.0</td>\n",
       "    </tr>\n",
       "    <tr>\n",
       "      <th>Daily_Avg_mins_spend_on_traveling_page</th>\n",
       "      <td>11759.0</td>\n",
       "      <td>1.381776e+01</td>\n",
       "      <td>9.070974</td>\n",
       "      <td>0.0</td>\n",
       "      <td>8.00</td>\n",
       "      <td>12.0</td>\n",
       "      <td>18.00</td>\n",
       "      <td>270.0</td>\n",
       "    </tr>\n",
       "  </tbody>\n",
       "</table>\n",
       "</div>"
      ],
      "text/plain": [
       "                                                count          mean  \\\n",
       "UserID                                        11760.0  1.005880e+06   \n",
       "Yearly_avg_view_on_travel_page                11179.0  2.808308e+02   \n",
       "total_likes_on_outstation_checkin_given       11379.0  2.817048e+04   \n",
       "Yearly_avg_comment_on_travel_page             11554.0  7.479003e+01   \n",
       "total_likes_on_outofstation_checkin_received  11760.0  6.531699e+03   \n",
       "week_since_last_outstation_checkin            11760.0  3.203571e+00   \n",
       "montly_avg_comment_on_company_page            11760.0  2.866088e+01   \n",
       "travelling_network_rating                     11760.0  2.712755e+00   \n",
       "number_of_adults                              11759.0  7.939451e-01   \n",
       "Daily_Avg_mins_spend_on_traveling_page        11759.0  1.381776e+01   \n",
       "\n",
       "                                                       std        min  \\\n",
       "UserID                                         3394.963917  1000001.0   \n",
       "Yearly_avg_view_on_travel_page                   68.182958       35.0   \n",
       "total_likes_on_outstation_checkin_given       14385.032134     3570.0   \n",
       "Yearly_avg_comment_on_travel_page                24.026650        3.0   \n",
       "total_likes_on_outofstation_checkin_received   4706.613785     1009.0   \n",
       "week_since_last_outstation_checkin                2.616365        0.0   \n",
       "montly_avg_comment_on_company_page               48.660793        4.0   \n",
       "travelling_network_rating                         1.082909        1.0   \n",
       "number_of_adults                                  0.851828        0.0   \n",
       "Daily_Avg_mins_spend_on_traveling_page            9.070974        0.0   \n",
       "\n",
       "                                                     25%        50%  \\\n",
       "UserID                                        1002940.75  1005880.5   \n",
       "Yearly_avg_view_on_travel_page                    232.00      271.0   \n",
       "total_likes_on_outstation_checkin_given         16380.00    28076.0   \n",
       "Yearly_avg_comment_on_travel_page                  57.00       75.0   \n",
       "total_likes_on_outofstation_checkin_received     2940.75     4948.0   \n",
       "week_since_last_outstation_checkin                  1.00        3.0   \n",
       "montly_avg_comment_on_company_page                 17.00       22.0   \n",
       "travelling_network_rating                           2.00        3.0   \n",
       "number_of_adults                                    0.00        1.0   \n",
       "Daily_Avg_mins_spend_on_traveling_page              8.00       12.0   \n",
       "\n",
       "                                                     75%        max  \n",
       "UserID                                        1008820.25  1011760.0  \n",
       "Yearly_avg_view_on_travel_page                    324.00      464.0  \n",
       "total_likes_on_outstation_checkin_given         40525.00   252430.0  \n",
       "Yearly_avg_comment_on_travel_page                  92.00      815.0  \n",
       "total_likes_on_outofstation_checkin_received     8393.25    20065.0  \n",
       "week_since_last_outstation_checkin                  5.00       11.0  \n",
       "montly_avg_comment_on_company_page                 27.00      500.0  \n",
       "travelling_network_rating                           4.00       10.0  \n",
       "number_of_adults                                    1.00        3.0  \n",
       "Daily_Avg_mins_spend_on_traveling_page             18.00      270.0  "
      ]
     },
     "execution_count": 29,
     "metadata": {},
     "output_type": "execute_result"
    }
   ],
   "source": [
    "social_media_data.describe().T"
   ]
  },
  {
   "cell_type": "code",
   "execution_count": 30,
   "metadata": {},
   "outputs": [],
   "source": [
    "import pandas_profiling as pdp"
   ]
  },
  {
   "cell_type": "code",
   "execution_count": 31,
   "metadata": {},
   "outputs": [],
   "source": [
    "eda_profile_social_media_data = pdp.ProfileReport(social_media_data)"
   ]
  },
  {
   "cell_type": "code",
   "execution_count": 32,
   "metadata": {},
   "outputs": [],
   "source": [
    "# Since the HTML report is already generated, Commenting out the below code to save execution time.\n",
    "\n",
    "# eda_profile_social_media_data.to_file(\"eda_profile_social_media_data.html\")"
   ]
  },
  {
   "cell_type": "markdown",
   "metadata": {},
   "source": [
    "#### Missing Value treatment"
   ]
  },
  {
   "cell_type": "markdown",
   "metadata": {},
   "source": [
    "From the EDA report generated, it can be noted that\n",
    "\n",
    "* `Yearly_avg_view_on_travel_page` has **581 (4.9%)** missing values\n",
    "* `total_likes_on_outstation_checkin_given` has **381 (3.2%)** missing values\n",
    "* `Yearly_avg_comment_on_travel_page` has **206 (1.8%)** missing values\n",
    "* `yearly_avg_Outstation_checkins` has **75 (0.6%)** missing values\n",
    "* `preferred_location_type` has **31 (0.3%)** missing values\n",
    "* `following_company_page` has **103 (0.9%)** missing values"
   ]
  },
  {
   "cell_type": "code",
   "execution_count": 33,
   "metadata": {},
   "outputs": [
    {
     "data": {
      "text/plain": [
       "UserID                                            0\n",
       "Buy_ticket                                        0\n",
       "Yearly_avg_view_on_travel_page                  581\n",
       "preferred_device                                  0\n",
       "total_likes_on_outstation_checkin_given         381\n",
       "yearly_avg_Outstation_checkins                   75\n",
       "member_in_family                                  0\n",
       "preferred_location_type                          31\n",
       "Yearly_avg_comment_on_travel_page               206\n",
       "total_likes_on_outofstation_checkin_received      0\n",
       "week_since_last_outstation_checkin                0\n",
       "following_company_page                          103\n",
       "montly_avg_comment_on_company_page                0\n",
       "working_flag                                      0\n",
       "travelling_network_rating                         0\n",
       "number_of_adults                                  1\n",
       "Daily_Avg_mins_spend_on_traveling_page            1\n",
       "dtype: int64"
      ]
     },
     "execution_count": 33,
     "metadata": {},
     "output_type": "execute_result"
    }
   ],
   "source": [
    "social_media_data.isnull().sum()"
   ]
  },
  {
   "cell_type": "code",
   "execution_count": 34,
   "metadata": {},
   "outputs": [],
   "source": [
    "# Dropping the null values from these columns, as they have less than 1% of the null values \n",
    "# `yearly_avg_Outstation_checkins`, `preferred_location_type`, `following_company_page`\n",
    "\n",
    "# social_media_data.dropna(subset=['following_company_page', 'preferred_location_type', 'yearly_avg_Outstation_checkins'], inplace=True)"
   ]
  },
  {
   "cell_type": "code",
   "execution_count": 35,
   "metadata": {},
   "outputs": [],
   "source": [
    "# Imputing the remaining null values.\n",
    "# Using the SimpleImputer and ColumnTransformer to apply different strategy to different columns\n",
    "\n",
    "# from sklearn.compose import ColumnTransformer\n",
    "# from sklearn.impute import SimpleImputer"
   ]
  },
  {
   "cell_type": "code",
   "execution_count": 36,
   "metadata": {},
   "outputs": [],
   "source": [
    "# impute_most_frequent = SimpleImputer(strategy='most_frequent')\n",
    "# impute_mean = SimpleImputer(strategy='mean')\n",
    "\n",
    "# column_trans = ColumnTransformer([('impute_Yearly_avg_view_on_travel_page', impute_most_frequent, [2]),\n",
    "#                                  ('impute_Yearly_avg_comment_on_travel_page', impute_most_frequent, [8]),\n",
    "#                                  ('impute_total_likes_on_outstation_checkin_given', impute_mean, [4])], \n",
    "#                                  remainder='passthrough')"
   ]
  },
  {
   "cell_type": "code",
   "execution_count": 37,
   "metadata": {},
   "outputs": [],
   "source": [
    "# column_names = social_media_data.columns\n",
    "# imputed_social_media_data = column_trans.fit_transform(social_media_data)"
   ]
  },
  {
   "cell_type": "code",
   "execution_count": 38,
   "metadata": {},
   "outputs": [],
   "source": [
    "# social_media_data = pd.DataFrame(imputed_social_media_data, columns = column_names).reset_index(drop='index')"
   ]
  },
  {
   "cell_type": "markdown",
   "metadata": {},
   "source": [
    "#### Since the total number of null value rows are 1263 which only makes upto 10% of the data, we can safely drop the rows."
   ]
  },
  {
   "cell_type": "code",
   "execution_count": 39,
   "metadata": {},
   "outputs": [],
   "source": [
    "social_media_data_null_drop = social_media_data.dropna()"
   ]
  },
  {
   "cell_type": "code",
   "execution_count": 40,
   "metadata": {},
   "outputs": [
    {
     "data": {
      "text/plain": [
       "UserID                                          0\n",
       "Buy_ticket                                      0\n",
       "Yearly_avg_view_on_travel_page                  0\n",
       "preferred_device                                0\n",
       "total_likes_on_outstation_checkin_given         0\n",
       "yearly_avg_Outstation_checkins                  0\n",
       "member_in_family                                0\n",
       "preferred_location_type                         0\n",
       "Yearly_avg_comment_on_travel_page               0\n",
       "total_likes_on_outofstation_checkin_received    0\n",
       "week_since_last_outstation_checkin              0\n",
       "following_company_page                          0\n",
       "montly_avg_comment_on_company_page              0\n",
       "working_flag                                    0\n",
       "travelling_network_rating                       0\n",
       "number_of_adults                                0\n",
       "Daily_Avg_mins_spend_on_traveling_page          0\n",
       "dtype: int64"
      ]
     },
     "execution_count": 40,
     "metadata": {},
     "output_type": "execute_result"
    }
   ],
   "source": [
    "social_media_data_null_drop.isnull().sum()"
   ]
  },
  {
   "cell_type": "markdown",
   "metadata": {},
   "source": [
    "### Outliers"
   ]
  },
  {
   "cell_type": "code",
   "execution_count": 41,
   "metadata": {},
   "outputs": [],
   "source": [
    "# construct box plot for continuous variables\n",
    "cont = social_media_data_null_drop.dtypes[(social_media_data_null_drop.dtypes != 'object')].index"
   ]
  },
  {
   "cell_type": "code",
   "execution_count": 42,
   "metadata": {},
   "outputs": [],
   "source": [
    "def outliers_continuous(column, nbins):\n",
    "    fig_dims = (20, 5) \n",
    "    fig, axs = plt.subplots(nrows=1, ncols=1, figsize=fig_dims)\n",
    "    sns.boxplot(x= column, data=social_media_data_null_drop)"
   ]
  },
  {
   "cell_type": "code",
   "execution_count": 43,
   "metadata": {},
   "outputs": [],
   "source": [
    "cont = cont.drop(cont[0]) # Drop the userId\n",
    "cont = cont.drop(cont[7]) # Drop the number of adults"
   ]
  },
  {
   "cell_type": "code",
   "execution_count": 44,
   "metadata": {},
   "outputs": [
    {
     "data": {
      "text/plain": [
       "Index(['Yearly_avg_view_on_travel_page',\n",
       "       'total_likes_on_outstation_checkin_given',\n",
       "       'Yearly_avg_comment_on_travel_page',\n",
       "       'total_likes_on_outofstation_checkin_received',\n",
       "       'week_since_last_outstation_checkin',\n",
       "       'montly_avg_comment_on_company_page', 'travelling_network_rating',\n",
       "       'Daily_Avg_mins_spend_on_traveling_page'],\n",
       "      dtype='object')"
      ]
     },
     "execution_count": 44,
     "metadata": {},
     "output_type": "execute_result"
    }
   ],
   "source": [
    "cont"
   ]
  },
  {
   "cell_type": "code",
   "execution_count": 45,
   "metadata": {},
   "outputs": [
    {
     "data": {
      "image/png": "[encoded data removed]",
      "text/plain": [
       "<Figure size 1440x360 with 1 Axes>"
      ]
     },
     "metadata": {
      "needs_background": "light"
     },
     "output_type": "display_data"
    },
    {
     "data": {
      "image/png": "[encoded data removed]",
      "text/plain": [
       "<Figure size 1440x360 with 1 Axes>"
      ]
     },
     "metadata": {
      "needs_background": "light"
     },
     "output_type": "display_data"
    },
    {
     "data": {
      "image/png": "[encoded data removed]",
      "text/plain": [
       "<Figure size 1440x360 with 1 Axes>"
      ]
     },
     "metadata": {
      "needs_background": "light"
     },
     "output_type": "display_data"
    },
    {
     "data": {
      "image/png": "[encoded data removed]",
      "text/plain": [
       "<Figure size 1440x360 with 1 Axes>"
      ]
     },
     "metadata": {
      "needs_background": "light"
     },
     "output_type": "display_data"
    },
    {
     "data": {
      "image/png": "[encoded data removed]",
      "text/plain": [
       "<Figure size 1440x360 with 1 Axes>"
      ]
     },
     "metadata": {
      "needs_background": "light"
     },
     "output_type": "display_data"
    },
    {
     "data": {
      "image/png": "[encoded data removed]",
      "text/plain": [
       "<Figure size 1440x360 with 1 Axes>"
      ]
     },
     "metadata": {
      "needs_background": "light"
     },
     "output_type": "display_data"
    },
    {
     "data": {
      "image/png": "[encoded data removed]",
      "text/plain": [
       "<Figure size 1440x360 with 1 Axes>"
      ]
     },
     "metadata": {
      "needs_background": "light"
     },
     "output_type": "display_data"
    },
    {
     "data": {
      "image/png": "[encoded data removed]",
      "text/plain": [
       "<Figure size 1440x360 with 1 Axes>"
      ]
     },
     "metadata": {
      "needs_background": "light"
     },
     "output_type": "display_data"
    }
   ],
   "source": [
    "%matplotlib inline\n",
    "\n",
    "for column in cont:\n",
    "    outliers_continuous(column, 20)"
   ]
  },
  {
   "cell_type": "code",
   "execution_count": 46,
   "metadata": {},
   "outputs": [],
   "source": [
    "def remove_outlier(col):\n",
    "    sorted(col)\n",
    "    Q1,Q3=np.percentile(col,[25,75])\n",
    "    IQR=Q3-Q1\n",
    "    lower_range= Q1-(1.5 * IQR)\n",
    "    upper_range= Q3+(1.5 * IQR)\n",
    "    return lower_range, upper_range"
   ]
  },
  {
   "cell_type": "code",
   "execution_count": 47,
   "metadata": {},
   "outputs": [],
   "source": [
    "for column in social_media_data_null_drop[cont].columns:\n",
    "    lr,ur=remove_outlier(social_media_data_null_drop[column])\n",
    "    social_media_data_null_drop[column]=np.where(social_media_data_null_drop[column]>ur,ur,social_media_data_null_drop[column])\n",
    "    social_media_data_null_drop[column]=np.where(social_media_data_null_drop[column]<lr,lr,social_media_data_null_drop[column])"
   ]
  },
  {
   "cell_type": "code",
   "execution_count": 48,
   "metadata": {},
   "outputs": [
    {
     "data": {
      "image/png": "[encoded data removed]",
      "text/plain": [
       "<Figure size 1440x360 with 1 Axes>"
      ]
     },
     "metadata": {
      "needs_background": "light"
     },
     "output_type": "display_data"
    },
    {
     "data": {
      "image/png": "[encoded data removed]",
      "text/plain": [
       "<Figure size 1440x360 with 1 Axes>"
      ]
     },
     "metadata": {
      "needs_background": "light"
     },
     "output_type": "display_data"
    },
    {
     "data": {
      "image/png": "[encoded data removed]",
      "text/plain": [
       "<Figure size 1440x360 with 1 Axes>"
      ]
     },
     "metadata": {
      "needs_background": "light"
     },
     "output_type": "display_data"
    },
    {
     "data": {
      "image/png": "[encoded data removed]",
      "text/plain": [
       "<Figure size 1440x360 with 1 Axes>"
      ]
     },
     "metadata": {
      "needs_background": "light"
     },
     "output_type": "display_data"
    },
    {
     "data": {
      "image/png": "[encoded data removed]",
      "text/plain": [
       "<Figure size 1440x360 with 1 Axes>"
      ]
     },
     "metadata": {
      "needs_background": "light"
     },
     "output_type": "display_data"
    },
    {
     "data": {
      "image/png": "[encoded data removed]",
      "text/plain": [
       "<Figure size 1440x360 with 1 Axes>"
      ]
     },
     "metadata": {
      "needs_background": "light"
     },
     "output_type": "display_data"
    },
    {
     "data": {
      "image/png": "[encoded data removed]",
      "text/plain": [
       "<Figure size 1440x360 with 1 Axes>"
      ]
     },
     "metadata": {
      "needs_background": "light"
     },
     "output_type": "display_data"
    },
    {
     "data": {
      "image/png": "[encoded data removed]",
      "text/plain": [
       "<Figure size 1440x360 with 1 Axes>"
      ]
     },
     "metadata": {
      "needs_background": "light"
     },
     "output_type": "display_data"
    }
   ],
   "source": [
    "for column in cont:\n",
    "    outliers_continuous(column, 20)"
   ]
  },
  {
   "cell_type": "code",
   "execution_count": 49,
   "metadata": {},
   "outputs": [
    {
     "name": "stdout",
     "output_type": "stream",
     "text": [
      "<class 'pandas.core.frame.DataFrame'>\n",
      "Int64Index: 10496 entries, 0 to 11759\n",
      "Data columns (total 17 columns):\n",
      " #   Column                                        Non-Null Count  Dtype  \n",
      "---  ------                                        --------------  -----  \n",
      " 0   UserID                                        10496 non-null  int64  \n",
      " 1   Buy_ticket                                    10496 non-null  object \n",
      " 2   Yearly_avg_view_on_travel_page                10496 non-null  float64\n",
      " 3   preferred_device                              10496 non-null  object \n",
      " 4   total_likes_on_outstation_checkin_given       10496 non-null  float64\n",
      " 5   yearly_avg_Outstation_checkins                10496 non-null  object \n",
      " 6   member_in_family                              10496 non-null  object \n",
      " 7   preferred_location_type                       10496 non-null  object \n",
      " 8   Yearly_avg_comment_on_travel_page             10496 non-null  float64\n",
      " 9   total_likes_on_outofstation_checkin_received  10496 non-null  float64\n",
      " 10  week_since_last_outstation_checkin            10496 non-null  float64\n",
      " 11  following_company_page                        10496 non-null  object \n",
      " 12  montly_avg_comment_on_company_page            10496 non-null  float64\n",
      " 13  working_flag                                  10496 non-null  object \n",
      " 14  travelling_network_rating                     10496 non-null  float64\n",
      " 15  number_of_adults                              10496 non-null  float64\n",
      " 16  Daily_Avg_mins_spend_on_traveling_page        10496 non-null  float64\n",
      "dtypes: float64(9), int64(1), object(7)\n",
      "memory usage: 1.4+ MB\n"
     ]
    }
   ],
   "source": [
    "social_media_data_null_drop.info()"
   ]
  },
  {
   "cell_type": "markdown",
   "metadata": {},
   "source": [
    "Here **yearly_avg_Outstation_checkins** and  **member_in_family** are clearly numeric, but it is being displayed as object.\n",
    "Converting them to numerical based on below observations."
   ]
  },
  {
   "cell_type": "code",
   "execution_count": 50,
   "metadata": {},
   "outputs": [
    {
     "data": {
      "text/plain": [
       "1     3794\n",
       "2      844\n",
       "10     617\n",
       "9      340\n",
       "7      336\n",
       "3      336\n",
       "8      320\n",
       "5      261\n",
       "4      256\n",
       "6      236\n",
       "16     231\n",
       "11     213\n",
       "24     201\n",
       "15     189\n",
       "23     189\n",
       "18     186\n",
       "29     184\n",
       "26     172\n",
       "20     172\n",
       "25     172\n",
       "28     160\n",
       "14     154\n",
       "19     150\n",
       "17     147\n",
       "12     143\n",
       "13     137\n",
       "22     133\n",
       "21     133\n",
       "27      89\n",
       "*        1\n",
       "Name: yearly_avg_Outstation_checkins, dtype: int64"
      ]
     },
     "execution_count": 50,
     "metadata": {},
     "output_type": "execute_result"
    }
   ],
   "source": [
    "social_media_data_null_drop['yearly_avg_Outstation_checkins'].value_counts()"
   ]
  },
  {
   "cell_type": "markdown",
   "metadata": {},
   "source": [
    "There is a row where the value is **'*'**. I will be dropping this row"
   ]
  },
  {
   "cell_type": "code",
   "execution_count": 51,
   "metadata": {},
   "outputs": [],
   "source": [
    "# get names of indexes for which\n",
    "# column yearly_avg_Outstation_checkins has value *\n",
    "\n",
    "index_names = social_media_data_null_drop[ social_media_data_null_drop['yearly_avg_Outstation_checkins'] == '*' ].index"
   ]
  },
  {
   "cell_type": "code",
   "execution_count": 52,
   "metadata": {},
   "outputs": [],
   "source": [
    "social_media_data_null_drop.drop(index_names, inplace = True)"
   ]
  },
  {
   "cell_type": "code",
   "execution_count": 53,
   "metadata": {},
   "outputs": [],
   "source": [
    "\n",
    "social_media_data_null_drop['yearly_avg_Outstation_checkins'] = social_media_data_null_drop['yearly_avg_Outstation_checkins'].astype(object).astype(int)"
   ]
  },
  {
   "cell_type": "code",
   "execution_count": 54,
   "metadata": {},
   "outputs": [],
   "source": [
    "social_media_data_null_drop['member_in_family'] = social_media_data_null_drop['member_in_family'].astype(object).astype(int)"
   ]
  },
  {
   "cell_type": "code",
   "execution_count": 55,
   "metadata": {},
   "outputs": [
    {
     "name": "stdout",
     "output_type": "stream",
     "text": [
      "<class 'pandas.core.frame.DataFrame'>\n",
      "Int64Index: 10495 entries, 0 to 11759\n",
      "Data columns (total 17 columns):\n",
      " #   Column                                        Non-Null Count  Dtype  \n",
      "---  ------                                        --------------  -----  \n",
      " 0   UserID                                        10495 non-null  int64  \n",
      " 1   Buy_ticket                                    10495 non-null  object \n",
      " 2   Yearly_avg_view_on_travel_page                10495 non-null  float64\n",
      " 3   preferred_device                              10495 non-null  object \n",
      " 4   total_likes_on_outstation_checkin_given       10495 non-null  float64\n",
      " 5   yearly_avg_Outstation_checkins                10495 non-null  int32  \n",
      " 6   member_in_family                              10495 non-null  int32  \n",
      " 7   preferred_location_type                       10495 non-null  object \n",
      " 8   Yearly_avg_comment_on_travel_page             10495 non-null  float64\n",
      " 9   total_likes_on_outofstation_checkin_received  10495 non-null  float64\n",
      " 10  week_since_last_outstation_checkin            10495 non-null  float64\n",
      " 11  following_company_page                        10495 non-null  object \n",
      " 12  montly_avg_comment_on_company_page            10495 non-null  float64\n",
      " 13  working_flag                                  10495 non-null  object \n",
      " 14  travelling_network_rating                     10495 non-null  float64\n",
      " 15  number_of_adults                              10495 non-null  float64\n",
      " 16  Daily_Avg_mins_spend_on_traveling_page        10495 non-null  float64\n",
      "dtypes: float64(9), int32(2), int64(1), object(5)\n",
      "memory usage: 1.4+ MB\n"
     ]
    }
   ],
   "source": [
    "social_media_data_null_drop.info()"
   ]
  },
  {
   "cell_type": "code",
   "execution_count": 56,
   "metadata": {},
   "outputs": [
    {
     "data": {
      "application/vnd.jupyter.widget-view+json": {
       "model_id": "185d03476b5948939dbeb161eb1ffcb6",
       "version_major": 2,
       "version_minor": 0
      },
      "text/plain": [
       "Summarize dataset:   0%|          | 0/5 [00:00<?, ?it/s]"
      ]
     },
     "metadata": {},
     "output_type": "display_data"
    },
    {
     "data": {
      "application/vnd.jupyter.widget-view+json": {
       "model_id": "8808da5df32a443c844ab427558b3068",
       "version_major": 2,
       "version_minor": 0
      },
      "text/plain": [
       "Generate report structure:   0%|          | 0/1 [00:00<?, ?it/s]"
      ]
     },
     "metadata": {},
     "output_type": "display_data"
    },
    {
     "data": {
      "application/vnd.jupyter.widget-view+json": {
       "model_id": "741567aaf0c245058be5d8d8f021eb89",
       "version_major": 2,
       "version_minor": 0
      },
      "text/plain": [
       "Render HTML:   0%|          | 0/1 [00:00<?, ?it/s]"
      ]
     },
     "metadata": {},
     "output_type": "display_data"
    },
    {
     "data": {
      "application/vnd.jupyter.widget-view+json": {
       "model_id": "42f849ec0de2476a91bc7bbb899670cc",
       "version_major": 2,
       "version_minor": 0
      },
      "text/plain": [
       "Export report to file:   0%|          | 0/1 [00:00<?, ?it/s]"
      ]
     },
     "metadata": {},
     "output_type": "display_data"
    }
   ],
   "source": [
    "# Since the HTML report is already generated, Commenting out the below code to save execution time.\n",
    "eda_profile_social_media_data_post_cleaning = pdp.ProfileReport(social_media_data_null_drop)\n",
    "eda_profile_social_media_data_post_cleaning.to_file(\"eda_profile_social_media_data_post_cleaning.html\")"
   ]
  },
  {
   "cell_type": "code",
   "execution_count": 57,
   "metadata": {},
   "outputs": [
    {
     "data": {
      "text/plain": [
       "0.0    4496\n",
       "1.0    4265\n",
       "2.0    1115\n",
       "3.0     619\n",
       "Name: number_of_adults, dtype: int64"
      ]
     },
     "execution_count": 57,
     "metadata": {},
     "output_type": "execute_result"
    }
   ],
   "source": [
    "social_media_data_null_drop['number_of_adults'].value_counts()"
   ]
  },
  {
   "cell_type": "code",
   "execution_count": 58,
   "metadata": {},
   "outputs": [
    {
     "data": {
      "image/png": "[encoded data removed]",
      "text/plain": [
       "<Figure size 1152x720 with 2 Axes>"
      ]
     },
     "metadata": {
      "needs_background": "light"
     },
     "output_type": "display_data"
    }
   ],
   "source": [
    "plt.figure(figsize=(16,10))\n",
    "sns.heatmap(social_media_data_null_drop.corr(), annot=True, fmt='.2f', cmap='Blues')\n",
    "plt.show()"
   ]
  },
  {
   "cell_type": "code",
   "execution_count": 59,
   "metadata": {},
   "outputs": [],
   "source": [
    "social_media_data_null_drop.to_csv('social_media_data_eda.csv')"
   ]
  },
  {
   "cell_type": "markdown",
   "metadata": {},
   "source": [
    "\n",
    "**----------------------------------------------------------------------------------------------------------------------------------------------------------------------------------------------------------------**"
   ]
  },
  {
   "cell_type": "markdown",
   "metadata": {},
   "source": [
    "# Project Notes - 2"
   ]
  },
  {
   "cell_type": "code",
   "execution_count": 67,
   "metadata": {},
   "outputs": [],
   "source": [
    "dataset_url = 'social_media_data_eda.csv'\n",
    "\n",
    "social_media_data = pd.read_csv(dataset_url)"
   ]
  },
  {
   "cell_type": "code",
   "execution_count": 68,
   "metadata": {},
   "outputs": [
    {
     "data": {
      "text/html": [
       "<div>\n",
       "<style scoped>\n",
       "    .dataframe tbody tr th:only-of-type {\n",
       "        vertical-align: middle;\n",
       "    }\n",
       "\n",
       "    .dataframe tbody tr th {\n",
       "        vertical-align: top;\n",
       "    }\n",
       "\n",
       "    .dataframe thead th {\n",
       "        text-align: right;\n",
       "    }\n",
       "</style>\n",
       "<table border=\"1\" class=\"dataframe\">\n",
       "  <thead>\n",
       "    <tr style=\"text-align: right;\">\n",
       "      <th></th>\n",
       "      <th>Unnamed: 0</th>\n",
       "      <th>UserID</th>\n",
       "      <th>Buy_ticket</th>\n",
       "      <th>Yearly_avg_view_on_travel_page</th>\n",
       "      <th>preferred_device</th>\n",
       "      <th>total_likes_on_outstation_checkin_given</th>\n",
       "      <th>yearly_avg_Outstation_checkins</th>\n",
       "      <th>member_in_family</th>\n",
       "      <th>preferred_location_type</th>\n",
       "      <th>Yearly_avg_comment_on_travel_page</th>\n",
       "      <th>total_likes_on_outofstation_checkin_received</th>\n",
       "      <th>week_since_last_outstation_checkin</th>\n",
       "      <th>following_company_page</th>\n",
       "      <th>montly_avg_comment_on_company_page</th>\n",
       "      <th>working_flag</th>\n",
       "      <th>travelling_network_rating</th>\n",
       "      <th>number_of_adults</th>\n",
       "      <th>Daily_Avg_mins_spend_on_traveling_page</th>\n",
       "    </tr>\n",
       "  </thead>\n",
       "  <tbody>\n",
       "    <tr>\n",
       "      <th>0</th>\n",
       "      <td>0</td>\n",
       "      <td>1000001</td>\n",
       "      <td>Yes</td>\n",
       "      <td>307.0</td>\n",
       "      <td>Mobile</td>\n",
       "      <td>38570.0</td>\n",
       "      <td>1</td>\n",
       "      <td>2</td>\n",
       "      <td>Financial</td>\n",
       "      <td>94.0</td>\n",
       "      <td>5993.0</td>\n",
       "      <td>8.0</td>\n",
       "      <td>Yes</td>\n",
       "      <td>11.0</td>\n",
       "      <td>No</td>\n",
       "      <td>1.0</td>\n",
       "      <td>0.0</td>\n",
       "      <td>8.0</td>\n",
       "    </tr>\n",
       "    <tr>\n",
       "      <th>1</th>\n",
       "      <td>1</td>\n",
       "      <td>1000002</td>\n",
       "      <td>No</td>\n",
       "      <td>367.0</td>\n",
       "      <td>Mobile</td>\n",
       "      <td>9765.0</td>\n",
       "      <td>1</td>\n",
       "      <td>1</td>\n",
       "      <td>Financial</td>\n",
       "      <td>61.0</td>\n",
       "      <td>5130.0</td>\n",
       "      <td>1.0</td>\n",
       "      <td>No</td>\n",
       "      <td>23.0</td>\n",
       "      <td>Yes</td>\n",
       "      <td>4.0</td>\n",
       "      <td>1.0</td>\n",
       "      <td>10.0</td>\n",
       "    </tr>\n",
       "    <tr>\n",
       "      <th>2</th>\n",
       "      <td>2</td>\n",
       "      <td>1000003</td>\n",
       "      <td>Yes</td>\n",
       "      <td>277.0</td>\n",
       "      <td>Mobile</td>\n",
       "      <td>48055.0</td>\n",
       "      <td>1</td>\n",
       "      <td>2</td>\n",
       "      <td>Other</td>\n",
       "      <td>92.0</td>\n",
       "      <td>2090.0</td>\n",
       "      <td>6.0</td>\n",
       "      <td>Yes</td>\n",
       "      <td>15.0</td>\n",
       "      <td>No</td>\n",
       "      <td>2.0</td>\n",
       "      <td>0.0</td>\n",
       "      <td>7.0</td>\n",
       "    </tr>\n",
       "    <tr>\n",
       "      <th>3</th>\n",
       "      <td>3</td>\n",
       "      <td>1000004</td>\n",
       "      <td>No</td>\n",
       "      <td>247.0</td>\n",
       "      <td>Mobile</td>\n",
       "      <td>48720.0</td>\n",
       "      <td>1</td>\n",
       "      <td>4</td>\n",
       "      <td>Financial</td>\n",
       "      <td>56.0</td>\n",
       "      <td>2909.0</td>\n",
       "      <td>1.0</td>\n",
       "      <td>Yes</td>\n",
       "      <td>11.0</td>\n",
       "      <td>No</td>\n",
       "      <td>3.0</td>\n",
       "      <td>0.0</td>\n",
       "      <td>8.0</td>\n",
       "    </tr>\n",
       "    <tr>\n",
       "      <th>4</th>\n",
       "      <td>4</td>\n",
       "      <td>1000005</td>\n",
       "      <td>No</td>\n",
       "      <td>202.0</td>\n",
       "      <td>Mobile</td>\n",
       "      <td>20685.0</td>\n",
       "      <td>1</td>\n",
       "      <td>1</td>\n",
       "      <td>Medical</td>\n",
       "      <td>40.0</td>\n",
       "      <td>3468.0</td>\n",
       "      <td>9.0</td>\n",
       "      <td>No</td>\n",
       "      <td>12.0</td>\n",
       "      <td>No</td>\n",
       "      <td>4.0</td>\n",
       "      <td>1.0</td>\n",
       "      <td>6.0</td>\n",
       "    </tr>\n",
       "  </tbody>\n",
       "</table>\n",
       "</div>"
      ],
      "text/plain": [
       "   Unnamed: 0   UserID Buy_ticket  Yearly_avg_view_on_travel_page  \\\n",
       "0           0  1000001        Yes                           307.0   \n",
       "1           1  1000002         No                           367.0   \n",
       "2           2  1000003        Yes                           277.0   \n",
       "3           3  1000004         No                           247.0   \n",
       "4           4  1000005         No                           202.0   \n",
       "\n",
       "  preferred_device  total_likes_on_outstation_checkin_given  \\\n",
       "0           Mobile                                  38570.0   \n",
       "1           Mobile                                   9765.0   \n",
       "2           Mobile                                  48055.0   \n",
       "3           Mobile                                  48720.0   \n",
       "4           Mobile                                  20685.0   \n",
       "\n",
       "   yearly_avg_Outstation_checkins  member_in_family preferred_location_type  \\\n",
       "0                               1                 2               Financial   \n",
       "1                               1                 1               Financial   \n",
       "2                               1                 2                   Other   \n",
       "3                               1                 4               Financial   \n",
       "4                               1                 1                 Medical   \n",
       "\n",
       "   Yearly_avg_comment_on_travel_page  \\\n",
       "0                               94.0   \n",
       "1                               61.0   \n",
       "2                               92.0   \n",
       "3                               56.0   \n",
       "4                               40.0   \n",
       "\n",
       "   total_likes_on_outofstation_checkin_received  \\\n",
       "0                                        5993.0   \n",
       "1                                        5130.0   \n",
       "2                                        2090.0   \n",
       "3                                        2909.0   \n",
       "4                                        3468.0   \n",
       "\n",
       "   week_since_last_outstation_checkin following_company_page  \\\n",
       "0                                 8.0                    Yes   \n",
       "1                                 1.0                     No   \n",
       "2                                 6.0                    Yes   \n",
       "3                                 1.0                    Yes   \n",
       "4                                 9.0                     No   \n",
       "\n",
       "   montly_avg_comment_on_company_page working_flag  travelling_network_rating  \\\n",
       "0                                11.0           No                        1.0   \n",
       "1                                23.0          Yes                        4.0   \n",
       "2                                15.0           No                        2.0   \n",
       "3                                11.0           No                        3.0   \n",
       "4                                12.0           No                        4.0   \n",
       "\n",
       "   number_of_adults  Daily_Avg_mins_spend_on_traveling_page  \n",
       "0               0.0                                     8.0  \n",
       "1               1.0                                    10.0  \n",
       "2               0.0                                     7.0  \n",
       "3               0.0                                     8.0  \n",
       "4               1.0                                     6.0  "
      ]
     },
     "execution_count": 68,
     "metadata": {},
     "output_type": "execute_result"
    }
   ],
   "source": [
    "social_media_data.head()"
   ]
  },
  {
   "cell_type": "code",
   "execution_count": 69,
   "metadata": {},
   "outputs": [],
   "source": [
    "# Drop Unnamed: 0 column\n",
    "social_media_data.drop(['Unnamed: 0'], axis = 1, inplace=True)"
   ]
  },
  {
   "cell_type": "code",
   "execution_count": 70,
   "metadata": {},
   "outputs": [
    {
     "data": {
      "text/html": [
       "<div>\n",
       "<style scoped>\n",
       "    .dataframe tbody tr th:only-of-type {\n",
       "        vertical-align: middle;\n",
       "    }\n",
       "\n",
       "    .dataframe tbody tr th {\n",
       "        vertical-align: top;\n",
       "    }\n",
       "\n",
       "    .dataframe thead th {\n",
       "        text-align: right;\n",
       "    }\n",
       "</style>\n",
       "<table border=\"1\" class=\"dataframe\">\n",
       "  <thead>\n",
       "    <tr style=\"text-align: right;\">\n",
       "      <th></th>\n",
       "      <th>UserID</th>\n",
       "      <th>Buy_ticket</th>\n",
       "      <th>Yearly_avg_view_on_travel_page</th>\n",
       "      <th>preferred_device</th>\n",
       "      <th>total_likes_on_outstation_checkin_given</th>\n",
       "      <th>yearly_avg_Outstation_checkins</th>\n",
       "      <th>member_in_family</th>\n",
       "      <th>preferred_location_type</th>\n",
       "      <th>Yearly_avg_comment_on_travel_page</th>\n",
       "      <th>total_likes_on_outofstation_checkin_received</th>\n",
       "      <th>week_since_last_outstation_checkin</th>\n",
       "      <th>following_company_page</th>\n",
       "      <th>montly_avg_comment_on_company_page</th>\n",
       "      <th>working_flag</th>\n",
       "      <th>travelling_network_rating</th>\n",
       "      <th>number_of_adults</th>\n",
       "      <th>Daily_Avg_mins_spend_on_traveling_page</th>\n",
       "    </tr>\n",
       "  </thead>\n",
       "  <tbody>\n",
       "    <tr>\n",
       "      <th>0</th>\n",
       "      <td>1000001</td>\n",
       "      <td>Yes</td>\n",
       "      <td>307.0</td>\n",
       "      <td>Mobile</td>\n",
       "      <td>38570.0</td>\n",
       "      <td>1</td>\n",
       "      <td>2</td>\n",
       "      <td>Financial</td>\n",
       "      <td>94.0</td>\n",
       "      <td>5993.0</td>\n",
       "      <td>8.0</td>\n",
       "      <td>Yes</td>\n",
       "      <td>11.0</td>\n",
       "      <td>No</td>\n",
       "      <td>1.0</td>\n",
       "      <td>0.0</td>\n",
       "      <td>8.0</td>\n",
       "    </tr>\n",
       "    <tr>\n",
       "      <th>1</th>\n",
       "      <td>1000002</td>\n",
       "      <td>No</td>\n",
       "      <td>367.0</td>\n",
       "      <td>Mobile</td>\n",
       "      <td>9765.0</td>\n",
       "      <td>1</td>\n",
       "      <td>1</td>\n",
       "      <td>Financial</td>\n",
       "      <td>61.0</td>\n",
       "      <td>5130.0</td>\n",
       "      <td>1.0</td>\n",
       "      <td>No</td>\n",
       "      <td>23.0</td>\n",
       "      <td>Yes</td>\n",
       "      <td>4.0</td>\n",
       "      <td>1.0</td>\n",
       "      <td>10.0</td>\n",
       "    </tr>\n",
       "    <tr>\n",
       "      <th>2</th>\n",
       "      <td>1000003</td>\n",
       "      <td>Yes</td>\n",
       "      <td>277.0</td>\n",
       "      <td>Mobile</td>\n",
       "      <td>48055.0</td>\n",
       "      <td>1</td>\n",
       "      <td>2</td>\n",
       "      <td>Other</td>\n",
       "      <td>92.0</td>\n",
       "      <td>2090.0</td>\n",
       "      <td>6.0</td>\n",
       "      <td>Yes</td>\n",
       "      <td>15.0</td>\n",
       "      <td>No</td>\n",
       "      <td>2.0</td>\n",
       "      <td>0.0</td>\n",
       "      <td>7.0</td>\n",
       "    </tr>\n",
       "    <tr>\n",
       "      <th>3</th>\n",
       "      <td>1000004</td>\n",
       "      <td>No</td>\n",
       "      <td>247.0</td>\n",
       "      <td>Mobile</td>\n",
       "      <td>48720.0</td>\n",
       "      <td>1</td>\n",
       "      <td>4</td>\n",
       "      <td>Financial</td>\n",
       "      <td>56.0</td>\n",
       "      <td>2909.0</td>\n",
       "      <td>1.0</td>\n",
       "      <td>Yes</td>\n",
       "      <td>11.0</td>\n",
       "      <td>No</td>\n",
       "      <td>3.0</td>\n",
       "      <td>0.0</td>\n",
       "      <td>8.0</td>\n",
       "    </tr>\n",
       "    <tr>\n",
       "      <th>4</th>\n",
       "      <td>1000005</td>\n",
       "      <td>No</td>\n",
       "      <td>202.0</td>\n",
       "      <td>Mobile</td>\n",
       "      <td>20685.0</td>\n",
       "      <td>1</td>\n",
       "      <td>1</td>\n",
       "      <td>Medical</td>\n",
       "      <td>40.0</td>\n",
       "      <td>3468.0</td>\n",
       "      <td>9.0</td>\n",
       "      <td>No</td>\n",
       "      <td>12.0</td>\n",
       "      <td>No</td>\n",
       "      <td>4.0</td>\n",
       "      <td>1.0</td>\n",
       "      <td>6.0</td>\n",
       "    </tr>\n",
       "  </tbody>\n",
       "</table>\n",
       "</div>"
      ],
      "text/plain": [
       "    UserID Buy_ticket  Yearly_avg_view_on_travel_page preferred_device  \\\n",
       "0  1000001        Yes                           307.0           Mobile   \n",
       "1  1000002         No                           367.0           Mobile   \n",
       "2  1000003        Yes                           277.0           Mobile   \n",
       "3  1000004         No                           247.0           Mobile   \n",
       "4  1000005         No                           202.0           Mobile   \n",
       "\n",
       "   total_likes_on_outstation_checkin_given  yearly_avg_Outstation_checkins  \\\n",
       "0                                  38570.0                               1   \n",
       "1                                   9765.0                               1   \n",
       "2                                  48055.0                               1   \n",
       "3                                  48720.0                               1   \n",
       "4                                  20685.0                               1   \n",
       "\n",
       "   member_in_family preferred_location_type  \\\n",
       "0                 2               Financial   \n",
       "1                 1               Financial   \n",
       "2                 2                   Other   \n",
       "3                 4               Financial   \n",
       "4                 1                 Medical   \n",
       "\n",
       "   Yearly_avg_comment_on_travel_page  \\\n",
       "0                               94.0   \n",
       "1                               61.0   \n",
       "2                               92.0   \n",
       "3                               56.0   \n",
       "4                               40.0   \n",
       "\n",
       "   total_likes_on_outofstation_checkin_received  \\\n",
       "0                                        5993.0   \n",
       "1                                        5130.0   \n",
       "2                                        2090.0   \n",
       "3                                        2909.0   \n",
       "4                                        3468.0   \n",
       "\n",
       "   week_since_last_outstation_checkin following_company_page  \\\n",
       "0                                 8.0                    Yes   \n",
       "1                                 1.0                     No   \n",
       "2                                 6.0                    Yes   \n",
       "3                                 1.0                    Yes   \n",
       "4                                 9.0                     No   \n",
       "\n",
       "   montly_avg_comment_on_company_page working_flag  travelling_network_rating  \\\n",
       "0                                11.0           No                        1.0   \n",
       "1                                23.0          Yes                        4.0   \n",
       "2                                15.0           No                        2.0   \n",
       "3                                11.0           No                        3.0   \n",
       "4                                12.0           No                        4.0   \n",
       "\n",
       "   number_of_adults  Daily_Avg_mins_spend_on_traveling_page  \n",
       "0               0.0                                     8.0  \n",
       "1               1.0                                    10.0  \n",
       "2               0.0                                     7.0  \n",
       "3               0.0                                     8.0  \n",
       "4               1.0                                     6.0  "
      ]
     },
     "execution_count": 70,
     "metadata": {},
     "output_type": "execute_result"
    }
   ],
   "source": [
    "social_media_data.head()"
   ]
  },
  {
   "cell_type": "code",
   "execution_count": null,
   "metadata": {},
   "outputs": [],
   "source": []
  }
 ],
 "metadata": {
  "colab": {
   "authorship_tag": "ABX9TyP0r6bYSvZ/AGlQ3ZWnLnuJ",
   "collapsed_sections": [],
   "include_colab_link": true,
   "name": "Social_Media_Tourism.ipynb",
   "provenance": []
  },
  "kernelspec": {
   "display_name": "Python 3",
   "language": "python",
   "name": "python3"
  },
  "language_info": {
   "codemirror_mode": {
    "name": "ipython",
    "version": 3
   },
   "file_extension": ".py",
   "mimetype": "text/x-python",
   "name": "python",
   "nbconvert_exporter": "python",
   "pygments_lexer": "ipython3",
   "version": "3.8.8"
  }
 },
 "nbformat": 4,
 "nbformat_minor": 1
}
