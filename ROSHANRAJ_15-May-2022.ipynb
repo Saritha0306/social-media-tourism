{
 "cells": [
  {
   "cell_type": "markdown",
   "metadata": {},
   "source": [
    "### Problem Statement\n",
    "An aviation company that provides domestic as well as international trips to the customers now wants to apply atargeted approach instead of reaching out to each of the customers. This time they want to do it digitally instead of tele calling. Hence they have collaborated with a social networking platform, so they can learn the digital and social behaviour of the customers and provide the digital advertisement on the userpage of the targeted customerswho have a high propensity to take up the product."
   ]
  },
  {
   "cell_type": "code",
   "execution_count": 1,
   "metadata": {
    "id": "N9zlplasXKb3"
   },
   "outputs": [],
   "source": [
    "import numpy as np\n",
    "import pandas as pd\n",
    "\n",
    "import matplotlib.pyplot as plt\n",
    "\n",
    "import seaborn as sns # for making plots with seaborn\n",
    "color = sns.color_palette()\n",
    "\n",
    "import sklearn.metrics as metrics\n",
    "from sklearn import model_selection\n",
    "\n",
    "from pylab import rcParams\n",
    "\n",
    "import warnings\n",
    "warnings.filterwarnings(\"ignore\")"
   ]
  },
  {
   "cell_type": "markdown",
   "metadata": {},
   "source": [
    "# Project Notes - 1"
   ]
  },
  {
   "cell_type": "markdown",
   "metadata": {
    "id": "mymc8KkiyN1-"
   },
   "source": [
    "### **Read the Dataset**"
   ]
  },
  {
   "cell_type": "code",
   "execution_count": null,
   "metadata": {
    "id": "vD0X64GkYi-4"
   },
   "outputs": [],
   "source": [
    "dataset_url = 'Social Media Data for DSBA.csv'\n",
    "\n",
    "social_media_data = pd.read_csv(dataset_url)"
   ]
  },
  {
   "cell_type": "code",
   "execution_count": null,
   "metadata": {
    "colab": {
     "base_uri": "https://localhost:8080/",
     "height": 270
    },
    "id": "cg7MJI5_sWYZ",
    "outputId": "f41669b8-1e4a-4507-88a2-07ef1fbf4950"
   },
   "outputs": [],
   "source": [
    "social_media_data.head()"
   ]
  },
  {
   "cell_type": "code",
   "execution_count": null,
   "metadata": {
    "colab": {
     "base_uri": "https://localhost:8080/",
     "height": 270
    },
    "id": "GmFmv9XAZBPS",
    "outputId": "f3e4046c-c14b-48b8-dc05-b6a2318f82dc"
   },
   "outputs": [],
   "source": [
    "social_media_data.tail()"
   ]
  },
  {
   "cell_type": "markdown",
   "metadata": {},
   "source": [
    "### Rename the column names as per the data dictionary for ease of understanding"
   ]
  },
  {
   "cell_type": "code",
   "execution_count": null,
   "metadata": {},
   "outputs": [],
   "source": [
    "social_media_data.rename(columns = {'Taken_product':'Buy_ticket'}, inplace = True)"
   ]
  },
  {
   "cell_type": "markdown",
   "metadata": {},
   "source": [
    "## **2. Data Report**"
   ]
  },
  {
   "cell_type": "markdown",
   "metadata": {
    "id": "ZAAaCSJdxi0y"
   },
   "source": [
    "### **Check the number of rows (observations) and the number of columns (variables)**"
   ]
  },
  {
   "cell_type": "code",
   "execution_count": null,
   "metadata": {
    "colab": {
     "base_uri": "https://localhost:8080/"
    },
    "id": "dZQ3cnSzZtqm",
    "outputId": "579afe64-4a25-4af4-aabc-68f0595f320e"
   },
   "outputs": [],
   "source": [
    "print('The number of rows (observations) is',social_media_data.shape[0],'\\n''The number of columns (variables) is',social_media_data.shape[1])"
   ]
  },
  {
   "cell_type": "markdown",
   "metadata": {},
   "source": [
    "### **Check the Data Type of the Variables**"
   ]
  },
  {
   "cell_type": "code",
   "execution_count": null,
   "metadata": {},
   "outputs": [],
   "source": [
    "social_media_data.info()"
   ]
  },
  {
   "cell_type": "markdown",
   "metadata": {},
   "source": [
    "### **Check the basic measures of descriptive statistics for the continuous variables**"
   ]
  },
  {
   "cell_type": "code",
   "execution_count": null,
   "metadata": {},
   "outputs": [],
   "source": [
    "social_media_data.describe().T"
   ]
  },
  {
   "cell_type": "markdown",
   "metadata": {},
   "source": [
    "## **3. Exploratory Data Analysis**"
   ]
  },
  {
   "cell_type": "markdown",
   "metadata": {},
   "source": [
    "### **Check for different types of data in the columns**\n",
    "\n",
    "**Removal of unwanted variables (If needed)**"
   ]
  },
  {
   "cell_type": "code",
   "execution_count": null,
   "metadata": {},
   "outputs": [],
   "source": [
    "social_media_data['Buy_ticket'].value_counts()"
   ]
  },
  {
   "cell_type": "code",
   "execution_count": null,
   "metadata": {},
   "outputs": [],
   "source": [
    "social_media_data['preferred_device'].value_counts()"
   ]
  },
  {
   "cell_type": "markdown",
   "metadata": {},
   "source": [
    "Here, all the records except for `Laptop` will be grouped together under `Mobile`."
   ]
  },
  {
   "cell_type": "code",
   "execution_count": null,
   "metadata": {},
   "outputs": [],
   "source": [
    "social_media_data['preferred_device'].mask(social_media_data['preferred_device'] != \"Laptop\", \"Mobile\", inplace=True)"
   ]
  },
  {
   "cell_type": "code",
   "execution_count": null,
   "metadata": {},
   "outputs": [],
   "source": [
    "social_media_data['preferred_device'].value_counts()"
   ]
  },
  {
   "cell_type": "code",
   "execution_count": null,
   "metadata": {},
   "outputs": [],
   "source": [
    "social_media_data['preferred_location_type'].value_counts()"
   ]
  },
  {
   "cell_type": "code",
   "execution_count": null,
   "metadata": {},
   "outputs": [],
   "source": [
    "# Grouping Variables like `Game`, `OTT`, `Social media` and `Movile` under `Entertainment` makes sense here.\n",
    "\n",
    "social_media_data['preferred_location_type'].mask(social_media_data['preferred_location_type'] == \"Game\", \"Entertainment\", inplace=True)\n",
    "\n",
    "social_media_data['preferred_location_type'].mask(social_media_data['preferred_location_type'] == \"Movie\", \"Entertainment\", inplace=True)\n",
    "\n",
    "social_media_data['preferred_location_type'].mask(social_media_data['preferred_location_type'] == \"OTT\", \"Entertainment\", inplace=True)\n",
    "\n",
    "social_media_data['preferred_location_type'].mask(social_media_data['preferred_location_type'] == \"Social media\", \"Entertainment\", inplace=True)"
   ]
  },
  {
   "cell_type": "code",
   "execution_count": null,
   "metadata": {},
   "outputs": [],
   "source": [
    "# Grouping variables like `Tour  Travel` and `Tour and Travel` under `Others` makes sense here. \n",
    "# As tour and travel does not generally point towards anything particular.\n",
    "\n",
    "social_media_data['preferred_location_type'].mask(social_media_data['preferred_location_type'] == \"Tour  Travel\", \"Other\", inplace=True)\n",
    "\n",
    "social_media_data['preferred_location_type'].mask(social_media_data['preferred_location_type'] == \"Tour and Travel\", \"Other\", inplace=True)"
   ]
  },
  {
   "cell_type": "code",
   "execution_count": null,
   "metadata": {},
   "outputs": [],
   "source": [
    "# Variables like `Trekking` and `Hill Stations` are not similar to some extent.\n",
    "# As, `Hill Stations` make up only 108 records, I will be putting it under `Trekking` to avoid any hassle.\n",
    "\n",
    "social_media_data['preferred_location_type'].mask(social_media_data['preferred_location_type'] == \"Hill Stations\", \"Trekking\", inplace=True)"
   ]
  },
  {
   "cell_type": "code",
   "execution_count": null,
   "metadata": {},
   "outputs": [],
   "source": [
    "# lastly, `Big Cities` can be anywhere and can be also easily belong to category like `Medical`, `Financial` or even `Entertainment`\n",
    "# to avoid this, I will group it under `Other`\n",
    "\n",
    "social_media_data['preferred_location_type'].mask(social_media_data['preferred_location_type'] == \"Big Cities\", \"Other\", inplace=True)"
   ]
  },
  {
   "cell_type": "code",
   "execution_count": null,
   "metadata": {},
   "outputs": [],
   "source": [
    "social_media_data['preferred_location_type'].value_counts()"
   ]
  },
  {
   "cell_type": "code",
   "execution_count": null,
   "metadata": {},
   "outputs": [],
   "source": [
    "social_media_data['Adult_flag'].value_counts()"
   ]
  },
  {
   "cell_type": "markdown",
   "metadata": {},
   "source": [
    "The name of the variable `Adult_flag` leads to some misconception, as it clearly depicts the number of adults,\n",
    "I will be renaming the column name to `number_of_adults`."
   ]
  },
  {
   "cell_type": "code",
   "execution_count": null,
   "metadata": {},
   "outputs": [],
   "source": [
    "social_media_data.rename(columns = {'Adult_flag':'number_of_adults'}, inplace = True)"
   ]
  },
  {
   "cell_type": "code",
   "execution_count": null,
   "metadata": {},
   "outputs": [],
   "source": [
    "social_media_data['number_of_adults'].value_counts()"
   ]
  },
  {
   "cell_type": "code",
   "execution_count": null,
   "metadata": {},
   "outputs": [],
   "source": [
    "social_media_data['following_company_page'].value_counts()"
   ]
  },
  {
   "cell_type": "markdown",
   "metadata": {},
   "source": [
    "`following_company_page` has different values for Boolean, No, Yes, 1 and 0.\n",
    "\n",
    "For the dataset, I will assume 1 as `Yes` and 0 as `No`"
   ]
  },
  {
   "cell_type": "code",
   "execution_count": null,
   "metadata": {},
   "outputs": [],
   "source": [
    "social_media_data['following_company_page'].mask(social_media_data['following_company_page'] == \"1\", \"Yes\", inplace=True)"
   ]
  },
  {
   "cell_type": "code",
   "execution_count": null,
   "metadata": {},
   "outputs": [],
   "source": [
    "social_media_data['following_company_page'].mask(social_media_data['following_company_page'] == \"0\", \"No\", inplace=True)"
   ]
  },
  {
   "cell_type": "code",
   "execution_count": null,
   "metadata": {},
   "outputs": [],
   "source": [
    "social_media_data['following_company_page'].value_counts()"
   ]
  },
  {
   "cell_type": "code",
   "execution_count": null,
   "metadata": {},
   "outputs": [],
   "source": [
    "social_media_data['working_flag'].value_counts()"
   ]
  },
  {
   "cell_type": "code",
   "execution_count": null,
   "metadata": {},
   "outputs": [],
   "source": [
    "# member_in_family contains few rows where '3' is represented as 'Three'.\n",
    "# Replacing them.\n",
    "\n",
    "social_media_data['member_in_family'].mask(social_media_data['member_in_family'] == \"Three\", \"3\", inplace=True)"
   ]
  },
  {
   "cell_type": "code",
   "execution_count": null,
   "metadata": {},
   "outputs": [],
   "source": []
  },
  {
   "cell_type": "markdown",
   "metadata": {},
   "source": [
    "### **Check the Data Type of the Variables**"
   ]
  },
  {
   "cell_type": "code",
   "execution_count": null,
   "metadata": {},
   "outputs": [],
   "source": [
    "social_media_data.info()"
   ]
  },
  {
   "cell_type": "markdown",
   "metadata": {},
   "source": [
    "### **Check the basic measures of descriptive statistics for the continuous variables**"
   ]
  },
  {
   "cell_type": "code",
   "execution_count": null,
   "metadata": {},
   "outputs": [],
   "source": [
    "social_media_data.describe().T"
   ]
  },
  {
   "cell_type": "code",
   "execution_count": null,
   "metadata": {},
   "outputs": [],
   "source": [
    "import pandas_profiling as pdp"
   ]
  },
  {
   "cell_type": "code",
   "execution_count": null,
   "metadata": {},
   "outputs": [],
   "source": [
    "eda_profile_social_media_data = pdp.ProfileReport(social_media_data)"
   ]
  },
  {
   "cell_type": "code",
   "execution_count": null,
   "metadata": {},
   "outputs": [],
   "source": [
    "# Since the HTML report is already generated, Commenting out the below code to save execution time.\n",
    "\n",
    "# eda_profile_social_media_data.to_file(\"eda_profile_social_media_data.html\")"
   ]
  },
  {
   "cell_type": "code",
   "execution_count": null,
   "metadata": {},
   "outputs": [],
   "source": []
  },
  {
   "cell_type": "markdown",
   "metadata": {},
   "source": [
    "#### Missing Value treatment"
   ]
  },
  {
   "cell_type": "markdown",
   "metadata": {},
   "source": [
    "From the EDA report generated, it can be noted that\n",
    "\n",
    "* `Yearly_avg_view_on_travel_page` has **581 (4.9%)** missing values\n",
    "* `total_likes_on_outstation_checkin_given` has **381 (3.2%)** missing values\n",
    "* `Yearly_avg_comment_on_travel_page` has **206 (1.8%)** missing values\n",
    "* `yearly_avg_Outstation_checkins` has **75 (0.6%)** missing values\n",
    "* `preferred_location_type` has **31 (0.3%)** missing values\n",
    "* `following_company_page` has **103 (0.9%)** missing values"
   ]
  },
  {
   "cell_type": "code",
   "execution_count": null,
   "metadata": {},
   "outputs": [],
   "source": [
    "social_media_data.isnull().sum()"
   ]
  },
  {
   "cell_type": "markdown",
   "metadata": {},
   "source": [
    "#### Since the total number of null value rows are 1263 which only makes upto 10% of the data, we can safely drop the rows."
   ]
  },
  {
   "cell_type": "code",
   "execution_count": null,
   "metadata": {},
   "outputs": [],
   "source": [
    "social_media_data_null_drop = social_media_data.dropna()"
   ]
  },
  {
   "cell_type": "code",
   "execution_count": null,
   "metadata": {},
   "outputs": [],
   "source": [
    "social_media_data_null_drop.isnull().sum()"
   ]
  },
  {
   "cell_type": "markdown",
   "metadata": {},
   "source": [
    "### Outliers"
   ]
  },
  {
   "cell_type": "code",
   "execution_count": null,
   "metadata": {},
   "outputs": [],
   "source": [
    "# construct box plot for continuous variables\n",
    "cont = social_media_data_null_drop.dtypes[(social_media_data_null_drop.dtypes != 'object')].index"
   ]
  },
  {
   "cell_type": "code",
   "execution_count": null,
   "metadata": {},
   "outputs": [],
   "source": [
    "def outliers_continuous(column, nbins):\n",
    "    fig_dims = (20, 5) \n",
    "    fig, axs = plt.subplots(nrows=1, ncols=1, figsize=fig_dims)\n",
    "    sns.boxplot(x= column, data=social_media_data_null_drop)"
   ]
  },
  {
   "cell_type": "code",
   "execution_count": null,
   "metadata": {},
   "outputs": [],
   "source": [
    "cont = cont.drop(cont[0]) # Drop the userId\n",
    "cont = cont.drop(cont[7]) # Drop the number of adults"
   ]
  },
  {
   "cell_type": "code",
   "execution_count": null,
   "metadata": {},
   "outputs": [],
   "source": [
    "cont"
   ]
  },
  {
   "cell_type": "code",
   "execution_count": null,
   "metadata": {},
   "outputs": [],
   "source": [
    "%matplotlib inline\n",
    "\n",
    "for column in cont:\n",
    "    outliers_continuous(column, 20)"
   ]
  },
  {
   "cell_type": "code",
   "execution_count": null,
   "metadata": {},
   "outputs": [],
   "source": [
    "def remove_outlier(col):\n",
    "    sorted(col)\n",
    "    Q1,Q3=np.percentile(col,[25,75])\n",
    "    IQR=Q3-Q1\n",
    "    lower_range= Q1-(1.5 * IQR)\n",
    "    upper_range= Q3+(1.5 * IQR)\n",
    "    return lower_range, upper_range"
   ]
  },
  {
   "cell_type": "code",
   "execution_count": null,
   "metadata": {},
   "outputs": [],
   "source": [
    "for column in social_media_data_null_drop[cont].columns:\n",
    "    lr,ur=remove_outlier(social_media_data_null_drop[column])\n",
    "    social_media_data_null_drop[column]=np.where(social_media_data_null_drop[column]>ur,ur,social_media_data_null_drop[column])\n",
    "    social_media_data_null_drop[column]=np.where(social_media_data_null_drop[column]<lr,lr,social_media_data_null_drop[column])"
   ]
  },
  {
   "cell_type": "code",
   "execution_count": null,
   "metadata": {},
   "outputs": [],
   "source": [
    "for column in cont:\n",
    "    outliers_continuous(column, 20)"
   ]
  },
  {
   "cell_type": "code",
   "execution_count": null,
   "metadata": {},
   "outputs": [],
   "source": [
    "social_media_data_null_drop.info()"
   ]
  },
  {
   "cell_type": "markdown",
   "metadata": {},
   "source": [
    "Here **yearly_avg_Outstation_checkins** and  **member_in_family** are clearly numeric, but it is being displayed as object.\n",
    "Converting them to numerical based on below observations."
   ]
  },
  {
   "cell_type": "code",
   "execution_count": null,
   "metadata": {},
   "outputs": [],
   "source": [
    "social_media_data_null_drop['yearly_avg_Outstation_checkins'].value_counts()"
   ]
  },
  {
   "cell_type": "markdown",
   "metadata": {},
   "source": [
    "There is a row where the value is **'*'**. I will be dropping this row"
   ]
  },
  {
   "cell_type": "code",
   "execution_count": null,
   "metadata": {},
   "outputs": [],
   "source": [
    "# get names of indexes for which\n",
    "# column yearly_avg_Outstation_checkins has value *\n",
    "\n",
    "index_names = social_media_data_null_drop[ social_media_data_null_drop['yearly_avg_Outstation_checkins'] == '*' ].index"
   ]
  },
  {
   "cell_type": "code",
   "execution_count": null,
   "metadata": {},
   "outputs": [],
   "source": [
    "social_media_data_null_drop.drop(index_names, inplace = True)"
   ]
  },
  {
   "cell_type": "code",
   "execution_count": null,
   "metadata": {},
   "outputs": [],
   "source": [
    "\n",
    "social_media_data_null_drop['yearly_avg_Outstation_checkins'] = social_media_data_null_drop['yearly_avg_Outstation_checkins'].astype(object).astype(int)"
   ]
  },
  {
   "cell_type": "code",
   "execution_count": null,
   "metadata": {},
   "outputs": [],
   "source": [
    "social_media_data_null_drop['member_in_family'] = social_media_data_null_drop['member_in_family'].astype(object).astype(int)"
   ]
  },
  {
   "cell_type": "code",
   "execution_count": null,
   "metadata": {},
   "outputs": [],
   "source": [
    "social_media_data_null_drop.info()"
   ]
  },
  {
   "cell_type": "code",
   "execution_count": null,
   "metadata": {},
   "outputs": [],
   "source": [
    "# Since the HTML report is already generated, Commenting out the below code to save execution time.\n",
    "eda_profile_social_media_data_post_cleaning = pdp.ProfileReport(social_media_data_null_drop)\n",
    "eda_profile_social_media_data_post_cleaning.to_file(\"eda_profile_social_media_data_post_cleaning.html\")"
   ]
  },
  {
   "cell_type": "code",
   "execution_count": null,
   "metadata": {},
   "outputs": [],
   "source": [
    "social_media_data_null_drop['number_of_adults'].value_counts()"
   ]
  },
  {
   "cell_type": "markdown",
   "metadata": {},
   "source": [
    "### One Hot Encoding of the Categorical Values"
   ]
  },
  {
   "cell_type": "code",
   "execution_count": null,
   "metadata": {},
   "outputs": [],
   "source": [
    "social_media_data_encoded = pd.get_dummies(social_media_data_null_drop, prefix='location_', columns=['preferred_location_type']) #This function does One-Hot-Encoding on categorical text"
   ]
  },
  {
   "cell_type": "code",
   "execution_count": null,
   "metadata": {},
   "outputs": [],
   "source": [
    "social_media_data_encoded['following_company_page'] = social_media_data_encoded['following_company_page'].map({'Yes': 1, 'No': 0})"
   ]
  },
  {
   "cell_type": "code",
   "execution_count": null,
   "metadata": {},
   "outputs": [],
   "source": [
    "social_media_data_encoded['working_flag'] = social_media_data_encoded['working_flag'].map({'Yes': 1, 'No': 0})"
   ]
  },
  {
   "cell_type": "code",
   "execution_count": null,
   "metadata": {},
   "outputs": [],
   "source": [
    "social_media_data_encoded['Buy_ticket'] = social_media_data_encoded['Buy_ticket'].map({'Yes': 1, 'No': 0})"
   ]
  },
  {
   "cell_type": "code",
   "execution_count": null,
   "metadata": {},
   "outputs": [],
   "source": [
    "social_media_data_encoded.head()"
   ]
  },
  {
   "cell_type": "code",
   "execution_count": null,
   "metadata": {},
   "outputs": [],
   "source": [
    "plt.figure(figsize=(16,10))\n",
    "sns.heatmap(social_media_data_encoded.corr(), annot=True, fmt='.2f', cmap='Blues')\n",
    "plt.show()"
   ]
  },
  {
   "cell_type": "code",
   "execution_count": null,
   "metadata": {},
   "outputs": [],
   "source": [
    "social_media_data_null_drop.head()"
   ]
  },
  {
   "cell_type": "markdown",
   "metadata": {},
   "source": [
    "### Seperate data set in to two, by dividing based on the preferred device. [Mobile, Laptop]"
   ]
  },
  {
   "cell_type": "code",
   "execution_count": null,
   "metadata": {},
   "outputs": [],
   "source": [
    "social_media_data_laptop = social_media_data_encoded.drop(social_media_data_encoded.loc[social_media_data_encoded['preferred_device']=='Mobile'].index)"
   ]
  },
  {
   "cell_type": "code",
   "execution_count": null,
   "metadata": {},
   "outputs": [],
   "source": [
    "# Since the data is only for Laptop devices, we can drop the preferred device column\n",
    "social_media_data_laptop.drop(['preferred_device'], axis=1, inplace=True)"
   ]
  },
  {
   "cell_type": "code",
   "execution_count": null,
   "metadata": {},
   "outputs": [],
   "source": [
    "social_media_data_laptop.reset_index(drop=True)"
   ]
  },
  {
   "cell_type": "markdown",
   "metadata": {},
   "source": [
    "### **Check the number of rows (observations) and the number of columns (variables) in Laptop**"
   ]
  },
  {
   "cell_type": "code",
   "execution_count": null,
   "metadata": {},
   "outputs": [],
   "source": [
    "print('The number of rows (observations) is',social_media_data_laptop.shape[0],'\\n''The number of columns (variables) is',social_media_data_laptop.shape[1])"
   ]
  },
  {
   "cell_type": "code",
   "execution_count": null,
   "metadata": {},
   "outputs": [],
   "source": [
    "social_media_data_mobile = social_media_data_encoded.drop(social_media_data_encoded.loc[social_media_data_encoded['preferred_device']=='Laptop'].index, inplace=False)"
   ]
  },
  {
   "cell_type": "code",
   "execution_count": null,
   "metadata": {},
   "outputs": [],
   "source": [
    "# Since the data is only for Mobile devices, we can drop the preferred device column\n",
    "social_media_data_mobile.drop(['preferred_device'], axis=1, inplace=True)"
   ]
  },
  {
   "cell_type": "code",
   "execution_count": null,
   "metadata": {},
   "outputs": [],
   "source": [
    "social_media_data_mobile.reset_index(drop=True)"
   ]
  },
  {
   "cell_type": "markdown",
   "metadata": {},
   "source": [
    "### **Check the number of rows (observations) and the number of columns (variables) in Mobile**"
   ]
  },
  {
   "cell_type": "code",
   "execution_count": null,
   "metadata": {},
   "outputs": [],
   "source": [
    "print('The number of rows (observations) is',social_media_data_mobile.shape[0],'\\n''The number of columns (variables) is',social_media_data_mobile.shape[1])"
   ]
  },
  {
   "cell_type": "code",
   "execution_count": null,
   "metadata": {},
   "outputs": [],
   "source": [
    "# Write the laptop and mobile data to a csv file.\n",
    "social_media_data_laptop.to_csv('social_media_data_laptop.csv')\n",
    "\n",
    "social_media_data_mobile.to_csv('social_media_data_mobile.csv')"
   ]
  },
  {
   "cell_type": "markdown",
   "metadata": {},
   "source": [
    "\n",
    "**----------------------------------------------------------------------------------------------------------------------------------------------------------------------------------------------------------------**"
   ]
  },
  {
   "cell_type": "markdown",
   "metadata": {},
   "source": [
    "# Project Notes - 2"
   ]
  },
  {
   "cell_type": "code",
   "execution_count": 2,
   "metadata": {},
   "outputs": [],
   "source": [
    "social_media_data_laptop = pd.read_csv('social_media_data_laptop.csv')\n",
    "\n",
    "social_media_data_mobile = pd.read_csv('social_media_data_mobile.csv')"
   ]
  },
  {
   "cell_type": "code",
   "execution_count": 3,
   "metadata": {},
   "outputs": [],
   "source": [
    "# Drop Unnamed: 0 column\n",
    "social_media_data_laptop.drop(['Unnamed: 0'], axis = 1, inplace=True)\n",
    "\n",
    "social_media_data_mobile.drop(['Unnamed: 0'], axis = 1, inplace=True)"
   ]
  },
  {
   "cell_type": "code",
   "execution_count": 4,
   "metadata": {},
   "outputs": [],
   "source": [
    "#Let us break the X and y dataframes into training set and test set. For this we will use\n",
    "#Sklearn package's data splitting function which is based on random function\n",
    "\n",
    "from sklearn.model_selection import train_test_split"
   ]
  },
  {
   "cell_type": "markdown",
   "metadata": {},
   "source": [
    "## Naive Bayes"
   ]
  },
  {
   "cell_type": "code",
   "execution_count": 5,
   "metadata": {},
   "outputs": [],
   "source": [
    "# Gaussian algorithm from Naive Bayes\n",
    "\n",
    "from sklearn.naive_bayes import GaussianNB"
   ]
  },
  {
   "cell_type": "markdown",
   "metadata": {},
   "source": [
    "### For Mobile Dataset"
   ]
  },
  {
   "cell_type": "code",
   "execution_count": 6,
   "metadata": {},
   "outputs": [],
   "source": [
    "X = social_media_data_mobile.drop('Buy_ticket',axis=1) # Predictor feature columns\n",
    "\n",
    "Y = social_media_data_mobile['Buy_ticket'] # Predicted class (1=True, 0=False)"
   ]
  },
  {
   "cell_type": "code",
   "execution_count": 7,
   "metadata": {},
   "outputs": [],
   "source": [
    "# Split X and y into training and test set in 70:30 ratio\n",
    "\n",
    "x_train, x_test, y_train, y_test = train_test_split(X, Y, test_size=0.3, random_state=1)"
   ]
  },
  {
   "cell_type": "code",
   "execution_count": 8,
   "metadata": {},
   "outputs": [
    {
     "name": "stdout",
     "output_type": "stream",
     "text": [
      "69.99% data is in training set\n",
      "30.01% data is in test set\n"
     ]
    }
   ],
   "source": [
    "print(\"{0:0.2f}% data is in training set\".format((len(x_train)/len(social_media_data_mobile.index)) * 100))\n",
    "print(\"{0:0.2f}% data is in test set\".format((len(x_test)/len(social_media_data_mobile.index)) * 100))"
   ]
  },
  {
   "cell_type": "code",
   "execution_count": 9,
   "metadata": {},
   "outputs": [
    {
     "data": {
      "text/plain": [
       "GaussianNB()"
      ]
     },
     "execution_count": 9,
     "metadata": {},
     "output_type": "execute_result"
    }
   ],
   "source": [
    "# create the model\n",
    "naivebayes_mobile_model = GaussianNB()\n",
    "\n",
    "naivebayes_mobile_model.fit(x_train, y_train.ravel())"
   ]
  },
  {
   "cell_type": "markdown",
   "metadata": {},
   "source": [
    "### Performance of our model with training data"
   ]
  },
  {
   "cell_type": "code",
   "execution_count": 10,
   "metadata": {},
   "outputs": [
    {
     "name": "stdout",
     "output_type": "stream",
     "text": [
      "Model Accuracy: 0.8592\n"
     ]
    }
   ],
   "source": [
    "naivebayes_mobile_train_predict = naivebayes_mobile_model.predict(x_train)\n",
    "\n",
    "print(\"Model Accuracy: {0:.4f}\".format(metrics.accuracy_score(y_train, naivebayes_mobile_train_predict)))"
   ]
  },
  {
   "cell_type": "markdown",
   "metadata": {},
   "source": [
    "### Performance of our model with testing data"
   ]
  },
  {
   "cell_type": "code",
   "execution_count": 11,
   "metadata": {},
   "outputs": [
    {
     "name": "stdout",
     "output_type": "stream",
     "text": [
      "Model Accuracy: 0.8587\n"
     ]
    }
   ],
   "source": [
    "naivebayes_mobile_test_predict = naivebayes_mobile_model.predict(x_test)\n",
    "\n",
    "print(\"Model Accuracy: {0:.4f}\".format(metrics.accuracy_score(y_test, naivebayes_mobile_test_predict)))"
   ]
  },
  {
   "cell_type": "markdown",
   "metadata": {},
   "source": [
    "### Lets check the confusion matrix and classification report"
   ]
  },
  {
   "cell_type": "code",
   "execution_count": 12,
   "metadata": {},
   "outputs": [
    {
     "name": "stdout",
     "output_type": "stream",
     "text": [
      "Confusion Matrix Test Data\n"
     ]
    },
    {
     "data": {
      "text/plain": [
       "<AxesSubplot:>"
      ]
     },
     "execution_count": 12,
     "metadata": {},
     "output_type": "execute_result"
    },
    {
     "data": {
      "image/png": "[encoded data removed]",
      "text/plain": [
       "<Figure size 504x360 with 2 Axes>"
      ]
     },
     "metadata": {
      "needs_background": "light"
     },
     "output_type": "display_data"
    }
   ],
   "source": [
    "print(\"Confusion Matrix Test Data\")\n",
    "cm=metrics.confusion_matrix(y_test, naivebayes_mobile_test_predict, labels=[1, 0])\n",
    "\n",
    "df_cm = pd.DataFrame(cm, index = [i for i in [\"1\",\"0\"]],\n",
    "                  columns = [i for i in [\"Predict 1\",\"Predict 0\"]])\n",
    "plt.figure(figsize = (7,5))\n",
    "sns.heatmap(df_cm, annot=True)"
   ]
  },
  {
   "cell_type": "code",
   "execution_count": 13,
   "metadata": {},
   "outputs": [
    {
     "name": "stdout",
     "output_type": "stream",
     "text": [
      "Classification Report\n",
      "              precision    recall  f1-score   support\n",
      "\n",
      "           1       0.67      0.19      0.29       440\n",
      "           0       0.87      0.98      0.92      2377\n",
      "\n",
      "    accuracy                           0.86      2817\n",
      "   macro avg       0.77      0.58      0.61      2817\n",
      "weighted avg       0.84      0.86      0.82      2817\n",
      "\n"
     ]
    }
   ],
   "source": [
    "print(\"Classification Report\")\n",
    "print(metrics.classification_report(y_test, naivebayes_mobile_test_predict, labels=[1, 0]))"
   ]
  },
  {
   "cell_type": "code",
   "execution_count": 14,
   "metadata": {},
   "outputs": [
    {
     "data": {
      "text/html": [
       "<div>\n",
       "<style scoped>\n",
       "    .dataframe tbody tr th:only-of-type {\n",
       "        vertical-align: middle;\n",
       "    }\n",
       "\n",
       "    .dataframe tbody tr th {\n",
       "        vertical-align: top;\n",
       "    }\n",
       "\n",
       "    .dataframe thead th {\n",
       "        text-align: right;\n",
       "    }\n",
       "</style>\n",
       "<table border=\"1\" class=\"dataframe\">\n",
       "  <thead>\n",
       "    <tr style=\"text-align: right;\">\n",
       "      <th></th>\n",
       "      <th>accuracy</th>\n",
       "      <th>recall_on_true</th>\n",
       "      <th>recall_on_false</th>\n",
       "    </tr>\n",
       "  </thead>\n",
       "  <tbody>\n",
       "    <tr>\n",
       "      <th>naivebayes_mobile_model</th>\n",
       "      <td>0.858715</td>\n",
       "      <td>0.19</td>\n",
       "      <td>0.98</td>\n",
       "    </tr>\n",
       "  </tbody>\n",
       "</table>\n",
       "</div>"
      ],
      "text/plain": [
       "                         accuracy  recall_on_true  recall_on_false\n",
       "naivebayes_mobile_model  0.858715            0.19             0.98"
      ]
     },
     "execution_count": 14,
     "metadata": {},
     "output_type": "execute_result"
    }
   ],
   "source": [
    "predictions_test = pd.DataFrame({\"accuracy\": metrics.accuracy_score(y_test, naivebayes_mobile_test_predict),\n",
    "                    \"recall_on_true\": 0.19,\n",
    "                    \"recall_on_false\": 0.98\n",
    "                   },index=['naivebayes_mobile_model'])\n",
    "predictions_test"
   ]
  },
  {
   "cell_type": "markdown",
   "metadata": {},
   "source": [
    "### For Laptop Dataset"
   ]
  },
  {
   "cell_type": "code",
   "execution_count": 15,
   "metadata": {},
   "outputs": [],
   "source": [
    "X = social_media_data_laptop.drop('Buy_ticket',axis=1) # Predictor feature columns\n",
    "\n",
    "Y = social_media_data_laptop['Buy_ticket'] # Predicted class (1=True, 0=False)"
   ]
  },
  {
   "cell_type": "code",
   "execution_count": 16,
   "metadata": {},
   "outputs": [],
   "source": [
    "# Split X and y into training and test set in 70:30 ratio\n",
    "\n",
    "x_train, x_test, y_train, y_test = train_test_split(X, Y, test_size=0.3, random_state=1)"
   ]
  },
  {
   "cell_type": "code",
   "execution_count": 17,
   "metadata": {},
   "outputs": [
    {
     "name": "stdout",
     "output_type": "stream",
     "text": [
      "69.95% data is in training set\n",
      "30.05% data is in test set\n"
     ]
    }
   ],
   "source": [
    "print(\"{0:0.2f}% data is in training set\".format((len(x_train)/len(social_media_data_laptop.index)) * 100))\n",
    "print(\"{0:0.2f}% data is in test set\".format((len(x_test)/len(social_media_data_laptop.index)) * 100))"
   ]
  },
  {
   "cell_type": "code",
   "execution_count": 18,
   "metadata": {},
   "outputs": [
    {
     "data": {
      "text/plain": [
       "GaussianNB()"
      ]
     },
     "execution_count": 18,
     "metadata": {},
     "output_type": "execute_result"
    }
   ],
   "source": [
    "# create the model\n",
    "naivebayes_laptop_model = GaussianNB()\n",
    "\n",
    "naivebayes_laptop_model.fit(x_train, y_train.ravel())"
   ]
  },
  {
   "cell_type": "markdown",
   "metadata": {},
   "source": [
    "### Performance of our model with training data"
   ]
  },
  {
   "cell_type": "code",
   "execution_count": 19,
   "metadata": {},
   "outputs": [
    {
     "name": "stdout",
     "output_type": "stream",
     "text": [
      "Model Accuracy: 0.8297\n"
     ]
    }
   ],
   "source": [
    "naivebayes_laptop_train_predict = naivebayes_laptop_model.predict(x_train)\n",
    "\n",
    "print(\"Model Accuracy: {0:.4f}\".format(metrics.accuracy_score(y_train, naivebayes_laptop_train_predict)))"
   ]
  },
  {
   "cell_type": "markdown",
   "metadata": {},
   "source": [
    "### Performance of our model with testing data"
   ]
  },
  {
   "cell_type": "code",
   "execution_count": 20,
   "metadata": {},
   "outputs": [
    {
     "name": "stdout",
     "output_type": "stream",
     "text": [
      "Model Accuracy: 0.8198\n"
     ]
    }
   ],
   "source": [
    "naivebayes_laptop_test_predict = naivebayes_laptop_model.predict(x_test)\n",
    "\n",
    "print(\"Model Accuracy: {0:.4f}\".format(metrics.accuracy_score(y_test, naivebayes_laptop_test_predict)))"
   ]
  },
  {
   "cell_type": "markdown",
   "metadata": {},
   "source": [
    "### Lets check the confusion matrix and classification report"
   ]
  },
  {
   "cell_type": "code",
   "execution_count": 21,
   "metadata": {},
   "outputs": [
    {
     "name": "stdout",
     "output_type": "stream",
     "text": [
      "Confusion Matrix\n"
     ]
    },
    {
     "data": {
      "text/plain": [
       "<AxesSubplot:>"
      ]
     },
     "execution_count": 21,
     "metadata": {},
     "output_type": "execute_result"
    },
    {
     "data": {
      "image/png": "[encoded data removed]",
      "text/plain": [
       "<Figure size 504x360 with 2 Axes>"
      ]
     },
     "metadata": {
      "needs_background": "light"
     },
     "output_type": "display_data"
    }
   ],
   "source": [
    "print(\"Confusion Matrix\")\n",
    "cm=metrics.confusion_matrix(y_test, naivebayes_laptop_test_predict, labels=[1, 0])\n",
    "\n",
    "df_cm = pd.DataFrame(cm, index = [i for i in [\"1\",\"0\"]],\n",
    "                  columns = [i for i in [\"Predict 1\",\"Predict 0\"]])\n",
    "plt.figure(figsize = (7,5))\n",
    "sns.heatmap(df_cm, annot=True)"
   ]
  },
  {
   "cell_type": "code",
   "execution_count": 22,
   "metadata": {},
   "outputs": [
    {
     "name": "stdout",
     "output_type": "stream",
     "text": [
      "Classification Report\n",
      "              precision    recall  f1-score   support\n",
      "\n",
      "           1       0.73      0.59      0.65        95\n",
      "           0       0.85      0.91      0.88       238\n",
      "\n",
      "    accuracy                           0.82       333\n",
      "   macro avg       0.79      0.75      0.76       333\n",
      "weighted avg       0.81      0.82      0.81       333\n",
      "\n"
     ]
    }
   ],
   "source": [
    "print(\"Classification Report\")\n",
    "print(metrics.classification_report(y_test, naivebayes_laptop_test_predict, labels=[1, 0]))"
   ]
  },
  {
   "cell_type": "code",
   "execution_count": 23,
   "metadata": {},
   "outputs": [
    {
     "data": {
      "text/html": [
       "<div>\n",
       "<style scoped>\n",
       "    .dataframe tbody tr th:only-of-type {\n",
       "        vertical-align: middle;\n",
       "    }\n",
       "\n",
       "    .dataframe tbody tr th {\n",
       "        vertical-align: top;\n",
       "    }\n",
       "\n",
       "    .dataframe thead th {\n",
       "        text-align: right;\n",
       "    }\n",
       "</style>\n",
       "<table border=\"1\" class=\"dataframe\">\n",
       "  <thead>\n",
       "    <tr style=\"text-align: right;\">\n",
       "      <th></th>\n",
       "      <th>accuracy</th>\n",
       "      <th>recall_on_true</th>\n",
       "      <th>recall_on_false</th>\n",
       "    </tr>\n",
       "  </thead>\n",
       "  <tbody>\n",
       "    <tr>\n",
       "      <th>naivebayes_mobile_model</th>\n",
       "      <td>0.858715</td>\n",
       "      <td>0.19</td>\n",
       "      <td>0.98</td>\n",
       "    </tr>\n",
       "    <tr>\n",
       "      <th>naivebayes_laptop_model</th>\n",
       "      <td>0.819820</td>\n",
       "      <td>0.59</td>\n",
       "      <td>0.91</td>\n",
       "    </tr>\n",
       "  </tbody>\n",
       "</table>\n",
       "</div>"
      ],
      "text/plain": [
       "                         accuracy  recall_on_true  recall_on_false\n",
       "naivebayes_mobile_model  0.858715            0.19             0.98\n",
       "naivebayes_laptop_model  0.819820            0.59             0.91"
      ]
     },
     "execution_count": 23,
     "metadata": {},
     "output_type": "execute_result"
    }
   ],
   "source": [
    "df = pd.DataFrame({\"accuracy\": metrics.accuracy_score(y_test, naivebayes_laptop_test_predict),\n",
    "                    \"recall_on_true\": 0.59,\n",
    "                    \"recall_on_false\": 0.91\n",
    "                   },index=['naivebayes_laptop_model'])\n",
    "\n",
    "predictions_test = pd.concat([predictions_test, df])\n",
    "predictions_test"
   ]
  },
  {
   "cell_type": "markdown",
   "metadata": {},
   "source": [
    "## Linear Discriminant Analysis"
   ]
  },
  {
   "cell_type": "code",
   "execution_count": 24,
   "metadata": {},
   "outputs": [],
   "source": [
    "from sklearn.discriminant_analysis import LinearDiscriminantAnalysis"
   ]
  },
  {
   "cell_type": "markdown",
   "metadata": {},
   "source": [
    "### For Mobile Dataset"
   ]
  },
  {
   "cell_type": "code",
   "execution_count": 25,
   "metadata": {},
   "outputs": [],
   "source": [
    "X = social_media_data_mobile.drop('Buy_ticket',axis=1) # Predictor feature columns\n",
    "\n",
    "Y = social_media_data_mobile['Buy_ticket'] # Predicted class (1=True, 0=False)"
   ]
  },
  {
   "cell_type": "code",
   "execution_count": 26,
   "metadata": {},
   "outputs": [],
   "source": [
    "X_train, X_test, Y_train, Y_test = model_selection.train_test_split(X,Y,test_size=0.3,random_state=1,stratify = Y)"
   ]
  },
  {
   "cell_type": "code",
   "execution_count": 27,
   "metadata": {},
   "outputs": [
    {
     "name": "stdout",
     "output_type": "stream",
     "text": [
      "69.99% data is in training set\n",
      "30.01% data is in test set\n"
     ]
    }
   ],
   "source": [
    "print(\"{0:0.2f}% data is in training set\".format((len(X_train)/len(social_media_data_mobile.index)) * 100))\n",
    "print(\"{0:0.2f}% data is in test set\".format((len(X_test)/len(social_media_data_mobile.index)) * 100))"
   ]
  },
  {
   "cell_type": "code",
   "execution_count": 28,
   "metadata": {},
   "outputs": [],
   "source": [
    "# create the model\n",
    "lda = LinearDiscriminantAnalysis()\n",
    "lda_mobile_model = lda.fit(X_train,Y_train)"
   ]
  },
  {
   "cell_type": "markdown",
   "metadata": {},
   "source": [
    "### Performance of our model with training data"
   ]
  },
  {
   "cell_type": "code",
   "execution_count": 29,
   "metadata": {},
   "outputs": [
    {
     "name": "stdout",
     "output_type": "stream",
     "text": [
      "Model Accuracy: 0.8659\n"
     ]
    }
   ],
   "source": [
    "lda_mobile_train_predict = lda_mobile_model.predict(X_train)\n",
    "\n",
    "print(\"Model Accuracy: {0:.4f}\".format(metrics.accuracy_score(Y_train, lda_mobile_train_predict)))"
   ]
  },
  {
   "cell_type": "markdown",
   "metadata": {},
   "source": [
    "### Performance of our model with testing data"
   ]
  },
  {
   "cell_type": "code",
   "execution_count": 30,
   "metadata": {},
   "outputs": [
    {
     "name": "stdout",
     "output_type": "stream",
     "text": [
      "Model Accuracy: 0.8626\n"
     ]
    }
   ],
   "source": [
    "lda_mobile_test_predict = lda_mobile_model.predict(X_test)\n",
    "\n",
    "print(\"Model Accuracy: {0:.4f}\".format(metrics.accuracy_score(Y_test, lda_mobile_test_predict)))"
   ]
  },
  {
   "cell_type": "markdown",
   "metadata": {},
   "source": [
    "### Training Data and Test Data Confusion Matrix Comparison"
   ]
  },
  {
   "cell_type": "code",
   "execution_count": 31,
   "metadata": {},
   "outputs": [
    {
     "data": {
      "image/png": "[encoded data removed]",
      "text/plain": [
       "<Figure size 1080x360 with 4 Axes>"
      ]
     },
     "metadata": {
      "needs_background": "light"
     },
     "output_type": "display_data"
    }
   ],
   "source": [
    "rcParams['figure.figsize'] = 15,5\n",
    "\n",
    "f,a =  plt.subplots(1,2,sharex=True,sharey=True,squeeze=False)\n",
    "\n",
    "#Plotting confusion matrix for the different models for the Training Data\n",
    "\n",
    "plot_0 = sns.heatmap((metrics.confusion_matrix(Y_train,lda_mobile_train_predict)),annot=True,fmt='.5g',cmap='Greys',ax=a[0][0]);\n",
    "a[0][0].set_title('Training Data')\n",
    "\n",
    "plot_1 = sns.heatmap((metrics.confusion_matrix(Y_test,lda_mobile_test_predict)),annot=True,fmt='.5g',cmap='Greys',ax=a[0][1]);\n",
    "a[0][1].set_title('Test Data');"
   ]
  },
  {
   "cell_type": "markdown",
   "metadata": {},
   "source": [
    "### Training Data and Test Data Classification Report Comparison"
   ]
  },
  {
   "cell_type": "code",
   "execution_count": 32,
   "metadata": {},
   "outputs": [
    {
     "name": "stdout",
     "output_type": "stream",
     "text": [
      "Classification Report of the training data:\n",
      "\n",
      "               precision    recall  f1-score   support\n",
      "\n",
      "           0       0.87      0.98      0.93      5572\n",
      "           1       0.70      0.20      0.32       998\n",
      "\n",
      "    accuracy                           0.87      6570\n",
      "   macro avg       0.79      0.59      0.62      6570\n",
      "weighted avg       0.85      0.87      0.83      6570\n",
      " \n",
      "\n",
      "Classification Report of the test data:\n",
      "\n",
      "               precision    recall  f1-score   support\n",
      "\n",
      "           0       0.87      0.98      0.92      2389\n",
      "           1       0.67      0.19      0.30       428\n",
      "\n",
      "    accuracy                           0.86      2817\n",
      "   macro avg       0.77      0.59      0.61      2817\n",
      "weighted avg       0.84      0.86      0.83      2817\n",
      " \n",
      "\n"
     ]
    }
   ],
   "source": [
    "print('Classification Report of the training data:\\n\\n',metrics.classification_report(Y_train,lda_mobile_train_predict),'\\n')\n",
    "print('Classification Report of the test data:\\n\\n',metrics.classification_report(Y_test,lda_mobile_test_predict),'\\n')"
   ]
  },
  {
   "cell_type": "markdown",
   "metadata": {},
   "source": [
    "### Probability prediction for the training and test data"
   ]
  },
  {
   "cell_type": "code",
   "execution_count": 33,
   "metadata": {},
   "outputs": [],
   "source": [
    "# Training Data Probability Prediction\n",
    "pred_prob_lda_mobile_train = lda_mobile_model.predict_proba(X_train)\n",
    "\n",
    "# Test Data Probability Prediction\n",
    "pred_prob_lda_mobile_test = lda_mobile_model.predict_proba(X_test)"
   ]
  },
  {
   "cell_type": "code",
   "execution_count": 34,
   "metadata": {},
   "outputs": [
    {
     "name": "stdout",
     "output_type": "stream",
     "text": [
      "AUC for the Training Data: 0.774\n",
      "AUC for the Test Data: 0.778\n"
     ]
    },
    {
     "data": {
      "image/png": "[encoded data removed]",
      "text/plain": [
       "<Figure size 1080x360 with 1 Axes>"
      ]
     },
     "metadata": {
      "needs_background": "light"
     },
     "output_type": "display_data"
    }
   ],
   "source": [
    "# AUC and ROC for the training data\n",
    "\n",
    "# calculate AUC\n",
    "auc = metrics.roc_auc_score(Y_train,pred_prob_lda_mobile_train[:,1])\n",
    "print('AUC for the Training Data: %.3f' % auc)\n",
    "\n",
    "#  calculate roc curve\n",
    "fpr, tpr, thresholds = metrics.roc_curve(Y_train,pred_prob_lda_mobile_train[:,1])\n",
    "plt.plot([0, 1], [0, 1], linestyle='--')\n",
    "# plot the roc curve for the model\n",
    "plt.plot(fpr, tpr, marker='.',label = 'Training Data')\n",
    "\n",
    "\n",
    "# AUC and ROC for the test data\n",
    "\n",
    "# calculate AUC\n",
    "auc = metrics.roc_auc_score(Y_test,pred_prob_lda_mobile_test[:,1])\n",
    "print('AUC for the Test Data: %.3f' % auc)\n",
    "\n",
    "#  calculate roc curve\n",
    "fpr, tpr, thresholds = metrics.roc_curve(Y_test,pred_prob_lda_mobile_test[:,1])\n",
    "plt.plot([0, 1], [0, 1], linestyle='--')\n",
    "# plot the roc curve for the model\n",
    "plt.plot(fpr, tpr, marker='.',label='Test Data')\n",
    "# show the plot\n",
    "plt.legend(loc='best')\n",
    "plt.show()"
   ]
  },
  {
   "cell_type": "code",
   "execution_count": 35,
   "metadata": {},
   "outputs": [
    {
     "data": {
      "text/html": [
       "<div>\n",
       "<style scoped>\n",
       "    .dataframe tbody tr th:only-of-type {\n",
       "        vertical-align: middle;\n",
       "    }\n",
       "\n",
       "    .dataframe tbody tr th {\n",
       "        vertical-align: top;\n",
       "    }\n",
       "\n",
       "    .dataframe thead th {\n",
       "        text-align: right;\n",
       "    }\n",
       "</style>\n",
       "<table border=\"1\" class=\"dataframe\">\n",
       "  <thead>\n",
       "    <tr style=\"text-align: right;\">\n",
       "      <th></th>\n",
       "      <th>accuracy</th>\n",
       "      <th>recall_on_true</th>\n",
       "      <th>recall_on_false</th>\n",
       "      <th>auc_score</th>\n",
       "    </tr>\n",
       "  </thead>\n",
       "  <tbody>\n",
       "    <tr>\n",
       "      <th>naivebayes_mobile_model</th>\n",
       "      <td>0.858715</td>\n",
       "      <td>0.19</td>\n",
       "      <td>0.98</td>\n",
       "      <td>NaN</td>\n",
       "    </tr>\n",
       "    <tr>\n",
       "      <th>naivebayes_laptop_model</th>\n",
       "      <td>0.819820</td>\n",
       "      <td>0.59</td>\n",
       "      <td>0.91</td>\n",
       "      <td>NaN</td>\n",
       "    </tr>\n",
       "    <tr>\n",
       "      <th>lda_mobile_model</th>\n",
       "      <td>0.862620</td>\n",
       "      <td>0.19</td>\n",
       "      <td>0.98</td>\n",
       "      <td>0.778</td>\n",
       "    </tr>\n",
       "  </tbody>\n",
       "</table>\n",
       "</div>"
      ],
      "text/plain": [
       "                         accuracy  recall_on_true  recall_on_false  auc_score\n",
       "naivebayes_mobile_model  0.858715            0.19             0.98        NaN\n",
       "naivebayes_laptop_model  0.819820            0.59             0.91        NaN\n",
       "lda_mobile_model         0.862620            0.19             0.98      0.778"
      ]
     },
     "execution_count": 35,
     "metadata": {},
     "output_type": "execute_result"
    }
   ],
   "source": [
    "df = pd.DataFrame({\"accuracy\": metrics.accuracy_score(Y_test, lda_mobile_test_predict),\n",
    "                    \"recall_on_true\": 0.19,\n",
    "                    \"recall_on_false\": 0.98,\n",
    "                    \"auc_score\": 0.778\n",
    "                   },index=['lda_mobile_model'])\n",
    "\n",
    "predictions_test = pd.concat([predictions_test, df])\n",
    "predictions_test"
   ]
  },
  {
   "cell_type": "markdown",
   "metadata": {},
   "source": [
    "### For Laptop Dataset"
   ]
  },
  {
   "cell_type": "code",
   "execution_count": 36,
   "metadata": {},
   "outputs": [],
   "source": [
    "X = social_media_data_laptop.drop('Buy_ticket',axis=1) # Predictor feature columns\n",
    "\n",
    "Y = social_media_data_laptop['Buy_ticket'] # Predicted class (1=True, 0=False)"
   ]
  },
  {
   "cell_type": "code",
   "execution_count": 37,
   "metadata": {},
   "outputs": [],
   "source": [
    "X_train, X_test, Y_train, Y_test = model_selection.train_test_split(X,Y,test_size=0.3,random_state=1,stratify = Y)"
   ]
  },
  {
   "cell_type": "code",
   "execution_count": 38,
   "metadata": {},
   "outputs": [
    {
     "name": "stdout",
     "output_type": "stream",
     "text": [
      "69.95% data is in training set\n",
      "30.05% data is in test set\n"
     ]
    }
   ],
   "source": [
    "print(\"{0:0.2f}% data is in training set\".format((len(X_train)/len(social_media_data_laptop.index)) * 100))\n",
    "print(\"{0:0.2f}% data is in test set\".format((len(X_test)/len(social_media_data_laptop.index)) * 100))"
   ]
  },
  {
   "cell_type": "code",
   "execution_count": 39,
   "metadata": {},
   "outputs": [],
   "source": [
    "# create the model\n",
    "lda = LinearDiscriminantAnalysis()\n",
    "lda_laptop_model = lda.fit(X_train,Y_train)"
   ]
  },
  {
   "cell_type": "markdown",
   "metadata": {},
   "source": [
    "### Performance of our model with training data"
   ]
  },
  {
   "cell_type": "code",
   "execution_count": 40,
   "metadata": {},
   "outputs": [
    {
     "name": "stdout",
     "output_type": "stream",
     "text": [
      "Model Accuracy: 0.8335\n"
     ]
    }
   ],
   "source": [
    "lda_laptop_train_predict = lda_laptop_model.predict(X_train)\n",
    "\n",
    "print(\"Model Accuracy: {0:.4f}\".format(metrics.accuracy_score(Y_train, lda_laptop_train_predict)))"
   ]
  },
  {
   "cell_type": "markdown",
   "metadata": {},
   "source": [
    "### Performance of our model with testing data"
   ]
  },
  {
   "cell_type": "code",
   "execution_count": 41,
   "metadata": {},
   "outputs": [
    {
     "name": "stdout",
     "output_type": "stream",
     "text": [
      "Model Accuracy: 0.8108\n"
     ]
    }
   ],
   "source": [
    "lda_laptop_test_predict = lda_laptop_model.predict(X_test)\n",
    "\n",
    "print(\"Model Accuracy: {0:.4f}\".format(metrics.accuracy_score(Y_test, lda_laptop_test_predict)))"
   ]
  },
  {
   "cell_type": "markdown",
   "metadata": {},
   "source": [
    "### Training Data and Test Data Confusion Matrix Comparison"
   ]
  },
  {
   "cell_type": "code",
   "execution_count": 42,
   "metadata": {},
   "outputs": [
    {
     "data": {
      "image/png": "[encoded data removed]",
      "text/plain": [
       "<Figure size 1080x360 with 4 Axes>"
      ]
     },
     "metadata": {
      "needs_background": "light"
     },
     "output_type": "display_data"
    }
   ],
   "source": [
    "rcParams['figure.figsize'] = 15,5\n",
    "\n",
    "f,a =  plt.subplots(1,2,sharex=True,sharey=True,squeeze=False)\n",
    "\n",
    "#Plotting confusion matrix for the different models for the Training Data\n",
    "\n",
    "plot_0 = sns.heatmap((metrics.confusion_matrix(Y_train,lda_laptop_train_predict)),annot=True,fmt='.5g',cmap='Greys',ax=a[0][0]);\n",
    "a[0][0].set_title('Training Data')\n",
    "\n",
    "plot_1 = sns.heatmap((metrics.confusion_matrix(Y_test,lda_laptop_test_predict)),annot=True,fmt='.5g',cmap='Greys',ax=a[0][1]);\n",
    "a[0][1].set_title('Test Data');"
   ]
  },
  {
   "cell_type": "markdown",
   "metadata": {},
   "source": [
    "### Training Data and Test Data Classification Report Comparison"
   ]
  },
  {
   "cell_type": "code",
   "execution_count": 43,
   "metadata": {},
   "outputs": [
    {
     "name": "stdout",
     "output_type": "stream",
     "text": [
      "Classification Report of the training data:\n",
      "\n",
      "               precision    recall  f1-score   support\n",
      "\n",
      "           0       0.85      0.94      0.89       582\n",
      "           1       0.74      0.51      0.60       193\n",
      "\n",
      "    accuracy                           0.83       775\n",
      "   macro avg       0.80      0.72      0.75       775\n",
      "weighted avg       0.82      0.83      0.82       775\n",
      " \n",
      "\n",
      "Classification Report of the test data:\n",
      "\n",
      "               precision    recall  f1-score   support\n",
      "\n",
      "           0       0.83      0.94      0.88       250\n",
      "           1       0.70      0.42      0.53        83\n",
      "\n",
      "    accuracy                           0.81       333\n",
      "   macro avg       0.77      0.68      0.70       333\n",
      "weighted avg       0.80      0.81      0.79       333\n",
      " \n",
      "\n"
     ]
    }
   ],
   "source": [
    "print('Classification Report of the training data:\\n\\n',metrics.classification_report(Y_train,lda_laptop_train_predict),'\\n')\n",
    "print('Classification Report of the test data:\\n\\n',metrics.classification_report(Y_test,lda_laptop_test_predict),'\\n')"
   ]
  },
  {
   "cell_type": "markdown",
   "metadata": {},
   "source": [
    "### Probability prediction for the training and test data"
   ]
  },
  {
   "cell_type": "code",
   "execution_count": 44,
   "metadata": {},
   "outputs": [],
   "source": [
    "# Training Data Probability Prediction\n",
    "pred_prob_lda_laptop_train = lda_laptop_model.predict_proba(X_train)\n",
    "\n",
    "# Test Data Probability Prediction\n",
    "pred_prob_lda_laptop_test = lda_laptop_model.predict_proba(X_test)"
   ]
  },
  {
   "cell_type": "code",
   "execution_count": 45,
   "metadata": {},
   "outputs": [
    {
     "name": "stdout",
     "output_type": "stream",
     "text": [
      "AUC for the Training Data: 0.836\n",
      "AUC for the Test Data: 0.817\n"
     ]
    },
    {
     "data": {
      "image/png": "[encoded data removed]",
      "text/plain": [
       "<Figure size 1080x360 with 1 Axes>"
      ]
     },
     "metadata": {
      "needs_background": "light"
     },
     "output_type": "display_data"
    }
   ],
   "source": [
    "# AUC and ROC for the training data\n",
    "\n",
    "# calculate AUC\n",
    "auc = metrics.roc_auc_score(Y_train,pred_prob_lda_laptop_train[:,1])\n",
    "print('AUC for the Training Data: %.3f' % auc)\n",
    "\n",
    "#  calculate roc curve\n",
    "fpr, tpr, thresholds = metrics.roc_curve(Y_train,pred_prob_lda_laptop_train[:,1])\n",
    "plt.plot([0, 1], [0, 1], linestyle='--')\n",
    "# plot the roc curve for the model\n",
    "plt.plot(fpr, tpr, marker='.',label = 'Training Data')\n",
    "\n",
    "\n",
    "# AUC and ROC for the test data\n",
    "\n",
    "# calculate AUC\n",
    "auc = metrics.roc_auc_score(Y_test,pred_prob_lda_laptop_test[:,1])\n",
    "print('AUC for the Test Data: %.3f' % auc)\n",
    "\n",
    "#  calculate roc curve\n",
    "fpr, tpr, thresholds = metrics.roc_curve(Y_test,pred_prob_lda_laptop_test[:,1])\n",
    "plt.plot([0, 1], [0, 1], linestyle='--')\n",
    "# plot the roc curve for the model\n",
    "plt.plot(fpr, tpr, marker='.',label='Test Data')\n",
    "# show the plot\n",
    "plt.legend(loc='best')\n",
    "plt.show()"
   ]
  },
  {
   "cell_type": "code",
   "execution_count": 46,
   "metadata": {},
   "outputs": [
    {
     "data": {
      "text/html": [
       "<div>\n",
       "<style scoped>\n",
       "    .dataframe tbody tr th:only-of-type {\n",
       "        vertical-align: middle;\n",
       "    }\n",
       "\n",
       "    .dataframe tbody tr th {\n",
       "        vertical-align: top;\n",
       "    }\n",
       "\n",
       "    .dataframe thead th {\n",
       "        text-align: right;\n",
       "    }\n",
       "</style>\n",
       "<table border=\"1\" class=\"dataframe\">\n",
       "  <thead>\n",
       "    <tr style=\"text-align: right;\">\n",
       "      <th></th>\n",
       "      <th>accuracy</th>\n",
       "      <th>recall_on_true</th>\n",
       "      <th>recall_on_false</th>\n",
       "      <th>auc_score</th>\n",
       "    </tr>\n",
       "  </thead>\n",
       "  <tbody>\n",
       "    <tr>\n",
       "      <th>naivebayes_mobile_model</th>\n",
       "      <td>0.858715</td>\n",
       "      <td>0.19</td>\n",
       "      <td>0.98</td>\n",
       "      <td>NaN</td>\n",
       "    </tr>\n",
       "    <tr>\n",
       "      <th>naivebayes_laptop_model</th>\n",
       "      <td>0.819820</td>\n",
       "      <td>0.59</td>\n",
       "      <td>0.91</td>\n",
       "      <td>NaN</td>\n",
       "    </tr>\n",
       "    <tr>\n",
       "      <th>lda_mobile_model</th>\n",
       "      <td>0.862620</td>\n",
       "      <td>0.19</td>\n",
       "      <td>0.98</td>\n",
       "      <td>0.778</td>\n",
       "    </tr>\n",
       "    <tr>\n",
       "      <th>lda_laptop_model</th>\n",
       "      <td>0.810811</td>\n",
       "      <td>0.42</td>\n",
       "      <td>0.94</td>\n",
       "      <td>0.817</td>\n",
       "    </tr>\n",
       "  </tbody>\n",
       "</table>\n",
       "</div>"
      ],
      "text/plain": [
       "                         accuracy  recall_on_true  recall_on_false  auc_score\n",
       "naivebayes_mobile_model  0.858715            0.19             0.98        NaN\n",
       "naivebayes_laptop_model  0.819820            0.59             0.91        NaN\n",
       "lda_mobile_model         0.862620            0.19             0.98      0.778\n",
       "lda_laptop_model         0.810811            0.42             0.94      0.817"
      ]
     },
     "execution_count": 46,
     "metadata": {},
     "output_type": "execute_result"
    }
   ],
   "source": [
    "df = pd.DataFrame({\"accuracy\": metrics.accuracy_score(Y_test, lda_laptop_test_predict),\n",
    "                    \"recall_on_true\": 0.42,\n",
    "                    \"recall_on_false\": 0.94,\n",
    "                    \"auc_score\": 0.817\n",
    "                   },index=['lda_laptop_model'])\n",
    "\n",
    "predictions_test = pd.concat([predictions_test, df])\n",
    "predictions_test"
   ]
  },
  {
   "cell_type": "markdown",
   "metadata": {},
   "source": [
    "## Naive Bayes with SMOT"
   ]
  },
  {
   "cell_type": "code",
   "execution_count": 47,
   "metadata": {},
   "outputs": [],
   "source": [
    "from imblearn.over_sampling import SMOTE"
   ]
  },
  {
   "cell_type": "markdown",
   "metadata": {},
   "source": [
    "### For Mobile Dataset"
   ]
  },
  {
   "cell_type": "code",
   "execution_count": 48,
   "metadata": {},
   "outputs": [],
   "source": [
    "X = social_media_data_mobile.drop('Buy_ticket',axis=1) # Predictor feature columns\n",
    "\n",
    "Y = social_media_data_mobile['Buy_ticket'] # Predicted class (1=True, 0=False)"
   ]
  },
  {
   "cell_type": "code",
   "execution_count": 49,
   "metadata": {},
   "outputs": [],
   "source": [
    "# Split X and y into training and test set in 70:30 ratio\n",
    "\n",
    "x_train, x_test, y_train, y_test = train_test_split(X, Y, test_size=0.3, random_state=1)"
   ]
  },
  {
   "cell_type": "code",
   "execution_count": 50,
   "metadata": {},
   "outputs": [
    {
     "data": {
      "text/plain": [
       "(6570, 21)"
      ]
     },
     "execution_count": 50,
     "metadata": {},
     "output_type": "execute_result"
    }
   ],
   "source": [
    "## Let's check the shape before SMOTE\n",
    "x_train.shape"
   ]
  },
  {
   "cell_type": "code",
   "execution_count": 51,
   "metadata": {},
   "outputs": [],
   "source": [
    "sm = SMOTE(random_state=1)"
   ]
  },
  {
   "cell_type": "markdown",
   "metadata": {},
   "source": [
    "**SMOTE** is only applied on the train data set"
   ]
  },
  {
   "cell_type": "code",
   "execution_count": 52,
   "metadata": {},
   "outputs": [],
   "source": [
    "X_train_res, y_train_res = sm.fit_resample(x_train, y_train.ravel())"
   ]
  },
  {
   "cell_type": "code",
   "execution_count": 53,
   "metadata": {},
   "outputs": [
    {
     "data": {
      "text/plain": [
       "(11168, 21)"
      ]
     },
     "execution_count": 53,
     "metadata": {},
     "output_type": "execute_result"
    }
   ],
   "source": [
    "## Let's check the shape after SMOTE\n",
    "X_train_res.shape"
   ]
  },
  {
   "cell_type": "code",
   "execution_count": 54,
   "metadata": {},
   "outputs": [
    {
     "data": {
      "text/plain": [
       "GaussianNB()"
      ]
     },
     "execution_count": 54,
     "metadata": {},
     "output_type": "execute_result"
    }
   ],
   "source": [
    "naivebayes_sm_mobile_model = GaussianNB()\n",
    "\n",
    "naivebayes_sm_mobile_model.fit(X_train_res, y_train_res)"
   ]
  },
  {
   "cell_type": "markdown",
   "metadata": {},
   "source": [
    "### Performance of our model with training data"
   ]
  },
  {
   "cell_type": "code",
   "execution_count": 55,
   "metadata": {},
   "outputs": [
    {
     "name": "stdout",
     "output_type": "stream",
     "text": [
      "Model Accuracy: 0.6431\n"
     ]
    }
   ],
   "source": [
    "naivebayes_sm_mobile_train_predict = naivebayes_sm_mobile_model.predict(X_train_res)\n",
    "\n",
    "print(\"Model Accuracy: {0:.4f}\".format(metrics.accuracy_score(y_train_res, naivebayes_sm_mobile_train_predict)))"
   ]
  },
  {
   "cell_type": "markdown",
   "metadata": {},
   "source": [
    "### Performance of our model with testing data"
   ]
  },
  {
   "cell_type": "code",
   "execution_count": 56,
   "metadata": {},
   "outputs": [
    {
     "name": "stdout",
     "output_type": "stream",
     "text": [
      "Model Accuracy: 0.4736\n"
     ]
    }
   ],
   "source": [
    "naivebayes_sm_mobile_test_predict = naivebayes_sm_mobile_model.predict(x_test)\n",
    "\n",
    "print(\"Model Accuracy: {0:.4f}\".format(metrics.accuracy_score(y_test, naivebayes_sm_mobile_test_predict)))"
   ]
  },
  {
   "cell_type": "markdown",
   "metadata": {},
   "source": [
    "### Lets check the confusion matrix and classification report"
   ]
  },
  {
   "cell_type": "code",
   "execution_count": 57,
   "metadata": {},
   "outputs": [
    {
     "name": "stdout",
     "output_type": "stream",
     "text": [
      "Confusion Matrix\n"
     ]
    },
    {
     "data": {
      "text/plain": [
       "<AxesSubplot:>"
      ]
     },
     "execution_count": 57,
     "metadata": {},
     "output_type": "execute_result"
    },
    {
     "data": {
      "image/png": "[encoded data removed]",
      "text/plain": [
       "<Figure size 504x360 with 2 Axes>"
      ]
     },
     "metadata": {
      "needs_background": "light"
     },
     "output_type": "display_data"
    }
   ],
   "source": [
    "print(\"Confusion Matrix\")\n",
    "cm=metrics.confusion_matrix(y_test, naivebayes_sm_mobile_test_predict, labels=[1, 0])\n",
    "\n",
    "df_cm = pd.DataFrame(cm, index = [i for i in [\"1\",\"0\"]],\n",
    "                  columns = [i for i in [\"Predict 1\",\"Predict 0\"]])\n",
    "plt.figure(figsize = (7,5))\n",
    "sns.heatmap(df_cm, annot=True)"
   ]
  },
  {
   "cell_type": "code",
   "execution_count": 58,
   "metadata": {},
   "outputs": [
    {
     "name": "stdout",
     "output_type": "stream",
     "text": [
      "Classification Report\n",
      "              precision    recall  f1-score   support\n",
      "\n",
      "           1       0.19      0.72      0.30       440\n",
      "           0       0.89      0.43      0.58      2377\n",
      "\n",
      "    accuracy                           0.47      2817\n",
      "   macro avg       0.54      0.58      0.44      2817\n",
      "weighted avg       0.78      0.47      0.53      2817\n",
      "\n"
     ]
    }
   ],
   "source": [
    "print(\"Classification Report\")\n",
    "print(metrics.classification_report(y_test, naivebayes_sm_mobile_test_predict, labels=[1, 0]))"
   ]
  },
  {
   "cell_type": "code",
   "execution_count": 59,
   "metadata": {},
   "outputs": [
    {
     "data": {
      "text/html": [
       "<div>\n",
       "<style scoped>\n",
       "    .dataframe tbody tr th:only-of-type {\n",
       "        vertical-align: middle;\n",
       "    }\n",
       "\n",
       "    .dataframe tbody tr th {\n",
       "        vertical-align: top;\n",
       "    }\n",
       "\n",
       "    .dataframe thead th {\n",
       "        text-align: right;\n",
       "    }\n",
       "</style>\n",
       "<table border=\"1\" class=\"dataframe\">\n",
       "  <thead>\n",
       "    <tr style=\"text-align: right;\">\n",
       "      <th></th>\n",
       "      <th>accuracy</th>\n",
       "      <th>recall_on_true</th>\n",
       "      <th>recall_on_false</th>\n",
       "      <th>auc_score</th>\n",
       "    </tr>\n",
       "  </thead>\n",
       "  <tbody>\n",
       "    <tr>\n",
       "      <th>naivebayes_mobile_model</th>\n",
       "      <td>0.858715</td>\n",
       "      <td>0.19</td>\n",
       "      <td>0.98</td>\n",
       "      <td>NaN</td>\n",
       "    </tr>\n",
       "    <tr>\n",
       "      <th>naivebayes_laptop_model</th>\n",
       "      <td>0.819820</td>\n",
       "      <td>0.59</td>\n",
       "      <td>0.91</td>\n",
       "      <td>NaN</td>\n",
       "    </tr>\n",
       "    <tr>\n",
       "      <th>lda_mobile_model</th>\n",
       "      <td>0.862620</td>\n",
       "      <td>0.19</td>\n",
       "      <td>0.98</td>\n",
       "      <td>0.778</td>\n",
       "    </tr>\n",
       "    <tr>\n",
       "      <th>lda_laptop_model</th>\n",
       "      <td>0.810811</td>\n",
       "      <td>0.42</td>\n",
       "      <td>0.94</td>\n",
       "      <td>0.817</td>\n",
       "    </tr>\n",
       "    <tr>\n",
       "      <th>naivebayes_sm_mobile_model</th>\n",
       "      <td>0.473553</td>\n",
       "      <td>0.72</td>\n",
       "      <td>0.43</td>\n",
       "      <td>NaN</td>\n",
       "    </tr>\n",
       "  </tbody>\n",
       "</table>\n",
       "</div>"
      ],
      "text/plain": [
       "                            accuracy  recall_on_true  recall_on_false  \\\n",
       "naivebayes_mobile_model     0.858715            0.19             0.98   \n",
       "naivebayes_laptop_model     0.819820            0.59             0.91   \n",
       "lda_mobile_model            0.862620            0.19             0.98   \n",
       "lda_laptop_model            0.810811            0.42             0.94   \n",
       "naivebayes_sm_mobile_model  0.473553            0.72             0.43   \n",
       "\n",
       "                            auc_score  \n",
       "naivebayes_mobile_model           NaN  \n",
       "naivebayes_laptop_model           NaN  \n",
       "lda_mobile_model                0.778  \n",
       "lda_laptop_model                0.817  \n",
       "naivebayes_sm_mobile_model        NaN  "
      ]
     },
     "execution_count": 59,
     "metadata": {},
     "output_type": "execute_result"
    }
   ],
   "source": [
    "df = pd.DataFrame({\"accuracy\": metrics.accuracy_score(y_test, naivebayes_sm_mobile_test_predict),\n",
    "                    \"recall_on_true\": 0.72,\n",
    "                    \"recall_on_false\": 0.43\n",
    "                   },index=['naivebayes_sm_mobile_model'])\n",
    "\n",
    "predictions_test = pd.concat([predictions_test, df])\n",
    "predictions_test"
   ]
  },
  {
   "cell_type": "markdown",
   "metadata": {},
   "source": [
    "### For Laptop Dataset"
   ]
  },
  {
   "cell_type": "code",
   "execution_count": 60,
   "metadata": {},
   "outputs": [],
   "source": [
    "X = social_media_data_laptop.drop('Buy_ticket',axis=1) # Predictor feature columns\n",
    "\n",
    "Y = social_media_data_laptop['Buy_ticket'] # Predicted class (1=True, 0=False)"
   ]
  },
  {
   "cell_type": "code",
   "execution_count": 61,
   "metadata": {},
   "outputs": [
    {
     "data": {
      "text/plain": [
       "0    832\n",
       "1    276\n",
       "Name: Buy_ticket, dtype: int64"
      ]
     },
     "execution_count": 61,
     "metadata": {},
     "output_type": "execute_result"
    }
   ],
   "source": [
    "Y.value_counts()"
   ]
  },
  {
   "cell_type": "code",
   "execution_count": 62,
   "metadata": {},
   "outputs": [],
   "source": [
    "# Split X and y into training and test set in 70:30 ratio\n",
    "\n",
    "x_train, x_test, y_train, y_test = train_test_split(X, Y, test_size=0.3, random_state=1)"
   ]
  },
  {
   "cell_type": "code",
   "execution_count": 63,
   "metadata": {},
   "outputs": [
    {
     "data": {
      "text/plain": [
       "(775, 21)"
      ]
     },
     "execution_count": 63,
     "metadata": {},
     "output_type": "execute_result"
    }
   ],
   "source": [
    "## Let's check the shape before SMOTE\n",
    "x_train.shape"
   ]
  },
  {
   "cell_type": "code",
   "execution_count": 64,
   "metadata": {},
   "outputs": [],
   "source": [
    "sm = SMOTE(random_state=1)"
   ]
  },
  {
   "cell_type": "markdown",
   "metadata": {},
   "source": [
    "**SMOTE** is only applied on the train data set"
   ]
  },
  {
   "cell_type": "code",
   "execution_count": 65,
   "metadata": {},
   "outputs": [
    {
     "data": {
      "text/plain": [
       "(11168, 21)"
      ]
     },
     "execution_count": 65,
     "metadata": {},
     "output_type": "execute_result"
    }
   ],
   "source": [
    "## Let's check the shape after SMOTE\n",
    "X_train_res.shape"
   ]
  },
  {
   "cell_type": "code",
   "execution_count": 66,
   "metadata": {},
   "outputs": [
    {
     "data": {
      "text/plain": [
       "GaussianNB()"
      ]
     },
     "execution_count": 66,
     "metadata": {},
     "output_type": "execute_result"
    }
   ],
   "source": [
    "naivebayes_sm_laptop_model = GaussianNB()\n",
    "\n",
    "naivebayes_sm_laptop_model.fit(X_train_res, y_train_res)"
   ]
  },
  {
   "cell_type": "markdown",
   "metadata": {},
   "source": [
    "### Performance of our model with training data"
   ]
  },
  {
   "cell_type": "code",
   "execution_count": 67,
   "metadata": {},
   "outputs": [
    {
     "name": "stdout",
     "output_type": "stream",
     "text": [
      "Model Accuracy: 0.6431\n"
     ]
    }
   ],
   "source": [
    "naivebayes_sm_laptop_train_predict = naivebayes_sm_laptop_model.predict(X_train_res)\n",
    "\n",
    "print(\"Model Accuracy: {0:.4f}\".format(metrics.accuracy_score(y_train_res, naivebayes_sm_laptop_train_predict)))"
   ]
  },
  {
   "cell_type": "markdown",
   "metadata": {},
   "source": [
    "### Performance of our model with testing data"
   ]
  },
  {
   "cell_type": "code",
   "execution_count": 68,
   "metadata": {},
   "outputs": [
    {
     "name": "stdout",
     "output_type": "stream",
     "text": [
      "Model Accuracy: 0.5796\n"
     ]
    }
   ],
   "source": [
    "naivebayes_sm_laptop_test_predict = naivebayes_sm_laptop_model.predict(x_test)\n",
    "\n",
    "print(\"Model Accuracy: {0:.4f}\".format(metrics.accuracy_score(y_test, naivebayes_sm_laptop_test_predict)))"
   ]
  },
  {
   "cell_type": "markdown",
   "metadata": {},
   "source": [
    "### Lets check the confusion matrix and classification report"
   ]
  },
  {
   "cell_type": "code",
   "execution_count": 69,
   "metadata": {},
   "outputs": [
    {
     "name": "stdout",
     "output_type": "stream",
     "text": [
      "Confusion Matrix\n"
     ]
    },
    {
     "data": {
      "text/plain": [
       "<AxesSubplot:>"
      ]
     },
     "execution_count": 69,
     "metadata": {},
     "output_type": "execute_result"
    },
    {
     "data": {
      "image/png": "[encoded data removed]",
      "text/plain": [
       "<Figure size 504x360 with 2 Axes>"
      ]
     },
     "metadata": {
      "needs_background": "light"
     },
     "output_type": "display_data"
    }
   ],
   "source": [
    "print(\"Confusion Matrix\")\n",
    "cm=metrics.confusion_matrix(y_test, naivebayes_sm_laptop_test_predict, labels=[1, 0])\n",
    "\n",
    "df_cm = pd.DataFrame(cm, index = [i for i in [\"1\",\"0\"]],\n",
    "                  columns = [i for i in [\"Predict 1\",\"Predict 0\"]])\n",
    "plt.figure(figsize = (7,5))\n",
    "sns.heatmap(df_cm, annot=True)"
   ]
  },
  {
   "cell_type": "code",
   "execution_count": 70,
   "metadata": {},
   "outputs": [
    {
     "name": "stdout",
     "output_type": "stream",
     "text": [
      "Classification Report\n",
      "              precision    recall  f1-score   support\n",
      "\n",
      "           1       0.39      0.82      0.53        95\n",
      "           0       0.87      0.48      0.62       238\n",
      "\n",
      "    accuracy                           0.58       333\n",
      "   macro avg       0.63      0.65      0.57       333\n",
      "weighted avg       0.73      0.58      0.59       333\n",
      "\n"
     ]
    }
   ],
   "source": [
    "print(\"Classification Report\")\n",
    "print(metrics.classification_report(y_test, naivebayes_sm_laptop_test_predict, labels=[1, 0]))"
   ]
  },
  {
   "cell_type": "code",
   "execution_count": 71,
   "metadata": {},
   "outputs": [
    {
     "data": {
      "text/html": [
       "<div>\n",
       "<style scoped>\n",
       "    .dataframe tbody tr th:only-of-type {\n",
       "        vertical-align: middle;\n",
       "    }\n",
       "\n",
       "    .dataframe tbody tr th {\n",
       "        vertical-align: top;\n",
       "    }\n",
       "\n",
       "    .dataframe thead th {\n",
       "        text-align: right;\n",
       "    }\n",
       "</style>\n",
       "<table border=\"1\" class=\"dataframe\">\n",
       "  <thead>\n",
       "    <tr style=\"text-align: right;\">\n",
       "      <th></th>\n",
       "      <th>accuracy</th>\n",
       "      <th>recall_on_true</th>\n",
       "      <th>recall_on_false</th>\n",
       "      <th>auc_score</th>\n",
       "    </tr>\n",
       "  </thead>\n",
       "  <tbody>\n",
       "    <tr>\n",
       "      <th>naivebayes_mobile_model</th>\n",
       "      <td>0.858715</td>\n",
       "      <td>0.19</td>\n",
       "      <td>0.98</td>\n",
       "      <td>NaN</td>\n",
       "    </tr>\n",
       "    <tr>\n",
       "      <th>naivebayes_laptop_model</th>\n",
       "      <td>0.819820</td>\n",
       "      <td>0.59</td>\n",
       "      <td>0.91</td>\n",
       "      <td>NaN</td>\n",
       "    </tr>\n",
       "    <tr>\n",
       "      <th>lda_mobile_model</th>\n",
       "      <td>0.862620</td>\n",
       "      <td>0.19</td>\n",
       "      <td>0.98</td>\n",
       "      <td>0.778</td>\n",
       "    </tr>\n",
       "    <tr>\n",
       "      <th>lda_laptop_model</th>\n",
       "      <td>0.810811</td>\n",
       "      <td>0.42</td>\n",
       "      <td>0.94</td>\n",
       "      <td>0.817</td>\n",
       "    </tr>\n",
       "    <tr>\n",
       "      <th>naivebayes_sm_mobile_model</th>\n",
       "      <td>0.473553</td>\n",
       "      <td>0.72</td>\n",
       "      <td>0.43</td>\n",
       "      <td>NaN</td>\n",
       "    </tr>\n",
       "    <tr>\n",
       "      <th>naivebayes_sm_laptop_model</th>\n",
       "      <td>0.579580</td>\n",
       "      <td>0.82</td>\n",
       "      <td>0.48</td>\n",
       "      <td>NaN</td>\n",
       "    </tr>\n",
       "  </tbody>\n",
       "</table>\n",
       "</div>"
      ],
      "text/plain": [
       "                            accuracy  recall_on_true  recall_on_false  \\\n",
       "naivebayes_mobile_model     0.858715            0.19             0.98   \n",
       "naivebayes_laptop_model     0.819820            0.59             0.91   \n",
       "lda_mobile_model            0.862620            0.19             0.98   \n",
       "lda_laptop_model            0.810811            0.42             0.94   \n",
       "naivebayes_sm_mobile_model  0.473553            0.72             0.43   \n",
       "naivebayes_sm_laptop_model  0.579580            0.82             0.48   \n",
       "\n",
       "                            auc_score  \n",
       "naivebayes_mobile_model           NaN  \n",
       "naivebayes_laptop_model           NaN  \n",
       "lda_mobile_model                0.778  \n",
       "lda_laptop_model                0.817  \n",
       "naivebayes_sm_mobile_model        NaN  \n",
       "naivebayes_sm_laptop_model        NaN  "
      ]
     },
     "execution_count": 71,
     "metadata": {},
     "output_type": "execute_result"
    }
   ],
   "source": [
    "df = pd.DataFrame({\"accuracy\": metrics.accuracy_score(y_test, naivebayes_sm_laptop_test_predict),\n",
    "                    \"recall_on_true\": 0.82,\n",
    "                    \"recall_on_false\": 0.48\n",
    "                   },index=['naivebayes_sm_laptop_model'])\n",
    "\n",
    "predictions_test = pd.concat([predictions_test, df])\n",
    "predictions_test"
   ]
  },
  {
   "cell_type": "markdown",
   "metadata": {},
   "source": [
    "## Linear Discriminant Analysis with SMOT"
   ]
  },
  {
   "cell_type": "markdown",
   "metadata": {},
   "source": [
    "### For Mobile Dataset"
   ]
  },
  {
   "cell_type": "code",
   "execution_count": 72,
   "metadata": {},
   "outputs": [],
   "source": [
    "X = social_media_data_mobile.drop('Buy_ticket',axis=1) # Predictor feature columns\n",
    "\n",
    "Y = social_media_data_mobile['Buy_ticket'] # Predicted class (1=True, 0=False)"
   ]
  },
  {
   "cell_type": "code",
   "execution_count": 73,
   "metadata": {},
   "outputs": [],
   "source": [
    "# Split X and y into training and test set in 70:30 ratio\n",
    "\n",
    "X_train, X_test, Y_train, Y_test = model_selection.train_test_split(X,Y,test_size=0.3,random_state=1,stratify = Y)"
   ]
  },
  {
   "cell_type": "code",
   "execution_count": 74,
   "metadata": {},
   "outputs": [
    {
     "data": {
      "text/plain": [
       "(6570, 21)"
      ]
     },
     "execution_count": 74,
     "metadata": {},
     "output_type": "execute_result"
    }
   ],
   "source": [
    "## Let's check the shape before SMOTE\n",
    "X_train.shape"
   ]
  },
  {
   "cell_type": "code",
   "execution_count": 75,
   "metadata": {},
   "outputs": [],
   "source": [
    "sm = SMOTE(random_state=1)"
   ]
  },
  {
   "cell_type": "code",
   "execution_count": 76,
   "metadata": {},
   "outputs": [],
   "source": [
    "X_train_res, y_train_res = sm.fit_resample(X_train, Y_train.ravel())"
   ]
  },
  {
   "cell_type": "code",
   "execution_count": 77,
   "metadata": {},
   "outputs": [
    {
     "data": {
      "text/plain": [
       "(11144, 21)"
      ]
     },
     "execution_count": 77,
     "metadata": {},
     "output_type": "execute_result"
    }
   ],
   "source": [
    "## Let's check the shape after SMOTE\n",
    "X_train_res.shape"
   ]
  },
  {
   "cell_type": "code",
   "execution_count": 78,
   "metadata": {},
   "outputs": [],
   "source": [
    "# create the model\n",
    "lda = LinearDiscriminantAnalysis()\n",
    "lda_sm_mobile_model = lda.fit(X_train_res,y_train_res)"
   ]
  },
  {
   "cell_type": "markdown",
   "metadata": {},
   "source": [
    "### Performance of our model with training data"
   ]
  },
  {
   "cell_type": "code",
   "execution_count": 79,
   "metadata": {},
   "outputs": [
    {
     "name": "stdout",
     "output_type": "stream",
     "text": [
      "Model Accuracy: 0.8056\n"
     ]
    }
   ],
   "source": [
    "lda_mobile_train_predict = lda_sm_mobile_model.predict(X_train_res)\n",
    "\n",
    "print(\"Model Accuracy: {0:.4f}\".format(metrics.accuracy_score(y_train_res, lda_mobile_train_predict)))"
   ]
  },
  {
   "cell_type": "markdown",
   "metadata": {},
   "source": [
    "### Performance of our model with testing data"
   ]
  },
  {
   "cell_type": "code",
   "execution_count": 80,
   "metadata": {},
   "outputs": [
    {
     "name": "stdout",
     "output_type": "stream",
     "text": [
      "Model Accuracy: 0.8474\n"
     ]
    }
   ],
   "source": [
    "lda_mobile_test_predict = lda_sm_mobile_model.predict(X_test)\n",
    "\n",
    "print(\"Model Accuracy: {0:.4f}\".format(metrics.accuracy_score(Y_test, lda_mobile_test_predict)))"
   ]
  },
  {
   "cell_type": "markdown",
   "metadata": {},
   "source": [
    "### Training Data and Test Data Confusion Matrix Comparison"
   ]
  },
  {
   "cell_type": "code",
   "execution_count": 81,
   "metadata": {},
   "outputs": [
    {
     "data": {
      "image/png": "[encoded data removed]",
      "text/plain": [
       "<Figure size 1080x360 with 4 Axes>"
      ]
     },
     "metadata": {
      "needs_background": "light"
     },
     "output_type": "display_data"
    }
   ],
   "source": [
    "rcParams['figure.figsize'] = 15,5\n",
    "\n",
    "f,a =  plt.subplots(1,2,sharex=True,sharey=True,squeeze=False)\n",
    "\n",
    "#Plotting confusion matrix for the different models for the Training Data\n",
    "\n",
    "plot_0 = sns.heatmap((metrics.confusion_matrix(y_train_res,lda_mobile_train_predict)),annot=True,fmt='.5g',cmap='Greys',ax=a[0][0]);\n",
    "a[0][0].set_title('Training Data')\n",
    "\n",
    "plot_1 = sns.heatmap((metrics.confusion_matrix(Y_test,lda_mobile_test_predict)),annot=True,fmt='.5g',cmap='Greys',ax=a[0][1]);\n",
    "a[0][1].set_title('Test Data');"
   ]
  },
  {
   "cell_type": "markdown",
   "metadata": {},
   "source": [
    "### Training Data and Test Data Classification Report Comparison"
   ]
  },
  {
   "cell_type": "code",
   "execution_count": 82,
   "metadata": {},
   "outputs": [
    {
     "name": "stdout",
     "output_type": "stream",
     "text": [
      "Classification Report of the training data:\n",
      "\n",
      "               precision    recall  f1-score   support\n",
      "\n",
      "           0       0.74      0.94      0.83      5572\n",
      "           1       0.92      0.67      0.78      5572\n",
      "\n",
      "    accuracy                           0.81     11144\n",
      "   macro avg       0.83      0.81      0.80     11144\n",
      "weighted avg       0.83      0.81      0.80     11144\n",
      " \n",
      "\n",
      "Classification Report of the test data:\n",
      "\n",
      "               precision    recall  f1-score   support\n",
      "\n",
      "           0       0.89      0.94      0.91      2389\n",
      "           1       0.50      0.32      0.39       428\n",
      "\n",
      "    accuracy                           0.85      2817\n",
      "   macro avg       0.69      0.63      0.65      2817\n",
      "weighted avg       0.83      0.85      0.83      2817\n",
      " \n",
      "\n"
     ]
    }
   ],
   "source": [
    "print('Classification Report of the training data:\\n\\n',metrics.classification_report(y_train_res,lda_mobile_train_predict),'\\n')\n",
    "print('Classification Report of the test data:\\n\\n',metrics.classification_report(Y_test,lda_mobile_test_predict),'\\n')"
   ]
  },
  {
   "cell_type": "markdown",
   "metadata": {},
   "source": [
    "### Probability prediction for the training and test data"
   ]
  },
  {
   "cell_type": "code",
   "execution_count": 83,
   "metadata": {},
   "outputs": [],
   "source": [
    "# Training Data Probability Prediction\n",
    "pred_prob_lda_mobile_train = lda_sm_mobile_model.predict_proba(X_train_res)\n",
    "\n",
    "# Test Data Probability Prediction\n",
    "pred_prob_lda_mobile_test = lda_sm_mobile_model.predict_proba(X_test)"
   ]
  },
  {
   "cell_type": "code",
   "execution_count": 84,
   "metadata": {},
   "outputs": [
    {
     "name": "stdout",
     "output_type": "stream",
     "text": [
      "AUC for the Training Data: 0.886\n",
      "AUC for the Test Data: 0.773\n"
     ]
    },
    {
     "data": {
      "image/png": "[encoded data removed]",
      "text/plain": [
       "<Figure size 1080x360 with 1 Axes>"
      ]
     },
     "metadata": {
      "needs_background": "light"
     },
     "output_type": "display_data"
    }
   ],
   "source": [
    "# AUC and ROC for the training data\n",
    "\n",
    "# calculate AUC\n",
    "auc = metrics.roc_auc_score(y_train_res,pred_prob_lda_mobile_train[:,1])\n",
    "print('AUC for the Training Data: %.3f' % auc)\n",
    "\n",
    "#  calculate roc curve\n",
    "fpr, tpr, thresholds = metrics.roc_curve(y_train_res,pred_prob_lda_mobile_train[:,1])\n",
    "plt.plot([0, 1], [0, 1], linestyle='--')\n",
    "# plot the roc curve for the model\n",
    "plt.plot(fpr, tpr, marker='.',label = 'Training Data')\n",
    "\n",
    "\n",
    "# AUC and ROC for the test data\n",
    "\n",
    "# calculate AUC\n",
    "auc = metrics.roc_auc_score(Y_test,pred_prob_lda_mobile_test[:,1])\n",
    "print('AUC for the Test Data: %.3f' % auc)\n",
    "\n",
    "#  calculate roc curve\n",
    "fpr, tpr, thresholds = metrics.roc_curve(Y_test,pred_prob_lda_mobile_test[:,1])\n",
    "plt.plot([0, 1], [0, 1], linestyle='--')\n",
    "# plot the roc curve for the model\n",
    "plt.plot(fpr, tpr, marker='.',label='Test Data')\n",
    "# show the plot\n",
    "plt.legend(loc='best')\n",
    "plt.show()"
   ]
  },
  {
   "cell_type": "code",
   "execution_count": 85,
   "metadata": {},
   "outputs": [
    {
     "data": {
      "text/html": [
       "<div>\n",
       "<style scoped>\n",
       "    .dataframe tbody tr th:only-of-type {\n",
       "        vertical-align: middle;\n",
       "    }\n",
       "\n",
       "    .dataframe tbody tr th {\n",
       "        vertical-align: top;\n",
       "    }\n",
       "\n",
       "    .dataframe thead th {\n",
       "        text-align: right;\n",
       "    }\n",
       "</style>\n",
       "<table border=\"1\" class=\"dataframe\">\n",
       "  <thead>\n",
       "    <tr style=\"text-align: right;\">\n",
       "      <th></th>\n",
       "      <th>accuracy</th>\n",
       "      <th>recall_on_true</th>\n",
       "      <th>recall_on_false</th>\n",
       "      <th>auc_score</th>\n",
       "    </tr>\n",
       "  </thead>\n",
       "  <tbody>\n",
       "    <tr>\n",
       "      <th>naivebayes_mobile_model</th>\n",
       "      <td>0.858715</td>\n",
       "      <td>0.19</td>\n",
       "      <td>0.98</td>\n",
       "      <td>NaN</td>\n",
       "    </tr>\n",
       "    <tr>\n",
       "      <th>naivebayes_laptop_model</th>\n",
       "      <td>0.819820</td>\n",
       "      <td>0.59</td>\n",
       "      <td>0.91</td>\n",
       "      <td>NaN</td>\n",
       "    </tr>\n",
       "    <tr>\n",
       "      <th>lda_mobile_model</th>\n",
       "      <td>0.862620</td>\n",
       "      <td>0.19</td>\n",
       "      <td>0.98</td>\n",
       "      <td>0.778</td>\n",
       "    </tr>\n",
       "    <tr>\n",
       "      <th>lda_laptop_model</th>\n",
       "      <td>0.810811</td>\n",
       "      <td>0.42</td>\n",
       "      <td>0.94</td>\n",
       "      <td>0.817</td>\n",
       "    </tr>\n",
       "    <tr>\n",
       "      <th>naivebayes_sm_mobile_model</th>\n",
       "      <td>0.473553</td>\n",
       "      <td>0.72</td>\n",
       "      <td>0.43</td>\n",
       "      <td>NaN</td>\n",
       "    </tr>\n",
       "    <tr>\n",
       "      <th>naivebayes_sm_laptop_model</th>\n",
       "      <td>0.579580</td>\n",
       "      <td>0.82</td>\n",
       "      <td>0.48</td>\n",
       "      <td>NaN</td>\n",
       "    </tr>\n",
       "    <tr>\n",
       "      <th>lda_sm_mobile_model</th>\n",
       "      <td>0.847355</td>\n",
       "      <td>0.32</td>\n",
       "      <td>0.94</td>\n",
       "      <td>0.773</td>\n",
       "    </tr>\n",
       "  </tbody>\n",
       "</table>\n",
       "</div>"
      ],
      "text/plain": [
       "                            accuracy  recall_on_true  recall_on_false  \\\n",
       "naivebayes_mobile_model     0.858715            0.19             0.98   \n",
       "naivebayes_laptop_model     0.819820            0.59             0.91   \n",
       "lda_mobile_model            0.862620            0.19             0.98   \n",
       "lda_laptop_model            0.810811            0.42             0.94   \n",
       "naivebayes_sm_mobile_model  0.473553            0.72             0.43   \n",
       "naivebayes_sm_laptop_model  0.579580            0.82             0.48   \n",
       "lda_sm_mobile_model         0.847355            0.32             0.94   \n",
       "\n",
       "                            auc_score  \n",
       "naivebayes_mobile_model           NaN  \n",
       "naivebayes_laptop_model           NaN  \n",
       "lda_mobile_model                0.778  \n",
       "lda_laptop_model                0.817  \n",
       "naivebayes_sm_mobile_model        NaN  \n",
       "naivebayes_sm_laptop_model        NaN  \n",
       "lda_sm_mobile_model             0.773  "
      ]
     },
     "execution_count": 85,
     "metadata": {},
     "output_type": "execute_result"
    }
   ],
   "source": [
    "df = pd.DataFrame({\"accuracy\": metrics.accuracy_score(Y_test, lda_mobile_test_predict),\n",
    "                    \"recall_on_true\": 0.32,\n",
    "                    \"recall_on_false\": 0.94,\n",
    "                    \"auc_score\": 0.773\n",
    "                   },index=['lda_sm_mobile_model'])\n",
    "\n",
    "predictions_test = pd.concat([predictions_test, df])\n",
    "predictions_test"
   ]
  },
  {
   "cell_type": "markdown",
   "metadata": {},
   "source": [
    "### For Laptop Dataset"
   ]
  },
  {
   "cell_type": "code",
   "execution_count": 86,
   "metadata": {},
   "outputs": [],
   "source": [
    "X = social_media_data_laptop.drop('Buy_ticket',axis=1) # Predictor feature columns\n",
    "\n",
    "Y = social_media_data_laptop['Buy_ticket'] # Predicted class (1=True, 0=False)"
   ]
  },
  {
   "cell_type": "code",
   "execution_count": 87,
   "metadata": {},
   "outputs": [],
   "source": [
    "X_train, X_test, Y_train, Y_test = model_selection.train_test_split(X,Y,test_size=0.3,random_state=1,stratify = Y)"
   ]
  },
  {
   "cell_type": "code",
   "execution_count": 88,
   "metadata": {},
   "outputs": [],
   "source": [
    "sm = SMOTE(random_state=1)"
   ]
  },
  {
   "cell_type": "code",
   "execution_count": 89,
   "metadata": {},
   "outputs": [],
   "source": [
    "X_train_res, y_train_res = sm.fit_resample(X_train, Y_train.ravel())"
   ]
  },
  {
   "cell_type": "code",
   "execution_count": 90,
   "metadata": {},
   "outputs": [],
   "source": [
    "# create the model\n",
    "lda = LinearDiscriminantAnalysis()\n",
    "lda_sm_laptop_model = lda.fit(X_train_res,y_train_res)"
   ]
  },
  {
   "cell_type": "markdown",
   "metadata": {},
   "source": [
    "### Performance of our model with training data"
   ]
  },
  {
   "cell_type": "code",
   "execution_count": 91,
   "metadata": {},
   "outputs": [
    {
     "name": "stdout",
     "output_type": "stream",
     "text": [
      "Model Accuracy: 0.8265\n"
     ]
    }
   ],
   "source": [
    "lda_laptop_train_predict = lda_sm_laptop_model.predict(X_train_res)\n",
    "\n",
    "print(\"Model Accuracy: {0:.4f}\".format(metrics.accuracy_score(y_train_res, lda_laptop_train_predict)))"
   ]
  },
  {
   "cell_type": "markdown",
   "metadata": {},
   "source": [
    "### Performance of our model with testing data"
   ]
  },
  {
   "cell_type": "code",
   "execution_count": 92,
   "metadata": {},
   "outputs": [
    {
     "name": "stdout",
     "output_type": "stream",
     "text": [
      "Model Accuracy: 0.8078\n"
     ]
    }
   ],
   "source": [
    "lda_laptop_test_predict = lda_sm_laptop_model.predict(X_test)\n",
    "\n",
    "print(\"Model Accuracy: {0:.4f}\".format(metrics.accuracy_score(Y_test, lda_laptop_test_predict)))"
   ]
  },
  {
   "cell_type": "markdown",
   "metadata": {},
   "source": [
    "### Training Data and Test Data Confusion Matrix Comparison"
   ]
  },
  {
   "cell_type": "code",
   "execution_count": 93,
   "metadata": {},
   "outputs": [
    {
     "data": {
      "image/png": "[encoded data removed]",
      "text/plain": [
       "<Figure size 1080x360 with 4 Axes>"
      ]
     },
     "metadata": {
      "needs_background": "light"
     },
     "output_type": "display_data"
    }
   ],
   "source": [
    "rcParams['figure.figsize'] = 15,5\n",
    "\n",
    "f,a =  plt.subplots(1,2,sharex=True,sharey=True,squeeze=False)\n",
    "\n",
    "#Plotting confusion matrix for the different models for the Training Data\n",
    "\n",
    "plot_0 = sns.heatmap((metrics.confusion_matrix(y_train_res,lda_laptop_train_predict)),annot=True,fmt='.5g',cmap='Greys',ax=a[0][0]);\n",
    "a[0][0].set_title('Training Data')\n",
    "\n",
    "plot_1 = sns.heatmap((metrics.confusion_matrix(Y_test,lda_laptop_test_predict)),annot=True,fmt='.5g',cmap='Greys',ax=a[0][1]);\n",
    "a[0][1].set_title('Test Data');"
   ]
  },
  {
   "cell_type": "markdown",
   "metadata": {},
   "source": [
    "### Training Data and Test Data Classification Report Comparison"
   ]
  },
  {
   "cell_type": "code",
   "execution_count": 94,
   "metadata": {},
   "outputs": [
    {
     "name": "stdout",
     "output_type": "stream",
     "text": [
      "Classification Report of the training data:\n",
      "\n",
      "               precision    recall  f1-score   support\n",
      "\n",
      "           0       0.81      0.85      0.83       582\n",
      "           1       0.85      0.80      0.82       582\n",
      "\n",
      "    accuracy                           0.83      1164\n",
      "   macro avg       0.83      0.83      0.83      1164\n",
      "weighted avg       0.83      0.83      0.83      1164\n",
      " \n",
      "\n",
      "Classification Report of the test data:\n",
      "\n",
      "               precision    recall  f1-score   support\n",
      "\n",
      "           0       0.86      0.88      0.87       250\n",
      "           1       0.62      0.58      0.60        83\n",
      "\n",
      "    accuracy                           0.81       333\n",
      "   macro avg       0.74      0.73      0.74       333\n",
      "weighted avg       0.80      0.81      0.81       333\n",
      " \n",
      "\n"
     ]
    }
   ],
   "source": [
    "print('Classification Report of the training data:\\n\\n',metrics.classification_report(y_train_res,lda_laptop_train_predict),'\\n')\n",
    "print('Classification Report of the test data:\\n\\n',metrics.classification_report(Y_test,lda_laptop_test_predict),'\\n')"
   ]
  },
  {
   "cell_type": "markdown",
   "metadata": {},
   "source": [
    "### Probability prediction for the training and test data"
   ]
  },
  {
   "cell_type": "code",
   "execution_count": 95,
   "metadata": {},
   "outputs": [],
   "source": [
    "# Training Data Probability Prediction\n",
    "pred_prob_lda_laptop_train = lda_sm_laptop_model.predict_proba(X_train_res)\n",
    "\n",
    "# Test Data Probability Prediction\n",
    "pred_prob_lda_laptop_test = lda_sm_laptop_model.predict_proba(X_test)"
   ]
  },
  {
   "cell_type": "code",
   "execution_count": 96,
   "metadata": {},
   "outputs": [
    {
     "name": "stdout",
     "output_type": "stream",
     "text": [
      "AUC for the Training Data: 0.899\n",
      "AUC for the Test Data: 0.805\n"
     ]
    },
    {
     "data": {
      "image/png": "[encoded data removed]",
      "text/plain": [
       "<Figure size 1080x360 with 1 Axes>"
      ]
     },
     "metadata": {
      "needs_background": "light"
     },
     "output_type": "display_data"
    }
   ],
   "source": [
    "# AUC and ROC for the training data\n",
    "\n",
    "# calculate AUC\n",
    "auc = metrics.roc_auc_score(y_train_res,pred_prob_lda_laptop_train[:,1])\n",
    "print('AUC for the Training Data: %.3f' % auc)\n",
    "\n",
    "#  calculate roc curve\n",
    "fpr, tpr, thresholds = metrics.roc_curve(y_train_res,pred_prob_lda_laptop_train[:,1])\n",
    "plt.plot([0, 1], [0, 1], linestyle='--')\n",
    "# plot the roc curve for the model\n",
    "plt.plot(fpr, tpr, marker='.',label = 'Training Data')\n",
    "\n",
    "\n",
    "# AUC and ROC for the test data\n",
    "\n",
    "# calculate AUC\n",
    "auc = metrics.roc_auc_score(Y_test,pred_prob_lda_laptop_test[:,1])\n",
    "print('AUC for the Test Data: %.3f' % auc)\n",
    "\n",
    "#  calculate roc curve\n",
    "fpr, tpr, thresholds = metrics.roc_curve(Y_test,pred_prob_lda_laptop_test[:,1])\n",
    "plt.plot([0, 1], [0, 1], linestyle='--')\n",
    "# plot the roc curve for the model\n",
    "plt.plot(fpr, tpr, marker='.',label='Test Data')\n",
    "# show the plot\n",
    "plt.legend(loc='best')\n",
    "plt.show()"
   ]
  },
  {
   "cell_type": "code",
   "execution_count": 97,
   "metadata": {},
   "outputs": [
    {
     "data": {
      "text/html": [
       "<div>\n",
       "<style scoped>\n",
       "    .dataframe tbody tr th:only-of-type {\n",
       "        vertical-align: middle;\n",
       "    }\n",
       "\n",
       "    .dataframe tbody tr th {\n",
       "        vertical-align: top;\n",
       "    }\n",
       "\n",
       "    .dataframe thead th {\n",
       "        text-align: right;\n",
       "    }\n",
       "</style>\n",
       "<table border=\"1\" class=\"dataframe\">\n",
       "  <thead>\n",
       "    <tr style=\"text-align: right;\">\n",
       "      <th></th>\n",
       "      <th>accuracy</th>\n",
       "      <th>recall_on_true</th>\n",
       "      <th>recall_on_false</th>\n",
       "      <th>auc_score</th>\n",
       "    </tr>\n",
       "  </thead>\n",
       "  <tbody>\n",
       "    <tr>\n",
       "      <th>naivebayes_mobile_model</th>\n",
       "      <td>0.858715</td>\n",
       "      <td>0.19</td>\n",
       "      <td>0.98</td>\n",
       "      <td>NaN</td>\n",
       "    </tr>\n",
       "    <tr>\n",
       "      <th>naivebayes_laptop_model</th>\n",
       "      <td>0.819820</td>\n",
       "      <td>0.59</td>\n",
       "      <td>0.91</td>\n",
       "      <td>NaN</td>\n",
       "    </tr>\n",
       "    <tr>\n",
       "      <th>lda_mobile_model</th>\n",
       "      <td>0.862620</td>\n",
       "      <td>0.19</td>\n",
       "      <td>0.98</td>\n",
       "      <td>0.778</td>\n",
       "    </tr>\n",
       "    <tr>\n",
       "      <th>lda_laptop_model</th>\n",
       "      <td>0.810811</td>\n",
       "      <td>0.42</td>\n",
       "      <td>0.94</td>\n",
       "      <td>0.817</td>\n",
       "    </tr>\n",
       "    <tr>\n",
       "      <th>naivebayes_sm_mobile_model</th>\n",
       "      <td>0.473553</td>\n",
       "      <td>0.72</td>\n",
       "      <td>0.43</td>\n",
       "      <td>NaN</td>\n",
       "    </tr>\n",
       "    <tr>\n",
       "      <th>naivebayes_sm_laptop_model</th>\n",
       "      <td>0.579580</td>\n",
       "      <td>0.82</td>\n",
       "      <td>0.48</td>\n",
       "      <td>NaN</td>\n",
       "    </tr>\n",
       "    <tr>\n",
       "      <th>lda_sm_mobile_model</th>\n",
       "      <td>0.847355</td>\n",
       "      <td>0.32</td>\n",
       "      <td>0.94</td>\n",
       "      <td>0.773</td>\n",
       "    </tr>\n",
       "    <tr>\n",
       "      <th>lda_sm_laptop_model</th>\n",
       "      <td>0.807808</td>\n",
       "      <td>0.58</td>\n",
       "      <td>0.88</td>\n",
       "      <td>0.805</td>\n",
       "    </tr>\n",
       "  </tbody>\n",
       "</table>\n",
       "</div>"
      ],
      "text/plain": [
       "                            accuracy  recall_on_true  recall_on_false  \\\n",
       "naivebayes_mobile_model     0.858715            0.19             0.98   \n",
       "naivebayes_laptop_model     0.819820            0.59             0.91   \n",
       "lda_mobile_model            0.862620            0.19             0.98   \n",
       "lda_laptop_model            0.810811            0.42             0.94   \n",
       "naivebayes_sm_mobile_model  0.473553            0.72             0.43   \n",
       "naivebayes_sm_laptop_model  0.579580            0.82             0.48   \n",
       "lda_sm_mobile_model         0.847355            0.32             0.94   \n",
       "lda_sm_laptop_model         0.807808            0.58             0.88   \n",
       "\n",
       "                            auc_score  \n",
       "naivebayes_mobile_model           NaN  \n",
       "naivebayes_laptop_model           NaN  \n",
       "lda_mobile_model                0.778  \n",
       "lda_laptop_model                0.817  \n",
       "naivebayes_sm_mobile_model        NaN  \n",
       "naivebayes_sm_laptop_model        NaN  \n",
       "lda_sm_mobile_model             0.773  \n",
       "lda_sm_laptop_model             0.805  "
      ]
     },
     "execution_count": 97,
     "metadata": {},
     "output_type": "execute_result"
    }
   ],
   "source": [
    "df = pd.DataFrame({\"accuracy\": metrics.accuracy_score(Y_test, lda_laptop_test_predict),\n",
    "                    \"recall_on_true\": 0.58,\n",
    "                    \"recall_on_false\": 0.88,\n",
    "                    \"auc_score\": 0.805\n",
    "                   },index=['lda_sm_laptop_model'])\n",
    "\n",
    "predictions_test = pd.concat([predictions_test, df])\n",
    "predictions_test"
   ]
  },
  {
   "cell_type": "markdown",
   "metadata": {},
   "source": [
    "## Decision Tree"
   ]
  },
  {
   "cell_type": "code",
   "execution_count": 104,
   "metadata": {},
   "outputs": [],
   "source": [
    "from sklearn.tree import DecisionTreeClassifier"
   ]
  },
  {
   "cell_type": "markdown",
   "metadata": {},
   "source": [
    "### For Mobile Dataset"
   ]
  },
  {
   "cell_type": "code",
   "execution_count": 98,
   "metadata": {},
   "outputs": [],
   "source": [
    "X = social_media_data_mobile.drop('Buy_ticket',axis=1) # Predictor feature columns\n",
    "\n",
    "Y = social_media_data_mobile['Buy_ticket'] # Predicted class (1=True, 0=False)"
   ]
  },
  {
   "cell_type": "code",
   "execution_count": 99,
   "metadata": {},
   "outputs": [],
   "source": [
    "# Split X and y into training and test set in 70:30 ratio\n",
    "\n",
    "X_train, X_test, Y_train, Y_test = model_selection.train_test_split(X,Y,test_size=0.3,random_state=1,stratify = Y)"
   ]
  },
  {
   "cell_type": "code",
   "execution_count": 100,
   "metadata": {},
   "outputs": [
    {
     "data": {
      "text/plain": [
       "(6570, 21)"
      ]
     },
     "execution_count": 100,
     "metadata": {},
     "output_type": "execute_result"
    }
   ],
   "source": [
    "## Let's check the shape before SMOTE\n",
    "X_train.shape"
   ]
  },
  {
   "cell_type": "code",
   "execution_count": 101,
   "metadata": {},
   "outputs": [],
   "source": [
    "sm = SMOTE(random_state=1)"
   ]
  },
  {
   "cell_type": "code",
   "execution_count": 102,
   "metadata": {},
   "outputs": [],
   "source": [
    "X_train_res, y_train_res = sm.fit_resample(X_train, Y_train.ravel())"
   ]
  },
  {
   "cell_type": "code",
   "execution_count": 103,
   "metadata": {},
   "outputs": [
    {
     "data": {
      "text/plain": [
       "(11144, 21)"
      ]
     },
     "execution_count": 103,
     "metadata": {},
     "output_type": "execute_result"
    }
   ],
   "source": [
    "## Let's check the shape after SMOTE\n",
    "X_train_res.shape"
   ]
  },
  {
   "cell_type": "code",
   "execution_count": 108,
   "metadata": {},
   "outputs": [],
   "source": [
    "decision_tree = DecisionTreeClassifier(criterion = 'entropy' )"
   ]
  },
  {
   "cell_type": "code",
   "execution_count": 109,
   "metadata": {},
   "outputs": [],
   "source": [
    "dt_mobile_model = decision_tree.fit(X_train_res, y_train_res)"
   ]
  },
  {
   "cell_type": "code",
   "execution_count": 111,
   "metadata": {},
   "outputs": [],
   "source": [
    "train_char_label = ['No', 'Yes']"
   ]
  },
  {
   "cell_type": "code",
   "execution_count": 112,
   "metadata": {},
   "outputs": [
    {
     "name": "stdout",
     "output_type": "stream",
     "text": [
      "                                                   Imp\n",
      "UserID                                        0.006580\n",
      "Yearly_avg_view_on_travel_page                0.097109\n",
      "total_likes_on_outstation_checkin_given       0.157853\n",
      "yearly_avg_Outstation_checkins                0.054129\n",
      "member_in_family                              0.029679\n",
      "Yearly_avg_comment_on_travel_page             0.042605\n",
      "total_likes_on_outofstation_checkin_received  0.094341\n",
      "week_since_last_outstation_checkin            0.076669\n",
      "following_company_page                        0.038257\n",
      "montly_avg_comment_on_company_page            0.007346\n",
      "working_flag                                  0.004741\n",
      "travelling_network_rating                     0.037855\n",
      "number_of_adults                              0.284209\n",
      "Daily_Avg_mins_spend_on_traveling_page        0.041927\n",
      "location__Beach                               0.006707\n",
      "location__Entertainment                       0.005125\n",
      "location__Financial                           0.004417\n",
      "location__Historical site                     0.003410\n",
      "location__Medical                             0.002680\n",
      "location__Other                               0.002599\n",
      "location__Trekking                            0.001762\n"
     ]
    }
   ],
   "source": [
    "from IPython.display import Image  \n",
    "from sklearn import tree\n",
    "from os import system\n",
    "\n",
    "Mobile_Data_DT = open('mobile_data_tree.dot','w')\n",
    "dot_data = tree.export_graphviz(dt_mobile_model, out_file=Mobile_Data_DT, feature_names = list(X_train_res), class_names = list(train_char_label))\n",
    "\n",
    "Mobile_Data_DT.close()\n",
    "\n",
    "# importance of features in the tree building ( The importance of a feature is computed as the \n",
    "#(normalized) total reduction of the criterion brought by that feature. It is also known as the Gini importance )\n",
    "\n",
    "print (pd.DataFrame(dt_mobile_model.feature_importances_, columns = [\"Imp\"], index = X_train_res.columns))"
   ]
  },
  {
   "cell_type": "markdown",
   "metadata": {},
   "source": [
    "### Performance of our model with training data"
   ]
  },
  {
   "cell_type": "code",
   "execution_count": 116,
   "metadata": {},
   "outputs": [
    {
     "name": "stdout",
     "output_type": "stream",
     "text": [
      "Model Accuracy: 1.0000\n"
     ]
    }
   ],
   "source": [
    "dt_mobile_train_predict = dt_mobile_model.predict(X_train_res)\n",
    "\n",
    "print(\"Model Accuracy: {0:.4f}\".format(metrics.accuracy_score(y_train_res, dt_mobile_train_predict)))"
   ]
  },
  {
   "cell_type": "markdown",
   "metadata": {},
   "source": [
    "### Performance of our model with testing data"
   ]
  },
  {
   "cell_type": "code",
   "execution_count": 117,
   "metadata": {},
   "outputs": [
    {
     "name": "stdout",
     "output_type": "stream",
     "text": [
      "Model Accuracy: 0.9542\n"
     ]
    }
   ],
   "source": [
    "dt_mobile_test_predict = dt_mobile_model.predict(X_test)\n",
    "\n",
    "print(\"Model Accuracy: {0:.4f}\".format(metrics.accuracy_score(Y_test, dt_mobile_test_predict)))"
   ]
  },
  {
   "cell_type": "markdown",
   "metadata": {},
   "source": [
    "### Training Data and Test Data Confusion Matrix Comparison"
   ]
  },
  {
   "cell_type": "code",
   "execution_count": 118,
   "metadata": {},
   "outputs": [
    {
     "data": {
      "image/png": "[encoded data removed]",
      "text/plain": [
       "<Figure size 1080x360 with 4 Axes>"
      ]
     },
     "metadata": {
      "needs_background": "light"
     },
     "output_type": "display_data"
    }
   ],
   "source": [
    "rcParams['figure.figsize'] = 15,5\n",
    "\n",
    "f,a =  plt.subplots(1,2,sharex=True,sharey=True,squeeze=False)\n",
    "\n",
    "#Plotting confusion matrix for the different models for the Training Data\n",
    "\n",
    "plot_0 = sns.heatmap((metrics.confusion_matrix(y_train_res,dt_mobile_train_predict)),annot=True,fmt='.5g',cmap='Greys',ax=a[0][0]);\n",
    "a[0][0].set_title('Training Data')\n",
    "\n",
    "plot_1 = sns.heatmap((metrics.confusion_matrix(Y_test,dt_mobile_test_predict)),annot=True,fmt='.5g',cmap='Greys',ax=a[0][1]);\n",
    "a[0][1].set_title('Test Data');"
   ]
  },
  {
   "cell_type": "markdown",
   "metadata": {},
   "source": [
    "### Training Data and Test Data Classification Report Comparison"
   ]
  },
  {
   "cell_type": "code",
   "execution_count": 119,
   "metadata": {},
   "outputs": [
    {
     "name": "stdout",
     "output_type": "stream",
     "text": [
      "Classification Report of the training data:\n",
      "\n",
      "               precision    recall  f1-score   support\n",
      "\n",
      "           0       1.00      1.00      1.00      5572\n",
      "           1       1.00      1.00      1.00      5572\n",
      "\n",
      "    accuracy                           1.00     11144\n",
      "   macro avg       1.00      1.00      1.00     11144\n",
      "weighted avg       1.00      1.00      1.00     11144\n",
      " \n",
      "\n",
      "Classification Report of the test data:\n",
      "\n",
      "               precision    recall  f1-score   support\n",
      "\n",
      "           0       0.98      0.97      0.97      2389\n",
      "           1       0.83      0.88      0.85       428\n",
      "\n",
      "    accuracy                           0.95      2817\n",
      "   macro avg       0.90      0.92      0.91      2817\n",
      "weighted avg       0.96      0.95      0.95      2817\n",
      " \n",
      "\n"
     ]
    }
   ],
   "source": [
    "print('Classification Report of the training data:\\n\\n',metrics.classification_report(y_train_res,dt_mobile_train_predict),'\\n')\n",
    "print('Classification Report of the test data:\\n\\n',metrics.classification_report(Y_test,dt_mobile_test_predict),'\\n')"
   ]
  },
  {
   "cell_type": "markdown",
   "metadata": {},
   "source": [
    "### Probability prediction for the training and test data"
   ]
  },
  {
   "cell_type": "code",
   "execution_count": 120,
   "metadata": {},
   "outputs": [],
   "source": [
    "# Training Data Probabilaity Prediction\n",
    "pred_prob_dt_mobile_train = dt_mobile_model.predict_proba(X_train_res)\n",
    "\n",
    "# Test Data Probability Prediction\n",
    "pred_prob_dt_mobile_test = dt_mobile_model.predict_proba(X_test)"
   ]
  },
  {
   "cell_type": "code",
   "execution_count": 121,
   "metadata": {},
   "outputs": [
    {
     "name": "stdout",
     "output_type": "stream",
     "text": [
      "AUC for the Training Data: 1.000\n",
      "AUC for the Test Data: 0.922\n"
     ]
    },
    {
     "data": {
      "image/png": "[encoded data removed]",
      "text/plain": [
       "<Figure size 1080x360 with 1 Axes>"
      ]
     },
     "metadata": {
      "needs_background": "light"
     },
     "output_type": "display_data"
    }
   ],
   "source": [
    "# AUC and ROC for the training data\n",
    "\n",
    "# calculate AUC\n",
    "auc = metrics.roc_auc_score(y_train_res,pred_prob_dt_mobile_train[:,1])\n",
    "print('AUC for the Training Data: %.3f' % auc)\n",
    "\n",
    "#  calculate roc curve\n",
    "fpr, tpr, thresholds = metrics.roc_curve(y_train_res,pred_prob_dt_mobile_train[:,1])\n",
    "plt.plot([0, 1], [0, 1], linestyle='--')\n",
    "# plot the roc curve for the model\n",
    "plt.plot(fpr, tpr, marker='.',label = 'Training Data')\n",
    "\n",
    "\n",
    "# AUC and ROC for the test data\n",
    "\n",
    "# calculate AUC\n",
    "auc = metrics.roc_auc_score(Y_test,pred_prob_dt_mobile_test[:,1])\n",
    "print('AUC for the Test Data: %.3f' % auc)\n",
    "\n",
    "#  calculate roc curve\n",
    "fpr, tpr, thresholds = metrics.roc_curve(Y_test,pred_prob_dt_mobile_test[:,1])\n",
    "plt.plot([0, 1], [0, 1], linestyle='--')\n",
    "# plot the roc curve for the model\n",
    "plt.plot(fpr, tpr, marker='.',label='Test Data')\n",
    "# show the plot\n",
    "plt.legend(loc='best')\n",
    "plt.show()"
   ]
  },
  {
   "cell_type": "code",
   "execution_count": 122,
   "metadata": {},
   "outputs": [
    {
     "data": {
      "text/html": [
       "<div>\n",
       "<style scoped>\n",
       "    .dataframe tbody tr th:only-of-type {\n",
       "        vertical-align: middle;\n",
       "    }\n",
       "\n",
       "    .dataframe tbody tr th {\n",
       "        vertical-align: top;\n",
       "    }\n",
       "\n",
       "    .dataframe thead th {\n",
       "        text-align: right;\n",
       "    }\n",
       "</style>\n",
       "<table border=\"1\" class=\"dataframe\">\n",
       "  <thead>\n",
       "    <tr style=\"text-align: right;\">\n",
       "      <th></th>\n",
       "      <th>accuracy</th>\n",
       "      <th>recall_on_true</th>\n",
       "      <th>recall_on_false</th>\n",
       "      <th>auc_score</th>\n",
       "    </tr>\n",
       "  </thead>\n",
       "  <tbody>\n",
       "    <tr>\n",
       "      <th>naivebayes_mobile_model</th>\n",
       "      <td>0.858715</td>\n",
       "      <td>0.19</td>\n",
       "      <td>0.98</td>\n",
       "      <td>NaN</td>\n",
       "    </tr>\n",
       "    <tr>\n",
       "      <th>naivebayes_laptop_model</th>\n",
       "      <td>0.819820</td>\n",
       "      <td>0.59</td>\n",
       "      <td>0.91</td>\n",
       "      <td>NaN</td>\n",
       "    </tr>\n",
       "    <tr>\n",
       "      <th>lda_mobile_model</th>\n",
       "      <td>0.862620</td>\n",
       "      <td>0.19</td>\n",
       "      <td>0.98</td>\n",
       "      <td>0.778</td>\n",
       "    </tr>\n",
       "    <tr>\n",
       "      <th>lda_laptop_model</th>\n",
       "      <td>0.810811</td>\n",
       "      <td>0.42</td>\n",
       "      <td>0.94</td>\n",
       "      <td>0.817</td>\n",
       "    </tr>\n",
       "    <tr>\n",
       "      <th>naivebayes_sm_mobile_model</th>\n",
       "      <td>0.473553</td>\n",
       "      <td>0.72</td>\n",
       "      <td>0.43</td>\n",
       "      <td>NaN</td>\n",
       "    </tr>\n",
       "    <tr>\n",
       "      <th>naivebayes_sm_laptop_model</th>\n",
       "      <td>0.579580</td>\n",
       "      <td>0.82</td>\n",
       "      <td>0.48</td>\n",
       "      <td>NaN</td>\n",
       "    </tr>\n",
       "    <tr>\n",
       "      <th>lda_sm_mobile_model</th>\n",
       "      <td>0.847355</td>\n",
       "      <td>0.32</td>\n",
       "      <td>0.94</td>\n",
       "      <td>0.773</td>\n",
       "    </tr>\n",
       "    <tr>\n",
       "      <th>lda_sm_laptop_model</th>\n",
       "      <td>0.807808</td>\n",
       "      <td>0.58</td>\n",
       "      <td>0.88</td>\n",
       "      <td>0.805</td>\n",
       "    </tr>\n",
       "    <tr>\n",
       "      <th>dt_mobile_model</th>\n",
       "      <td>0.954207</td>\n",
       "      <td>0.88</td>\n",
       "      <td>0.97</td>\n",
       "      <td>0.922</td>\n",
       "    </tr>\n",
       "  </tbody>\n",
       "</table>\n",
       "</div>"
      ],
      "text/plain": [
       "                            accuracy  recall_on_true  recall_on_false  \\\n",
       "naivebayes_mobile_model     0.858715            0.19             0.98   \n",
       "naivebayes_laptop_model     0.819820            0.59             0.91   \n",
       "lda_mobile_model            0.862620            0.19             0.98   \n",
       "lda_laptop_model            0.810811            0.42             0.94   \n",
       "naivebayes_sm_mobile_model  0.473553            0.72             0.43   \n",
       "naivebayes_sm_laptop_model  0.579580            0.82             0.48   \n",
       "lda_sm_mobile_model         0.847355            0.32             0.94   \n",
       "lda_sm_laptop_model         0.807808            0.58             0.88   \n",
       "dt_mobile_model             0.954207            0.88             0.97   \n",
       "\n",
       "                            auc_score  \n",
       "naivebayes_mobile_model           NaN  \n",
       "naivebayes_laptop_model           NaN  \n",
       "lda_mobile_model                0.778  \n",
       "lda_laptop_model                0.817  \n",
       "naivebayes_sm_mobile_model        NaN  \n",
       "naivebayes_sm_laptop_model        NaN  \n",
       "lda_sm_mobile_model             0.773  \n",
       "lda_sm_laptop_model             0.805  \n",
       "dt_mobile_model                 0.922  "
      ]
     },
     "execution_count": 122,
     "metadata": {},
     "output_type": "execute_result"
    }
   ],
   "source": [
    "df = pd.DataFrame({\"accuracy\": metrics.accuracy_score(Y_test, dt_mobile_test_predict),\n",
    "                    \"recall_on_true\": 0.88,\n",
    "                    \"recall_on_false\": 0.97,\n",
    "                    \"auc_score\": 0.922\n",
    "                   },index=['dt_mobile_model'])\n",
    "\n",
    "predictions_test = pd.concat([predictions_test, df])\n",
    "predictions_test"
   ]
  },
  {
   "cell_type": "markdown",
   "metadata": {},
   "source": [
    "### For Laptop Dataset"
   ]
  },
  {
   "cell_type": "code",
   "execution_count": null,
   "metadata": {},
   "outputs": [],
   "source": []
  }
 ],
 "metadata": {
  "colab": {
   "authorship_tag": "ABX9TyP0r6bYSvZ/AGlQ3ZWnLnuJ",
   "collapsed_sections": [],
   "include_colab_link": true,
   "name": "Social_Media_Tourism.ipynb",
   "provenance": []
  },
  "kernelspec": {
   "display_name": "Python 3",
   "language": "python",
   "name": "python3"
  },
  "language_info": {
   "codemirror_mode": {
    "name": "ipython",
    "version": 3
   },
   "file_extension": ".py",
   "mimetype": "text/x-python",
   "name": "python",
   "nbconvert_exporter": "python",
   "pygments_lexer": "ipython3",
   "version": "3.8.8"
  }
 },
 "nbformat": 4,
 "nbformat_minor": 1
}
