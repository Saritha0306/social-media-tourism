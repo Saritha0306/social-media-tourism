{
 "cells": [
  {
   "cell_type": "markdown",
   "metadata": {},
   "source": [
    "### Problem Statement\n",
    "An aviation company that provides domestic as well as international trips to the customers now wants to apply atargeted approach instead of reaching out to each of the customers. This time they want to do it digitally instead of tele calling. Hence they have collaborated with a social networking platform, so they can learn the digital and social behaviour of the customers and provide the digital advertisement on the userpage of the targeted customerswho have a high propensity to take up the product."
   ]
  },
  {
   "cell_type": "code",
   "execution_count": 48,
   "metadata": {
    "id": "N9zlplasXKb3"
   },
   "outputs": [],
   "source": [
    "import numpy as np\n",
    "import pandas as pd\n",
    "\n",
    "import matplotlib.pyplot as plt\n",
    "\n",
    "import seaborn as sns # for making plots with seaborn\n",
    "color = sns.color_palette()\n",
    "\n",
    "import sklearn.metrics as metrics\n",
    "from sklearn import model_selection\n",
    "\n",
    "from pylab import rcParams\n",
    "\n",
    "import warnings\n",
    "warnings.filterwarnings(\"ignore\")"
   ]
  },
  {
   "cell_type": "markdown",
   "metadata": {},
   "source": [
    "# Project Notes - 1"
   ]
  },
  {
   "cell_type": "markdown",
   "metadata": {
    "id": "mymc8KkiyN1-"
   },
   "source": [
    "### **Read the Dataset**"
   ]
  },
  {
   "cell_type": "code",
   "execution_count": 3,
   "metadata": {
    "collapsed": true,
    "id": "vD0X64GkYi-4"
   },
   "outputs": [],
   "source": [
    "dataset_url = 'Social Media Data for DSBA.csv'\n",
    "\n",
    "social_media_data = pd.read_csv(dataset_url)"
   ]
  },
  {
   "cell_type": "code",
   "execution_count": 4,
   "metadata": {
    "colab": {
     "base_uri": "https://localhost:8080/",
     "height": 270
    },
    "collapsed": true,
    "id": "cg7MJI5_sWYZ",
    "outputId": "f41669b8-1e4a-4507-88a2-07ef1fbf4950"
   },
   "outputs": [
    {
     "data": {
      "text/html": [
       "<div>\n",
       "<style scoped>\n",
       "    .dataframe tbody tr th:only-of-type {\n",
       "        vertical-align: middle;\n",
       "    }\n",
       "\n",
       "    .dataframe tbody tr th {\n",
       "        vertical-align: top;\n",
       "    }\n",
       "\n",
       "    .dataframe thead th {\n",
       "        text-align: right;\n",
       "    }\n",
       "</style>\n",
       "<table border=\"1\" class=\"dataframe\">\n",
       "  <thead>\n",
       "    <tr style=\"text-align: right;\">\n",
       "      <th></th>\n",
       "      <th>UserID</th>\n",
       "      <th>Taken_product</th>\n",
       "      <th>Yearly_avg_view_on_travel_page</th>\n",
       "      <th>preferred_device</th>\n",
       "      <th>total_likes_on_outstation_checkin_given</th>\n",
       "      <th>yearly_avg_Outstation_checkins</th>\n",
       "      <th>member_in_family</th>\n",
       "      <th>preferred_location_type</th>\n",
       "      <th>Yearly_avg_comment_on_travel_page</th>\n",
       "      <th>total_likes_on_outofstation_checkin_received</th>\n",
       "      <th>week_since_last_outstation_checkin</th>\n",
       "      <th>following_company_page</th>\n",
       "      <th>montly_avg_comment_on_company_page</th>\n",
       "      <th>working_flag</th>\n",
       "      <th>travelling_network_rating</th>\n",
       "      <th>Adult_flag</th>\n",
       "      <th>Daily_Avg_mins_spend_on_traveling_page</th>\n",
       "    </tr>\n",
       "  </thead>\n",
       "  <tbody>\n",
       "    <tr>\n",
       "      <th>0</th>\n",
       "      <td>1000001</td>\n",
       "      <td>Yes</td>\n",
       "      <td>307.0</td>\n",
       "      <td>iOS and Android</td>\n",
       "      <td>38570.0</td>\n",
       "      <td>1</td>\n",
       "      <td>2</td>\n",
       "      <td>Financial</td>\n",
       "      <td>94.0</td>\n",
       "      <td>5993</td>\n",
       "      <td>8</td>\n",
       "      <td>Yes</td>\n",
       "      <td>11</td>\n",
       "      <td>No</td>\n",
       "      <td>1</td>\n",
       "      <td>0.0</td>\n",
       "      <td>8.0</td>\n",
       "    </tr>\n",
       "    <tr>\n",
       "      <th>1</th>\n",
       "      <td>1000002</td>\n",
       "      <td>No</td>\n",
       "      <td>367.0</td>\n",
       "      <td>iOS</td>\n",
       "      <td>9765.0</td>\n",
       "      <td>1</td>\n",
       "      <td>1</td>\n",
       "      <td>Financial</td>\n",
       "      <td>61.0</td>\n",
       "      <td>5130</td>\n",
       "      <td>1</td>\n",
       "      <td>No</td>\n",
       "      <td>23</td>\n",
       "      <td>Yes</td>\n",
       "      <td>4</td>\n",
       "      <td>1.0</td>\n",
       "      <td>10.0</td>\n",
       "    </tr>\n",
       "    <tr>\n",
       "      <th>2</th>\n",
       "      <td>1000003</td>\n",
       "      <td>Yes</td>\n",
       "      <td>277.0</td>\n",
       "      <td>iOS and Android</td>\n",
       "      <td>48055.0</td>\n",
       "      <td>1</td>\n",
       "      <td>2</td>\n",
       "      <td>Other</td>\n",
       "      <td>92.0</td>\n",
       "      <td>2090</td>\n",
       "      <td>6</td>\n",
       "      <td>Yes</td>\n",
       "      <td>15</td>\n",
       "      <td>No</td>\n",
       "      <td>2</td>\n",
       "      <td>0.0</td>\n",
       "      <td>7.0</td>\n",
       "    </tr>\n",
       "    <tr>\n",
       "      <th>3</th>\n",
       "      <td>1000004</td>\n",
       "      <td>No</td>\n",
       "      <td>247.0</td>\n",
       "      <td>iOS</td>\n",
       "      <td>48720.0</td>\n",
       "      <td>1</td>\n",
       "      <td>4</td>\n",
       "      <td>Financial</td>\n",
       "      <td>56.0</td>\n",
       "      <td>2909</td>\n",
       "      <td>1</td>\n",
       "      <td>Yes</td>\n",
       "      <td>11</td>\n",
       "      <td>No</td>\n",
       "      <td>3</td>\n",
       "      <td>0.0</td>\n",
       "      <td>8.0</td>\n",
       "    </tr>\n",
       "    <tr>\n",
       "      <th>4</th>\n",
       "      <td>1000005</td>\n",
       "      <td>No</td>\n",
       "      <td>202.0</td>\n",
       "      <td>iOS and Android</td>\n",
       "      <td>20685.0</td>\n",
       "      <td>1</td>\n",
       "      <td>1</td>\n",
       "      <td>Medical</td>\n",
       "      <td>40.0</td>\n",
       "      <td>3468</td>\n",
       "      <td>9</td>\n",
       "      <td>No</td>\n",
       "      <td>12</td>\n",
       "      <td>No</td>\n",
       "      <td>4</td>\n",
       "      <td>1.0</td>\n",
       "      <td>6.0</td>\n",
       "    </tr>\n",
       "  </tbody>\n",
       "</table>\n",
       "</div>"
      ],
      "text/plain": [
       "    UserID Taken_product  Yearly_avg_view_on_travel_page preferred_device  \\\n",
       "0  1000001           Yes                           307.0  iOS and Android   \n",
       "1  1000002            No                           367.0              iOS   \n",
       "2  1000003           Yes                           277.0  iOS and Android   \n",
       "3  1000004            No                           247.0              iOS   \n",
       "4  1000005            No                           202.0  iOS and Android   \n",
       "\n",
       "   total_likes_on_outstation_checkin_given yearly_avg_Outstation_checkins  \\\n",
       "0                                  38570.0                              1   \n",
       "1                                   9765.0                              1   \n",
       "2                                  48055.0                              1   \n",
       "3                                  48720.0                              1   \n",
       "4                                  20685.0                              1   \n",
       "\n",
       "  member_in_family preferred_location_type  Yearly_avg_comment_on_travel_page  \\\n",
       "0                2               Financial                               94.0   \n",
       "1                1               Financial                               61.0   \n",
       "2                2                   Other                               92.0   \n",
       "3                4               Financial                               56.0   \n",
       "4                1                 Medical                               40.0   \n",
       "\n",
       "   total_likes_on_outofstation_checkin_received  \\\n",
       "0                                          5993   \n",
       "1                                          5130   \n",
       "2                                          2090   \n",
       "3                                          2909   \n",
       "4                                          3468   \n",
       "\n",
       "   week_since_last_outstation_checkin following_company_page  \\\n",
       "0                                   8                    Yes   \n",
       "1                                   1                     No   \n",
       "2                                   6                    Yes   \n",
       "3                                   1                    Yes   \n",
       "4                                   9                     No   \n",
       "\n",
       "   montly_avg_comment_on_company_page working_flag  travelling_network_rating  \\\n",
       "0                                  11           No                          1   \n",
       "1                                  23          Yes                          4   \n",
       "2                                  15           No                          2   \n",
       "3                                  11           No                          3   \n",
       "4                                  12           No                          4   \n",
       "\n",
       "   Adult_flag  Daily_Avg_mins_spend_on_traveling_page  \n",
       "0         0.0                                     8.0  \n",
       "1         1.0                                    10.0  \n",
       "2         0.0                                     7.0  \n",
       "3         0.0                                     8.0  \n",
       "4         1.0                                     6.0  "
      ]
     },
     "execution_count": 4,
     "metadata": {},
     "output_type": "execute_result"
    }
   ],
   "source": [
    "social_media_data.head()"
   ]
  },
  {
   "cell_type": "code",
   "execution_count": 5,
   "metadata": {
    "colab": {
     "base_uri": "https://localhost:8080/",
     "height": 270
    },
    "collapsed": true,
    "id": "GmFmv9XAZBPS",
    "outputId": "f3e4046c-c14b-48b8-dc05-b6a2318f82dc"
   },
   "outputs": [
    {
     "data": {
      "text/html": [
       "<div>\n",
       "<style scoped>\n",
       "    .dataframe tbody tr th:only-of-type {\n",
       "        vertical-align: middle;\n",
       "    }\n",
       "\n",
       "    .dataframe tbody tr th {\n",
       "        vertical-align: top;\n",
       "    }\n",
       "\n",
       "    .dataframe thead th {\n",
       "        text-align: right;\n",
       "    }\n",
       "</style>\n",
       "<table border=\"1\" class=\"dataframe\">\n",
       "  <thead>\n",
       "    <tr style=\"text-align: right;\">\n",
       "      <th></th>\n",
       "      <th>UserID</th>\n",
       "      <th>Taken_product</th>\n",
       "      <th>Yearly_avg_view_on_travel_page</th>\n",
       "      <th>preferred_device</th>\n",
       "      <th>total_likes_on_outstation_checkin_given</th>\n",
       "      <th>yearly_avg_Outstation_checkins</th>\n",
       "      <th>member_in_family</th>\n",
       "      <th>preferred_location_type</th>\n",
       "      <th>Yearly_avg_comment_on_travel_page</th>\n",
       "      <th>total_likes_on_outofstation_checkin_received</th>\n",
       "      <th>week_since_last_outstation_checkin</th>\n",
       "      <th>following_company_page</th>\n",
       "      <th>montly_avg_comment_on_company_page</th>\n",
       "      <th>working_flag</th>\n",
       "      <th>travelling_network_rating</th>\n",
       "      <th>Adult_flag</th>\n",
       "      <th>Daily_Avg_mins_spend_on_traveling_page</th>\n",
       "    </tr>\n",
       "  </thead>\n",
       "  <tbody>\n",
       "    <tr>\n",
       "      <th>11755</th>\n",
       "      <td>1011756</td>\n",
       "      <td>No</td>\n",
       "      <td>279.0</td>\n",
       "      <td>Laptop</td>\n",
       "      <td>30987.0</td>\n",
       "      <td>23</td>\n",
       "      <td>2</td>\n",
       "      <td>Historical site</td>\n",
       "      <td>58.0</td>\n",
       "      <td>2616</td>\n",
       "      <td>4</td>\n",
       "      <td>No</td>\n",
       "      <td>36</td>\n",
       "      <td>No</td>\n",
       "      <td>3</td>\n",
       "      <td>1.0</td>\n",
       "      <td>23.0</td>\n",
       "    </tr>\n",
       "    <tr>\n",
       "      <th>11756</th>\n",
       "      <td>1011757</td>\n",
       "      <td>No</td>\n",
       "      <td>305.0</td>\n",
       "      <td>Tab</td>\n",
       "      <td>21510.0</td>\n",
       "      <td>6</td>\n",
       "      <td>1</td>\n",
       "      <td>Historical site</td>\n",
       "      <td>55.0</td>\n",
       "      <td>10041</td>\n",
       "      <td>4</td>\n",
       "      <td>No</td>\n",
       "      <td>30</td>\n",
       "      <td>No</td>\n",
       "      <td>1</td>\n",
       "      <td>1.0</td>\n",
       "      <td>11.0</td>\n",
       "    </tr>\n",
       "    <tr>\n",
       "      <th>11757</th>\n",
       "      <td>1011758</td>\n",
       "      <td>No</td>\n",
       "      <td>214.0</td>\n",
       "      <td>Tab</td>\n",
       "      <td>5478.0</td>\n",
       "      <td>4</td>\n",
       "      <td>3</td>\n",
       "      <td>Beach</td>\n",
       "      <td>103.0</td>\n",
       "      <td>6203</td>\n",
       "      <td>3</td>\n",
       "      <td>Yes</td>\n",
       "      <td>40</td>\n",
       "      <td>Yes</td>\n",
       "      <td>2</td>\n",
       "      <td>1.0</td>\n",
       "      <td>12.0</td>\n",
       "    </tr>\n",
       "    <tr>\n",
       "      <th>11758</th>\n",
       "      <td>1011759</td>\n",
       "      <td>No</td>\n",
       "      <td>382.0</td>\n",
       "      <td>Laptop</td>\n",
       "      <td>35851.0</td>\n",
       "      <td>2</td>\n",
       "      <td>3</td>\n",
       "      <td>Historical site</td>\n",
       "      <td>83.0</td>\n",
       "      <td>5444</td>\n",
       "      <td>3</td>\n",
       "      <td>No</td>\n",
       "      <td>32</td>\n",
       "      <td>No</td>\n",
       "      <td>4</td>\n",
       "      <td>0.0</td>\n",
       "      <td>20.0</td>\n",
       "    </tr>\n",
       "    <tr>\n",
       "      <th>11759</th>\n",
       "      <td>1011760</td>\n",
       "      <td>No</td>\n",
       "      <td>270.0</td>\n",
       "      <td>Tab</td>\n",
       "      <td>22025.0</td>\n",
       "      <td>8</td>\n",
       "      <td>3</td>\n",
       "      <td>Historical site</td>\n",
       "      <td>104.0</td>\n",
       "      <td>4470</td>\n",
       "      <td>2</td>\n",
       "      <td>No</td>\n",
       "      <td>29</td>\n",
       "      <td>No</td>\n",
       "      <td>1</td>\n",
       "      <td>0.0</td>\n",
       "      <td>14.0</td>\n",
       "    </tr>\n",
       "  </tbody>\n",
       "</table>\n",
       "</div>"
      ],
      "text/plain": [
       "        UserID Taken_product  Yearly_avg_view_on_travel_page preferred_device  \\\n",
       "11755  1011756            No                           279.0           Laptop   \n",
       "11756  1011757            No                           305.0              Tab   \n",
       "11757  1011758            No                           214.0              Tab   \n",
       "11758  1011759            No                           382.0           Laptop   \n",
       "11759  1011760            No                           270.0              Tab   \n",
       "\n",
       "       total_likes_on_outstation_checkin_given yearly_avg_Outstation_checkins  \\\n",
       "11755                                  30987.0                             23   \n",
       "11756                                  21510.0                              6   \n",
       "11757                                   5478.0                              4   \n",
       "11758                                  35851.0                              2   \n",
       "11759                                  22025.0                              8   \n",
       "\n",
       "      member_in_family preferred_location_type  \\\n",
       "11755                2         Historical site   \n",
       "11756                1         Historical site   \n",
       "11757                3                   Beach   \n",
       "11758                3         Historical site   \n",
       "11759                3         Historical site   \n",
       "\n",
       "       Yearly_avg_comment_on_travel_page  \\\n",
       "11755                               58.0   \n",
       "11756                               55.0   \n",
       "11757                              103.0   \n",
       "11758                               83.0   \n",
       "11759                              104.0   \n",
       "\n",
       "       total_likes_on_outofstation_checkin_received  \\\n",
       "11755                                          2616   \n",
       "11756                                         10041   \n",
       "11757                                          6203   \n",
       "11758                                          5444   \n",
       "11759                                          4470   \n",
       "\n",
       "       week_since_last_outstation_checkin following_company_page  \\\n",
       "11755                                   4                     No   \n",
       "11756                                   4                     No   \n",
       "11757                                   3                    Yes   \n",
       "11758                                   3                     No   \n",
       "11759                                   2                     No   \n",
       "\n",
       "       montly_avg_comment_on_company_page working_flag  \\\n",
       "11755                                  36           No   \n",
       "11756                                  30           No   \n",
       "11757                                  40          Yes   \n",
       "11758                                  32           No   \n",
       "11759                                  29           No   \n",
       "\n",
       "       travelling_network_rating  Adult_flag  \\\n",
       "11755                          3         1.0   \n",
       "11756                          1         1.0   \n",
       "11757                          2         1.0   \n",
       "11758                          4         0.0   \n",
       "11759                          1         0.0   \n",
       "\n",
       "       Daily_Avg_mins_spend_on_traveling_page  \n",
       "11755                                    23.0  \n",
       "11756                                    11.0  \n",
       "11757                                    12.0  \n",
       "11758                                    20.0  \n",
       "11759                                    14.0  "
      ]
     },
     "execution_count": 5,
     "metadata": {},
     "output_type": "execute_result"
    }
   ],
   "source": [
    "social_media_data.tail()"
   ]
  },
  {
   "cell_type": "markdown",
   "metadata": {},
   "source": [
    "### Rename the column names as per the data dictionary for ease of understanding"
   ]
  },
  {
   "cell_type": "code",
   "execution_count": 6,
   "metadata": {
    "collapsed": true
   },
   "outputs": [],
   "source": [
    "social_media_data.rename(columns = {'Taken_product':'Buy_ticket'}, inplace = True)"
   ]
  },
  {
   "cell_type": "markdown",
   "metadata": {},
   "source": [
    "## **2. Data Report**"
   ]
  },
  {
   "cell_type": "markdown",
   "metadata": {
    "id": "ZAAaCSJdxi0y"
   },
   "source": [
    "### **Check the number of rows (observations) and the number of columns (variables)**"
   ]
  },
  {
   "cell_type": "code",
   "execution_count": 7,
   "metadata": {
    "colab": {
     "base_uri": "https://localhost:8080/"
    },
    "collapsed": true,
    "id": "dZQ3cnSzZtqm",
    "outputId": "579afe64-4a25-4af4-aabc-68f0595f320e"
   },
   "outputs": [
    {
     "name": "stdout",
     "output_type": "stream",
     "text": [
      "The number of rows (observations) is 11760 \n",
      "The number of columns (variables) is 17\n"
     ]
    }
   ],
   "source": [
    "print('The number of rows (observations) is',social_media_data.shape[0],'\\n''The number of columns (variables) is',social_media_data.shape[1])"
   ]
  },
  {
   "cell_type": "markdown",
   "metadata": {},
   "source": [
    "### **Check the Data Type of the Variables**"
   ]
  },
  {
   "cell_type": "code",
   "execution_count": 8,
   "metadata": {
    "collapsed": true
   },
   "outputs": [
    {
     "name": "stdout",
     "output_type": "stream",
     "text": [
      "<class 'pandas.core.frame.DataFrame'>\n",
      "RangeIndex: 11760 entries, 0 to 11759\n",
      "Data columns (total 17 columns):\n",
      " #   Column                                        Non-Null Count  Dtype  \n",
      "---  ------                                        --------------  -----  \n",
      " 0   UserID                                        11760 non-null  int64  \n",
      " 1   Buy_ticket                                    11760 non-null  object \n",
      " 2   Yearly_avg_view_on_travel_page                11179 non-null  float64\n",
      " 3   preferred_device                              11707 non-null  object \n",
      " 4   total_likes_on_outstation_checkin_given       11379 non-null  float64\n",
      " 5   yearly_avg_Outstation_checkins                11685 non-null  object \n",
      " 6   member_in_family                              11760 non-null  object \n",
      " 7   preferred_location_type                       11729 non-null  object \n",
      " 8   Yearly_avg_comment_on_travel_page             11554 non-null  float64\n",
      " 9   total_likes_on_outofstation_checkin_received  11760 non-null  int64  \n",
      " 10  week_since_last_outstation_checkin            11760 non-null  int64  \n",
      " 11  following_company_page                        11657 non-null  object \n",
      " 12  montly_avg_comment_on_company_page            11760 non-null  int64  \n",
      " 13  working_flag                                  11760 non-null  object \n",
      " 14  travelling_network_rating                     11760 non-null  int64  \n",
      " 15  Adult_flag                                    11759 non-null  float64\n",
      " 16  Daily_Avg_mins_spend_on_traveling_page        11759 non-null  float64\n",
      "dtypes: float64(5), int64(5), object(7)\n",
      "memory usage: 1.5+ MB\n"
     ]
    }
   ],
   "source": [
    "social_media_data.info()"
   ]
  },
  {
   "cell_type": "markdown",
   "metadata": {},
   "source": [
    "### **Check the basic measures of descriptive statistics for the continuous variables**"
   ]
  },
  {
   "cell_type": "code",
   "execution_count": 9,
   "metadata": {
    "collapsed": true
   },
   "outputs": [
    {
     "data": {
      "text/html": [
       "<div>\n",
       "<style scoped>\n",
       "    .dataframe tbody tr th:only-of-type {\n",
       "        vertical-align: middle;\n",
       "    }\n",
       "\n",
       "    .dataframe tbody tr th {\n",
       "        vertical-align: top;\n",
       "    }\n",
       "\n",
       "    .dataframe thead th {\n",
       "        text-align: right;\n",
       "    }\n",
       "</style>\n",
       "<table border=\"1\" class=\"dataframe\">\n",
       "  <thead>\n",
       "    <tr style=\"text-align: right;\">\n",
       "      <th></th>\n",
       "      <th>count</th>\n",
       "      <th>mean</th>\n",
       "      <th>std</th>\n",
       "      <th>min</th>\n",
       "      <th>25%</th>\n",
       "      <th>50%</th>\n",
       "      <th>75%</th>\n",
       "      <th>max</th>\n",
       "    </tr>\n",
       "  </thead>\n",
       "  <tbody>\n",
       "    <tr>\n",
       "      <th>UserID</th>\n",
       "      <td>11760.0</td>\n",
       "      <td>1.005880e+06</td>\n",
       "      <td>3394.963917</td>\n",
       "      <td>1000001.0</td>\n",
       "      <td>1002940.75</td>\n",
       "      <td>1005880.5</td>\n",
       "      <td>1008820.25</td>\n",
       "      <td>1011760.0</td>\n",
       "    </tr>\n",
       "    <tr>\n",
       "      <th>Yearly_avg_view_on_travel_page</th>\n",
       "      <td>11179.0</td>\n",
       "      <td>2.808308e+02</td>\n",
       "      <td>68.182958</td>\n",
       "      <td>35.0</td>\n",
       "      <td>232.00</td>\n",
       "      <td>271.0</td>\n",
       "      <td>324.00</td>\n",
       "      <td>464.0</td>\n",
       "    </tr>\n",
       "    <tr>\n",
       "      <th>total_likes_on_outstation_checkin_given</th>\n",
       "      <td>11379.0</td>\n",
       "      <td>2.817048e+04</td>\n",
       "      <td>14385.032134</td>\n",
       "      <td>3570.0</td>\n",
       "      <td>16380.00</td>\n",
       "      <td>28076.0</td>\n",
       "      <td>40525.00</td>\n",
       "      <td>252430.0</td>\n",
       "    </tr>\n",
       "    <tr>\n",
       "      <th>Yearly_avg_comment_on_travel_page</th>\n",
       "      <td>11554.0</td>\n",
       "      <td>7.479003e+01</td>\n",
       "      <td>24.026650</td>\n",
       "      <td>3.0</td>\n",
       "      <td>57.00</td>\n",
       "      <td>75.0</td>\n",
       "      <td>92.00</td>\n",
       "      <td>815.0</td>\n",
       "    </tr>\n",
       "    <tr>\n",
       "      <th>total_likes_on_outofstation_checkin_received</th>\n",
       "      <td>11760.0</td>\n",
       "      <td>6.531699e+03</td>\n",
       "      <td>4706.613785</td>\n",
       "      <td>1009.0</td>\n",
       "      <td>2940.75</td>\n",
       "      <td>4948.0</td>\n",
       "      <td>8393.25</td>\n",
       "      <td>20065.0</td>\n",
       "    </tr>\n",
       "    <tr>\n",
       "      <th>week_since_last_outstation_checkin</th>\n",
       "      <td>11760.0</td>\n",
       "      <td>3.203571e+00</td>\n",
       "      <td>2.616365</td>\n",
       "      <td>0.0</td>\n",
       "      <td>1.00</td>\n",
       "      <td>3.0</td>\n",
       "      <td>5.00</td>\n",
       "      <td>11.0</td>\n",
       "    </tr>\n",
       "    <tr>\n",
       "      <th>montly_avg_comment_on_company_page</th>\n",
       "      <td>11760.0</td>\n",
       "      <td>2.866088e+01</td>\n",
       "      <td>48.660793</td>\n",
       "      <td>4.0</td>\n",
       "      <td>17.00</td>\n",
       "      <td>22.0</td>\n",
       "      <td>27.00</td>\n",
       "      <td>500.0</td>\n",
       "    </tr>\n",
       "    <tr>\n",
       "      <th>travelling_network_rating</th>\n",
       "      <td>11760.0</td>\n",
       "      <td>2.712755e+00</td>\n",
       "      <td>1.082909</td>\n",
       "      <td>1.0</td>\n",
       "      <td>2.00</td>\n",
       "      <td>3.0</td>\n",
       "      <td>4.00</td>\n",
       "      <td>10.0</td>\n",
       "    </tr>\n",
       "    <tr>\n",
       "      <th>Adult_flag</th>\n",
       "      <td>11759.0</td>\n",
       "      <td>7.939451e-01</td>\n",
       "      <td>0.851828</td>\n",
       "      <td>0.0</td>\n",
       "      <td>0.00</td>\n",
       "      <td>1.0</td>\n",
       "      <td>1.00</td>\n",
       "      <td>3.0</td>\n",
       "    </tr>\n",
       "    <tr>\n",
       "      <th>Daily_Avg_mins_spend_on_traveling_page</th>\n",
       "      <td>11759.0</td>\n",
       "      <td>1.381776e+01</td>\n",
       "      <td>9.070974</td>\n",
       "      <td>0.0</td>\n",
       "      <td>8.00</td>\n",
       "      <td>12.0</td>\n",
       "      <td>18.00</td>\n",
       "      <td>270.0</td>\n",
       "    </tr>\n",
       "  </tbody>\n",
       "</table>\n",
       "</div>"
      ],
      "text/plain": [
       "                                                count          mean  \\\n",
       "UserID                                        11760.0  1.005880e+06   \n",
       "Yearly_avg_view_on_travel_page                11179.0  2.808308e+02   \n",
       "total_likes_on_outstation_checkin_given       11379.0  2.817048e+04   \n",
       "Yearly_avg_comment_on_travel_page             11554.0  7.479003e+01   \n",
       "total_likes_on_outofstation_checkin_received  11760.0  6.531699e+03   \n",
       "week_since_last_outstation_checkin            11760.0  3.203571e+00   \n",
       "montly_avg_comment_on_company_page            11760.0  2.866088e+01   \n",
       "travelling_network_rating                     11760.0  2.712755e+00   \n",
       "Adult_flag                                    11759.0  7.939451e-01   \n",
       "Daily_Avg_mins_spend_on_traveling_page        11759.0  1.381776e+01   \n",
       "\n",
       "                                                       std        min  \\\n",
       "UserID                                         3394.963917  1000001.0   \n",
       "Yearly_avg_view_on_travel_page                   68.182958       35.0   \n",
       "total_likes_on_outstation_checkin_given       14385.032134     3570.0   \n",
       "Yearly_avg_comment_on_travel_page                24.026650        3.0   \n",
       "total_likes_on_outofstation_checkin_received   4706.613785     1009.0   \n",
       "week_since_last_outstation_checkin                2.616365        0.0   \n",
       "montly_avg_comment_on_company_page               48.660793        4.0   \n",
       "travelling_network_rating                         1.082909        1.0   \n",
       "Adult_flag                                        0.851828        0.0   \n",
       "Daily_Avg_mins_spend_on_traveling_page            9.070974        0.0   \n",
       "\n",
       "                                                     25%        50%  \\\n",
       "UserID                                        1002940.75  1005880.5   \n",
       "Yearly_avg_view_on_travel_page                    232.00      271.0   \n",
       "total_likes_on_outstation_checkin_given         16380.00    28076.0   \n",
       "Yearly_avg_comment_on_travel_page                  57.00       75.0   \n",
       "total_likes_on_outofstation_checkin_received     2940.75     4948.0   \n",
       "week_since_last_outstation_checkin                  1.00        3.0   \n",
       "montly_avg_comment_on_company_page                 17.00       22.0   \n",
       "travelling_network_rating                           2.00        3.0   \n",
       "Adult_flag                                          0.00        1.0   \n",
       "Daily_Avg_mins_spend_on_traveling_page              8.00       12.0   \n",
       "\n",
       "                                                     75%        max  \n",
       "UserID                                        1008820.25  1011760.0  \n",
       "Yearly_avg_view_on_travel_page                    324.00      464.0  \n",
       "total_likes_on_outstation_checkin_given         40525.00   252430.0  \n",
       "Yearly_avg_comment_on_travel_page                  92.00      815.0  \n",
       "total_likes_on_outofstation_checkin_received     8393.25    20065.0  \n",
       "week_since_last_outstation_checkin                  5.00       11.0  \n",
       "montly_avg_comment_on_company_page                 27.00      500.0  \n",
       "travelling_network_rating                           4.00       10.0  \n",
       "Adult_flag                                          1.00        3.0  \n",
       "Daily_Avg_mins_spend_on_traveling_page             18.00      270.0  "
      ]
     },
     "execution_count": 9,
     "metadata": {},
     "output_type": "execute_result"
    }
   ],
   "source": [
    "social_media_data.describe().T"
   ]
  },
  {
   "cell_type": "markdown",
   "metadata": {},
   "source": [
    "## **3. Exploratory Data Analysis**"
   ]
  },
  {
   "cell_type": "markdown",
   "metadata": {},
   "source": [
    "### **Check for different types of data in the columns**\n",
    "\n",
    "**Removal of unwanted variables (If needed)**"
   ]
  },
  {
   "cell_type": "code",
   "execution_count": 10,
   "metadata": {
    "collapsed": true
   },
   "outputs": [
    {
     "data": {
      "text/plain": [
       "No     9864\n",
       "Yes    1896\n",
       "Name: Buy_ticket, dtype: int64"
      ]
     },
     "execution_count": 10,
     "metadata": {},
     "output_type": "execute_result"
    }
   ],
   "source": [
    "social_media_data['Buy_ticket'].value_counts()"
   ]
  },
  {
   "cell_type": "code",
   "execution_count": 11,
   "metadata": {
    "collapsed": true
   },
   "outputs": [
    {
     "data": {
      "text/plain": [
       "Tab                4172\n",
       "iOS and Android    4134\n",
       "Laptop             1108\n",
       "iOS                1095\n",
       "Mobile              600\n",
       "Android             315\n",
       "Android OS          145\n",
       "ANDROID             134\n",
       "Other                 2\n",
       "Others                2\n",
       "Name: preferred_device, dtype: int64"
      ]
     },
     "execution_count": 11,
     "metadata": {},
     "output_type": "execute_result"
    }
   ],
   "source": [
    "social_media_data['preferred_device'].value_counts()"
   ]
  },
  {
   "cell_type": "markdown",
   "metadata": {},
   "source": [
    "Here, all the records except for `Laptop` will be grouped together under `Mobile`."
   ]
  },
  {
   "cell_type": "code",
   "execution_count": 12,
   "metadata": {
    "collapsed": true
   },
   "outputs": [],
   "source": [
    "social_media_data['preferred_device'].mask(social_media_data['preferred_device'] != \"Laptop\", \"Mobile\", inplace=True)"
   ]
  },
  {
   "cell_type": "code",
   "execution_count": 13,
   "metadata": {
    "collapsed": true
   },
   "outputs": [
    {
     "data": {
      "text/plain": [
       "Mobile    10652\n",
       "Laptop     1108\n",
       "Name: preferred_device, dtype: int64"
      ]
     },
     "execution_count": 13,
     "metadata": {},
     "output_type": "execute_result"
    }
   ],
   "source": [
    "social_media_data['preferred_device'].value_counts()"
   ]
  },
  {
   "cell_type": "code",
   "execution_count": 14,
   "metadata": {
    "collapsed": true
   },
   "outputs": [
    {
     "data": {
      "text/plain": [
       "Beach              2424\n",
       "Financial          2409\n",
       "Historical site    1856\n",
       "Medical            1845\n",
       "Other               643\n",
       "Big Cities          636\n",
       "Social media        633\n",
       "Trekking            528\n",
       "Entertainment       516\n",
       "Hill Stations       108\n",
       "Tour  Travel         60\n",
       "Tour and Travel      47\n",
       "Game                 12\n",
       "OTT                   7\n",
       "Movie                 5\n",
       "Name: preferred_location_type, dtype: int64"
      ]
     },
     "execution_count": 14,
     "metadata": {},
     "output_type": "execute_result"
    }
   ],
   "source": [
    "social_media_data['preferred_location_type'].value_counts()"
   ]
  },
  {
   "cell_type": "code",
   "execution_count": 15,
   "metadata": {
    "collapsed": true
   },
   "outputs": [],
   "source": [
    "# Grouping Variables like `Game`, `OTT`, `Social media` and `Movile` under `Entertainment` makes sense here.\n",
    "\n",
    "social_media_data['preferred_location_type'].mask(social_media_data['preferred_location_type'] == \"Game\", \"Entertainment\", inplace=True)\n",
    "\n",
    "social_media_data['preferred_location_type'].mask(social_media_data['preferred_location_type'] == \"Movie\", \"Entertainment\", inplace=True)\n",
    "\n",
    "social_media_data['preferred_location_type'].mask(social_media_data['preferred_location_type'] == \"OTT\", \"Entertainment\", inplace=True)\n",
    "\n",
    "social_media_data['preferred_location_type'].mask(social_media_data['preferred_location_type'] == \"Social media\", \"Entertainment\", inplace=True)"
   ]
  },
  {
   "cell_type": "code",
   "execution_count": 16,
   "metadata": {
    "collapsed": true
   },
   "outputs": [],
   "source": [
    "# Grouping variables like `Tour  Travel` and `Tour and Travel` under `Others` makes sense here. \n",
    "# As tour and travel does not generally point towards anything particular.\n",
    "\n",
    "social_media_data['preferred_location_type'].mask(social_media_data['preferred_location_type'] == \"Tour  Travel\", \"Other\", inplace=True)\n",
    "\n",
    "social_media_data['preferred_location_type'].mask(social_media_data['preferred_location_type'] == \"Tour and Travel\", \"Other\", inplace=True)"
   ]
  },
  {
   "cell_type": "code",
   "execution_count": 17,
   "metadata": {
    "collapsed": true
   },
   "outputs": [],
   "source": [
    "# Variables like `Trekking` and `Hill Stations` are not similar to some extent.\n",
    "# As, `Hill Stations` make up only 108 records, I will be putting it under `Trekking` to avoid any hassle.\n",
    "\n",
    "social_media_data['preferred_location_type'].mask(social_media_data['preferred_location_type'] == \"Hill Stations\", \"Trekking\", inplace=True)"
   ]
  },
  {
   "cell_type": "code",
   "execution_count": 18,
   "metadata": {
    "collapsed": true
   },
   "outputs": [],
   "source": [
    "# lastly, `Big Cities` can be anywhere and can be also easily belong to category like `Medical`, `Financial` or even `Entertainment`\n",
    "# to avoid this, I will group it under `Other`\n",
    "\n",
    "social_media_data['preferred_location_type'].mask(social_media_data['preferred_location_type'] == \"Big Cities\", \"Other\", inplace=True)"
   ]
  },
  {
   "cell_type": "code",
   "execution_count": 19,
   "metadata": {
    "collapsed": true
   },
   "outputs": [
    {
     "data": {
      "text/plain": [
       "Beach              2424\n",
       "Financial          2409\n",
       "Historical site    1856\n",
       "Medical            1845\n",
       "Other              1386\n",
       "Entertainment      1173\n",
       "Trekking            636\n",
       "Name: preferred_location_type, dtype: int64"
      ]
     },
     "execution_count": 19,
     "metadata": {},
     "output_type": "execute_result"
    }
   ],
   "source": [
    "social_media_data['preferred_location_type'].value_counts()"
   ]
  },
  {
   "cell_type": "code",
   "execution_count": 20,
   "metadata": {
    "collapsed": true
   },
   "outputs": [
    {
     "data": {
      "text/plain": [
       "0.0    5047\n",
       "1.0    4768\n",
       "2.0    1264\n",
       "3.0     680\n",
       "Name: Adult_flag, dtype: int64"
      ]
     },
     "execution_count": 20,
     "metadata": {},
     "output_type": "execute_result"
    }
   ],
   "source": [
    "social_media_data['Adult_flag'].value_counts()"
   ]
  },
  {
   "cell_type": "markdown",
   "metadata": {},
   "source": [
    "The name of the variable `Adult_flag` leads to some misconception, as it clearly depicts the number of adults,\n",
    "I will be renaming the column name to `number_of_adults`."
   ]
  },
  {
   "cell_type": "code",
   "execution_count": 21,
   "metadata": {
    "collapsed": true
   },
   "outputs": [],
   "source": [
    "social_media_data.rename(columns = {'Adult_flag':'number_of_adults'}, inplace = True)"
   ]
  },
  {
   "cell_type": "code",
   "execution_count": 22,
   "metadata": {
    "collapsed": true
   },
   "outputs": [
    {
     "data": {
      "text/plain": [
       "0.0    5047\n",
       "1.0    4768\n",
       "2.0    1264\n",
       "3.0     680\n",
       "Name: number_of_adults, dtype: int64"
      ]
     },
     "execution_count": 22,
     "metadata": {},
     "output_type": "execute_result"
    }
   ],
   "source": [
    "social_media_data['number_of_adults'].value_counts()"
   ]
  },
  {
   "cell_type": "code",
   "execution_count": 23,
   "metadata": {
    "collapsed": true
   },
   "outputs": [
    {
     "data": {
      "text/plain": [
       "No      8355\n",
       "Yes     3284\n",
       "1         12\n",
       "0          5\n",
       "Yeso       1\n",
       "Name: following_company_page, dtype: int64"
      ]
     },
     "execution_count": 23,
     "metadata": {},
     "output_type": "execute_result"
    }
   ],
   "source": [
    "social_media_data['following_company_page'].value_counts()"
   ]
  },
  {
   "cell_type": "markdown",
   "metadata": {},
   "source": [
    "`following_company_page` has different values for Boolean, No, Yes, 1 and 0.\n",
    "\n",
    "For the dataset, I will assume 1 as `Yes` and 0 as `No`"
   ]
  },
  {
   "cell_type": "code",
   "execution_count": 24,
   "metadata": {
    "collapsed": true
   },
   "outputs": [],
   "source": [
    "social_media_data['following_company_page'].mask(social_media_data['following_company_page'] == \"1\", \"Yes\", inplace=True)"
   ]
  },
  {
   "cell_type": "code",
   "execution_count": 25,
   "metadata": {
    "collapsed": true
   },
   "outputs": [],
   "source": [
    "social_media_data['following_company_page'].mask(social_media_data['following_company_page'] == \"0\", \"No\", inplace=True)"
   ]
  },
  {
   "cell_type": "code",
   "execution_count": 26,
   "metadata": {
    "collapsed": true
   },
   "outputs": [
    {
     "data": {
      "text/plain": [
       "No      8360\n",
       "Yes     3296\n",
       "Yeso       1\n",
       "Name: following_company_page, dtype: int64"
      ]
     },
     "execution_count": 26,
     "metadata": {},
     "output_type": "execute_result"
    }
   ],
   "source": [
    "social_media_data['following_company_page'].value_counts()"
   ]
  },
  {
   "cell_type": "code",
   "execution_count": 27,
   "metadata": {
    "collapsed": true
   },
   "outputs": [
    {
     "data": {
      "text/plain": [
       "No     9951\n",
       "Yes    1808\n",
       "0         1\n",
       "Name: working_flag, dtype: int64"
      ]
     },
     "execution_count": 27,
     "metadata": {},
     "output_type": "execute_result"
    }
   ],
   "source": [
    "social_media_data['working_flag'].value_counts()"
   ]
  },
  {
   "cell_type": "code",
   "execution_count": 28,
   "metadata": {
    "collapsed": true
   },
   "outputs": [],
   "source": [
    "# member_in_family contains few rows where '3' is represented as 'Three'.\n",
    "# Replacing them.\n",
    "\n",
    "social_media_data['member_in_family'].mask(social_media_data['member_in_family'] == \"Three\", \"3\", inplace=True)"
   ]
  },
  {
   "cell_type": "code",
   "execution_count": null,
   "metadata": {
    "collapsed": true
   },
   "outputs": [],
   "source": []
  },
  {
   "cell_type": "markdown",
   "metadata": {},
   "source": [
    "### **Check the Data Type of the Variables**"
   ]
  },
  {
   "cell_type": "code",
   "execution_count": 28,
   "metadata": {
    "collapsed": true
   },
   "outputs": [
    {
     "name": "stdout",
     "output_type": "stream",
     "text": [
      "<class 'pandas.core.frame.DataFrame'>\n",
      "RangeIndex: 11760 entries, 0 to 11759\n",
      "Data columns (total 17 columns):\n",
      " #   Column                                        Non-Null Count  Dtype  \n",
      "---  ------                                        --------------  -----  \n",
      " 0   UserID                                        11760 non-null  int64  \n",
      " 1   Buy_ticket                                    11760 non-null  object \n",
      " 2   Yearly_avg_view_on_travel_page                11179 non-null  float64\n",
      " 3   preferred_device                              11760 non-null  object \n",
      " 4   total_likes_on_outstation_checkin_given       11379 non-null  float64\n",
      " 5   yearly_avg_Outstation_checkins                11685 non-null  object \n",
      " 6   member_in_family                              11760 non-null  object \n",
      " 7   preferred_location_type                       11729 non-null  object \n",
      " 8   Yearly_avg_comment_on_travel_page             11554 non-null  float64\n",
      " 9   total_likes_on_outofstation_checkin_received  11760 non-null  int64  \n",
      " 10  week_since_last_outstation_checkin            11760 non-null  int64  \n",
      " 11  following_company_page                        11657 non-null  object \n",
      " 12  montly_avg_comment_on_company_page            11760 non-null  int64  \n",
      " 13  working_flag                                  11760 non-null  object \n",
      " 14  travelling_network_rating                     11760 non-null  int64  \n",
      " 15  number_of_adults                              11759 non-null  float64\n",
      " 16  Daily_Avg_mins_spend_on_traveling_page        11759 non-null  float64\n",
      "dtypes: float64(5), int64(5), object(7)\n",
      "memory usage: 1.5+ MB\n"
     ]
    }
   ],
   "source": [
    "social_media_data.info()"
   ]
  },
  {
   "cell_type": "markdown",
   "metadata": {},
   "source": [
    "### **Check the basic measures of descriptive statistics for the continuous variables**"
   ]
  },
  {
   "cell_type": "code",
   "execution_count": 29,
   "metadata": {
    "collapsed": true
   },
   "outputs": [
    {
     "data": {
      "text/html": [
       "<div>\n",
       "<style scoped>\n",
       "    .dataframe tbody tr th:only-of-type {\n",
       "        vertical-align: middle;\n",
       "    }\n",
       "\n",
       "    .dataframe tbody tr th {\n",
       "        vertical-align: top;\n",
       "    }\n",
       "\n",
       "    .dataframe thead th {\n",
       "        text-align: right;\n",
       "    }\n",
       "</style>\n",
       "<table border=\"1\" class=\"dataframe\">\n",
       "  <thead>\n",
       "    <tr style=\"text-align: right;\">\n",
       "      <th></th>\n",
       "      <th>count</th>\n",
       "      <th>mean</th>\n",
       "      <th>std</th>\n",
       "      <th>min</th>\n",
       "      <th>25%</th>\n",
       "      <th>50%</th>\n",
       "      <th>75%</th>\n",
       "      <th>max</th>\n",
       "    </tr>\n",
       "  </thead>\n",
       "  <tbody>\n",
       "    <tr>\n",
       "      <th>UserID</th>\n",
       "      <td>11760.0</td>\n",
       "      <td>1.005880e+06</td>\n",
       "      <td>3394.963917</td>\n",
       "      <td>1000001.0</td>\n",
       "      <td>1002940.75</td>\n",
       "      <td>1005880.5</td>\n",
       "      <td>1008820.25</td>\n",
       "      <td>1011760.0</td>\n",
       "    </tr>\n",
       "    <tr>\n",
       "      <th>Yearly_avg_view_on_travel_page</th>\n",
       "      <td>11179.0</td>\n",
       "      <td>2.808308e+02</td>\n",
       "      <td>68.182958</td>\n",
       "      <td>35.0</td>\n",
       "      <td>232.00</td>\n",
       "      <td>271.0</td>\n",
       "      <td>324.00</td>\n",
       "      <td>464.0</td>\n",
       "    </tr>\n",
       "    <tr>\n",
       "      <th>total_likes_on_outstation_checkin_given</th>\n",
       "      <td>11379.0</td>\n",
       "      <td>2.817048e+04</td>\n",
       "      <td>14385.032134</td>\n",
       "      <td>3570.0</td>\n",
       "      <td>16380.00</td>\n",
       "      <td>28076.0</td>\n",
       "      <td>40525.00</td>\n",
       "      <td>252430.0</td>\n",
       "    </tr>\n",
       "    <tr>\n",
       "      <th>Yearly_avg_comment_on_travel_page</th>\n",
       "      <td>11554.0</td>\n",
       "      <td>7.479003e+01</td>\n",
       "      <td>24.026650</td>\n",
       "      <td>3.0</td>\n",
       "      <td>57.00</td>\n",
       "      <td>75.0</td>\n",
       "      <td>92.00</td>\n",
       "      <td>815.0</td>\n",
       "    </tr>\n",
       "    <tr>\n",
       "      <th>total_likes_on_outofstation_checkin_received</th>\n",
       "      <td>11760.0</td>\n",
       "      <td>6.531699e+03</td>\n",
       "      <td>4706.613785</td>\n",
       "      <td>1009.0</td>\n",
       "      <td>2940.75</td>\n",
       "      <td>4948.0</td>\n",
       "      <td>8393.25</td>\n",
       "      <td>20065.0</td>\n",
       "    </tr>\n",
       "    <tr>\n",
       "      <th>week_since_last_outstation_checkin</th>\n",
       "      <td>11760.0</td>\n",
       "      <td>3.203571e+00</td>\n",
       "      <td>2.616365</td>\n",
       "      <td>0.0</td>\n",
       "      <td>1.00</td>\n",
       "      <td>3.0</td>\n",
       "      <td>5.00</td>\n",
       "      <td>11.0</td>\n",
       "    </tr>\n",
       "    <tr>\n",
       "      <th>montly_avg_comment_on_company_page</th>\n",
       "      <td>11760.0</td>\n",
       "      <td>2.866088e+01</td>\n",
       "      <td>48.660793</td>\n",
       "      <td>4.0</td>\n",
       "      <td>17.00</td>\n",
       "      <td>22.0</td>\n",
       "      <td>27.00</td>\n",
       "      <td>500.0</td>\n",
       "    </tr>\n",
       "    <tr>\n",
       "      <th>travelling_network_rating</th>\n",
       "      <td>11760.0</td>\n",
       "      <td>2.712755e+00</td>\n",
       "      <td>1.082909</td>\n",
       "      <td>1.0</td>\n",
       "      <td>2.00</td>\n",
       "      <td>3.0</td>\n",
       "      <td>4.00</td>\n",
       "      <td>10.0</td>\n",
       "    </tr>\n",
       "    <tr>\n",
       "      <th>number_of_adults</th>\n",
       "      <td>11759.0</td>\n",
       "      <td>7.939451e-01</td>\n",
       "      <td>0.851828</td>\n",
       "      <td>0.0</td>\n",
       "      <td>0.00</td>\n",
       "      <td>1.0</td>\n",
       "      <td>1.00</td>\n",
       "      <td>3.0</td>\n",
       "    </tr>\n",
       "    <tr>\n",
       "      <th>Daily_Avg_mins_spend_on_traveling_page</th>\n",
       "      <td>11759.0</td>\n",
       "      <td>1.381776e+01</td>\n",
       "      <td>9.070974</td>\n",
       "      <td>0.0</td>\n",
       "      <td>8.00</td>\n",
       "      <td>12.0</td>\n",
       "      <td>18.00</td>\n",
       "      <td>270.0</td>\n",
       "    </tr>\n",
       "  </tbody>\n",
       "</table>\n",
       "</div>"
      ],
      "text/plain": [
       "                                                count          mean  \\\n",
       "UserID                                        11760.0  1.005880e+06   \n",
       "Yearly_avg_view_on_travel_page                11179.0  2.808308e+02   \n",
       "total_likes_on_outstation_checkin_given       11379.0  2.817048e+04   \n",
       "Yearly_avg_comment_on_travel_page             11554.0  7.479003e+01   \n",
       "total_likes_on_outofstation_checkin_received  11760.0  6.531699e+03   \n",
       "week_since_last_outstation_checkin            11760.0  3.203571e+00   \n",
       "montly_avg_comment_on_company_page            11760.0  2.866088e+01   \n",
       "travelling_network_rating                     11760.0  2.712755e+00   \n",
       "number_of_adults                              11759.0  7.939451e-01   \n",
       "Daily_Avg_mins_spend_on_traveling_page        11759.0  1.381776e+01   \n",
       "\n",
       "                                                       std        min  \\\n",
       "UserID                                         3394.963917  1000001.0   \n",
       "Yearly_avg_view_on_travel_page                   68.182958       35.0   \n",
       "total_likes_on_outstation_checkin_given       14385.032134     3570.0   \n",
       "Yearly_avg_comment_on_travel_page                24.026650        3.0   \n",
       "total_likes_on_outofstation_checkin_received   4706.613785     1009.0   \n",
       "week_since_last_outstation_checkin                2.616365        0.0   \n",
       "montly_avg_comment_on_company_page               48.660793        4.0   \n",
       "travelling_network_rating                         1.082909        1.0   \n",
       "number_of_adults                                  0.851828        0.0   \n",
       "Daily_Avg_mins_spend_on_traveling_page            9.070974        0.0   \n",
       "\n",
       "                                                     25%        50%  \\\n",
       "UserID                                        1002940.75  1005880.5   \n",
       "Yearly_avg_view_on_travel_page                    232.00      271.0   \n",
       "total_likes_on_outstation_checkin_given         16380.00    28076.0   \n",
       "Yearly_avg_comment_on_travel_page                  57.00       75.0   \n",
       "total_likes_on_outofstation_checkin_received     2940.75     4948.0   \n",
       "week_since_last_outstation_checkin                  1.00        3.0   \n",
       "montly_avg_comment_on_company_page                 17.00       22.0   \n",
       "travelling_network_rating                           2.00        3.0   \n",
       "number_of_adults                                    0.00        1.0   \n",
       "Daily_Avg_mins_spend_on_traveling_page              8.00       12.0   \n",
       "\n",
       "                                                     75%        max  \n",
       "UserID                                        1008820.25  1011760.0  \n",
       "Yearly_avg_view_on_travel_page                    324.00      464.0  \n",
       "total_likes_on_outstation_checkin_given         40525.00   252430.0  \n",
       "Yearly_avg_comment_on_travel_page                  92.00      815.0  \n",
       "total_likes_on_outofstation_checkin_received     8393.25    20065.0  \n",
       "week_since_last_outstation_checkin                  5.00       11.0  \n",
       "montly_avg_comment_on_company_page                 27.00      500.0  \n",
       "travelling_network_rating                           4.00       10.0  \n",
       "number_of_adults                                    1.00        3.0  \n",
       "Daily_Avg_mins_spend_on_traveling_page             18.00      270.0  "
      ]
     },
     "execution_count": 29,
     "metadata": {},
     "output_type": "execute_result"
    }
   ],
   "source": [
    "social_media_data.describe().T"
   ]
  },
  {
   "cell_type": "code",
   "execution_count": 30,
   "metadata": {
    "collapsed": true
   },
   "outputs": [],
   "source": [
    "import pandas_profiling as pdp"
   ]
  },
  {
   "cell_type": "code",
   "execution_count": 31,
   "metadata": {
    "collapsed": true
   },
   "outputs": [],
   "source": [
    "eda_profile_social_media_data = pdp.ProfileReport(social_media_data)"
   ]
  },
  {
   "cell_type": "code",
   "execution_count": 32,
   "metadata": {
    "collapsed": true
   },
   "outputs": [],
   "source": [
    "# Since the HTML report is already generated, Commenting out the below code to save execution time.\n",
    "\n",
    "# eda_profile_social_media_data.to_file(\"eda_profile_social_media_data.html\")"
   ]
  },
  {
   "cell_type": "code",
   "execution_count": null,
   "metadata": {
    "collapsed": true
   },
   "outputs": [],
   "source": []
  },
  {
   "cell_type": "markdown",
   "metadata": {},
   "source": [
    "#### Missing Value treatment"
   ]
  },
  {
   "cell_type": "markdown",
   "metadata": {},
   "source": [
    "From the EDA report generated, it can be noted that\n",
    "\n",
    "* `Yearly_avg_view_on_travel_page` has **581 (4.9%)** missing values\n",
    "* `total_likes_on_outstation_checkin_given` has **381 (3.2%)** missing values\n",
    "* `Yearly_avg_comment_on_travel_page` has **206 (1.8%)** missing values\n",
    "* `yearly_avg_Outstation_checkins` has **75 (0.6%)** missing values\n",
    "* `preferred_location_type` has **31 (0.3%)** missing values\n",
    "* `following_company_page` has **103 (0.9%)** missing values"
   ]
  },
  {
   "cell_type": "code",
   "execution_count": 32,
   "metadata": {
    "collapsed": true
   },
   "outputs": [
    {
     "data": {
      "text/plain": [
       "UserID                                            0\n",
       "Buy_ticket                                        0\n",
       "Yearly_avg_view_on_travel_page                  581\n",
       "preferred_device                                  0\n",
       "total_likes_on_outstation_checkin_given         381\n",
       "yearly_avg_Outstation_checkins                   75\n",
       "member_in_family                                  0\n",
       "preferred_location_type                          31\n",
       "Yearly_avg_comment_on_travel_page               206\n",
       "total_likes_on_outofstation_checkin_received      0\n",
       "week_since_last_outstation_checkin                0\n",
       "following_company_page                          103\n",
       "montly_avg_comment_on_company_page                0\n",
       "working_flag                                      0\n",
       "travelling_network_rating                         0\n",
       "number_of_adults                                  1\n",
       "Daily_Avg_mins_spend_on_traveling_page            1\n",
       "dtype: int64"
      ]
     },
     "execution_count": 32,
     "metadata": {},
     "output_type": "execute_result"
    }
   ],
   "source": [
    "social_media_data.isnull().sum()"
   ]
  },
  {
   "cell_type": "markdown",
   "metadata": {},
   "source": [
    "#### Since the total number of null value rows are 1263 which only makes upto 10% of the data, we can safely drop the rows."
   ]
  },
  {
   "cell_type": "code",
   "execution_count": 33,
   "metadata": {
    "collapsed": true
   },
   "outputs": [],
   "source": [
    "social_media_data_null_drop = social_media_data.dropna()"
   ]
  },
  {
   "cell_type": "code",
   "execution_count": 34,
   "metadata": {
    "collapsed": true
   },
   "outputs": [
    {
     "data": {
      "text/plain": [
       "UserID                                          0\n",
       "Buy_ticket                                      0\n",
       "Yearly_avg_view_on_travel_page                  0\n",
       "preferred_device                                0\n",
       "total_likes_on_outstation_checkin_given         0\n",
       "yearly_avg_Outstation_checkins                  0\n",
       "member_in_family                                0\n",
       "preferred_location_type                         0\n",
       "Yearly_avg_comment_on_travel_page               0\n",
       "total_likes_on_outofstation_checkin_received    0\n",
       "week_since_last_outstation_checkin              0\n",
       "following_company_page                          0\n",
       "montly_avg_comment_on_company_page              0\n",
       "working_flag                                    0\n",
       "travelling_network_rating                       0\n",
       "number_of_adults                                0\n",
       "Daily_Avg_mins_spend_on_traveling_page          0\n",
       "dtype: int64"
      ]
     },
     "execution_count": 34,
     "metadata": {},
     "output_type": "execute_result"
    }
   ],
   "source": [
    "social_media_data_null_drop.isnull().sum()"
   ]
  },
  {
   "cell_type": "markdown",
   "metadata": {},
   "source": [
    "### Outliers"
   ]
  },
  {
   "cell_type": "code",
   "execution_count": 35,
   "metadata": {
    "collapsed": true
   },
   "outputs": [],
   "source": [
    "# construct box plot for continuous variables\n",
    "cont = social_media_data_null_drop.dtypes[(social_media_data_null_drop.dtypes != 'object')].index"
   ]
  },
  {
   "cell_type": "code",
   "execution_count": 36,
   "metadata": {
    "collapsed": true
   },
   "outputs": [],
   "source": [
    "def outliers_continuous(column, nbins):\n",
    "    fig_dims = (20, 5) \n",
    "    fig, axs = plt.subplots(nrows=1, ncols=1, figsize=fig_dims)\n",
    "    sns.boxplot(x= column, data=social_media_data_null_drop)"
   ]
  },
  {
   "cell_type": "code",
   "execution_count": 37,
   "metadata": {
    "collapsed": true
   },
   "outputs": [],
   "source": [
    "cont = cont.drop(cont[0]) # Drop the userId\n",
    "cont = cont.drop(cont[7]) # Drop the number of adults"
   ]
  },
  {
   "cell_type": "code",
   "execution_count": 38,
   "metadata": {
    "collapsed": true
   },
   "outputs": [
    {
     "data": {
      "text/plain": [
       "Index(['Yearly_avg_view_on_travel_page',\n",
       "       'total_likes_on_outstation_checkin_given',\n",
       "       'Yearly_avg_comment_on_travel_page',\n",
       "       'total_likes_on_outofstation_checkin_received',\n",
       "       'week_since_last_outstation_checkin',\n",
       "       'montly_avg_comment_on_company_page', 'travelling_network_rating',\n",
       "       'Daily_Avg_mins_spend_on_traveling_page'],\n",
       "      dtype='object')"
      ]
     },
     "execution_count": 38,
     "metadata": {},
     "output_type": "execute_result"
    }
   ],
   "source": [
    "cont"
   ]
  },
  {
   "cell_type": "code",
   "execution_count": 39,
   "metadata": {
    "collapsed": true
   },
   "outputs": [
    {
     "data": {
      "image/png": "[encoded data removed]",
      "text/plain": [
       "<Figure size 1440x360 with 1 Axes>"
      ]
     },
     "metadata": {
      "needs_background": "light"
     },
     "output_type": "display_data"
    },
    {
     "data": {
      "image/png": "[encoded data removed]",
      "text/plain": [
       "<Figure size 1440x360 with 1 Axes>"
      ]
     },
     "metadata": {
      "needs_background": "light"
     },
     "output_type": "display_data"
    },
    {
     "data": {
      "image/png": "[encoded data removed]",
      "text/plain": [
       "<Figure size 1440x360 with 1 Axes>"
      ]
     },
     "metadata": {
      "needs_background": "light"
     },
     "output_type": "display_data"
    },
    {
     "data": {
      "image/png": "[encoded data removed]",
      "text/plain": [
       "<Figure size 1440x360 with 1 Axes>"
      ]
     },
     "metadata": {
      "needs_background": "light"
     },
     "output_type": "display_data"
    },
    {
     "data": {
      "image/png": "[encoded data removed]",
      "text/plain": [
       "<Figure size 1440x360 with 1 Axes>"
      ]
     },
     "metadata": {
      "needs_background": "light"
     },
     "output_type": "display_data"
    },
    {
     "data": {
      "image/png": "[encoded data removed]",
      "text/plain": [
       "<Figure size 1440x360 with 1 Axes>"
      ]
     },
     "metadata": {
      "needs_background": "light"
     },
     "output_type": "display_data"
    },
    {
     "data": {
      "image/png": "[encoded data removed]",
      "text/plain": [
       "<Figure size 1440x360 with 1 Axes>"
      ]
     },
     "metadata": {
      "needs_background": "light"
     },
     "output_type": "display_data"
    },
    {
     "data": {
      "image/png": "[encoded data removed]",
      "text/plain": [
       "<Figure size 1440x360 with 1 Axes>"
      ]
     },
     "metadata": {
      "needs_background": "light"
     },
     "output_type": "display_data"
    }
   ],
   "source": [
    "%matplotlib inline\n",
    "\n",
    "for column in cont:\n",
    "    outliers_continuous(column, 20)"
   ]
  },
  {
   "cell_type": "code",
   "execution_count": 40,
   "metadata": {
    "collapsed": true
   },
   "outputs": [],
   "source": [
    "def remove_outlier(col):\n",
    "    sorted(col)\n",
    "    Q1,Q3=np.percentile(col,[25,75])\n",
    "    IQR=Q3-Q1\n",
    "    lower_range= Q1-(1.5 * IQR)\n",
    "    upper_range= Q3+(1.5 * IQR)\n",
    "    return lower_range, upper_range"
   ]
  },
  {
   "cell_type": "code",
   "execution_count": 41,
   "metadata": {
    "collapsed": true
   },
   "outputs": [],
   "source": [
    "for column in social_media_data_null_drop[cont].columns:\n",
    "    lr,ur=remove_outlier(social_media_data_null_drop[column])\n",
    "    social_media_data_null_drop[column]=np.where(social_media_data_null_drop[column]>ur,ur,social_media_data_null_drop[column])\n",
    "    social_media_data_null_drop[column]=np.where(social_media_data_null_drop[column]<lr,lr,social_media_data_null_drop[column])"
   ]
  },
  {
   "cell_type": "code",
   "execution_count": 42,
   "metadata": {
    "collapsed": true
   },
   "outputs": [
    {
     "data": {
      "image/png": "[encoded data removed]",
      "text/plain": [
       "<Figure size 1440x360 with 1 Axes>"
      ]
     },
     "metadata": {
      "needs_background": "light"
     },
     "output_type": "display_data"
    },
    {
     "data": {
      "image/png": "[encoded data removed]",
      "text/plain": [
       "<Figure size 1440x360 with 1 Axes>"
      ]
     },
     "metadata": {
      "needs_background": "light"
     },
     "output_type": "display_data"
    },
    {
     "data": {
      "image/png": "[encoded data removed]",
      "text/plain": [
       "<Figure size 1440x360 with 1 Axes>"
      ]
     },
     "metadata": {
      "needs_background": "light"
     },
     "output_type": "display_data"
    },
    {
     "data": {
      "image/png": "[encoded data removed]",
      "text/plain": [
       "<Figure size 1440x360 with 1 Axes>"
      ]
     },
     "metadata": {
      "needs_background": "light"
     },
     "output_type": "display_data"
    },
    {
     "data": {
      "image/png": "[encoded data removed]",
      "text/plain": [
       "<Figure size 1440x360 with 1 Axes>"
      ]
     },
     "metadata": {
      "needs_background": "light"
     },
     "output_type": "display_data"
    },
    {
     "data": {
      "image/png": "[encoded data removed]",
      "text/plain": [
       "<Figure size 1440x360 with 1 Axes>"
      ]
     },
     "metadata": {
      "needs_background": "light"
     },
     "output_type": "display_data"
    },
    {
     "data": {
      "image/png": "[encoded data removed]",
      "text/plain": [
       "<Figure size 1440x360 with 1 Axes>"
      ]
     },
     "metadata": {
      "needs_background": "light"
     },
     "output_type": "display_data"
    },
    {
     "data": {
      "image/png": "[encoded data removed]",
      "text/plain": [
       "<Figure size 1440x360 with 1 Axes>"
      ]
     },
     "metadata": {
      "needs_background": "light"
     },
     "output_type": "display_data"
    }
   ],
   "source": [
    "for column in cont:\n",
    "    outliers_continuous(column, 20)"
   ]
  },
  {
   "cell_type": "code",
   "execution_count": 43,
   "metadata": {
    "collapsed": true
   },
   "outputs": [
    {
     "name": "stdout",
     "output_type": "stream",
     "text": [
      "<class 'pandas.core.frame.DataFrame'>\n",
      "Int64Index: 10496 entries, 0 to 11759\n",
      "Data columns (total 17 columns):\n",
      " #   Column                                        Non-Null Count  Dtype  \n",
      "---  ------                                        --------------  -----  \n",
      " 0   UserID                                        10496 non-null  int64  \n",
      " 1   Buy_ticket                                    10496 non-null  object \n",
      " 2   Yearly_avg_view_on_travel_page                10496 non-null  float64\n",
      " 3   preferred_device                              10496 non-null  object \n",
      " 4   total_likes_on_outstation_checkin_given       10496 non-null  float64\n",
      " 5   yearly_avg_Outstation_checkins                10496 non-null  object \n",
      " 6   member_in_family                              10496 non-null  object \n",
      " 7   preferred_location_type                       10496 non-null  object \n",
      " 8   Yearly_avg_comment_on_travel_page             10496 non-null  float64\n",
      " 9   total_likes_on_outofstation_checkin_received  10496 non-null  float64\n",
      " 10  week_since_last_outstation_checkin            10496 non-null  float64\n",
      " 11  following_company_page                        10496 non-null  object \n",
      " 12  montly_avg_comment_on_company_page            10496 non-null  float64\n",
      " 13  working_flag                                  10496 non-null  object \n",
      " 14  travelling_network_rating                     10496 non-null  float64\n",
      " 15  number_of_adults                              10496 non-null  float64\n",
      " 16  Daily_Avg_mins_spend_on_traveling_page        10496 non-null  float64\n",
      "dtypes: float64(9), int64(1), object(7)\n",
      "memory usage: 1.4+ MB\n"
     ]
    }
   ],
   "source": [
    "social_media_data_null_drop.info()"
   ]
  },
  {
   "cell_type": "markdown",
   "metadata": {},
   "source": [
    "Here **yearly_avg_Outstation_checkins** and  **member_in_family** are clearly numeric, but it is being displayed as object.\n",
    "Converting them to numerical based on below observations."
   ]
  },
  {
   "cell_type": "code",
   "execution_count": 44,
   "metadata": {
    "collapsed": true
   },
   "outputs": [
    {
     "data": {
      "text/plain": [
       "1     3794\n",
       "2      844\n",
       "10     617\n",
       "9      340\n",
       "7      336\n",
       "3      336\n",
       "8      320\n",
       "5      261\n",
       "4      256\n",
       "6      236\n",
       "16     231\n",
       "11     213\n",
       "24     201\n",
       "23     189\n",
       "15     189\n",
       "18     186\n",
       "29     184\n",
       "25     172\n",
       "26     172\n",
       "20     172\n",
       "28     160\n",
       "14     154\n",
       "19     150\n",
       "17     147\n",
       "12     143\n",
       "13     137\n",
       "22     133\n",
       "21     133\n",
       "27      89\n",
       "*        1\n",
       "Name: yearly_avg_Outstation_checkins, dtype: int64"
      ]
     },
     "execution_count": 44,
     "metadata": {},
     "output_type": "execute_result"
    }
   ],
   "source": [
    "social_media_data_null_drop['yearly_avg_Outstation_checkins'].value_counts()"
   ]
  },
  {
   "cell_type": "markdown",
   "metadata": {},
   "source": [
    "There is a row where the value is **'*'**. I will be dropping this row"
   ]
  },
  {
   "cell_type": "code",
   "execution_count": 45,
   "metadata": {
    "collapsed": true
   },
   "outputs": [],
   "source": [
    "# get names of indexes for which\n",
    "# column yearly_avg_Outstation_checkins has value *\n",
    "\n",
    "index_names = social_media_data_null_drop[ social_media_data_null_drop['yearly_avg_Outstation_checkins'] == '*' ].index"
   ]
  },
  {
   "cell_type": "code",
   "execution_count": 46,
   "metadata": {
    "collapsed": true
   },
   "outputs": [],
   "source": [
    "social_media_data_null_drop.drop(index_names, inplace = True)"
   ]
  },
  {
   "cell_type": "code",
   "execution_count": 47,
   "metadata": {
    "collapsed": true
   },
   "outputs": [],
   "source": [
    "\n",
    "social_media_data_null_drop['yearly_avg_Outstation_checkins'] = social_media_data_null_drop['yearly_avg_Outstation_checkins'].astype(object).astype(int)"
   ]
  },
  {
   "cell_type": "code",
   "execution_count": 48,
   "metadata": {
    "collapsed": true
   },
   "outputs": [],
   "source": [
    "social_media_data_null_drop['member_in_family'] = social_media_data_null_drop['member_in_family'].astype(object).astype(int)"
   ]
  },
  {
   "cell_type": "code",
   "execution_count": 49,
   "metadata": {
    "collapsed": true
   },
   "outputs": [
    {
     "name": "stdout",
     "output_type": "stream",
     "text": [
      "<class 'pandas.core.frame.DataFrame'>\n",
      "Int64Index: 10495 entries, 0 to 11759\n",
      "Data columns (total 17 columns):\n",
      " #   Column                                        Non-Null Count  Dtype  \n",
      "---  ------                                        --------------  -----  \n",
      " 0   UserID                                        10495 non-null  int64  \n",
      " 1   Buy_ticket                                    10495 non-null  object \n",
      " 2   Yearly_avg_view_on_travel_page                10495 non-null  float64\n",
      " 3   preferred_device                              10495 non-null  object \n",
      " 4   total_likes_on_outstation_checkin_given       10495 non-null  float64\n",
      " 5   yearly_avg_Outstation_checkins                10495 non-null  int32  \n",
      " 6   member_in_family                              10495 non-null  int32  \n",
      " 7   preferred_location_type                       10495 non-null  object \n",
      " 8   Yearly_avg_comment_on_travel_page             10495 non-null  float64\n",
      " 9   total_likes_on_outofstation_checkin_received  10495 non-null  float64\n",
      " 10  week_since_last_outstation_checkin            10495 non-null  float64\n",
      " 11  following_company_page                        10495 non-null  object \n",
      " 12  montly_avg_comment_on_company_page            10495 non-null  float64\n",
      " 13  working_flag                                  10495 non-null  object \n",
      " 14  travelling_network_rating                     10495 non-null  float64\n",
      " 15  number_of_adults                              10495 non-null  float64\n",
      " 16  Daily_Avg_mins_spend_on_traveling_page        10495 non-null  float64\n",
      "dtypes: float64(9), int32(2), int64(1), object(5)\n",
      "memory usage: 1.4+ MB\n"
     ]
    }
   ],
   "source": [
    "social_media_data_null_drop.info()"
   ]
  },
  {
   "cell_type": "code",
   "execution_count": 50,
   "metadata": {
    "collapsed": true
   },
   "outputs": [
    {
     "data": {
      "application/vnd.jupyter.widget-view+json": {
       "model_id": "a88cd8eb1abb4c399659e96847692a32",
       "version_major": 2,
       "version_minor": 0
      },
      "text/plain": [
       "Summarize dataset:   0%|          | 0/5 [00:00<?, ?it/s]"
      ]
     },
     "metadata": {},
     "output_type": "display_data"
    },
    {
     "data": {
      "application/vnd.jupyter.widget-view+json": {
       "model_id": "bc02ea1a0d8e489caae2d5ca8512cd49",
       "version_major": 2,
       "version_minor": 0
      },
      "text/plain": [
       "Generate report structure:   0%|          | 0/1 [00:00<?, ?it/s]"
      ]
     },
     "metadata": {},
     "output_type": "display_data"
    },
    {
     "data": {
      "application/vnd.jupyter.widget-view+json": {
       "model_id": "a6479e916baf4fd09df8d23ff41ee5a7",
       "version_major": 2,
       "version_minor": 0
      },
      "text/plain": [
       "Render HTML:   0%|          | 0/1 [00:00<?, ?it/s]"
      ]
     },
     "metadata": {},
     "output_type": "display_data"
    },
    {
     "data": {
      "application/vnd.jupyter.widget-view+json": {
       "model_id": "8dc2d457b6084610b19b16d68513b083",
       "version_major": 2,
       "version_minor": 0
      },
      "text/plain": [
       "Export report to file:   0%|          | 0/1 [00:00<?, ?it/s]"
      ]
     },
     "metadata": {},
     "output_type": "display_data"
    }
   ],
   "source": [
    "# Since the HTML report is already generated, Commenting out the below code to save execution time.\n",
    "eda_profile_social_media_data_post_cleaning = pdp.ProfileReport(social_media_data_null_drop)\n",
    "eda_profile_social_media_data_post_cleaning.to_file(\"eda_profile_social_media_data_post_cleaning.html\")"
   ]
  },
  {
   "cell_type": "code",
   "execution_count": 51,
   "metadata": {
    "collapsed": true
   },
   "outputs": [
    {
     "data": {
      "text/plain": [
       "0.0    4496\n",
       "1.0    4265\n",
       "2.0    1115\n",
       "3.0     619\n",
       "Name: number_of_adults, dtype: int64"
      ]
     },
     "execution_count": 51,
     "metadata": {},
     "output_type": "execute_result"
    }
   ],
   "source": [
    "social_media_data_null_drop['number_of_adults'].value_counts()"
   ]
  },
  {
   "cell_type": "markdown",
   "metadata": {},
   "source": [
    "### One Hot Encoding of the Categorical Values"
   ]
  },
  {
   "cell_type": "code",
   "execution_count": 115,
   "metadata": {
    "collapsed": true
   },
   "outputs": [],
   "source": [
    "social_media_data_encoded = pd.get_dummies(social_media_data_null_drop, prefix='location_', columns=['preferred_location_type']) #This function does One-Hot-Encoding on categorical text"
   ]
  },
  {
   "cell_type": "code",
   "execution_count": 116,
   "metadata": {
    "collapsed": true
   },
   "outputs": [],
   "source": [
    "social_media_data_encoded['following_company_page'] = social_media_data_encoded['following_company_page'].map({'Yes': 1, 'No': 0})"
   ]
  },
  {
   "cell_type": "code",
   "execution_count": 117,
   "metadata": {
    "collapsed": true
   },
   "outputs": [],
   "source": [
    "social_media_data_encoded['working_flag'] = social_media_data_encoded['working_flag'].map({'Yes': 1, 'No': 0})"
   ]
  },
  {
   "cell_type": "code",
   "execution_count": 118,
   "metadata": {
    "collapsed": true
   },
   "outputs": [],
   "source": [
    "social_media_data_encoded['Buy_ticket'] = social_media_data_encoded['Buy_ticket'].map({'Yes': 1, 'No': 0})"
   ]
  },
  {
   "cell_type": "code",
   "execution_count": 119,
   "metadata": {
    "collapsed": true
   },
   "outputs": [
    {
     "data": {
      "text/html": [
       "<div>\n",
       "<style scoped>\n",
       "    .dataframe tbody tr th:only-of-type {\n",
       "        vertical-align: middle;\n",
       "    }\n",
       "\n",
       "    .dataframe tbody tr th {\n",
       "        vertical-align: top;\n",
       "    }\n",
       "\n",
       "    .dataframe thead th {\n",
       "        text-align: right;\n",
       "    }\n",
       "</style>\n",
       "<table border=\"1\" class=\"dataframe\">\n",
       "  <thead>\n",
       "    <tr style=\"text-align: right;\">\n",
       "      <th></th>\n",
       "      <th>UserID</th>\n",
       "      <th>Buy_ticket</th>\n",
       "      <th>Yearly_avg_view_on_travel_page</th>\n",
       "      <th>preferred_device</th>\n",
       "      <th>total_likes_on_outstation_checkin_given</th>\n",
       "      <th>yearly_avg_Outstation_checkins</th>\n",
       "      <th>member_in_family</th>\n",
       "      <th>Yearly_avg_comment_on_travel_page</th>\n",
       "      <th>total_likes_on_outofstation_checkin_received</th>\n",
       "      <th>week_since_last_outstation_checkin</th>\n",
       "      <th>...</th>\n",
       "      <th>travelling_network_rating</th>\n",
       "      <th>number_of_adults</th>\n",
       "      <th>Daily_Avg_mins_spend_on_traveling_page</th>\n",
       "      <th>location__Beach</th>\n",
       "      <th>location__Entertainment</th>\n",
       "      <th>location__Financial</th>\n",
       "      <th>location__Historical site</th>\n",
       "      <th>location__Medical</th>\n",
       "      <th>location__Other</th>\n",
       "      <th>location__Trekking</th>\n",
       "    </tr>\n",
       "  </thead>\n",
       "  <tbody>\n",
       "    <tr>\n",
       "      <th>0</th>\n",
       "      <td>1000001</td>\n",
       "      <td>1</td>\n",
       "      <td>307.0</td>\n",
       "      <td>Mobile</td>\n",
       "      <td>38570.0</td>\n",
       "      <td>1</td>\n",
       "      <td>2</td>\n",
       "      <td>94.0</td>\n",
       "      <td>5993.0</td>\n",
       "      <td>8.0</td>\n",
       "      <td>...</td>\n",
       "      <td>1.0</td>\n",
       "      <td>0.0</td>\n",
       "      <td>8.0</td>\n",
       "      <td>0</td>\n",
       "      <td>0</td>\n",
       "      <td>1</td>\n",
       "      <td>0</td>\n",
       "      <td>0</td>\n",
       "      <td>0</td>\n",
       "      <td>0</td>\n",
       "    </tr>\n",
       "    <tr>\n",
       "      <th>1</th>\n",
       "      <td>1000002</td>\n",
       "      <td>0</td>\n",
       "      <td>367.0</td>\n",
       "      <td>Mobile</td>\n",
       "      <td>9765.0</td>\n",
       "      <td>1</td>\n",
       "      <td>1</td>\n",
       "      <td>61.0</td>\n",
       "      <td>5130.0</td>\n",
       "      <td>1.0</td>\n",
       "      <td>...</td>\n",
       "      <td>4.0</td>\n",
       "      <td>1.0</td>\n",
       "      <td>10.0</td>\n",
       "      <td>0</td>\n",
       "      <td>0</td>\n",
       "      <td>1</td>\n",
       "      <td>0</td>\n",
       "      <td>0</td>\n",
       "      <td>0</td>\n",
       "      <td>0</td>\n",
       "    </tr>\n",
       "    <tr>\n",
       "      <th>2</th>\n",
       "      <td>1000003</td>\n",
       "      <td>1</td>\n",
       "      <td>277.0</td>\n",
       "      <td>Mobile</td>\n",
       "      <td>48055.0</td>\n",
       "      <td>1</td>\n",
       "      <td>2</td>\n",
       "      <td>92.0</td>\n",
       "      <td>2090.0</td>\n",
       "      <td>6.0</td>\n",
       "      <td>...</td>\n",
       "      <td>2.0</td>\n",
       "      <td>0.0</td>\n",
       "      <td>7.0</td>\n",
       "      <td>0</td>\n",
       "      <td>0</td>\n",
       "      <td>0</td>\n",
       "      <td>0</td>\n",
       "      <td>0</td>\n",
       "      <td>1</td>\n",
       "      <td>0</td>\n",
       "    </tr>\n",
       "    <tr>\n",
       "      <th>3</th>\n",
       "      <td>1000004</td>\n",
       "      <td>0</td>\n",
       "      <td>247.0</td>\n",
       "      <td>Mobile</td>\n",
       "      <td>48720.0</td>\n",
       "      <td>1</td>\n",
       "      <td>4</td>\n",
       "      <td>56.0</td>\n",
       "      <td>2909.0</td>\n",
       "      <td>1.0</td>\n",
       "      <td>...</td>\n",
       "      <td>3.0</td>\n",
       "      <td>0.0</td>\n",
       "      <td>8.0</td>\n",
       "      <td>0</td>\n",
       "      <td>0</td>\n",
       "      <td>1</td>\n",
       "      <td>0</td>\n",
       "      <td>0</td>\n",
       "      <td>0</td>\n",
       "      <td>0</td>\n",
       "    </tr>\n",
       "    <tr>\n",
       "      <th>4</th>\n",
       "      <td>1000005</td>\n",
       "      <td>0</td>\n",
       "      <td>202.0</td>\n",
       "      <td>Mobile</td>\n",
       "      <td>20685.0</td>\n",
       "      <td>1</td>\n",
       "      <td>1</td>\n",
       "      <td>40.0</td>\n",
       "      <td>3468.0</td>\n",
       "      <td>9.0</td>\n",
       "      <td>...</td>\n",
       "      <td>4.0</td>\n",
       "      <td>1.0</td>\n",
       "      <td>6.0</td>\n",
       "      <td>0</td>\n",
       "      <td>0</td>\n",
       "      <td>0</td>\n",
       "      <td>0</td>\n",
       "      <td>1</td>\n",
       "      <td>0</td>\n",
       "      <td>0</td>\n",
       "    </tr>\n",
       "  </tbody>\n",
       "</table>\n",
       "<p>5 rows × 23 columns</p>\n",
       "</div>"
      ],
      "text/plain": [
       "    UserID  Buy_ticket  Yearly_avg_view_on_travel_page preferred_device  \\\n",
       "0  1000001           1                           307.0           Mobile   \n",
       "1  1000002           0                           367.0           Mobile   \n",
       "2  1000003           1                           277.0           Mobile   \n",
       "3  1000004           0                           247.0           Mobile   \n",
       "4  1000005           0                           202.0           Mobile   \n",
       "\n",
       "   total_likes_on_outstation_checkin_given  yearly_avg_Outstation_checkins  \\\n",
       "0                                  38570.0                               1   \n",
       "1                                   9765.0                               1   \n",
       "2                                  48055.0                               1   \n",
       "3                                  48720.0                               1   \n",
       "4                                  20685.0                               1   \n",
       "\n",
       "   member_in_family  Yearly_avg_comment_on_travel_page  \\\n",
       "0                 2                               94.0   \n",
       "1                 1                               61.0   \n",
       "2                 2                               92.0   \n",
       "3                 4                               56.0   \n",
       "4                 1                               40.0   \n",
       "\n",
       "   total_likes_on_outofstation_checkin_received  \\\n",
       "0                                        5993.0   \n",
       "1                                        5130.0   \n",
       "2                                        2090.0   \n",
       "3                                        2909.0   \n",
       "4                                        3468.0   \n",
       "\n",
       "   week_since_last_outstation_checkin  ...  travelling_network_rating  \\\n",
       "0                                 8.0  ...                        1.0   \n",
       "1                                 1.0  ...                        4.0   \n",
       "2                                 6.0  ...                        2.0   \n",
       "3                                 1.0  ...                        3.0   \n",
       "4                                 9.0  ...                        4.0   \n",
       "\n",
       "   number_of_adults  Daily_Avg_mins_spend_on_traveling_page  location__Beach  \\\n",
       "0               0.0                                     8.0                0   \n",
       "1               1.0                                    10.0                0   \n",
       "2               0.0                                     7.0                0   \n",
       "3               0.0                                     8.0                0   \n",
       "4               1.0                                     6.0                0   \n",
       "\n",
       "   location__Entertainment  location__Financial  location__Historical site  \\\n",
       "0                        0                    1                          0   \n",
       "1                        0                    1                          0   \n",
       "2                        0                    0                          0   \n",
       "3                        0                    1                          0   \n",
       "4                        0                    0                          0   \n",
       "\n",
       "   location__Medical  location__Other  location__Trekking  \n",
       "0                  0                0                   0  \n",
       "1                  0                0                   0  \n",
       "2                  0                1                   0  \n",
       "3                  0                0                   0  \n",
       "4                  1                0                   0  \n",
       "\n",
       "[5 rows x 23 columns]"
      ]
     },
     "execution_count": 119,
     "metadata": {},
     "output_type": "execute_result"
    }
   ],
   "source": [
    "social_media_data_encoded.head()"
   ]
  },
  {
   "cell_type": "code",
   "execution_count": 120,
   "metadata": {
    "collapsed": true
   },
   "outputs": [
    {
     "data": {
      "image/png": "[encoded data removed]",
      "text/plain": [
       "<Figure size 1152x720 with 2 Axes>"
      ]
     },
     "metadata": {
      "needs_background": "light"
     },
     "output_type": "display_data"
    }
   ],
   "source": [
    "plt.figure(figsize=(16,10))\n",
    "sns.heatmap(social_media_data_encoded.corr(), annot=True, fmt='.2f', cmap='Blues')\n",
    "plt.show()"
   ]
  },
  {
   "cell_type": "code",
   "execution_count": 121,
   "metadata": {
    "collapsed": true
   },
   "outputs": [
    {
     "data": {
      "text/html": [
       "<div>\n",
       "<style scoped>\n",
       "    .dataframe tbody tr th:only-of-type {\n",
       "        vertical-align: middle;\n",
       "    }\n",
       "\n",
       "    .dataframe tbody tr th {\n",
       "        vertical-align: top;\n",
       "    }\n",
       "\n",
       "    .dataframe thead th {\n",
       "        text-align: right;\n",
       "    }\n",
       "</style>\n",
       "<table border=\"1\" class=\"dataframe\">\n",
       "  <thead>\n",
       "    <tr style=\"text-align: right;\">\n",
       "      <th></th>\n",
       "      <th>UserID</th>\n",
       "      <th>Buy_ticket</th>\n",
       "      <th>Yearly_avg_view_on_travel_page</th>\n",
       "      <th>preferred_device</th>\n",
       "      <th>total_likes_on_outstation_checkin_given</th>\n",
       "      <th>yearly_avg_Outstation_checkins</th>\n",
       "      <th>member_in_family</th>\n",
       "      <th>preferred_location_type</th>\n",
       "      <th>Yearly_avg_comment_on_travel_page</th>\n",
       "      <th>total_likes_on_outofstation_checkin_received</th>\n",
       "      <th>week_since_last_outstation_checkin</th>\n",
       "      <th>following_company_page</th>\n",
       "      <th>montly_avg_comment_on_company_page</th>\n",
       "      <th>working_flag</th>\n",
       "      <th>travelling_network_rating</th>\n",
       "      <th>number_of_adults</th>\n",
       "      <th>Daily_Avg_mins_spend_on_traveling_page</th>\n",
       "    </tr>\n",
       "  </thead>\n",
       "  <tbody>\n",
       "    <tr>\n",
       "      <th>0</th>\n",
       "      <td>1000001</td>\n",
       "      <td>Yes</td>\n",
       "      <td>307.0</td>\n",
       "      <td>Mobile</td>\n",
       "      <td>38570.0</td>\n",
       "      <td>1</td>\n",
       "      <td>2</td>\n",
       "      <td>Financial</td>\n",
       "      <td>94.0</td>\n",
       "      <td>5993.0</td>\n",
       "      <td>8.0</td>\n",
       "      <td>Yes</td>\n",
       "      <td>11.0</td>\n",
       "      <td>No</td>\n",
       "      <td>1.0</td>\n",
       "      <td>0.0</td>\n",
       "      <td>8.0</td>\n",
       "    </tr>\n",
       "    <tr>\n",
       "      <th>1</th>\n",
       "      <td>1000002</td>\n",
       "      <td>No</td>\n",
       "      <td>367.0</td>\n",
       "      <td>Mobile</td>\n",
       "      <td>9765.0</td>\n",
       "      <td>1</td>\n",
       "      <td>1</td>\n",
       "      <td>Financial</td>\n",
       "      <td>61.0</td>\n",
       "      <td>5130.0</td>\n",
       "      <td>1.0</td>\n",
       "      <td>No</td>\n",
       "      <td>23.0</td>\n",
       "      <td>Yes</td>\n",
       "      <td>4.0</td>\n",
       "      <td>1.0</td>\n",
       "      <td>10.0</td>\n",
       "    </tr>\n",
       "    <tr>\n",
       "      <th>2</th>\n",
       "      <td>1000003</td>\n",
       "      <td>Yes</td>\n",
       "      <td>277.0</td>\n",
       "      <td>Mobile</td>\n",
       "      <td>48055.0</td>\n",
       "      <td>1</td>\n",
       "      <td>2</td>\n",
       "      <td>Other</td>\n",
       "      <td>92.0</td>\n",
       "      <td>2090.0</td>\n",
       "      <td>6.0</td>\n",
       "      <td>Yes</td>\n",
       "      <td>15.0</td>\n",
       "      <td>No</td>\n",
       "      <td>2.0</td>\n",
       "      <td>0.0</td>\n",
       "      <td>7.0</td>\n",
       "    </tr>\n",
       "    <tr>\n",
       "      <th>3</th>\n",
       "      <td>1000004</td>\n",
       "      <td>No</td>\n",
       "      <td>247.0</td>\n",
       "      <td>Mobile</td>\n",
       "      <td>48720.0</td>\n",
       "      <td>1</td>\n",
       "      <td>4</td>\n",
       "      <td>Financial</td>\n",
       "      <td>56.0</td>\n",
       "      <td>2909.0</td>\n",
       "      <td>1.0</td>\n",
       "      <td>Yes</td>\n",
       "      <td>11.0</td>\n",
       "      <td>No</td>\n",
       "      <td>3.0</td>\n",
       "      <td>0.0</td>\n",
       "      <td>8.0</td>\n",
       "    </tr>\n",
       "    <tr>\n",
       "      <th>4</th>\n",
       "      <td>1000005</td>\n",
       "      <td>No</td>\n",
       "      <td>202.0</td>\n",
       "      <td>Mobile</td>\n",
       "      <td>20685.0</td>\n",
       "      <td>1</td>\n",
       "      <td>1</td>\n",
       "      <td>Medical</td>\n",
       "      <td>40.0</td>\n",
       "      <td>3468.0</td>\n",
       "      <td>9.0</td>\n",
       "      <td>No</td>\n",
       "      <td>12.0</td>\n",
       "      <td>No</td>\n",
       "      <td>4.0</td>\n",
       "      <td>1.0</td>\n",
       "      <td>6.0</td>\n",
       "    </tr>\n",
       "  </tbody>\n",
       "</table>\n",
       "</div>"
      ],
      "text/plain": [
       "    UserID Buy_ticket  Yearly_avg_view_on_travel_page preferred_device  \\\n",
       "0  1000001        Yes                           307.0           Mobile   \n",
       "1  1000002         No                           367.0           Mobile   \n",
       "2  1000003        Yes                           277.0           Mobile   \n",
       "3  1000004         No                           247.0           Mobile   \n",
       "4  1000005         No                           202.0           Mobile   \n",
       "\n",
       "   total_likes_on_outstation_checkin_given  yearly_avg_Outstation_checkins  \\\n",
       "0                                  38570.0                               1   \n",
       "1                                   9765.0                               1   \n",
       "2                                  48055.0                               1   \n",
       "3                                  48720.0                               1   \n",
       "4                                  20685.0                               1   \n",
       "\n",
       "   member_in_family preferred_location_type  \\\n",
       "0                 2               Financial   \n",
       "1                 1               Financial   \n",
       "2                 2                   Other   \n",
       "3                 4               Financial   \n",
       "4                 1                 Medical   \n",
       "\n",
       "   Yearly_avg_comment_on_travel_page  \\\n",
       "0                               94.0   \n",
       "1                               61.0   \n",
       "2                               92.0   \n",
       "3                               56.0   \n",
       "4                               40.0   \n",
       "\n",
       "   total_likes_on_outofstation_checkin_received  \\\n",
       "0                                        5993.0   \n",
       "1                                        5130.0   \n",
       "2                                        2090.0   \n",
       "3                                        2909.0   \n",
       "4                                        3468.0   \n",
       "\n",
       "   week_since_last_outstation_checkin following_company_page  \\\n",
       "0                                 8.0                    Yes   \n",
       "1                                 1.0                     No   \n",
       "2                                 6.0                    Yes   \n",
       "3                                 1.0                    Yes   \n",
       "4                                 9.0                     No   \n",
       "\n",
       "   montly_avg_comment_on_company_page working_flag  travelling_network_rating  \\\n",
       "0                                11.0           No                        1.0   \n",
       "1                                23.0          Yes                        4.0   \n",
       "2                                15.0           No                        2.0   \n",
       "3                                11.0           No                        3.0   \n",
       "4                                12.0           No                        4.0   \n",
       "\n",
       "   number_of_adults  Daily_Avg_mins_spend_on_traveling_page  \n",
       "0               0.0                                     8.0  \n",
       "1               1.0                                    10.0  \n",
       "2               0.0                                     7.0  \n",
       "3               0.0                                     8.0  \n",
       "4               1.0                                     6.0  "
      ]
     },
     "execution_count": 121,
     "metadata": {},
     "output_type": "execute_result"
    }
   ],
   "source": [
    "social_media_data_null_drop.head()"
   ]
  },
  {
   "cell_type": "markdown",
   "metadata": {},
   "source": [
    "### Seperate data set in to two, by dividing based on the preferred device. [Mobile, Laptop]"
   ]
  },
  {
   "cell_type": "code",
   "execution_count": 122,
   "metadata": {
    "collapsed": true
   },
   "outputs": [],
   "source": [
    "social_media_data_laptop = social_media_data_encoded.drop(social_media_data_encoded.loc[social_media_data_encoded['preferred_device']=='Mobile'].index)"
   ]
  },
  {
   "cell_type": "code",
   "execution_count": 123,
   "metadata": {
    "collapsed": true
   },
   "outputs": [],
   "source": [
    "# Since the data is only for Laptop devices, we can drop the preferred device column\n",
    "social_media_data_laptop.drop(['preferred_device'], axis=1, inplace=True)"
   ]
  },
  {
   "cell_type": "code",
   "execution_count": 124,
   "metadata": {
    "collapsed": true
   },
   "outputs": [
    {
     "data": {
      "text/html": [
       "<div>\n",
       "<style scoped>\n",
       "    .dataframe tbody tr th:only-of-type {\n",
       "        vertical-align: middle;\n",
       "    }\n",
       "\n",
       "    .dataframe tbody tr th {\n",
       "        vertical-align: top;\n",
       "    }\n",
       "\n",
       "    .dataframe thead th {\n",
       "        text-align: right;\n",
       "    }\n",
       "</style>\n",
       "<table border=\"1\" class=\"dataframe\">\n",
       "  <thead>\n",
       "    <tr style=\"text-align: right;\">\n",
       "      <th></th>\n",
       "      <th>UserID</th>\n",
       "      <th>Buy_ticket</th>\n",
       "      <th>Yearly_avg_view_on_travel_page</th>\n",
       "      <th>total_likes_on_outstation_checkin_given</th>\n",
       "      <th>yearly_avg_Outstation_checkins</th>\n",
       "      <th>member_in_family</th>\n",
       "      <th>Yearly_avg_comment_on_travel_page</th>\n",
       "      <th>total_likes_on_outofstation_checkin_received</th>\n",
       "      <th>week_since_last_outstation_checkin</th>\n",
       "      <th>following_company_page</th>\n",
       "      <th>...</th>\n",
       "      <th>travelling_network_rating</th>\n",
       "      <th>number_of_adults</th>\n",
       "      <th>Daily_Avg_mins_spend_on_traveling_page</th>\n",
       "      <th>location__Beach</th>\n",
       "      <th>location__Entertainment</th>\n",
       "      <th>location__Financial</th>\n",
       "      <th>location__Historical site</th>\n",
       "      <th>location__Medical</th>\n",
       "      <th>location__Other</th>\n",
       "      <th>location__Trekking</th>\n",
       "    </tr>\n",
       "  </thead>\n",
       "  <tbody>\n",
       "    <tr>\n",
       "      <th>0</th>\n",
       "      <td>1005882</td>\n",
       "      <td>0</td>\n",
       "      <td>379.0</td>\n",
       "      <td>9776.0</td>\n",
       "      <td>8</td>\n",
       "      <td>1</td>\n",
       "      <td>64.0</td>\n",
       "      <td>5142.0</td>\n",
       "      <td>1.0</td>\n",
       "      <td>0</td>\n",
       "      <td>...</td>\n",
       "      <td>4.0</td>\n",
       "      <td>1.0</td>\n",
       "      <td>10.0</td>\n",
       "      <td>1</td>\n",
       "      <td>0</td>\n",
       "      <td>0</td>\n",
       "      <td>0</td>\n",
       "      <td>0</td>\n",
       "      <td>0</td>\n",
       "      <td>0</td>\n",
       "    </tr>\n",
       "    <tr>\n",
       "      <th>1</th>\n",
       "      <td>1005884</td>\n",
       "      <td>0</td>\n",
       "      <td>255.0</td>\n",
       "      <td>48725.0</td>\n",
       "      <td>3</td>\n",
       "      <td>4</td>\n",
       "      <td>59.0</td>\n",
       "      <td>2913.0</td>\n",
       "      <td>1.0</td>\n",
       "      <td>1</td>\n",
       "      <td>...</td>\n",
       "      <td>3.0</td>\n",
       "      <td>0.0</td>\n",
       "      <td>8.0</td>\n",
       "      <td>1</td>\n",
       "      <td>0</td>\n",
       "      <td>0</td>\n",
       "      <td>0</td>\n",
       "      <td>0</td>\n",
       "      <td>0</td>\n",
       "      <td>0</td>\n",
       "    </tr>\n",
       "    <tr>\n",
       "      <th>2</th>\n",
       "      <td>1005886</td>\n",
       "      <td>0</td>\n",
       "      <td>250.0</td>\n",
       "      <td>35184.0</td>\n",
       "      <td>2</td>\n",
       "      <td>2</td>\n",
       "      <td>84.0</td>\n",
       "      <td>3074.0</td>\n",
       "      <td>0.0</td>\n",
       "      <td>0</td>\n",
       "      <td>...</td>\n",
       "      <td>3.0</td>\n",
       "      <td>0.0</td>\n",
       "      <td>8.0</td>\n",
       "      <td>1</td>\n",
       "      <td>0</td>\n",
       "      <td>0</td>\n",
       "      <td>0</td>\n",
       "      <td>0</td>\n",
       "      <td>0</td>\n",
       "      <td>0</td>\n",
       "    </tr>\n",
       "    <tr>\n",
       "      <th>3</th>\n",
       "      <td>1005889</td>\n",
       "      <td>0</td>\n",
       "      <td>295.0</td>\n",
       "      <td>7572.0</td>\n",
       "      <td>23</td>\n",
       "      <td>3</td>\n",
       "      <td>48.0</td>\n",
       "      <td>9532.0</td>\n",
       "      <td>0.0</td>\n",
       "      <td>0</td>\n",
       "      <td>...</td>\n",
       "      <td>2.0</td>\n",
       "      <td>0.0</td>\n",
       "      <td>10.0</td>\n",
       "      <td>1</td>\n",
       "      <td>0</td>\n",
       "      <td>0</td>\n",
       "      <td>0</td>\n",
       "      <td>0</td>\n",
       "      <td>0</td>\n",
       "      <td>0</td>\n",
       "    </tr>\n",
       "    <tr>\n",
       "      <th>4</th>\n",
       "      <td>1005907</td>\n",
       "      <td>1</td>\n",
       "      <td>250.0</td>\n",
       "      <td>39379.0</td>\n",
       "      <td>16</td>\n",
       "      <td>1</td>\n",
       "      <td>80.0</td>\n",
       "      <td>3926.0</td>\n",
       "      <td>1.0</td>\n",
       "      <td>1</td>\n",
       "      <td>...</td>\n",
       "      <td>2.0</td>\n",
       "      <td>0.0</td>\n",
       "      <td>10.0</td>\n",
       "      <td>1</td>\n",
       "      <td>0</td>\n",
       "      <td>0</td>\n",
       "      <td>0</td>\n",
       "      <td>0</td>\n",
       "      <td>0</td>\n",
       "      <td>0</td>\n",
       "    </tr>\n",
       "    <tr>\n",
       "      <th>...</th>\n",
       "      <td>...</td>\n",
       "      <td>...</td>\n",
       "      <td>...</td>\n",
       "      <td>...</td>\n",
       "      <td>...</td>\n",
       "      <td>...</td>\n",
       "      <td>...</td>\n",
       "      <td>...</td>\n",
       "      <td>...</td>\n",
       "      <td>...</td>\n",
       "      <td>...</td>\n",
       "      <td>...</td>\n",
       "      <td>...</td>\n",
       "      <td>...</td>\n",
       "      <td>...</td>\n",
       "      <td>...</td>\n",
       "      <td>...</td>\n",
       "      <td>...</td>\n",
       "      <td>...</td>\n",
       "      <td>...</td>\n",
       "      <td>...</td>\n",
       "    </tr>\n",
       "    <tr>\n",
       "      <th>1103</th>\n",
       "      <td>1011731</td>\n",
       "      <td>0</td>\n",
       "      <td>278.0</td>\n",
       "      <td>24127.0</td>\n",
       "      <td>4</td>\n",
       "      <td>2</td>\n",
       "      <td>115.0</td>\n",
       "      <td>5184.0</td>\n",
       "      <td>7.0</td>\n",
       "      <td>0</td>\n",
       "      <td>...</td>\n",
       "      <td>2.0</td>\n",
       "      <td>3.0</td>\n",
       "      <td>23.0</td>\n",
       "      <td>1</td>\n",
       "      <td>0</td>\n",
       "      <td>0</td>\n",
       "      <td>0</td>\n",
       "      <td>0</td>\n",
       "      <td>0</td>\n",
       "      <td>0</td>\n",
       "    </tr>\n",
       "    <tr>\n",
       "      <th>1104</th>\n",
       "      <td>1011743</td>\n",
       "      <td>1</td>\n",
       "      <td>388.0</td>\n",
       "      <td>30775.0</td>\n",
       "      <td>1</td>\n",
       "      <td>4</td>\n",
       "      <td>109.0</td>\n",
       "      <td>6787.0</td>\n",
       "      <td>8.0</td>\n",
       "      <td>0</td>\n",
       "      <td>...</td>\n",
       "      <td>4.0</td>\n",
       "      <td>2.0</td>\n",
       "      <td>14.0</td>\n",
       "      <td>1</td>\n",
       "      <td>0</td>\n",
       "      <td>0</td>\n",
       "      <td>0</td>\n",
       "      <td>0</td>\n",
       "      <td>0</td>\n",
       "      <td>0</td>\n",
       "    </tr>\n",
       "    <tr>\n",
       "      <th>1105</th>\n",
       "      <td>1011747</td>\n",
       "      <td>0</td>\n",
       "      <td>268.0</td>\n",
       "      <td>42010.0</td>\n",
       "      <td>18</td>\n",
       "      <td>4</td>\n",
       "      <td>98.0</td>\n",
       "      <td>5753.0</td>\n",
       "      <td>2.0</td>\n",
       "      <td>1</td>\n",
       "      <td>...</td>\n",
       "      <td>4.0</td>\n",
       "      <td>2.0</td>\n",
       "      <td>17.0</td>\n",
       "      <td>1</td>\n",
       "      <td>0</td>\n",
       "      <td>0</td>\n",
       "      <td>0</td>\n",
       "      <td>0</td>\n",
       "      <td>0</td>\n",
       "      <td>0</td>\n",
       "    </tr>\n",
       "    <tr>\n",
       "      <th>1106</th>\n",
       "      <td>1011756</td>\n",
       "      <td>0</td>\n",
       "      <td>279.0</td>\n",
       "      <td>30987.0</td>\n",
       "      <td>23</td>\n",
       "      <td>2</td>\n",
       "      <td>58.0</td>\n",
       "      <td>2616.0</td>\n",
       "      <td>4.0</td>\n",
       "      <td>0</td>\n",
       "      <td>...</td>\n",
       "      <td>3.0</td>\n",
       "      <td>1.0</td>\n",
       "      <td>23.0</td>\n",
       "      <td>0</td>\n",
       "      <td>0</td>\n",
       "      <td>0</td>\n",
       "      <td>1</td>\n",
       "      <td>0</td>\n",
       "      <td>0</td>\n",
       "      <td>0</td>\n",
       "    </tr>\n",
       "    <tr>\n",
       "      <th>1107</th>\n",
       "      <td>1011759</td>\n",
       "      <td>0</td>\n",
       "      <td>382.0</td>\n",
       "      <td>35851.0</td>\n",
       "      <td>2</td>\n",
       "      <td>3</td>\n",
       "      <td>83.0</td>\n",
       "      <td>5444.0</td>\n",
       "      <td>3.0</td>\n",
       "      <td>0</td>\n",
       "      <td>...</td>\n",
       "      <td>4.0</td>\n",
       "      <td>0.0</td>\n",
       "      <td>20.0</td>\n",
       "      <td>0</td>\n",
       "      <td>0</td>\n",
       "      <td>0</td>\n",
       "      <td>1</td>\n",
       "      <td>0</td>\n",
       "      <td>0</td>\n",
       "      <td>0</td>\n",
       "    </tr>\n",
       "  </tbody>\n",
       "</table>\n",
       "<p>1108 rows × 22 columns</p>\n",
       "</div>"
      ],
      "text/plain": [
       "       UserID  Buy_ticket  Yearly_avg_view_on_travel_page  \\\n",
       "0     1005882           0                           379.0   \n",
       "1     1005884           0                           255.0   \n",
       "2     1005886           0                           250.0   \n",
       "3     1005889           0                           295.0   \n",
       "4     1005907           1                           250.0   \n",
       "...       ...         ...                             ...   \n",
       "1103  1011731           0                           278.0   \n",
       "1104  1011743           1                           388.0   \n",
       "1105  1011747           0                           268.0   \n",
       "1106  1011756           0                           279.0   \n",
       "1107  1011759           0                           382.0   \n",
       "\n",
       "      total_likes_on_outstation_checkin_given  yearly_avg_Outstation_checkins  \\\n",
       "0                                      9776.0                               8   \n",
       "1                                     48725.0                               3   \n",
       "2                                     35184.0                               2   \n",
       "3                                      7572.0                              23   \n",
       "4                                     39379.0                              16   \n",
       "...                                       ...                             ...   \n",
       "1103                                  24127.0                               4   \n",
       "1104                                  30775.0                               1   \n",
       "1105                                  42010.0                              18   \n",
       "1106                                  30987.0                              23   \n",
       "1107                                  35851.0                               2   \n",
       "\n",
       "      member_in_family  Yearly_avg_comment_on_travel_page  \\\n",
       "0                    1                               64.0   \n",
       "1                    4                               59.0   \n",
       "2                    2                               84.0   \n",
       "3                    3                               48.0   \n",
       "4                    1                               80.0   \n",
       "...                ...                                ...   \n",
       "1103                 2                              115.0   \n",
       "1104                 4                              109.0   \n",
       "1105                 4                               98.0   \n",
       "1106                 2                               58.0   \n",
       "1107                 3                               83.0   \n",
       "\n",
       "      total_likes_on_outofstation_checkin_received  \\\n",
       "0                                           5142.0   \n",
       "1                                           2913.0   \n",
       "2                                           3074.0   \n",
       "3                                           9532.0   \n",
       "4                                           3926.0   \n",
       "...                                            ...   \n",
       "1103                                        5184.0   \n",
       "1104                                        6787.0   \n",
       "1105                                        5753.0   \n",
       "1106                                        2616.0   \n",
       "1107                                        5444.0   \n",
       "\n",
       "      week_since_last_outstation_checkin  following_company_page  ...  \\\n",
       "0                                    1.0                       0  ...   \n",
       "1                                    1.0                       1  ...   \n",
       "2                                    0.0                       0  ...   \n",
       "3                                    0.0                       0  ...   \n",
       "4                                    1.0                       1  ...   \n",
       "...                                  ...                     ...  ...   \n",
       "1103                                 7.0                       0  ...   \n",
       "1104                                 8.0                       0  ...   \n",
       "1105                                 2.0                       1  ...   \n",
       "1106                                 4.0                       0  ...   \n",
       "1107                                 3.0                       0  ...   \n",
       "\n",
       "      travelling_network_rating  number_of_adults  \\\n",
       "0                           4.0               1.0   \n",
       "1                           3.0               0.0   \n",
       "2                           3.0               0.0   \n",
       "3                           2.0               0.0   \n",
       "4                           2.0               0.0   \n",
       "...                         ...               ...   \n",
       "1103                        2.0               3.0   \n",
       "1104                        4.0               2.0   \n",
       "1105                        4.0               2.0   \n",
       "1106                        3.0               1.0   \n",
       "1107                        4.0               0.0   \n",
       "\n",
       "      Daily_Avg_mins_spend_on_traveling_page  location__Beach  \\\n",
       "0                                       10.0                1   \n",
       "1                                        8.0                1   \n",
       "2                                        8.0                1   \n",
       "3                                       10.0                1   \n",
       "4                                       10.0                1   \n",
       "...                                      ...              ...   \n",
       "1103                                    23.0                1   \n",
       "1104                                    14.0                1   \n",
       "1105                                    17.0                1   \n",
       "1106                                    23.0                0   \n",
       "1107                                    20.0                0   \n",
       "\n",
       "      location__Entertainment  location__Financial  location__Historical site  \\\n",
       "0                           0                    0                          0   \n",
       "1                           0                    0                          0   \n",
       "2                           0                    0                          0   \n",
       "3                           0                    0                          0   \n",
       "4                           0                    0                          0   \n",
       "...                       ...                  ...                        ...   \n",
       "1103                        0                    0                          0   \n",
       "1104                        0                    0                          0   \n",
       "1105                        0                    0                          0   \n",
       "1106                        0                    0                          1   \n",
       "1107                        0                    0                          1   \n",
       "\n",
       "      location__Medical  location__Other  location__Trekking  \n",
       "0                     0                0                   0  \n",
       "1                     0                0                   0  \n",
       "2                     0                0                   0  \n",
       "3                     0                0                   0  \n",
       "4                     0                0                   0  \n",
       "...                 ...              ...                 ...  \n",
       "1103                  0                0                   0  \n",
       "1104                  0                0                   0  \n",
       "1105                  0                0                   0  \n",
       "1106                  0                0                   0  \n",
       "1107                  0                0                   0  \n",
       "\n",
       "[1108 rows x 22 columns]"
      ]
     },
     "execution_count": 124,
     "metadata": {},
     "output_type": "execute_result"
    }
   ],
   "source": [
    "social_media_data_laptop.reset_index(drop=True)"
   ]
  },
  {
   "cell_type": "markdown",
   "metadata": {},
   "source": [
    "### **Check the number of rows (observations) and the number of columns (variables) in Laptop**"
   ]
  },
  {
   "cell_type": "code",
   "execution_count": 125,
   "metadata": {
    "collapsed": true
   },
   "outputs": [
    {
     "name": "stdout",
     "output_type": "stream",
     "text": [
      "The number of rows (observations) is 1108 \n",
      "The number of columns (variables) is 22\n"
     ]
    }
   ],
   "source": [
    "print('The number of rows (observations) is',social_media_data_laptop.shape[0],'\\n''The number of columns (variables) is',social_media_data_laptop.shape[1])"
   ]
  },
  {
   "cell_type": "code",
   "execution_count": 126,
   "metadata": {
    "collapsed": true
   },
   "outputs": [],
   "source": [
    "social_media_data_mobile = social_media_data_encoded.drop(social_media_data_encoded.loc[social_media_data_encoded['preferred_device']=='Laptop'].index, inplace=False)"
   ]
  },
  {
   "cell_type": "code",
   "execution_count": 127,
   "metadata": {
    "collapsed": true
   },
   "outputs": [],
   "source": [
    "# Since the data is only for Mobile devices, we can drop the preferred device column\n",
    "social_media_data_mobile.drop(['preferred_device'], axis=1, inplace=True)"
   ]
  },
  {
   "cell_type": "code",
   "execution_count": 128,
   "metadata": {
    "collapsed": true
   },
   "outputs": [
    {
     "data": {
      "text/html": [
       "<div>\n",
       "<style scoped>\n",
       "    .dataframe tbody tr th:only-of-type {\n",
       "        vertical-align: middle;\n",
       "    }\n",
       "\n",
       "    .dataframe tbody tr th {\n",
       "        vertical-align: top;\n",
       "    }\n",
       "\n",
       "    .dataframe thead th {\n",
       "        text-align: right;\n",
       "    }\n",
       "</style>\n",
       "<table border=\"1\" class=\"dataframe\">\n",
       "  <thead>\n",
       "    <tr style=\"text-align: right;\">\n",
       "      <th></th>\n",
       "      <th>UserID</th>\n",
       "      <th>Buy_ticket</th>\n",
       "      <th>Yearly_avg_view_on_travel_page</th>\n",
       "      <th>total_likes_on_outstation_checkin_given</th>\n",
       "      <th>yearly_avg_Outstation_checkins</th>\n",
       "      <th>member_in_family</th>\n",
       "      <th>Yearly_avg_comment_on_travel_page</th>\n",
       "      <th>total_likes_on_outofstation_checkin_received</th>\n",
       "      <th>week_since_last_outstation_checkin</th>\n",
       "      <th>following_company_page</th>\n",
       "      <th>...</th>\n",
       "      <th>travelling_network_rating</th>\n",
       "      <th>number_of_adults</th>\n",
       "      <th>Daily_Avg_mins_spend_on_traveling_page</th>\n",
       "      <th>location__Beach</th>\n",
       "      <th>location__Entertainment</th>\n",
       "      <th>location__Financial</th>\n",
       "      <th>location__Historical site</th>\n",
       "      <th>location__Medical</th>\n",
       "      <th>location__Other</th>\n",
       "      <th>location__Trekking</th>\n",
       "    </tr>\n",
       "  </thead>\n",
       "  <tbody>\n",
       "    <tr>\n",
       "      <th>0</th>\n",
       "      <td>1000001</td>\n",
       "      <td>1</td>\n",
       "      <td>307.0</td>\n",
       "      <td>38570.0</td>\n",
       "      <td>1</td>\n",
       "      <td>2</td>\n",
       "      <td>94.0</td>\n",
       "      <td>5993.0</td>\n",
       "      <td>8.0</td>\n",
       "      <td>1</td>\n",
       "      <td>...</td>\n",
       "      <td>1.0</td>\n",
       "      <td>0.0</td>\n",
       "      <td>8.0</td>\n",
       "      <td>0</td>\n",
       "      <td>0</td>\n",
       "      <td>1</td>\n",
       "      <td>0</td>\n",
       "      <td>0</td>\n",
       "      <td>0</td>\n",
       "      <td>0</td>\n",
       "    </tr>\n",
       "    <tr>\n",
       "      <th>1</th>\n",
       "      <td>1000002</td>\n",
       "      <td>0</td>\n",
       "      <td>367.0</td>\n",
       "      <td>9765.0</td>\n",
       "      <td>1</td>\n",
       "      <td>1</td>\n",
       "      <td>61.0</td>\n",
       "      <td>5130.0</td>\n",
       "      <td>1.0</td>\n",
       "      <td>0</td>\n",
       "      <td>...</td>\n",
       "      <td>4.0</td>\n",
       "      <td>1.0</td>\n",
       "      <td>10.0</td>\n",
       "      <td>0</td>\n",
       "      <td>0</td>\n",
       "      <td>1</td>\n",
       "      <td>0</td>\n",
       "      <td>0</td>\n",
       "      <td>0</td>\n",
       "      <td>0</td>\n",
       "    </tr>\n",
       "    <tr>\n",
       "      <th>2</th>\n",
       "      <td>1000003</td>\n",
       "      <td>1</td>\n",
       "      <td>277.0</td>\n",
       "      <td>48055.0</td>\n",
       "      <td>1</td>\n",
       "      <td>2</td>\n",
       "      <td>92.0</td>\n",
       "      <td>2090.0</td>\n",
       "      <td>6.0</td>\n",
       "      <td>1</td>\n",
       "      <td>...</td>\n",
       "      <td>2.0</td>\n",
       "      <td>0.0</td>\n",
       "      <td>7.0</td>\n",
       "      <td>0</td>\n",
       "      <td>0</td>\n",
       "      <td>0</td>\n",
       "      <td>0</td>\n",
       "      <td>0</td>\n",
       "      <td>1</td>\n",
       "      <td>0</td>\n",
       "    </tr>\n",
       "    <tr>\n",
       "      <th>3</th>\n",
       "      <td>1000004</td>\n",
       "      <td>0</td>\n",
       "      <td>247.0</td>\n",
       "      <td>48720.0</td>\n",
       "      <td>1</td>\n",
       "      <td>4</td>\n",
       "      <td>56.0</td>\n",
       "      <td>2909.0</td>\n",
       "      <td>1.0</td>\n",
       "      <td>1</td>\n",
       "      <td>...</td>\n",
       "      <td>3.0</td>\n",
       "      <td>0.0</td>\n",
       "      <td>8.0</td>\n",
       "      <td>0</td>\n",
       "      <td>0</td>\n",
       "      <td>1</td>\n",
       "      <td>0</td>\n",
       "      <td>0</td>\n",
       "      <td>0</td>\n",
       "      <td>0</td>\n",
       "    </tr>\n",
       "    <tr>\n",
       "      <th>4</th>\n",
       "      <td>1000005</td>\n",
       "      <td>0</td>\n",
       "      <td>202.0</td>\n",
       "      <td>20685.0</td>\n",
       "      <td>1</td>\n",
       "      <td>1</td>\n",
       "      <td>40.0</td>\n",
       "      <td>3468.0</td>\n",
       "      <td>9.0</td>\n",
       "      <td>0</td>\n",
       "      <td>...</td>\n",
       "      <td>4.0</td>\n",
       "      <td>1.0</td>\n",
       "      <td>6.0</td>\n",
       "      <td>0</td>\n",
       "      <td>0</td>\n",
       "      <td>0</td>\n",
       "      <td>0</td>\n",
       "      <td>1</td>\n",
       "      <td>0</td>\n",
       "      <td>0</td>\n",
       "    </tr>\n",
       "    <tr>\n",
       "      <th>...</th>\n",
       "      <td>...</td>\n",
       "      <td>...</td>\n",
       "      <td>...</td>\n",
       "      <td>...</td>\n",
       "      <td>...</td>\n",
       "      <td>...</td>\n",
       "      <td>...</td>\n",
       "      <td>...</td>\n",
       "      <td>...</td>\n",
       "      <td>...</td>\n",
       "      <td>...</td>\n",
       "      <td>...</td>\n",
       "      <td>...</td>\n",
       "      <td>...</td>\n",
       "      <td>...</td>\n",
       "      <td>...</td>\n",
       "      <td>...</td>\n",
       "      <td>...</td>\n",
       "      <td>...</td>\n",
       "      <td>...</td>\n",
       "      <td>...</td>\n",
       "    </tr>\n",
       "    <tr>\n",
       "      <th>9382</th>\n",
       "      <td>1011754</td>\n",
       "      <td>0</td>\n",
       "      <td>247.0</td>\n",
       "      <td>11418.0</td>\n",
       "      <td>5</td>\n",
       "      <td>3</td>\n",
       "      <td>99.0</td>\n",
       "      <td>9983.0</td>\n",
       "      <td>1.0</td>\n",
       "      <td>0</td>\n",
       "      <td>...</td>\n",
       "      <td>2.0</td>\n",
       "      <td>0.0</td>\n",
       "      <td>16.0</td>\n",
       "      <td>0</td>\n",
       "      <td>0</td>\n",
       "      <td>0</td>\n",
       "      <td>1</td>\n",
       "      <td>0</td>\n",
       "      <td>0</td>\n",
       "      <td>0</td>\n",
       "    </tr>\n",
       "    <tr>\n",
       "      <th>9383</th>\n",
       "      <td>1011755</td>\n",
       "      <td>0</td>\n",
       "      <td>210.0</td>\n",
       "      <td>40886.0</td>\n",
       "      <td>5</td>\n",
       "      <td>3</td>\n",
       "      <td>53.0</td>\n",
       "      <td>3024.0</td>\n",
       "      <td>2.0</td>\n",
       "      <td>0</td>\n",
       "      <td>...</td>\n",
       "      <td>4.0</td>\n",
       "      <td>0.0</td>\n",
       "      <td>14.0</td>\n",
       "      <td>0</td>\n",
       "      <td>0</td>\n",
       "      <td>0</td>\n",
       "      <td>0</td>\n",
       "      <td>0</td>\n",
       "      <td>1</td>\n",
       "      <td>0</td>\n",
       "    </tr>\n",
       "    <tr>\n",
       "      <th>9384</th>\n",
       "      <td>1011757</td>\n",
       "      <td>0</td>\n",
       "      <td>305.0</td>\n",
       "      <td>21510.0</td>\n",
       "      <td>6</td>\n",
       "      <td>1</td>\n",
       "      <td>55.0</td>\n",
       "      <td>10041.0</td>\n",
       "      <td>4.0</td>\n",
       "      <td>0</td>\n",
       "      <td>...</td>\n",
       "      <td>1.0</td>\n",
       "      <td>1.0</td>\n",
       "      <td>11.0</td>\n",
       "      <td>0</td>\n",
       "      <td>0</td>\n",
       "      <td>0</td>\n",
       "      <td>1</td>\n",
       "      <td>0</td>\n",
       "      <td>0</td>\n",
       "      <td>0</td>\n",
       "    </tr>\n",
       "    <tr>\n",
       "      <th>9385</th>\n",
       "      <td>1011758</td>\n",
       "      <td>0</td>\n",
       "      <td>214.0</td>\n",
       "      <td>5478.0</td>\n",
       "      <td>4</td>\n",
       "      <td>3</td>\n",
       "      <td>103.0</td>\n",
       "      <td>6203.0</td>\n",
       "      <td>3.0</td>\n",
       "      <td>1</td>\n",
       "      <td>...</td>\n",
       "      <td>2.0</td>\n",
       "      <td>1.0</td>\n",
       "      <td>12.0</td>\n",
       "      <td>1</td>\n",
       "      <td>0</td>\n",
       "      <td>0</td>\n",
       "      <td>0</td>\n",
       "      <td>0</td>\n",
       "      <td>0</td>\n",
       "      <td>0</td>\n",
       "    </tr>\n",
       "    <tr>\n",
       "      <th>9386</th>\n",
       "      <td>1011760</td>\n",
       "      <td>0</td>\n",
       "      <td>270.0</td>\n",
       "      <td>22025.0</td>\n",
       "      <td>8</td>\n",
       "      <td>3</td>\n",
       "      <td>104.0</td>\n",
       "      <td>4470.0</td>\n",
       "      <td>2.0</td>\n",
       "      <td>0</td>\n",
       "      <td>...</td>\n",
       "      <td>1.0</td>\n",
       "      <td>0.0</td>\n",
       "      <td>14.0</td>\n",
       "      <td>0</td>\n",
       "      <td>0</td>\n",
       "      <td>0</td>\n",
       "      <td>1</td>\n",
       "      <td>0</td>\n",
       "      <td>0</td>\n",
       "      <td>0</td>\n",
       "    </tr>\n",
       "  </tbody>\n",
       "</table>\n",
       "<p>9387 rows × 22 columns</p>\n",
       "</div>"
      ],
      "text/plain": [
       "       UserID  Buy_ticket  Yearly_avg_view_on_travel_page  \\\n",
       "0     1000001           1                           307.0   \n",
       "1     1000002           0                           367.0   \n",
       "2     1000003           1                           277.0   \n",
       "3     1000004           0                           247.0   \n",
       "4     1000005           0                           202.0   \n",
       "...       ...         ...                             ...   \n",
       "9382  1011754           0                           247.0   \n",
       "9383  1011755           0                           210.0   \n",
       "9384  1011757           0                           305.0   \n",
       "9385  1011758           0                           214.0   \n",
       "9386  1011760           0                           270.0   \n",
       "\n",
       "      total_likes_on_outstation_checkin_given  yearly_avg_Outstation_checkins  \\\n",
       "0                                     38570.0                               1   \n",
       "1                                      9765.0                               1   \n",
       "2                                     48055.0                               1   \n",
       "3                                     48720.0                               1   \n",
       "4                                     20685.0                               1   \n",
       "...                                       ...                             ...   \n",
       "9382                                  11418.0                               5   \n",
       "9383                                  40886.0                               5   \n",
       "9384                                  21510.0                               6   \n",
       "9385                                   5478.0                               4   \n",
       "9386                                  22025.0                               8   \n",
       "\n",
       "      member_in_family  Yearly_avg_comment_on_travel_page  \\\n",
       "0                    2                               94.0   \n",
       "1                    1                               61.0   \n",
       "2                    2                               92.0   \n",
       "3                    4                               56.0   \n",
       "4                    1                               40.0   \n",
       "...                ...                                ...   \n",
       "9382                 3                               99.0   \n",
       "9383                 3                               53.0   \n",
       "9384                 1                               55.0   \n",
       "9385                 3                              103.0   \n",
       "9386                 3                              104.0   \n",
       "\n",
       "      total_likes_on_outofstation_checkin_received  \\\n",
       "0                                           5993.0   \n",
       "1                                           5130.0   \n",
       "2                                           2090.0   \n",
       "3                                           2909.0   \n",
       "4                                           3468.0   \n",
       "...                                            ...   \n",
       "9382                                        9983.0   \n",
       "9383                                        3024.0   \n",
       "9384                                       10041.0   \n",
       "9385                                        6203.0   \n",
       "9386                                        4470.0   \n",
       "\n",
       "      week_since_last_outstation_checkin  following_company_page  ...  \\\n",
       "0                                    8.0                       1  ...   \n",
       "1                                    1.0                       0  ...   \n",
       "2                                    6.0                       1  ...   \n",
       "3                                    1.0                       1  ...   \n",
       "4                                    9.0                       0  ...   \n",
       "...                                  ...                     ...  ...   \n",
       "9382                                 1.0                       0  ...   \n",
       "9383                                 2.0                       0  ...   \n",
       "9384                                 4.0                       0  ...   \n",
       "9385                                 3.0                       1  ...   \n",
       "9386                                 2.0                       0  ...   \n",
       "\n",
       "      travelling_network_rating  number_of_adults  \\\n",
       "0                           1.0               0.0   \n",
       "1                           4.0               1.0   \n",
       "2                           2.0               0.0   \n",
       "3                           3.0               0.0   \n",
       "4                           4.0               1.0   \n",
       "...                         ...               ...   \n",
       "9382                        2.0               0.0   \n",
       "9383                        4.0               0.0   \n",
       "9384                        1.0               1.0   \n",
       "9385                        2.0               1.0   \n",
       "9386                        1.0               0.0   \n",
       "\n",
       "      Daily_Avg_mins_spend_on_traveling_page  location__Beach  \\\n",
       "0                                        8.0                0   \n",
       "1                                       10.0                0   \n",
       "2                                        7.0                0   \n",
       "3                                        8.0                0   \n",
       "4                                        6.0                0   \n",
       "...                                      ...              ...   \n",
       "9382                                    16.0                0   \n",
       "9383                                    14.0                0   \n",
       "9384                                    11.0                0   \n",
       "9385                                    12.0                1   \n",
       "9386                                    14.0                0   \n",
       "\n",
       "      location__Entertainment  location__Financial  location__Historical site  \\\n",
       "0                           0                    1                          0   \n",
       "1                           0                    1                          0   \n",
       "2                           0                    0                          0   \n",
       "3                           0                    1                          0   \n",
       "4                           0                    0                          0   \n",
       "...                       ...                  ...                        ...   \n",
       "9382                        0                    0                          1   \n",
       "9383                        0                    0                          0   \n",
       "9384                        0                    0                          1   \n",
       "9385                        0                    0                          0   \n",
       "9386                        0                    0                          1   \n",
       "\n",
       "      location__Medical  location__Other  location__Trekking  \n",
       "0                     0                0                   0  \n",
       "1                     0                0                   0  \n",
       "2                     0                1                   0  \n",
       "3                     0                0                   0  \n",
       "4                     1                0                   0  \n",
       "...                 ...              ...                 ...  \n",
       "9382                  0                0                   0  \n",
       "9383                  0                1                   0  \n",
       "9384                  0                0                   0  \n",
       "9385                  0                0                   0  \n",
       "9386                  0                0                   0  \n",
       "\n",
       "[9387 rows x 22 columns]"
      ]
     },
     "execution_count": 128,
     "metadata": {},
     "output_type": "execute_result"
    }
   ],
   "source": [
    "social_media_data_mobile.reset_index(drop=True)"
   ]
  },
  {
   "cell_type": "markdown",
   "metadata": {},
   "source": [
    "### **Check the number of rows (observations) and the number of columns (variables) in Mobile**"
   ]
  },
  {
   "cell_type": "code",
   "execution_count": 129,
   "metadata": {
    "collapsed": true
   },
   "outputs": [
    {
     "name": "stdout",
     "output_type": "stream",
     "text": [
      "The number of rows (observations) is 9387 \n",
      "The number of columns (variables) is 22\n"
     ]
    }
   ],
   "source": [
    "print('The number of rows (observations) is',social_media_data_mobile.shape[0],'\\n''The number of columns (variables) is',social_media_data_mobile.shape[1])"
   ]
  },
  {
   "cell_type": "code",
   "execution_count": 130,
   "metadata": {
    "collapsed": true
   },
   "outputs": [],
   "source": [
    "# Write the laptop and mobile data to a csv file.\n",
    "social_media_data_laptop.to_csv('social_media_data_laptop.csv')\n",
    "\n",
    "social_media_data_mobile.to_csv('social_media_data_mobile.csv')"
   ]
  },
  {
   "cell_type": "markdown",
   "metadata": {},
   "source": [
    "\n",
    "**----------------------------------------------------------------------------------------------------------------------------------------------------------------------------------------------------------------**"
   ]
  },
  {
   "cell_type": "markdown",
   "metadata": {},
   "source": [
    "# Project Notes - 2"
   ]
  },
  {
   "cell_type": "code",
   "execution_count": 7,
   "metadata": {},
   "outputs": [],
   "source": [
    "social_media_data_laptop = pd.read_csv('social_media_data_laptop.csv')\n",
    "\n",
    "social_media_data_mobile = pd.read_csv('social_media_data_mobile.csv')"
   ]
  },
  {
   "cell_type": "code",
   "execution_count": 8,
   "metadata": {},
   "outputs": [
    {
     "data": {
      "text/html": [
       "<div>\n",
       "<style scoped>\n",
       "    .dataframe tbody tr th:only-of-type {\n",
       "        vertical-align: middle;\n",
       "    }\n",
       "\n",
       "    .dataframe tbody tr th {\n",
       "        vertical-align: top;\n",
       "    }\n",
       "\n",
       "    .dataframe thead th {\n",
       "        text-align: right;\n",
       "    }\n",
       "</style>\n",
       "<table border=\"1\" class=\"dataframe\">\n",
       "  <thead>\n",
       "    <tr style=\"text-align: right;\">\n",
       "      <th></th>\n",
       "      <th>Unnamed: 0</th>\n",
       "      <th>UserID</th>\n",
       "      <th>Buy_ticket</th>\n",
       "      <th>Yearly_avg_view_on_travel_page</th>\n",
       "      <th>total_likes_on_outstation_checkin_given</th>\n",
       "      <th>yearly_avg_Outstation_checkins</th>\n",
       "      <th>member_in_family</th>\n",
       "      <th>Yearly_avg_comment_on_travel_page</th>\n",
       "      <th>total_likes_on_outofstation_checkin_received</th>\n",
       "      <th>week_since_last_outstation_checkin</th>\n",
       "      <th>...</th>\n",
       "      <th>travelling_network_rating</th>\n",
       "      <th>number_of_adults</th>\n",
       "      <th>Daily_Avg_mins_spend_on_traveling_page</th>\n",
       "      <th>location__Beach</th>\n",
       "      <th>location__Entertainment</th>\n",
       "      <th>location__Financial</th>\n",
       "      <th>location__Historical site</th>\n",
       "      <th>location__Medical</th>\n",
       "      <th>location__Other</th>\n",
       "      <th>location__Trekking</th>\n",
       "    </tr>\n",
       "  </thead>\n",
       "  <tbody>\n",
       "    <tr>\n",
       "      <th>0</th>\n",
       "      <td>5881</td>\n",
       "      <td>1005882</td>\n",
       "      <td>0</td>\n",
       "      <td>379.0</td>\n",
       "      <td>9776.0</td>\n",
       "      <td>8</td>\n",
       "      <td>1</td>\n",
       "      <td>64.0</td>\n",
       "      <td>5142.0</td>\n",
       "      <td>1.0</td>\n",
       "      <td>...</td>\n",
       "      <td>4.0</td>\n",
       "      <td>1.0</td>\n",
       "      <td>10.0</td>\n",
       "      <td>1</td>\n",
       "      <td>0</td>\n",
       "      <td>0</td>\n",
       "      <td>0</td>\n",
       "      <td>0</td>\n",
       "      <td>0</td>\n",
       "      <td>0</td>\n",
       "    </tr>\n",
       "    <tr>\n",
       "      <th>1</th>\n",
       "      <td>5883</td>\n",
       "      <td>1005884</td>\n",
       "      <td>0</td>\n",
       "      <td>255.0</td>\n",
       "      <td>48725.0</td>\n",
       "      <td>3</td>\n",
       "      <td>4</td>\n",
       "      <td>59.0</td>\n",
       "      <td>2913.0</td>\n",
       "      <td>1.0</td>\n",
       "      <td>...</td>\n",
       "      <td>3.0</td>\n",
       "      <td>0.0</td>\n",
       "      <td>8.0</td>\n",
       "      <td>1</td>\n",
       "      <td>0</td>\n",
       "      <td>0</td>\n",
       "      <td>0</td>\n",
       "      <td>0</td>\n",
       "      <td>0</td>\n",
       "      <td>0</td>\n",
       "    </tr>\n",
       "    <tr>\n",
       "      <th>2</th>\n",
       "      <td>5885</td>\n",
       "      <td>1005886</td>\n",
       "      <td>0</td>\n",
       "      <td>250.0</td>\n",
       "      <td>35184.0</td>\n",
       "      <td>2</td>\n",
       "      <td>2</td>\n",
       "      <td>84.0</td>\n",
       "      <td>3074.0</td>\n",
       "      <td>0.0</td>\n",
       "      <td>...</td>\n",
       "      <td>3.0</td>\n",
       "      <td>0.0</td>\n",
       "      <td>8.0</td>\n",
       "      <td>1</td>\n",
       "      <td>0</td>\n",
       "      <td>0</td>\n",
       "      <td>0</td>\n",
       "      <td>0</td>\n",
       "      <td>0</td>\n",
       "      <td>0</td>\n",
       "    </tr>\n",
       "    <tr>\n",
       "      <th>3</th>\n",
       "      <td>5888</td>\n",
       "      <td>1005889</td>\n",
       "      <td>0</td>\n",
       "      <td>295.0</td>\n",
       "      <td>7572.0</td>\n",
       "      <td>23</td>\n",
       "      <td>3</td>\n",
       "      <td>48.0</td>\n",
       "      <td>9532.0</td>\n",
       "      <td>0.0</td>\n",
       "      <td>...</td>\n",
       "      <td>2.0</td>\n",
       "      <td>0.0</td>\n",
       "      <td>10.0</td>\n",
       "      <td>1</td>\n",
       "      <td>0</td>\n",
       "      <td>0</td>\n",
       "      <td>0</td>\n",
       "      <td>0</td>\n",
       "      <td>0</td>\n",
       "      <td>0</td>\n",
       "    </tr>\n",
       "    <tr>\n",
       "      <th>4</th>\n",
       "      <td>5906</td>\n",
       "      <td>1005907</td>\n",
       "      <td>1</td>\n",
       "      <td>250.0</td>\n",
       "      <td>39379.0</td>\n",
       "      <td>16</td>\n",
       "      <td>1</td>\n",
       "      <td>80.0</td>\n",
       "      <td>3926.0</td>\n",
       "      <td>1.0</td>\n",
       "      <td>...</td>\n",
       "      <td>2.0</td>\n",
       "      <td>0.0</td>\n",
       "      <td>10.0</td>\n",
       "      <td>1</td>\n",
       "      <td>0</td>\n",
       "      <td>0</td>\n",
       "      <td>0</td>\n",
       "      <td>0</td>\n",
       "      <td>0</td>\n",
       "      <td>0</td>\n",
       "    </tr>\n",
       "  </tbody>\n",
       "</table>\n",
       "<p>5 rows × 23 columns</p>\n",
       "</div>"
      ],
      "text/plain": [
       "   Unnamed: 0   UserID  Buy_ticket  Yearly_avg_view_on_travel_page  \\\n",
       "0        5881  1005882           0                           379.0   \n",
       "1        5883  1005884           0                           255.0   \n",
       "2        5885  1005886           0                           250.0   \n",
       "3        5888  1005889           0                           295.0   \n",
       "4        5906  1005907           1                           250.0   \n",
       "\n",
       "   total_likes_on_outstation_checkin_given  yearly_avg_Outstation_checkins  \\\n",
       "0                                   9776.0                               8   \n",
       "1                                  48725.0                               3   \n",
       "2                                  35184.0                               2   \n",
       "3                                   7572.0                              23   \n",
       "4                                  39379.0                              16   \n",
       "\n",
       "   member_in_family  Yearly_avg_comment_on_travel_page  \\\n",
       "0                 1                               64.0   \n",
       "1                 4                               59.0   \n",
       "2                 2                               84.0   \n",
       "3                 3                               48.0   \n",
       "4                 1                               80.0   \n",
       "\n",
       "   total_likes_on_outofstation_checkin_received  \\\n",
       "0                                        5142.0   \n",
       "1                                        2913.0   \n",
       "2                                        3074.0   \n",
       "3                                        9532.0   \n",
       "4                                        3926.0   \n",
       "\n",
       "   week_since_last_outstation_checkin  ...  travelling_network_rating  \\\n",
       "0                                 1.0  ...                        4.0   \n",
       "1                                 1.0  ...                        3.0   \n",
       "2                                 0.0  ...                        3.0   \n",
       "3                                 0.0  ...                        2.0   \n",
       "4                                 1.0  ...                        2.0   \n",
       "\n",
       "   number_of_adults  Daily_Avg_mins_spend_on_traveling_page  location__Beach  \\\n",
       "0               1.0                                    10.0                1   \n",
       "1               0.0                                     8.0                1   \n",
       "2               0.0                                     8.0                1   \n",
       "3               0.0                                    10.0                1   \n",
       "4               0.0                                    10.0                1   \n",
       "\n",
       "   location__Entertainment  location__Financial  location__Historical site  \\\n",
       "0                        0                    0                          0   \n",
       "1                        0                    0                          0   \n",
       "2                        0                    0                          0   \n",
       "3                        0                    0                          0   \n",
       "4                        0                    0                          0   \n",
       "\n",
       "   location__Medical  location__Other  location__Trekking  \n",
       "0                  0                0                   0  \n",
       "1                  0                0                   0  \n",
       "2                  0                0                   0  \n",
       "3                  0                0                   0  \n",
       "4                  0                0                   0  \n",
       "\n",
       "[5 rows x 23 columns]"
      ]
     },
     "execution_count": 8,
     "metadata": {},
     "output_type": "execute_result"
    }
   ],
   "source": [
    "social_media_data_laptop.head()"
   ]
  },
  {
   "cell_type": "code",
   "execution_count": 9,
   "metadata": {},
   "outputs": [
    {
     "data": {
      "text/html": [
       "<div>\n",
       "<style scoped>\n",
       "    .dataframe tbody tr th:only-of-type {\n",
       "        vertical-align: middle;\n",
       "    }\n",
       "\n",
       "    .dataframe tbody tr th {\n",
       "        vertical-align: top;\n",
       "    }\n",
       "\n",
       "    .dataframe thead th {\n",
       "        text-align: right;\n",
       "    }\n",
       "</style>\n",
       "<table border=\"1\" class=\"dataframe\">\n",
       "  <thead>\n",
       "    <tr style=\"text-align: right;\">\n",
       "      <th></th>\n",
       "      <th>Unnamed: 0</th>\n",
       "      <th>UserID</th>\n",
       "      <th>Buy_ticket</th>\n",
       "      <th>Yearly_avg_view_on_travel_page</th>\n",
       "      <th>total_likes_on_outstation_checkin_given</th>\n",
       "      <th>yearly_avg_Outstation_checkins</th>\n",
       "      <th>member_in_family</th>\n",
       "      <th>Yearly_avg_comment_on_travel_page</th>\n",
       "      <th>total_likes_on_outofstation_checkin_received</th>\n",
       "      <th>week_since_last_outstation_checkin</th>\n",
       "      <th>...</th>\n",
       "      <th>travelling_network_rating</th>\n",
       "      <th>number_of_adults</th>\n",
       "      <th>Daily_Avg_mins_spend_on_traveling_page</th>\n",
       "      <th>location__Beach</th>\n",
       "      <th>location__Entertainment</th>\n",
       "      <th>location__Financial</th>\n",
       "      <th>location__Historical site</th>\n",
       "      <th>location__Medical</th>\n",
       "      <th>location__Other</th>\n",
       "      <th>location__Trekking</th>\n",
       "    </tr>\n",
       "  </thead>\n",
       "  <tbody>\n",
       "    <tr>\n",
       "      <th>0</th>\n",
       "      <td>0</td>\n",
       "      <td>1000001</td>\n",
       "      <td>1</td>\n",
       "      <td>307.0</td>\n",
       "      <td>38570.0</td>\n",
       "      <td>1</td>\n",
       "      <td>2</td>\n",
       "      <td>94.0</td>\n",
       "      <td>5993.0</td>\n",
       "      <td>8.0</td>\n",
       "      <td>...</td>\n",
       "      <td>1.0</td>\n",
       "      <td>0.0</td>\n",
       "      <td>8.0</td>\n",
       "      <td>0</td>\n",
       "      <td>0</td>\n",
       "      <td>1</td>\n",
       "      <td>0</td>\n",
       "      <td>0</td>\n",
       "      <td>0</td>\n",
       "      <td>0</td>\n",
       "    </tr>\n",
       "    <tr>\n",
       "      <th>1</th>\n",
       "      <td>1</td>\n",
       "      <td>1000002</td>\n",
       "      <td>0</td>\n",
       "      <td>367.0</td>\n",
       "      <td>9765.0</td>\n",
       "      <td>1</td>\n",
       "      <td>1</td>\n",
       "      <td>61.0</td>\n",
       "      <td>5130.0</td>\n",
       "      <td>1.0</td>\n",
       "      <td>...</td>\n",
       "      <td>4.0</td>\n",
       "      <td>1.0</td>\n",
       "      <td>10.0</td>\n",
       "      <td>0</td>\n",
       "      <td>0</td>\n",
       "      <td>1</td>\n",
       "      <td>0</td>\n",
       "      <td>0</td>\n",
       "      <td>0</td>\n",
       "      <td>0</td>\n",
       "    </tr>\n",
       "    <tr>\n",
       "      <th>2</th>\n",
       "      <td>2</td>\n",
       "      <td>1000003</td>\n",
       "      <td>1</td>\n",
       "      <td>277.0</td>\n",
       "      <td>48055.0</td>\n",
       "      <td>1</td>\n",
       "      <td>2</td>\n",
       "      <td>92.0</td>\n",
       "      <td>2090.0</td>\n",
       "      <td>6.0</td>\n",
       "      <td>...</td>\n",
       "      <td>2.0</td>\n",
       "      <td>0.0</td>\n",
       "      <td>7.0</td>\n",
       "      <td>0</td>\n",
       "      <td>0</td>\n",
       "      <td>0</td>\n",
       "      <td>0</td>\n",
       "      <td>0</td>\n",
       "      <td>1</td>\n",
       "      <td>0</td>\n",
       "    </tr>\n",
       "    <tr>\n",
       "      <th>3</th>\n",
       "      <td>3</td>\n",
       "      <td>1000004</td>\n",
       "      <td>0</td>\n",
       "      <td>247.0</td>\n",
       "      <td>48720.0</td>\n",
       "      <td>1</td>\n",
       "      <td>4</td>\n",
       "      <td>56.0</td>\n",
       "      <td>2909.0</td>\n",
       "      <td>1.0</td>\n",
       "      <td>...</td>\n",
       "      <td>3.0</td>\n",
       "      <td>0.0</td>\n",
       "      <td>8.0</td>\n",
       "      <td>0</td>\n",
       "      <td>0</td>\n",
       "      <td>1</td>\n",
       "      <td>0</td>\n",
       "      <td>0</td>\n",
       "      <td>0</td>\n",
       "      <td>0</td>\n",
       "    </tr>\n",
       "    <tr>\n",
       "      <th>4</th>\n",
       "      <td>4</td>\n",
       "      <td>1000005</td>\n",
       "      <td>0</td>\n",
       "      <td>202.0</td>\n",
       "      <td>20685.0</td>\n",
       "      <td>1</td>\n",
       "      <td>1</td>\n",
       "      <td>40.0</td>\n",
       "      <td>3468.0</td>\n",
       "      <td>9.0</td>\n",
       "      <td>...</td>\n",
       "      <td>4.0</td>\n",
       "      <td>1.0</td>\n",
       "      <td>6.0</td>\n",
       "      <td>0</td>\n",
       "      <td>0</td>\n",
       "      <td>0</td>\n",
       "      <td>0</td>\n",
       "      <td>1</td>\n",
       "      <td>0</td>\n",
       "      <td>0</td>\n",
       "    </tr>\n",
       "  </tbody>\n",
       "</table>\n",
       "<p>5 rows × 23 columns</p>\n",
       "</div>"
      ],
      "text/plain": [
       "   Unnamed: 0   UserID  Buy_ticket  Yearly_avg_view_on_travel_page  \\\n",
       "0           0  1000001           1                           307.0   \n",
       "1           1  1000002           0                           367.0   \n",
       "2           2  1000003           1                           277.0   \n",
       "3           3  1000004           0                           247.0   \n",
       "4           4  1000005           0                           202.0   \n",
       "\n",
       "   total_likes_on_outstation_checkin_given  yearly_avg_Outstation_checkins  \\\n",
       "0                                  38570.0                               1   \n",
       "1                                   9765.0                               1   \n",
       "2                                  48055.0                               1   \n",
       "3                                  48720.0                               1   \n",
       "4                                  20685.0                               1   \n",
       "\n",
       "   member_in_family  Yearly_avg_comment_on_travel_page  \\\n",
       "0                 2                               94.0   \n",
       "1                 1                               61.0   \n",
       "2                 2                               92.0   \n",
       "3                 4                               56.0   \n",
       "4                 1                               40.0   \n",
       "\n",
       "   total_likes_on_outofstation_checkin_received  \\\n",
       "0                                        5993.0   \n",
       "1                                        5130.0   \n",
       "2                                        2090.0   \n",
       "3                                        2909.0   \n",
       "4                                        3468.0   \n",
       "\n",
       "   week_since_last_outstation_checkin  ...  travelling_network_rating  \\\n",
       "0                                 8.0  ...                        1.0   \n",
       "1                                 1.0  ...                        4.0   \n",
       "2                                 6.0  ...                        2.0   \n",
       "3                                 1.0  ...                        3.0   \n",
       "4                                 9.0  ...                        4.0   \n",
       "\n",
       "   number_of_adults  Daily_Avg_mins_spend_on_traveling_page  location__Beach  \\\n",
       "0               0.0                                     8.0                0   \n",
       "1               1.0                                    10.0                0   \n",
       "2               0.0                                     7.0                0   \n",
       "3               0.0                                     8.0                0   \n",
       "4               1.0                                     6.0                0   \n",
       "\n",
       "   location__Entertainment  location__Financial  location__Historical site  \\\n",
       "0                        0                    1                          0   \n",
       "1                        0                    1                          0   \n",
       "2                        0                    0                          0   \n",
       "3                        0                    1                          0   \n",
       "4                        0                    0                          0   \n",
       "\n",
       "   location__Medical  location__Other  location__Trekking  \n",
       "0                  0                0                   0  \n",
       "1                  0                0                   0  \n",
       "2                  0                1                   0  \n",
       "3                  0                0                   0  \n",
       "4                  1                0                   0  \n",
       "\n",
       "[5 rows x 23 columns]"
      ]
     },
     "execution_count": 9,
     "metadata": {},
     "output_type": "execute_result"
    }
   ],
   "source": [
    "social_media_data_mobile.head()"
   ]
  },
  {
   "cell_type": "code",
   "execution_count": 10,
   "metadata": {},
   "outputs": [],
   "source": [
    "# Drop Unnamed: 0 column\n",
    "social_media_data_laptop.drop(['Unnamed: 0'], axis = 1, inplace=True)\n",
    "\n",
    "social_media_data_mobile.drop(['Unnamed: 0'], axis = 1, inplace=True)"
   ]
  },
  {
   "cell_type": "code",
   "execution_count": 11,
   "metadata": {},
   "outputs": [
    {
     "name": "stdout",
     "output_type": "stream",
     "text": [
      "<class 'pandas.core.frame.DataFrame'>\n",
      "RangeIndex: 1108 entries, 0 to 1107\n",
      "Data columns (total 22 columns):\n",
      " #   Column                                        Non-Null Count  Dtype  \n",
      "---  ------                                        --------------  -----  \n",
      " 0   UserID                                        1108 non-null   int64  \n",
      " 1   Buy_ticket                                    1108 non-null   int64  \n",
      " 2   Yearly_avg_view_on_travel_page                1108 non-null   float64\n",
      " 3   total_likes_on_outstation_checkin_given       1108 non-null   float64\n",
      " 4   yearly_avg_Outstation_checkins                1108 non-null   int64  \n",
      " 5   member_in_family                              1108 non-null   int64  \n",
      " 6   Yearly_avg_comment_on_travel_page             1108 non-null   float64\n",
      " 7   total_likes_on_outofstation_checkin_received  1108 non-null   float64\n",
      " 8   week_since_last_outstation_checkin            1108 non-null   float64\n",
      " 9   following_company_page                        1108 non-null   int64  \n",
      " 10  montly_avg_comment_on_company_page            1108 non-null   float64\n",
      " 11  working_flag                                  1108 non-null   int64  \n",
      " 12  travelling_network_rating                     1108 non-null   float64\n",
      " 13  number_of_adults                              1108 non-null   float64\n",
      " 14  Daily_Avg_mins_spend_on_traveling_page        1108 non-null   float64\n",
      " 15  location__Beach                               1108 non-null   int64  \n",
      " 16  location__Entertainment                       1108 non-null   int64  \n",
      " 17  location__Financial                           1108 non-null   int64  \n",
      " 18  location__Historical site                     1108 non-null   int64  \n",
      " 19  location__Medical                             1108 non-null   int64  \n",
      " 20  location__Other                               1108 non-null   int64  \n",
      " 21  location__Trekking                            1108 non-null   int64  \n",
      "dtypes: float64(9), int64(13)\n",
      "memory usage: 190.6 KB\n"
     ]
    }
   ],
   "source": [
    "social_media_data_laptop.info()"
   ]
  },
  {
   "cell_type": "code",
   "execution_count": 12,
   "metadata": {},
   "outputs": [
    {
     "data": {
      "text/html": [
       "<div>\n",
       "<style scoped>\n",
       "    .dataframe tbody tr th:only-of-type {\n",
       "        vertical-align: middle;\n",
       "    }\n",
       "\n",
       "    .dataframe tbody tr th {\n",
       "        vertical-align: top;\n",
       "    }\n",
       "\n",
       "    .dataframe thead th {\n",
       "        text-align: right;\n",
       "    }\n",
       "</style>\n",
       "<table border=\"1\" class=\"dataframe\">\n",
       "  <thead>\n",
       "    <tr style=\"text-align: right;\">\n",
       "      <th></th>\n",
       "      <th>UserID</th>\n",
       "      <th>Buy_ticket</th>\n",
       "      <th>Yearly_avg_view_on_travel_page</th>\n",
       "      <th>total_likes_on_outstation_checkin_given</th>\n",
       "      <th>yearly_avg_Outstation_checkins</th>\n",
       "      <th>member_in_family</th>\n",
       "      <th>Yearly_avg_comment_on_travel_page</th>\n",
       "      <th>total_likes_on_outofstation_checkin_received</th>\n",
       "      <th>week_since_last_outstation_checkin</th>\n",
       "      <th>following_company_page</th>\n",
       "      <th>...</th>\n",
       "      <th>travelling_network_rating</th>\n",
       "      <th>number_of_adults</th>\n",
       "      <th>Daily_Avg_mins_spend_on_traveling_page</th>\n",
       "      <th>location__Beach</th>\n",
       "      <th>location__Entertainment</th>\n",
       "      <th>location__Financial</th>\n",
       "      <th>location__Historical site</th>\n",
       "      <th>location__Medical</th>\n",
       "      <th>location__Other</th>\n",
       "      <th>location__Trekking</th>\n",
       "    </tr>\n",
       "  </thead>\n",
       "  <tbody>\n",
       "    <tr>\n",
       "      <th>0</th>\n",
       "      <td>1005882</td>\n",
       "      <td>0</td>\n",
       "      <td>379.0</td>\n",
       "      <td>9776.0</td>\n",
       "      <td>8</td>\n",
       "      <td>1</td>\n",
       "      <td>64.0</td>\n",
       "      <td>5142.0</td>\n",
       "      <td>1.0</td>\n",
       "      <td>0</td>\n",
       "      <td>...</td>\n",
       "      <td>4.0</td>\n",
       "      <td>1.0</td>\n",
       "      <td>10.0</td>\n",
       "      <td>1</td>\n",
       "      <td>0</td>\n",
       "      <td>0</td>\n",
       "      <td>0</td>\n",
       "      <td>0</td>\n",
       "      <td>0</td>\n",
       "      <td>0</td>\n",
       "    </tr>\n",
       "    <tr>\n",
       "      <th>1</th>\n",
       "      <td>1005884</td>\n",
       "      <td>0</td>\n",
       "      <td>255.0</td>\n",
       "      <td>48725.0</td>\n",
       "      <td>3</td>\n",
       "      <td>4</td>\n",
       "      <td>59.0</td>\n",
       "      <td>2913.0</td>\n",
       "      <td>1.0</td>\n",
       "      <td>1</td>\n",
       "      <td>...</td>\n",
       "      <td>3.0</td>\n",
       "      <td>0.0</td>\n",
       "      <td>8.0</td>\n",
       "      <td>1</td>\n",
       "      <td>0</td>\n",
       "      <td>0</td>\n",
       "      <td>0</td>\n",
       "      <td>0</td>\n",
       "      <td>0</td>\n",
       "      <td>0</td>\n",
       "    </tr>\n",
       "    <tr>\n",
       "      <th>2</th>\n",
       "      <td>1005886</td>\n",
       "      <td>0</td>\n",
       "      <td>250.0</td>\n",
       "      <td>35184.0</td>\n",
       "      <td>2</td>\n",
       "      <td>2</td>\n",
       "      <td>84.0</td>\n",
       "      <td>3074.0</td>\n",
       "      <td>0.0</td>\n",
       "      <td>0</td>\n",
       "      <td>...</td>\n",
       "      <td>3.0</td>\n",
       "      <td>0.0</td>\n",
       "      <td>8.0</td>\n",
       "      <td>1</td>\n",
       "      <td>0</td>\n",
       "      <td>0</td>\n",
       "      <td>0</td>\n",
       "      <td>0</td>\n",
       "      <td>0</td>\n",
       "      <td>0</td>\n",
       "    </tr>\n",
       "    <tr>\n",
       "      <th>3</th>\n",
       "      <td>1005889</td>\n",
       "      <td>0</td>\n",
       "      <td>295.0</td>\n",
       "      <td>7572.0</td>\n",
       "      <td>23</td>\n",
       "      <td>3</td>\n",
       "      <td>48.0</td>\n",
       "      <td>9532.0</td>\n",
       "      <td>0.0</td>\n",
       "      <td>0</td>\n",
       "      <td>...</td>\n",
       "      <td>2.0</td>\n",
       "      <td>0.0</td>\n",
       "      <td>10.0</td>\n",
       "      <td>1</td>\n",
       "      <td>0</td>\n",
       "      <td>0</td>\n",
       "      <td>0</td>\n",
       "      <td>0</td>\n",
       "      <td>0</td>\n",
       "      <td>0</td>\n",
       "    </tr>\n",
       "    <tr>\n",
       "      <th>4</th>\n",
       "      <td>1005907</td>\n",
       "      <td>1</td>\n",
       "      <td>250.0</td>\n",
       "      <td>39379.0</td>\n",
       "      <td>16</td>\n",
       "      <td>1</td>\n",
       "      <td>80.0</td>\n",
       "      <td>3926.0</td>\n",
       "      <td>1.0</td>\n",
       "      <td>1</td>\n",
       "      <td>...</td>\n",
       "      <td>2.0</td>\n",
       "      <td>0.0</td>\n",
       "      <td>10.0</td>\n",
       "      <td>1</td>\n",
       "      <td>0</td>\n",
       "      <td>0</td>\n",
       "      <td>0</td>\n",
       "      <td>0</td>\n",
       "      <td>0</td>\n",
       "      <td>0</td>\n",
       "    </tr>\n",
       "  </tbody>\n",
       "</table>\n",
       "<p>5 rows × 22 columns</p>\n",
       "</div>"
      ],
      "text/plain": [
       "    UserID  Buy_ticket  Yearly_avg_view_on_travel_page  \\\n",
       "0  1005882           0                           379.0   \n",
       "1  1005884           0                           255.0   \n",
       "2  1005886           0                           250.0   \n",
       "3  1005889           0                           295.0   \n",
       "4  1005907           1                           250.0   \n",
       "\n",
       "   total_likes_on_outstation_checkin_given  yearly_avg_Outstation_checkins  \\\n",
       "0                                   9776.0                               8   \n",
       "1                                  48725.0                               3   \n",
       "2                                  35184.0                               2   \n",
       "3                                   7572.0                              23   \n",
       "4                                  39379.0                              16   \n",
       "\n",
       "   member_in_family  Yearly_avg_comment_on_travel_page  \\\n",
       "0                 1                               64.0   \n",
       "1                 4                               59.0   \n",
       "2                 2                               84.0   \n",
       "3                 3                               48.0   \n",
       "4                 1                               80.0   \n",
       "\n",
       "   total_likes_on_outofstation_checkin_received  \\\n",
       "0                                        5142.0   \n",
       "1                                        2913.0   \n",
       "2                                        3074.0   \n",
       "3                                        9532.0   \n",
       "4                                        3926.0   \n",
       "\n",
       "   week_since_last_outstation_checkin  following_company_page  ...  \\\n",
       "0                                 1.0                       0  ...   \n",
       "1                                 1.0                       1  ...   \n",
       "2                                 0.0                       0  ...   \n",
       "3                                 0.0                       0  ...   \n",
       "4                                 1.0                       1  ...   \n",
       "\n",
       "   travelling_network_rating  number_of_adults  \\\n",
       "0                        4.0               1.0   \n",
       "1                        3.0               0.0   \n",
       "2                        3.0               0.0   \n",
       "3                        2.0               0.0   \n",
       "4                        2.0               0.0   \n",
       "\n",
       "   Daily_Avg_mins_spend_on_traveling_page  location__Beach  \\\n",
       "0                                    10.0                1   \n",
       "1                                     8.0                1   \n",
       "2                                     8.0                1   \n",
       "3                                    10.0                1   \n",
       "4                                    10.0                1   \n",
       "\n",
       "   location__Entertainment  location__Financial  location__Historical site  \\\n",
       "0                        0                    0                          0   \n",
       "1                        0                    0                          0   \n",
       "2                        0                    0                          0   \n",
       "3                        0                    0                          0   \n",
       "4                        0                    0                          0   \n",
       "\n",
       "   location__Medical  location__Other  location__Trekking  \n",
       "0                  0                0                   0  \n",
       "1                  0                0                   0  \n",
       "2                  0                0                   0  \n",
       "3                  0                0                   0  \n",
       "4                  0                0                   0  \n",
       "\n",
       "[5 rows x 22 columns]"
      ]
     },
     "execution_count": 12,
     "metadata": {},
     "output_type": "execute_result"
    }
   ],
   "source": [
    "social_media_data_laptop.head()"
   ]
  },
  {
   "cell_type": "code",
   "execution_count": 13,
   "metadata": {},
   "outputs": [
    {
     "name": "stdout",
     "output_type": "stream",
     "text": [
      "<class 'pandas.core.frame.DataFrame'>\n",
      "RangeIndex: 9387 entries, 0 to 9386\n",
      "Data columns (total 22 columns):\n",
      " #   Column                                        Non-Null Count  Dtype  \n",
      "---  ------                                        --------------  -----  \n",
      " 0   UserID                                        9387 non-null   int64  \n",
      " 1   Buy_ticket                                    9387 non-null   int64  \n",
      " 2   Yearly_avg_view_on_travel_page                9387 non-null   float64\n",
      " 3   total_likes_on_outstation_checkin_given       9387 non-null   float64\n",
      " 4   yearly_avg_Outstation_checkins                9387 non-null   int64  \n",
      " 5   member_in_family                              9387 non-null   int64  \n",
      " 6   Yearly_avg_comment_on_travel_page             9387 non-null   float64\n",
      " 7   total_likes_on_outofstation_checkin_received  9387 non-null   float64\n",
      " 8   week_since_last_outstation_checkin            9387 non-null   float64\n",
      " 9   following_company_page                        9387 non-null   int64  \n",
      " 10  montly_avg_comment_on_company_page            9387 non-null   float64\n",
      " 11  working_flag                                  9387 non-null   int64  \n",
      " 12  travelling_network_rating                     9387 non-null   float64\n",
      " 13  number_of_adults                              9387 non-null   float64\n",
      " 14  Daily_Avg_mins_spend_on_traveling_page        9387 non-null   float64\n",
      " 15  location__Beach                               9387 non-null   int64  \n",
      " 16  location__Entertainment                       9387 non-null   int64  \n",
      " 17  location__Financial                           9387 non-null   int64  \n",
      " 18  location__Historical site                     9387 non-null   int64  \n",
      " 19  location__Medical                             9387 non-null   int64  \n",
      " 20  location__Other                               9387 non-null   int64  \n",
      " 21  location__Trekking                            9387 non-null   int64  \n",
      "dtypes: float64(9), int64(13)\n",
      "memory usage: 1.6 MB\n"
     ]
    }
   ],
   "source": [
    "social_media_data_mobile.info()"
   ]
  },
  {
   "cell_type": "code",
   "execution_count": 14,
   "metadata": {},
   "outputs": [
    {
     "data": {
      "text/html": [
       "<div>\n",
       "<style scoped>\n",
       "    .dataframe tbody tr th:only-of-type {\n",
       "        vertical-align: middle;\n",
       "    }\n",
       "\n",
       "    .dataframe tbody tr th {\n",
       "        vertical-align: top;\n",
       "    }\n",
       "\n",
       "    .dataframe thead th {\n",
       "        text-align: right;\n",
       "    }\n",
       "</style>\n",
       "<table border=\"1\" class=\"dataframe\">\n",
       "  <thead>\n",
       "    <tr style=\"text-align: right;\">\n",
       "      <th></th>\n",
       "      <th>UserID</th>\n",
       "      <th>Buy_ticket</th>\n",
       "      <th>Yearly_avg_view_on_travel_page</th>\n",
       "      <th>total_likes_on_outstation_checkin_given</th>\n",
       "      <th>yearly_avg_Outstation_checkins</th>\n",
       "      <th>member_in_family</th>\n",
       "      <th>Yearly_avg_comment_on_travel_page</th>\n",
       "      <th>total_likes_on_outofstation_checkin_received</th>\n",
       "      <th>week_since_last_outstation_checkin</th>\n",
       "      <th>following_company_page</th>\n",
       "      <th>...</th>\n",
       "      <th>travelling_network_rating</th>\n",
       "      <th>number_of_adults</th>\n",
       "      <th>Daily_Avg_mins_spend_on_traveling_page</th>\n",
       "      <th>location__Beach</th>\n",
       "      <th>location__Entertainment</th>\n",
       "      <th>location__Financial</th>\n",
       "      <th>location__Historical site</th>\n",
       "      <th>location__Medical</th>\n",
       "      <th>location__Other</th>\n",
       "      <th>location__Trekking</th>\n",
       "    </tr>\n",
       "  </thead>\n",
       "  <tbody>\n",
       "    <tr>\n",
       "      <th>0</th>\n",
       "      <td>1000001</td>\n",
       "      <td>1</td>\n",
       "      <td>307.0</td>\n",
       "      <td>38570.0</td>\n",
       "      <td>1</td>\n",
       "      <td>2</td>\n",
       "      <td>94.0</td>\n",
       "      <td>5993.0</td>\n",
       "      <td>8.0</td>\n",
       "      <td>1</td>\n",
       "      <td>...</td>\n",
       "      <td>1.0</td>\n",
       "      <td>0.0</td>\n",
       "      <td>8.0</td>\n",
       "      <td>0</td>\n",
       "      <td>0</td>\n",
       "      <td>1</td>\n",
       "      <td>0</td>\n",
       "      <td>0</td>\n",
       "      <td>0</td>\n",
       "      <td>0</td>\n",
       "    </tr>\n",
       "    <tr>\n",
       "      <th>1</th>\n",
       "      <td>1000002</td>\n",
       "      <td>0</td>\n",
       "      <td>367.0</td>\n",
       "      <td>9765.0</td>\n",
       "      <td>1</td>\n",
       "      <td>1</td>\n",
       "      <td>61.0</td>\n",
       "      <td>5130.0</td>\n",
       "      <td>1.0</td>\n",
       "      <td>0</td>\n",
       "      <td>...</td>\n",
       "      <td>4.0</td>\n",
       "      <td>1.0</td>\n",
       "      <td>10.0</td>\n",
       "      <td>0</td>\n",
       "      <td>0</td>\n",
       "      <td>1</td>\n",
       "      <td>0</td>\n",
       "      <td>0</td>\n",
       "      <td>0</td>\n",
       "      <td>0</td>\n",
       "    </tr>\n",
       "    <tr>\n",
       "      <th>2</th>\n",
       "      <td>1000003</td>\n",
       "      <td>1</td>\n",
       "      <td>277.0</td>\n",
       "      <td>48055.0</td>\n",
       "      <td>1</td>\n",
       "      <td>2</td>\n",
       "      <td>92.0</td>\n",
       "      <td>2090.0</td>\n",
       "      <td>6.0</td>\n",
       "      <td>1</td>\n",
       "      <td>...</td>\n",
       "      <td>2.0</td>\n",
       "      <td>0.0</td>\n",
       "      <td>7.0</td>\n",
       "      <td>0</td>\n",
       "      <td>0</td>\n",
       "      <td>0</td>\n",
       "      <td>0</td>\n",
       "      <td>0</td>\n",
       "      <td>1</td>\n",
       "      <td>0</td>\n",
       "    </tr>\n",
       "    <tr>\n",
       "      <th>3</th>\n",
       "      <td>1000004</td>\n",
       "      <td>0</td>\n",
       "      <td>247.0</td>\n",
       "      <td>48720.0</td>\n",
       "      <td>1</td>\n",
       "      <td>4</td>\n",
       "      <td>56.0</td>\n",
       "      <td>2909.0</td>\n",
       "      <td>1.0</td>\n",
       "      <td>1</td>\n",
       "      <td>...</td>\n",
       "      <td>3.0</td>\n",
       "      <td>0.0</td>\n",
       "      <td>8.0</td>\n",
       "      <td>0</td>\n",
       "      <td>0</td>\n",
       "      <td>1</td>\n",
       "      <td>0</td>\n",
       "      <td>0</td>\n",
       "      <td>0</td>\n",
       "      <td>0</td>\n",
       "    </tr>\n",
       "    <tr>\n",
       "      <th>4</th>\n",
       "      <td>1000005</td>\n",
       "      <td>0</td>\n",
       "      <td>202.0</td>\n",
       "      <td>20685.0</td>\n",
       "      <td>1</td>\n",
       "      <td>1</td>\n",
       "      <td>40.0</td>\n",
       "      <td>3468.0</td>\n",
       "      <td>9.0</td>\n",
       "      <td>0</td>\n",
       "      <td>...</td>\n",
       "      <td>4.0</td>\n",
       "      <td>1.0</td>\n",
       "      <td>6.0</td>\n",
       "      <td>0</td>\n",
       "      <td>0</td>\n",
       "      <td>0</td>\n",
       "      <td>0</td>\n",
       "      <td>1</td>\n",
       "      <td>0</td>\n",
       "      <td>0</td>\n",
       "    </tr>\n",
       "  </tbody>\n",
       "</table>\n",
       "<p>5 rows × 22 columns</p>\n",
       "</div>"
      ],
      "text/plain": [
       "    UserID  Buy_ticket  Yearly_avg_view_on_travel_page  \\\n",
       "0  1000001           1                           307.0   \n",
       "1  1000002           0                           367.0   \n",
       "2  1000003           1                           277.0   \n",
       "3  1000004           0                           247.0   \n",
       "4  1000005           0                           202.0   \n",
       "\n",
       "   total_likes_on_outstation_checkin_given  yearly_avg_Outstation_checkins  \\\n",
       "0                                  38570.0                               1   \n",
       "1                                   9765.0                               1   \n",
       "2                                  48055.0                               1   \n",
       "3                                  48720.0                               1   \n",
       "4                                  20685.0                               1   \n",
       "\n",
       "   member_in_family  Yearly_avg_comment_on_travel_page  \\\n",
       "0                 2                               94.0   \n",
       "1                 1                               61.0   \n",
       "2                 2                               92.0   \n",
       "3                 4                               56.0   \n",
       "4                 1                               40.0   \n",
       "\n",
       "   total_likes_on_outofstation_checkin_received  \\\n",
       "0                                        5993.0   \n",
       "1                                        5130.0   \n",
       "2                                        2090.0   \n",
       "3                                        2909.0   \n",
       "4                                        3468.0   \n",
       "\n",
       "   week_since_last_outstation_checkin  following_company_page  ...  \\\n",
       "0                                 8.0                       1  ...   \n",
       "1                                 1.0                       0  ...   \n",
       "2                                 6.0                       1  ...   \n",
       "3                                 1.0                       1  ...   \n",
       "4                                 9.0                       0  ...   \n",
       "\n",
       "   travelling_network_rating  number_of_adults  \\\n",
       "0                        1.0               0.0   \n",
       "1                        4.0               1.0   \n",
       "2                        2.0               0.0   \n",
       "3                        3.0               0.0   \n",
       "4                        4.0               1.0   \n",
       "\n",
       "   Daily_Avg_mins_spend_on_traveling_page  location__Beach  \\\n",
       "0                                     8.0                0   \n",
       "1                                    10.0                0   \n",
       "2                                     7.0                0   \n",
       "3                                     8.0                0   \n",
       "4                                     6.0                0   \n",
       "\n",
       "   location__Entertainment  location__Financial  location__Historical site  \\\n",
       "0                        0                    1                          0   \n",
       "1                        0                    1                          0   \n",
       "2                        0                    0                          0   \n",
       "3                        0                    1                          0   \n",
       "4                        0                    0                          0   \n",
       "\n",
       "   location__Medical  location__Other  location__Trekking  \n",
       "0                  0                0                   0  \n",
       "1                  0                0                   0  \n",
       "2                  0                1                   0  \n",
       "3                  0                0                   0  \n",
       "4                  1                0                   0  \n",
       "\n",
       "[5 rows x 22 columns]"
      ]
     },
     "execution_count": 14,
     "metadata": {},
     "output_type": "execute_result"
    }
   ],
   "source": [
    "social_media_data_mobile.head()"
   ]
  },
  {
   "cell_type": "code",
   "execution_count": 15,
   "metadata": {},
   "outputs": [],
   "source": [
    "#Let us break the X and y dataframes into training set and test set. For this we will use\n",
    "#Sklearn package's data splitting function which is based on random function\n",
    "\n",
    "from sklearn.model_selection import train_test_split"
   ]
  },
  {
   "cell_type": "markdown",
   "metadata": {},
   "source": [
    "## Naive Bayes"
   ]
  },
  {
   "cell_type": "code",
   "execution_count": 16,
   "metadata": {},
   "outputs": [],
   "source": [
    "# Gaussian algorithm from Naive Bayes\n",
    "\n",
    "from sklearn.naive_bayes import GaussianNB"
   ]
  },
  {
   "cell_type": "markdown",
   "metadata": {},
   "source": [
    "### For Mobile Dataset"
   ]
  },
  {
   "cell_type": "code",
   "execution_count": 17,
   "metadata": {},
   "outputs": [],
   "source": [
    "X = social_media_data_mobile.drop('Buy_ticket',axis=1) # Predictor feature columns\n",
    "\n",
    "Y = social_media_data_mobile['Buy_ticket'] # Predicted class (1=True, 0=False)"
   ]
  },
  {
   "cell_type": "code",
   "execution_count": 18,
   "metadata": {},
   "outputs": [],
   "source": [
    "# Split X and y into training and test set in 70:30 ratio\n",
    "\n",
    "x_train, x_test, y_train, y_test = train_test_split(X, Y, test_size=0.3, random_state=1)"
   ]
  },
  {
   "cell_type": "code",
   "execution_count": 19,
   "metadata": {},
   "outputs": [
    {
     "name": "stdout",
     "output_type": "stream",
     "text": [
      "69.99% data is in training set\n",
      "30.01% data is in test set\n"
     ]
    }
   ],
   "source": [
    "print(\"{0:0.2f}% data is in training set\".format((len(x_train)/len(social_media_data_mobile.index)) * 100))\n",
    "print(\"{0:0.2f}% data is in test set\".format((len(x_test)/len(social_media_data_mobile.index)) * 100))"
   ]
  },
  {
   "cell_type": "code",
   "execution_count": 20,
   "metadata": {},
   "outputs": [
    {
     "data": {
      "text/plain": [
       "GaussianNB()"
      ]
     },
     "execution_count": 20,
     "metadata": {},
     "output_type": "execute_result"
    }
   ],
   "source": [
    "# create the model\n",
    "naivebayes_mobile_model = GaussianNB()\n",
    "\n",
    "naivebayes_mobile_model.fit(x_train, y_train.ravel())"
   ]
  },
  {
   "cell_type": "markdown",
   "metadata": {},
   "source": [
    "### Performance of our model with training data"
   ]
  },
  {
   "cell_type": "code",
   "execution_count": 21,
   "metadata": {},
   "outputs": [
    {
     "name": "stdout",
     "output_type": "stream",
     "text": [
      "Model Accuracy: 0.8592\n",
      "\n"
     ]
    }
   ],
   "source": [
    "naivebayes_mobile_train_predict = naivebayes_mobile_model.predict(x_train)\n",
    "\n",
    "print(\"Model Accuracy: {0:.4f}\".format(metrics.accuracy_score(y_train, naivebayes_mobile_train_predict)))\n",
    "print()"
   ]
  },
  {
   "cell_type": "markdown",
   "metadata": {},
   "source": [
    "### Performance of our model with testing data"
   ]
  },
  {
   "cell_type": "code",
   "execution_count": 22,
   "metadata": {},
   "outputs": [
    {
     "name": "stdout",
     "output_type": "stream",
     "text": [
      "Model Accuracy: 0.8587\n",
      "\n"
     ]
    }
   ],
   "source": [
    "naivebayes_mobile_test_predict = naivebayes_mobile_model.predict(x_test)\n",
    "\n",
    "print(\"Model Accuracy: {0:.4f}\".format(metrics.accuracy_score(y_test, naivebayes_mobile_test_predict)))\n",
    "print()"
   ]
  },
  {
   "cell_type": "markdown",
   "metadata": {},
   "source": [
    "### Lets check the confusion matrix and classification report"
   ]
  },
  {
   "cell_type": "code",
   "execution_count": 23,
   "metadata": {},
   "outputs": [
    {
     "name": "stdout",
     "output_type": "stream",
     "text": [
      "Confusion Matrix\n"
     ]
    },
    {
     "data": {
      "text/plain": [
       "<AxesSubplot:>"
      ]
     },
     "execution_count": 23,
     "metadata": {},
     "output_type": "execute_result"
    },
    {
     "data": {
      "image/png": "[encoded data removed]",
      "text/plain": [
       "<Figure size 504x360 with 2 Axes>"
      ]
     },
     "metadata": {
      "needs_background": "light"
     },
     "output_type": "display_data"
    }
   ],
   "source": [
    "print(\"Confusion Matrix\")\n",
    "cm=metrics.confusion_matrix(y_test, naivebayes_mobile_test_predict, labels=[1, 0])\n",
    "\n",
    "df_cm = pd.DataFrame(cm, index = [i for i in [\"1\",\"0\"]],\n",
    "                  columns = [i for i in [\"Predict 1\",\"Predict 0\"]])\n",
    "plt.figure(figsize = (7,5))\n",
    "sns.heatmap(df_cm, annot=True)"
   ]
  },
  {
   "cell_type": "code",
   "execution_count": 24,
   "metadata": {},
   "outputs": [
    {
     "name": "stdout",
     "output_type": "stream",
     "text": [
      "Classification Report\n",
      "              precision    recall  f1-score   support\n",
      "\n",
      "           1       0.67      0.19      0.29       440\n",
      "           0       0.87      0.98      0.92      2377\n",
      "\n",
      "    accuracy                           0.86      2817\n",
      "   macro avg       0.77      0.58      0.61      2817\n",
      "weighted avg       0.84      0.86      0.82      2817\n",
      "\n"
     ]
    }
   ],
   "source": [
    "print(\"Classification Report\")\n",
    "print(metrics.classification_report(y_test, naivebayes_mobile_test_predict, labels=[1, 0]))"
   ]
  },
  {
   "cell_type": "markdown",
   "metadata": {},
   "source": [
    "### For Laptop Dataset"
   ]
  },
  {
   "cell_type": "code",
   "execution_count": 25,
   "metadata": {},
   "outputs": [],
   "source": [
    "X = social_media_data_laptop.drop('Buy_ticket',axis=1) # Predictor feature columns\n",
    "\n",
    "Y = social_media_data_laptop['Buy_ticket'] # Predicted class (1=True, 0=False)"
   ]
  },
  {
   "cell_type": "code",
   "execution_count": 26,
   "metadata": {},
   "outputs": [],
   "source": [
    "# Split X and y into training and test set in 70:30 ratio\n",
    "\n",
    "x_train, x_test, y_train, y_test = train_test_split(X, Y, test_size=0.3, random_state=1)"
   ]
  },
  {
   "cell_type": "code",
   "execution_count": 27,
   "metadata": {},
   "outputs": [
    {
     "name": "stdout",
     "output_type": "stream",
     "text": [
      "69.95% data is in training set\n",
      "30.05% data is in test set\n"
     ]
    }
   ],
   "source": [
    "print(\"{0:0.2f}% data is in training set\".format((len(x_train)/len(social_media_data_laptop.index)) * 100))\n",
    "print(\"{0:0.2f}% data is in test set\".format((len(x_test)/len(social_media_data_laptop.index)) * 100))"
   ]
  },
  {
   "cell_type": "code",
   "execution_count": 28,
   "metadata": {},
   "outputs": [
    {
     "data": {
      "text/plain": [
       "GaussianNB()"
      ]
     },
     "execution_count": 28,
     "metadata": {},
     "output_type": "execute_result"
    }
   ],
   "source": [
    "# create the model\n",
    "naivebayes_laptop_model = GaussianNB()\n",
    "\n",
    "naivebayes_laptop_model.fit(x_train, y_train.ravel())"
   ]
  },
  {
   "cell_type": "markdown",
   "metadata": {},
   "source": [
    "### Performance of our model with training data"
   ]
  },
  {
   "cell_type": "code",
   "execution_count": 29,
   "metadata": {},
   "outputs": [
    {
     "name": "stdout",
     "output_type": "stream",
     "text": [
      "Model Accuracy: 0.8297\n",
      "\n"
     ]
    }
   ],
   "source": [
    "naivebayes_laptop_train_predict = naivebayes_laptop_model.predict(x_train)\n",
    "\n",
    "print(\"Model Accuracy: {0:.4f}\".format(metrics.accuracy_score(y_train, naivebayes_laptop_train_predict)))\n",
    "print()"
   ]
  },
  {
   "cell_type": "markdown",
   "metadata": {},
   "source": [
    "### Performance of our model with testing data"
   ]
  },
  {
   "cell_type": "code",
   "execution_count": 30,
   "metadata": {},
   "outputs": [
    {
     "name": "stdout",
     "output_type": "stream",
     "text": [
      "Model Accuracy: 0.8198\n",
      "\n"
     ]
    }
   ],
   "source": [
    "naivebayes_laptop_test_predict = naivebayes_laptop_model.predict(x_test)\n",
    "\n",
    "print(\"Model Accuracy: {0:.4f}\".format(metrics.accuracy_score(y_test, naivebayes_laptop_test_predict)))\n",
    "print()"
   ]
  },
  {
   "cell_type": "markdown",
   "metadata": {},
   "source": [
    "### Lets check the confusion matrix and classification report"
   ]
  },
  {
   "cell_type": "code",
   "execution_count": 31,
   "metadata": {},
   "outputs": [
    {
     "name": "stdout",
     "output_type": "stream",
     "text": [
      "Confusion Matrix\n"
     ]
    },
    {
     "data": {
      "text/plain": [
       "<AxesSubplot:>"
      ]
     },
     "execution_count": 31,
     "metadata": {},
     "output_type": "execute_result"
    },
    {
     "data": {
      "image/png": "[encoded data removed]",
      "text/plain": [
       "<Figure size 504x360 with 2 Axes>"
      ]
     },
     "metadata": {
      "needs_background": "light"
     },
     "output_type": "display_data"
    }
   ],
   "source": [
    "print(\"Confusion Matrix\")\n",
    "cm=metrics.confusion_matrix(y_test, naivebayes_laptop_test_predict, labels=[1, 0])\n",
    "\n",
    "df_cm = pd.DataFrame(cm, index = [i for i in [\"1\",\"0\"]],\n",
    "                  columns = [i for i in [\"Predict 1\",\"Predict 0\"]])\n",
    "plt.figure(figsize = (7,5))\n",
    "sns.heatmap(df_cm, annot=True)"
   ]
  },
  {
   "cell_type": "code",
   "execution_count": 32,
   "metadata": {},
   "outputs": [
    {
     "name": "stdout",
     "output_type": "stream",
     "text": [
      "Classification Report\n",
      "              precision    recall  f1-score   support\n",
      "\n",
      "           1       0.73      0.59      0.65        95\n",
      "           0       0.85      0.91      0.88       238\n",
      "\n",
      "    accuracy                           0.82       333\n",
      "   macro avg       0.79      0.75      0.76       333\n",
      "weighted avg       0.81      0.82      0.81       333\n",
      "\n"
     ]
    }
   ],
   "source": [
    "print(\"Classification Report\")\n",
    "print(metrics.classification_report(y_test, naivebayes_laptop_test_predict, labels=[1, 0]))"
   ]
  },
  {
   "cell_type": "markdown",
   "metadata": {},
   "source": [
    "## Linear Discriminant Analysis"
   ]
  },
  {
   "cell_type": "code",
   "execution_count": 33,
   "metadata": {},
   "outputs": [],
   "source": [
    "from sklearn.discriminant_analysis import LinearDiscriminantAnalysis"
   ]
  },
  {
   "cell_type": "markdown",
   "metadata": {},
   "source": [
    "### For Mobile Dataset"
   ]
  },
  {
   "cell_type": "code",
   "execution_count": 34,
   "metadata": {},
   "outputs": [],
   "source": [
    "X = social_media_data_mobile.drop('Buy_ticket',axis=1) # Predictor feature columns\n",
    "\n",
    "Y = social_media_data_mobile['Buy_ticket'] # Predicted class (1=True, 0=False)"
   ]
  },
  {
   "cell_type": "code",
   "execution_count": 36,
   "metadata": {},
   "outputs": [],
   "source": [
    "X_train, X_test, Y_train, Y_test = model_selection.train_test_split(X,Y,test_size=0.3,random_state=1,stratify = Y)"
   ]
  },
  {
   "cell_type": "code",
   "execution_count": 39,
   "metadata": {},
   "outputs": [
    {
     "name": "stdout",
     "output_type": "stream",
     "text": [
      "69.99% data is in training set\n",
      "30.01% data is in test set\n"
     ]
    }
   ],
   "source": [
    "print(\"{0:0.2f}% data is in training set\".format((len(X_train)/len(social_media_data_mobile.index)) * 100))\n",
    "print(\"{0:0.2f}% data is in test set\".format((len(X_test)/len(social_media_data_mobile.index)) * 100))"
   ]
  },
  {
   "cell_type": "code",
   "execution_count": 40,
   "metadata": {},
   "outputs": [],
   "source": [
    "# create the model\n",
    "lda = LinearDiscriminantAnalysis()\n",
    "lda_mobile_model = lda.fit(X_train,Y_train)"
   ]
  },
  {
   "cell_type": "markdown",
   "metadata": {},
   "source": [
    "### Performance of our model with training data"
   ]
  },
  {
   "cell_type": "code",
   "execution_count": 42,
   "metadata": {},
   "outputs": [
    {
     "name": "stdout",
     "output_type": "stream",
     "text": [
      "Model Accuracy: 0.8659\n",
      "\n"
     ]
    }
   ],
   "source": [
    "lda_mobile_train_predict = lda_mobile_model.predict(X_train)\n",
    "\n",
    "print(\"Model Accuracy: {0:.4f}\".format(metrics.accuracy_score(Y_train, lda_mobile_train_predict)))\n",
    "print()"
   ]
  },
  {
   "cell_type": "markdown",
   "metadata": {},
   "source": [
    "### Performance of our model with testing data"
   ]
  },
  {
   "cell_type": "code",
   "execution_count": 44,
   "metadata": {},
   "outputs": [
    {
     "name": "stdout",
     "output_type": "stream",
     "text": [
      "Model Accuracy: 0.8626\n",
      "\n"
     ]
    }
   ],
   "source": [
    "lda_mobile_test_predict = lda_mobile_model.predict(X_test)\n",
    "\n",
    "print(\"Model Accuracy: {0:.4f}\".format(metrics.accuracy_score(Y_test, lda_mobile_test_predict)))\n",
    "print()"
   ]
  },
  {
   "cell_type": "markdown",
   "metadata": {},
   "source": [
    "### Training Data and Test Data Confusion Matrix Comparison"
   ]
  },
  {
   "cell_type": "code",
   "execution_count": 50,
   "metadata": {},
   "outputs": [
    {
     "data": {
      "image/png": "[encoded data removed]",
      "text/plain": [
       "<Figure size 1080x360 with 4 Axes>"
      ]
     },
     "metadata": {
      "needs_background": "light"
     },
     "output_type": "display_data"
    }
   ],
   "source": [
    "rcParams['figure.figsize'] = 15,5\n",
    "\n",
    "f,a =  plt.subplots(1,2,sharex=True,sharey=True,squeeze=False)\n",
    "\n",
    "#Plotting confusion matrix for the different models for the Training Data\n",
    "\n",
    "plot_0 = sns.heatmap((metrics.confusion_matrix(Y_train,lda_mobile_train_predict)),annot=True,fmt='.5g',cmap='Greys',ax=a[0][0]);\n",
    "a[0][0].set_title('Training Data')\n",
    "\n",
    "plot_1 = sns.heatmap((metrics.confusion_matrix(Y_test,lda_mobile_test_predict)),annot=True,fmt='.5g',cmap='Greys',ax=a[0][1]);\n",
    "a[0][1].set_title('Test Data');"
   ]
  },
  {
   "cell_type": "markdown",
   "metadata": {},
   "source": [
    "### Training Data and Test Data Classification Report Comparison"
   ]
  },
  {
   "cell_type": "code",
   "execution_count": 51,
   "metadata": {},
   "outputs": [
    {
     "name": "stdout",
     "output_type": "stream",
     "text": [
      "Classification Report of the training data:\n",
      "\n",
      "               precision    recall  f1-score   support\n",
      "\n",
      "           0       0.87      0.98      0.93      5572\n",
      "           1       0.70      0.20      0.32       998\n",
      "\n",
      "    accuracy                           0.87      6570\n",
      "   macro avg       0.79      0.59      0.62      6570\n",
      "weighted avg       0.85      0.87      0.83      6570\n",
      " \n",
      "\n",
      "Classification Report of the test data:\n",
      "\n",
      "               precision    recall  f1-score   support\n",
      "\n",
      "           0       0.87      0.98      0.92      2389\n",
      "           1       0.67      0.19      0.30       428\n",
      "\n",
      "    accuracy                           0.86      2817\n",
      "   macro avg       0.77      0.59      0.61      2817\n",
      "weighted avg       0.84      0.86      0.83      2817\n",
      " \n",
      "\n"
     ]
    }
   ],
   "source": [
    "print('Classification Report of the training data:\\n\\n',metrics.classification_report(Y_train,lda_mobile_train_predict),'\\n')\n",
    "print('Classification Report of the test data:\\n\\n',metrics.classification_report(Y_test,lda_mobile_test_predict),'\\n')"
   ]
  },
  {
   "cell_type": "markdown",
   "metadata": {},
   "source": [
    "### Probability prediction for the training and test data"
   ]
  },
  {
   "cell_type": "code",
   "execution_count": 53,
   "metadata": {},
   "outputs": [],
   "source": [
    "# Training Data Probability Prediction\n",
    "pred_prob_lda_mobile_train = lda_mobile_model.predict_proba(X_train)\n",
    "\n",
    "# Test Data Probability Prediction\n",
    "pred_prob_lda_mobile_test = lda_mobile_model.predict_proba(X_test)"
   ]
  },
  {
   "cell_type": "code",
   "execution_count": 54,
   "metadata": {},
   "outputs": [
    {
     "name": "stdout",
     "output_type": "stream",
     "text": [
      "AUC for the Training Data: 0.774\n",
      "AUC for the Test Data: 0.778\n"
     ]
    },
    {
     "data": {
      "image/png": "[encoded data removed]",
      "text/plain": [
       "<Figure size 1080x360 with 1 Axes>"
      ]
     },
     "metadata": {
      "needs_background": "light"
     },
     "output_type": "display_data"
    }
   ],
   "source": [
    "# AUC and ROC for the training data\n",
    "\n",
    "# calculate AUC\n",
    "auc = metrics.roc_auc_score(Y_train,pred_prob_lda_mobile_train[:,1])\n",
    "print('AUC for the Training Data: %.3f' % auc)\n",
    "\n",
    "#  calculate roc curve\n",
    "fpr, tpr, thresholds = metrics.roc_curve(Y_train,pred_prob_lda_mobile_train[:,1])\n",
    "plt.plot([0, 1], [0, 1], linestyle='--')\n",
    "# plot the roc curve for the model\n",
    "plt.plot(fpr, tpr, marker='.',label = 'Training Data')\n",
    "\n",
    "\n",
    "# AUC and ROC for the test data\n",
    "\n",
    "# calculate AUC\n",
    "auc = metrics.roc_auc_score(Y_test,pred_prob_lda_mobile_test[:,1])\n",
    "print('AUC for the Test Data: %.3f' % auc)\n",
    "\n",
    "#  calculate roc curve\n",
    "fpr, tpr, thresholds = metrics.roc_curve(Y_test,pred_prob_lda_mobile_test[:,1])\n",
    "plt.plot([0, 1], [0, 1], linestyle='--')\n",
    "# plot the roc curve for the model\n",
    "plt.plot(fpr, tpr, marker='.',label='Test Data')\n",
    "# show the plot\n",
    "plt.legend(loc='best')\n",
    "plt.show()"
   ]
  },
  {
   "cell_type": "markdown",
   "metadata": {},
   "source": [
    "### For Laptop Dataset"
   ]
  },
  {
   "cell_type": "code",
   "execution_count": 55,
   "metadata": {},
   "outputs": [],
   "source": [
    "X = social_media_data_laptop.drop('Buy_ticket',axis=1) # Predictor feature columns\n",
    "\n",
    "Y = social_media_data_laptop['Buy_ticket'] # Predicted class (1=True, 0=False)"
   ]
  },
  {
   "cell_type": "code",
   "execution_count": 56,
   "metadata": {},
   "outputs": [],
   "source": [
    "X_train, X_test, Y_train, Y_test = model_selection.train_test_split(X,Y,test_size=0.3,random_state=1,stratify = Y)"
   ]
  },
  {
   "cell_type": "code",
   "execution_count": 57,
   "metadata": {},
   "outputs": [
    {
     "name": "stdout",
     "output_type": "stream",
     "text": [
      "69.95% data is in training set\n",
      "30.05% data is in test set\n"
     ]
    }
   ],
   "source": [
    "print(\"{0:0.2f}% data is in training set\".format((len(X_train)/len(social_media_data_laptop.index)) * 100))\n",
    "print(\"{0:0.2f}% data is in test set\".format((len(X_test)/len(social_media_data_laptop.index)) * 100))"
   ]
  },
  {
   "cell_type": "code",
   "execution_count": 58,
   "metadata": {},
   "outputs": [],
   "source": [
    "# create the model\n",
    "lda = LinearDiscriminantAnalysis()\n",
    "lda_laptop_model = lda.fit(X_train,Y_train)"
   ]
  },
  {
   "cell_type": "markdown",
   "metadata": {},
   "source": [
    "### Performance of our model with training data"
   ]
  },
  {
   "cell_type": "code",
   "execution_count": 59,
   "metadata": {},
   "outputs": [
    {
     "name": "stdout",
     "output_type": "stream",
     "text": [
      "Model Accuracy: 0.8335\n",
      "\n"
     ]
    }
   ],
   "source": [
    "lda_laptop_train_predict = lda_laptop_model.predict(X_train)\n",
    "\n",
    "print(\"Model Accuracy: {0:.4f}\".format(metrics.accuracy_score(Y_train, lda_laptop_train_predict)))\n",
    "print()"
   ]
  },
  {
   "cell_type": "markdown",
   "metadata": {},
   "source": [
    "### Performance of our model with testing data"
   ]
  },
  {
   "cell_type": "code",
   "execution_count": 60,
   "metadata": {},
   "outputs": [
    {
     "name": "stdout",
     "output_type": "stream",
     "text": [
      "Model Accuracy: 0.8108\n",
      "\n"
     ]
    }
   ],
   "source": [
    "lda_laptop_test_predict = lda_laptop_model.predict(X_test)\n",
    "\n",
    "print(\"Model Accuracy: {0:.4f}\".format(metrics.accuracy_score(Y_test, lda_laptop_test_predict)))\n",
    "print()"
   ]
  },
  {
   "cell_type": "markdown",
   "metadata": {},
   "source": [
    "### Training Data and Test Data Confusion Matrix Comparison"
   ]
  },
  {
   "cell_type": "code",
   "execution_count": 61,
   "metadata": {},
   "outputs": [
    {
     "data": {
      "image/png": "[encoded data removed]",
      "text/plain": [
       "<Figure size 1080x360 with 4 Axes>"
      ]
     },
     "metadata": {
      "needs_background": "light"
     },
     "output_type": "display_data"
    }
   ],
   "source": [
    "rcParams['figure.figsize'] = 15,5\n",
    "\n",
    "f,a =  plt.subplots(1,2,sharex=True,sharey=True,squeeze=False)\n",
    "\n",
    "#Plotting confusion matrix for the different models for the Training Data\n",
    "\n",
    "plot_0 = sns.heatmap((metrics.confusion_matrix(Y_train,lda_laptop_train_predict)),annot=True,fmt='.5g',cmap='Greys',ax=a[0][0]);\n",
    "a[0][0].set_title('Training Data')\n",
    "\n",
    "plot_1 = sns.heatmap((metrics.confusion_matrix(Y_test,lda_laptop_test_predict)),annot=True,fmt='.5g',cmap='Greys',ax=a[0][1]);\n",
    "a[0][1].set_title('Test Data');"
   ]
  },
  {
   "cell_type": "markdown",
   "metadata": {},
   "source": [
    "### Training Data and Test Data Classification Report Comparison"
   ]
  },
  {
   "cell_type": "code",
   "execution_count": 62,
   "metadata": {},
   "outputs": [
    {
     "name": "stdout",
     "output_type": "stream",
     "text": [
      "Classification Report of the training data:\n",
      "\n",
      "               precision    recall  f1-score   support\n",
      "\n",
      "           0       0.85      0.94      0.89       582\n",
      "           1       0.74      0.51      0.60       193\n",
      "\n",
      "    accuracy                           0.83       775\n",
      "   macro avg       0.80      0.72      0.75       775\n",
      "weighted avg       0.82      0.83      0.82       775\n",
      " \n",
      "\n",
      "Classification Report of the test data:\n",
      "\n",
      "               precision    recall  f1-score   support\n",
      "\n",
      "           0       0.83      0.94      0.88       250\n",
      "           1       0.70      0.42      0.53        83\n",
      "\n",
      "    accuracy                           0.81       333\n",
      "   macro avg       0.77      0.68      0.70       333\n",
      "weighted avg       0.80      0.81      0.79       333\n",
      " \n",
      "\n"
     ]
    }
   ],
   "source": [
    "print('Classification Report of the training data:\\n\\n',metrics.classification_report(Y_train,lda_laptop_train_predict),'\\n')\n",
    "print('Classification Report of the test data:\\n\\n',metrics.classification_report(Y_test,lda_laptop_test_predict),'\\n')"
   ]
  },
  {
   "cell_type": "markdown",
   "metadata": {},
   "source": [
    "### Probability prediction for the training and test data"
   ]
  },
  {
   "cell_type": "code",
   "execution_count": 63,
   "metadata": {},
   "outputs": [],
   "source": [
    "# Training Data Probability Prediction\n",
    "pred_prob_lda_laptop_train = lda_laptop_model.predict_proba(X_train)\n",
    "\n",
    "# Test Data Probability Prediction\n",
    "pred_prob_lda_laptop_test = lda_laptop_model.predict_proba(X_test)"
   ]
  },
  {
   "cell_type": "code",
   "execution_count": 64,
   "metadata": {},
   "outputs": [
    {
     "name": "stdout",
     "output_type": "stream",
     "text": [
      "AUC for the Training Data: 0.836\n",
      "AUC for the Test Data: 0.817\n"
     ]
    },
    {
     "data": {
      "image/png": "[encoded data removed]",
      "text/plain": [
       "<Figure size 1080x360 with 1 Axes>"
      ]
     },
     "metadata": {
      "needs_background": "light"
     },
     "output_type": "display_data"
    }
   ],
   "source": [
    "# AUC and ROC for the training data\n",
    "\n",
    "# calculate AUC\n",
    "auc = metrics.roc_auc_score(Y_train,pred_prob_lda_laptop_train[:,1])\n",
    "print('AUC for the Training Data: %.3f' % auc)\n",
    "\n",
    "#  calculate roc curve\n",
    "fpr, tpr, thresholds = metrics.roc_curve(Y_train,pred_prob_lda_laptop_train[:,1])\n",
    "plt.plot([0, 1], [0, 1], linestyle='--')\n",
    "# plot the roc curve for the model\n",
    "plt.plot(fpr, tpr, marker='.',label = 'Training Data')\n",
    "\n",
    "\n",
    "# AUC and ROC for the test data\n",
    "\n",
    "# calculate AUC\n",
    "auc = metrics.roc_auc_score(Y_test,pred_prob_lda_laptop_test[:,1])\n",
    "print('AUC for the Test Data: %.3f' % auc)\n",
    "\n",
    "#  calculate roc curve\n",
    "fpr, tpr, thresholds = metrics.roc_curve(Y_test,pred_prob_lda_laptop_test[:,1])\n",
    "plt.plot([0, 1], [0, 1], linestyle='--')\n",
    "# plot the roc curve for the model\n",
    "plt.plot(fpr, tpr, marker='.',label='Test Data')\n",
    "# show the plot\n",
    "plt.legend(loc='best')\n",
    "plt.show()"
   ]
  }
 ],
 "metadata": {
  "colab": {
   "authorship_tag": "ABX9TyP0r6bYSvZ/AGlQ3ZWnLnuJ",
   "collapsed_sections": [],
   "include_colab_link": true,
   "name": "Social_Media_Tourism.ipynb",
   "provenance": []
  },
  "kernelspec": {
   "display_name": "Python 3",
   "language": "python",
   "name": "python3"
  },
  "language_info": {
   "codemirror_mode": {
    "name": "ipython",
    "version": 3
   },
   "file_extension": ".py",
   "mimetype": "text/x-python",
   "name": "python",
   "nbconvert_exporter": "python",
   "pygments_lexer": "ipython3",
   "version": "3.8.8"
  }
 },
 "nbformat": 4,
 "nbformat_minor": 1
}
